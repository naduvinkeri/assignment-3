{
 "cells": [
  {
   "cell_type": "code",
   "execution_count": null,
   "metadata": {
    "id": "k4uBw6I4heFB"
   },
   "outputs": [],
   "source": [
    "import numpy as np\n",
    "import pandas as pd\n",
    "import math\n",
    "import matplotlib.pyplot as plt\n",
    "import plotly.express as px\n",
    "import seaborn as sns\n",
    "import plotly.graph_objects as go\n",
    "from sklearn import preprocessing\n",
    "preprocessing.LabelEncoder()\n",
    "from sklearn.model_selection import train_test_split\n",
    "from sklearn import linear_model\n",
    "from lightgbm import LGBMRegressor\n",
    "from sklearn.model_selection import RandomizedSearchCV,GridSearchCV"
   ]
  },
  {
   "cell_type": "code",
   "execution_count": null,
   "metadata": {
    "id": "Dx1GLt97h0wv"
   },
   "outputs": [],
   "source": [
    "from sklearn.metrics import r2_score,mean_squared_error\n",
    "from sklearn.preprocessing import LabelEncoder,StandardScaler"
   ]
  },
  {
   "cell_type": "code",
   "execution_count": null,
   "metadata": {
    "id": "XRjV30bqiRJ3"
   },
   "outputs": [],
   "source": [
    "df_train = pd.read_csv('/content/airbnb_listing_train.csv')\n",
    "df_validate = pd.read_csv('/content/airbnb_listing_validate.csv')\n",
    "\n",
    "df_ss=pd.read_csv('/content/sample_submission.csv')"
   ]
  },
  {
   "cell_type": "code",
   "execution_count": null,
   "metadata": {
    "id": "1TR2-jIYi2gy"
   },
   "outputs": [],
   "source": [
    "def aboutdf (df):\n",
    "    count_null = df.isnull().sum()\n",
    "    df_stats = pd.DataFrame(index = df.columns, data =\n",
    "                           {'datatype': df.dtypes,\n",
    "                            'unique_values': df.nunique(),\n",
    "                            'have_null?': df.isnull().any(),\n",
    "                            'Number of null values' : count_null,\n",
    "                            'percentage of null values' : count_null/df.shape[0]*100 })\n",
    "    return df_stats"
   ]
  },
  {
   "cell_type": "code",
   "execution_count": null,
   "metadata": {
    "colab": {
     "base_uri": "https://localhost:8080/",
     "height": 551
    },
    "id": "MmuNbXZXi5el",
    "outputId": "51b20c4e-da90-4550-e8c4-dea4197f7ea2"
   },
   "outputs": [
    {
     "data": {
      "text/html": [
       "\n",
       "\n",
       "  <div id=\"df-e199770f-8a26-4cbf-adcd-c9197fd83546\">\n",
       "    <div class=\"colab-df-container\">\n",
       "      <div>\n",
       "<style scoped>\n",
       "    .dataframe tbody tr th:only-of-type {\n",
       "        vertical-align: middle;\n",
       "    }\n",
       "\n",
       "    .dataframe tbody tr th {\n",
       "        vertical-align: top;\n",
       "    }\n",
       "\n",
       "    .dataframe thead th {\n",
       "        text-align: right;\n",
       "    }\n",
       "</style>\n",
       "<table border=\"1\" class=\"dataframe\">\n",
       "  <thead>\n",
       "    <tr style=\"text-align: right;\">\n",
       "      <th></th>\n",
       "      <th>datatype</th>\n",
       "      <th>unique_values</th>\n",
       "      <th>have_null?</th>\n",
       "      <th>Number of null values</th>\n",
       "      <th>percentage of null values</th>\n",
       "    </tr>\n",
       "  </thead>\n",
       "  <tbody>\n",
       "    <tr>\n",
       "      <th>id</th>\n",
       "      <td>int64</td>\n",
       "      <td>12901</td>\n",
       "      <td>False</td>\n",
       "      <td>0</td>\n",
       "      <td>0.000000</td>\n",
       "    </tr>\n",
       "    <tr>\n",
       "      <th>name</th>\n",
       "      <td>object</td>\n",
       "      <td>12653</td>\n",
       "      <td>True</td>\n",
       "      <td>22</td>\n",
       "      <td>0.170529</td>\n",
       "    </tr>\n",
       "    <tr>\n",
       "      <th>host_id</th>\n",
       "      <td>int64</td>\n",
       "      <td>11601</td>\n",
       "      <td>False</td>\n",
       "      <td>0</td>\n",
       "      <td>0.000000</td>\n",
       "    </tr>\n",
       "    <tr>\n",
       "      <th>host_name</th>\n",
       "      <td>object</td>\n",
       "      <td>4536</td>\n",
       "      <td>True</td>\n",
       "      <td>8</td>\n",
       "      <td>0.062011</td>\n",
       "    </tr>\n",
       "    <tr>\n",
       "      <th>neighbourhood_group</th>\n",
       "      <td>float64</td>\n",
       "      <td>0</td>\n",
       "      <td>True</td>\n",
       "      <td>12901</td>\n",
       "      <td>100.000000</td>\n",
       "    </tr>\n",
       "    <tr>\n",
       "      <th>neighbourhood</th>\n",
       "      <td>object</td>\n",
       "      <td>22</td>\n",
       "      <td>False</td>\n",
       "      <td>0</td>\n",
       "      <td>0.000000</td>\n",
       "    </tr>\n",
       "    <tr>\n",
       "      <th>latitude</th>\n",
       "      <td>float64</td>\n",
       "      <td>5227</td>\n",
       "      <td>False</td>\n",
       "      <td>0</td>\n",
       "      <td>0.000000</td>\n",
       "    </tr>\n",
       "    <tr>\n",
       "      <th>longitude</th>\n",
       "      <td>float64</td>\n",
       "      <td>7887</td>\n",
       "      <td>False</td>\n",
       "      <td>0</td>\n",
       "      <td>0.000000</td>\n",
       "    </tr>\n",
       "    <tr>\n",
       "      <th>room_type</th>\n",
       "      <td>object</td>\n",
       "      <td>4</td>\n",
       "      <td>False</td>\n",
       "      <td>0</td>\n",
       "      <td>0.000000</td>\n",
       "    </tr>\n",
       "    <tr>\n",
       "      <th>minimum_nights</th>\n",
       "      <td>int64</td>\n",
       "      <td>56</td>\n",
       "      <td>False</td>\n",
       "      <td>0</td>\n",
       "      <td>0.000000</td>\n",
       "    </tr>\n",
       "    <tr>\n",
       "      <th>number_of_reviews</th>\n",
       "      <td>int64</td>\n",
       "      <td>362</td>\n",
       "      <td>False</td>\n",
       "      <td>0</td>\n",
       "      <td>0.000000</td>\n",
       "    </tr>\n",
       "    <tr>\n",
       "      <th>last_review</th>\n",
       "      <td>object</td>\n",
       "      <td>1495</td>\n",
       "      <td>True</td>\n",
       "      <td>1596</td>\n",
       "      <td>12.371134</td>\n",
       "    </tr>\n",
       "    <tr>\n",
       "      <th>reviews_per_month</th>\n",
       "      <td>float64</td>\n",
       "      <td>610</td>\n",
       "      <td>True</td>\n",
       "      <td>1596</td>\n",
       "      <td>12.371134</td>\n",
       "    </tr>\n",
       "    <tr>\n",
       "      <th>calculated_host_listings_count</th>\n",
       "      <td>int64</td>\n",
       "      <td>26</td>\n",
       "      <td>False</td>\n",
       "      <td>0</td>\n",
       "      <td>0.000000</td>\n",
       "    </tr>\n",
       "    <tr>\n",
       "      <th>availability_365</th>\n",
       "      <td>int64</td>\n",
       "      <td>366</td>\n",
       "      <td>False</td>\n",
       "      <td>0</td>\n",
       "      <td>0.000000</td>\n",
       "    </tr>\n",
       "    <tr>\n",
       "      <th>price</th>\n",
       "      <td>int64</td>\n",
       "      <td>400</td>\n",
       "      <td>False</td>\n",
       "      <td>0</td>\n",
       "      <td>0.000000</td>\n",
       "    </tr>\n",
       "  </tbody>\n",
       "</table>\n",
       "</div>\n",
       "      <button class=\"colab-df-convert\" onclick=\"convertToInteractive('df-e199770f-8a26-4cbf-adcd-c9197fd83546')\"\n",
       "              title=\"Convert this dataframe to an interactive table.\"\n",
       "              style=\"display:none;\">\n",
       "\n",
       "  <svg xmlns=\"http://www.w3.org/2000/svg\" height=\"24px\"viewBox=\"0 0 24 24\"\n",
       "       width=\"24px\">\n",
       "    <path d=\"M0 0h24v24H0V0z\" fill=\"none\"/>\n",
       "    <path d=\"M18.56 5.44l.94 2.06.94-2.06 2.06-.94-2.06-.94-.94-2.06-.94 2.06-2.06.94zm-11 1L8.5 8.5l.94-2.06 2.06-.94-2.06-.94L8.5 2.5l-.94 2.06-2.06.94zm10 10l.94 2.06.94-2.06 2.06-.94-2.06-.94-.94-2.06-.94 2.06-2.06.94z\"/><path d=\"M17.41 7.96l-1.37-1.37c-.4-.4-.92-.59-1.43-.59-.52 0-1.04.2-1.43.59L10.3 9.45l-7.72 7.72c-.78.78-.78 2.05 0 2.83L4 21.41c.39.39.9.59 1.41.59.51 0 1.02-.2 1.41-.59l7.78-7.78 2.81-2.81c.8-.78.8-2.07 0-2.86zM5.41 20L4 18.59l7.72-7.72 1.47 1.35L5.41 20z\"/>\n",
       "  </svg>\n",
       "      </button>\n",
       "\n",
       "\n",
       "\n",
       "    <div id=\"df-6277d28c-c594-46bd-a85e-6da6ec3c1ad7\">\n",
       "      <button class=\"colab-df-quickchart\" onclick=\"quickchart('df-6277d28c-c594-46bd-a85e-6da6ec3c1ad7')\"\n",
       "              title=\"Suggest charts.\"\n",
       "              style=\"display:none;\">\n",
       "\n",
       "<svg xmlns=\"http://www.w3.org/2000/svg\" height=\"24px\"viewBox=\"0 0 24 24\"\n",
       "     width=\"24px\">\n",
       "    <g>\n",
       "        <path d=\"M19 3H5c-1.1 0-2 .9-2 2v14c0 1.1.9 2 2 2h14c1.1 0 2-.9 2-2V5c0-1.1-.9-2-2-2zM9 17H7v-7h2v7zm4 0h-2V7h2v10zm4 0h-2v-4h2v4z\"/>\n",
       "    </g>\n",
       "</svg>\n",
       "      </button>\n",
       "    </div>\n",
       "\n",
       "<style>\n",
       "  .colab-df-quickchart {\n",
       "    background-color: #E8F0FE;\n",
       "    border: none;\n",
       "    border-radius: 50%;\n",
       "    cursor: pointer;\n",
       "    display: none;\n",
       "    fill: #1967D2;\n",
       "    height: 32px;\n",
       "    padding: 0 0 0 0;\n",
       "    width: 32px;\n",
       "  }\n",
       "\n",
       "  .colab-df-quickchart:hover {\n",
       "    background-color: #E2EBFA;\n",
       "    box-shadow: 0px 1px 2px rgba(60, 64, 67, 0.3), 0px 1px 3px 1px rgba(60, 64, 67, 0.15);\n",
       "    fill: #174EA6;\n",
       "  }\n",
       "\n",
       "  [theme=dark] .colab-df-quickchart {\n",
       "    background-color: #3B4455;\n",
       "    fill: #D2E3FC;\n",
       "  }\n",
       "\n",
       "  [theme=dark] .colab-df-quickchart:hover {\n",
       "    background-color: #434B5C;\n",
       "    box-shadow: 0px 1px 3px 1px rgba(0, 0, 0, 0.15);\n",
       "    filter: drop-shadow(0px 1px 2px rgba(0, 0, 0, 0.3));\n",
       "    fill: #FFFFFF;\n",
       "  }\n",
       "</style>\n",
       "\n",
       "    <script>\n",
       "      async function quickchart(key) {\n",
       "        const containerElement = document.querySelector('#' + key);\n",
       "        const charts = await google.colab.kernel.invokeFunction(\n",
       "            'suggestCharts', [key], {});\n",
       "      }\n",
       "    </script>\n",
       "\n",
       "      <script>\n",
       "\n",
       "function displayQuickchartButton(domScope) {\n",
       "  let quickchartButtonEl =\n",
       "    domScope.querySelector('#df-6277d28c-c594-46bd-a85e-6da6ec3c1ad7 button.colab-df-quickchart');\n",
       "  quickchartButtonEl.style.display =\n",
       "    google.colab.kernel.accessAllowed ? 'block' : 'none';\n",
       "}\n",
       "\n",
       "        displayQuickchartButton(document);\n",
       "      </script>\n",
       "      <style>\n",
       "    .colab-df-container {\n",
       "      display:flex;\n",
       "      flex-wrap:wrap;\n",
       "      gap: 12px;\n",
       "    }\n",
       "\n",
       "    .colab-df-convert {\n",
       "      background-color: #E8F0FE;\n",
       "      border: none;\n",
       "      border-radius: 50%;\n",
       "      cursor: pointer;\n",
       "      display: none;\n",
       "      fill: #1967D2;\n",
       "      height: 32px;\n",
       "      padding: 0 0 0 0;\n",
       "      width: 32px;\n",
       "    }\n",
       "\n",
       "    .colab-df-convert:hover {\n",
       "      background-color: #E2EBFA;\n",
       "      box-shadow: 0px 1px 2px rgba(60, 64, 67, 0.3), 0px 1px 3px 1px rgba(60, 64, 67, 0.15);\n",
       "      fill: #174EA6;\n",
       "    }\n",
       "\n",
       "    [theme=dark] .colab-df-convert {\n",
       "      background-color: #3B4455;\n",
       "      fill: #D2E3FC;\n",
       "    }\n",
       "\n",
       "    [theme=dark] .colab-df-convert:hover {\n",
       "      background-color: #434B5C;\n",
       "      box-shadow: 0px 1px 3px 1px rgba(0, 0, 0, 0.15);\n",
       "      filter: drop-shadow(0px 1px 2px rgba(0, 0, 0, 0.3));\n",
       "      fill: #FFFFFF;\n",
       "    }\n",
       "  </style>\n",
       "\n",
       "      <script>\n",
       "        const buttonEl =\n",
       "          document.querySelector('#df-e199770f-8a26-4cbf-adcd-c9197fd83546 button.colab-df-convert');\n",
       "        buttonEl.style.display =\n",
       "          google.colab.kernel.accessAllowed ? 'block' : 'none';\n",
       "\n",
       "        async function convertToInteractive(key) {\n",
       "          const element = document.querySelector('#df-e199770f-8a26-4cbf-adcd-c9197fd83546');\n",
       "          const dataTable =\n",
       "            await google.colab.kernel.invokeFunction('convertToInteractive',\n",
       "                                                     [key], {});\n",
       "          if (!dataTable) return;\n",
       "\n",
       "          const docLinkHtml = 'Like what you see? Visit the ' +\n",
       "            '<a target=\"_blank\" href=https://colab.research.google.com/notebooks/data_table.ipynb>data table notebook</a>'\n",
       "            + ' to learn more about interactive tables.';\n",
       "          element.innerHTML = '';\n",
       "          dataTable['output_type'] = 'display_data';\n",
       "          await google.colab.output.renderOutput(dataTable, element);\n",
       "          const docLink = document.createElement('div');\n",
       "          docLink.innerHTML = docLinkHtml;\n",
       "          element.appendChild(docLink);\n",
       "        }\n",
       "      </script>\n",
       "    </div>\n",
       "  </div>\n"
      ],
      "text/plain": [
       "                               datatype  unique_values  have_null?  \\\n",
       "id                                int64          12901       False   \n",
       "name                             object          12653        True   \n",
       "host_id                           int64          11601       False   \n",
       "host_name                        object           4536        True   \n",
       "neighbourhood_group             float64              0        True   \n",
       "neighbourhood                    object             22       False   \n",
       "latitude                        float64           5227       False   \n",
       "longitude                       float64           7887       False   \n",
       "room_type                        object              4       False   \n",
       "minimum_nights                    int64             56       False   \n",
       "number_of_reviews                 int64            362       False   \n",
       "last_review                      object           1495        True   \n",
       "reviews_per_month               float64            610        True   \n",
       "calculated_host_listings_count    int64             26       False   \n",
       "availability_365                  int64            366       False   \n",
       "price                             int64            400       False   \n",
       "\n",
       "                                Number of null values  \\\n",
       "id                                                  0   \n",
       "name                                               22   \n",
       "host_id                                             0   \n",
       "host_name                                           8   \n",
       "neighbourhood_group                             12901   \n",
       "neighbourhood                                       0   \n",
       "latitude                                            0   \n",
       "longitude                                           0   \n",
       "room_type                                           0   \n",
       "minimum_nights                                      0   \n",
       "number_of_reviews                                   0   \n",
       "last_review                                      1596   \n",
       "reviews_per_month                                1596   \n",
       "calculated_host_listings_count                      0   \n",
       "availability_365                                    0   \n",
       "price                                               0   \n",
       "\n",
       "                                percentage of null values  \n",
       "id                                               0.000000  \n",
       "name                                             0.170529  \n",
       "host_id                                          0.000000  \n",
       "host_name                                        0.062011  \n",
       "neighbourhood_group                            100.000000  \n",
       "neighbourhood                                    0.000000  \n",
       "latitude                                         0.000000  \n",
       "longitude                                        0.000000  \n",
       "room_type                                        0.000000  \n",
       "minimum_nights                                   0.000000  \n",
       "number_of_reviews                                0.000000  \n",
       "last_review                                     12.371134  \n",
       "reviews_per_month                               12.371134  \n",
       "calculated_host_listings_count                   0.000000  \n",
       "availability_365                                 0.000000  \n",
       "price                                            0.000000  "
      ]
     },
     "execution_count": 8,
     "metadata": {},
     "output_type": "execute_result"
    }
   ],
   "source": [
    "aboutdf(df_train)"
   ]
  },
  {
   "cell_type": "code",
   "execution_count": null,
   "metadata": {
    "colab": {
     "base_uri": "https://localhost:8080/"
    },
    "id": "PZ73EHfXi8mw",
    "outputId": "f7af8acf-6b02-4c90-e8d3-bc0e884fa3df"
   },
   "outputs": [
    {
     "data": {
      "text/plain": [
       "0                      Luxury home 100m2+garden in center!\n",
       "1                              East is where your home is!\n",
       "2          Amsterdam Central - LUXURY house in BUSY STREET\n",
       "3                               great appartment down town\n",
       "4            Private room with canal view in peaceful area\n",
       "                               ...                        \n",
       "12896    Quiet stylish private room 15 mins to city  ce...\n",
       "12897    Beautiful, spacious apt. with great views @ IJ...\n",
       "12898                  Great apartment de Pijp/Albert Cuyp\n",
       "12899             Stylish apartment in an amazing location\n",
       "12900                     Amsterdam Apartments First Floor\n",
       "Name: name, Length: 12879, dtype: object"
      ]
     },
     "execution_count": 9,
     "metadata": {},
     "output_type": "execute_result"
    }
   ],
   "source": [
    "bool_series = pd.notnull(df_train[\"name\"])\n",
    "df_train[bool_series].name"
   ]
  },
  {
   "cell_type": "code",
   "execution_count": null,
   "metadata": {
    "colab": {
     "base_uri": "https://localhost:8080/"
    },
    "id": "WPegZsqdi-b3",
    "outputId": "3f225ea5-446a-4728-ab8e-7156685cc22b"
   },
   "outputs": [
    {
     "data": {
      "text/plain": [
       "count         12879\n",
       "unique        12653\n",
       "top       Amsterdam\n",
       "freq             28\n",
       "Name: name, dtype: object"
      ]
     },
     "execution_count": 10,
     "metadata": {},
     "output_type": "execute_result"
    }
   ],
   "source": [
    "df_train.name.describe()"
   ]
  },
  {
   "cell_type": "code",
   "execution_count": null,
   "metadata": {
    "colab": {
     "base_uri": "https://localhost:8080/",
     "height": 423
    },
    "id": "c9G3xSy-jEOj",
    "outputId": "65bd61b3-9e81-4945-9c98-171a636b1dd1"
   },
   "outputs": [
    {
     "data": {
      "text/html": [
       "\n",
       "\n",
       "  <div id=\"df-1466dc64-5ac3-4028-9bf1-72dba36dcc67\">\n",
       "    <div class=\"colab-df-container\">\n",
       "      <div>\n",
       "<style scoped>\n",
       "    .dataframe tbody tr th:only-of-type {\n",
       "        vertical-align: middle;\n",
       "    }\n",
       "\n",
       "    .dataframe tbody tr th {\n",
       "        vertical-align: top;\n",
       "    }\n",
       "\n",
       "    .dataframe thead th {\n",
       "        text-align: right;\n",
       "    }\n",
       "</style>\n",
       "<table border=\"1\" class=\"dataframe\">\n",
       "  <thead>\n",
       "    <tr style=\"text-align: right;\">\n",
       "      <th></th>\n",
       "      <th>name</th>\n",
       "      <th>count</th>\n",
       "    </tr>\n",
       "  </thead>\n",
       "  <tbody>\n",
       "    <tr>\n",
       "      <th>0</th>\n",
       "      <td>Amsterdam</td>\n",
       "      <td>28</td>\n",
       "    </tr>\n",
       "    <tr>\n",
       "      <th>1</th>\n",
       "      <td>Spacious apartment near Vondelpark</td>\n",
       "      <td>6</td>\n",
       "    </tr>\n",
       "    <tr>\n",
       "      <th>2</th>\n",
       "      <td>Lovely apartment in Amsterdam</td>\n",
       "      <td>5</td>\n",
       "    </tr>\n",
       "    <tr>\n",
       "      <th>3</th>\n",
       "      <td>Spacious apartment in Amsterdam</td>\n",
       "      <td>5</td>\n",
       "    </tr>\n",
       "    <tr>\n",
       "      <th>4</th>\n",
       "      <td>Cosy apartment in the city centre of Amsterdam</td>\n",
       "      <td>4</td>\n",
       "    </tr>\n",
       "    <tr>\n",
       "      <th>...</th>\n",
       "      <td>...</td>\n",
       "      <td>...</td>\n",
       "    </tr>\n",
       "    <tr>\n",
       "      <th>95</th>\n",
       "      <td>Home sweet home</td>\n",
       "      <td>2</td>\n",
       "    </tr>\n",
       "    <tr>\n",
       "      <th>96</th>\n",
       "      <td>Spacious private room in the heart of Amsterdam</td>\n",
       "      <td>2</td>\n",
       "    </tr>\n",
       "    <tr>\n",
       "      <th>97</th>\n",
       "      <td>Light appartment in Amsterdam</td>\n",
       "      <td>2</td>\n",
       "    </tr>\n",
       "    <tr>\n",
       "      <th>98</th>\n",
       "      <td>NEW! Temporary housing in the centre of Amsterdam</td>\n",
       "      <td>2</td>\n",
       "    </tr>\n",
       "    <tr>\n",
       "      <th>99</th>\n",
       "      <td>Room in the centre of Amsterdam</td>\n",
       "      <td>2</td>\n",
       "    </tr>\n",
       "  </tbody>\n",
       "</table>\n",
       "<p>100 rows × 2 columns</p>\n",
       "</div>\n",
       "      <button class=\"colab-df-convert\" onclick=\"convertToInteractive('df-1466dc64-5ac3-4028-9bf1-72dba36dcc67')\"\n",
       "              title=\"Convert this dataframe to an interactive table.\"\n",
       "              style=\"display:none;\">\n",
       "\n",
       "  <svg xmlns=\"http://www.w3.org/2000/svg\" height=\"24px\"viewBox=\"0 0 24 24\"\n",
       "       width=\"24px\">\n",
       "    <path d=\"M0 0h24v24H0V0z\" fill=\"none\"/>\n",
       "    <path d=\"M18.56 5.44l.94 2.06.94-2.06 2.06-.94-2.06-.94-.94-2.06-.94 2.06-2.06.94zm-11 1L8.5 8.5l.94-2.06 2.06-.94-2.06-.94L8.5 2.5l-.94 2.06-2.06.94zm10 10l.94 2.06.94-2.06 2.06-.94-2.06-.94-.94-2.06-.94 2.06-2.06.94z\"/><path d=\"M17.41 7.96l-1.37-1.37c-.4-.4-.92-.59-1.43-.59-.52 0-1.04.2-1.43.59L10.3 9.45l-7.72 7.72c-.78.78-.78 2.05 0 2.83L4 21.41c.39.39.9.59 1.41.59.51 0 1.02-.2 1.41-.59l7.78-7.78 2.81-2.81c.8-.78.8-2.07 0-2.86zM5.41 20L4 18.59l7.72-7.72 1.47 1.35L5.41 20z\"/>\n",
       "  </svg>\n",
       "      </button>\n",
       "\n",
       "\n",
       "\n",
       "    <div id=\"df-02058181-2554-4772-8481-38fd7dee2f5a\">\n",
       "      <button class=\"colab-df-quickchart\" onclick=\"quickchart('df-02058181-2554-4772-8481-38fd7dee2f5a')\"\n",
       "              title=\"Suggest charts.\"\n",
       "              style=\"display:none;\">\n",
       "\n",
       "<svg xmlns=\"http://www.w3.org/2000/svg\" height=\"24px\"viewBox=\"0 0 24 24\"\n",
       "     width=\"24px\">\n",
       "    <g>\n",
       "        <path d=\"M19 3H5c-1.1 0-2 .9-2 2v14c0 1.1.9 2 2 2h14c1.1 0 2-.9 2-2V5c0-1.1-.9-2-2-2zM9 17H7v-7h2v7zm4 0h-2V7h2v10zm4 0h-2v-4h2v4z\"/>\n",
       "    </g>\n",
       "</svg>\n",
       "      </button>\n",
       "    </div>\n",
       "\n",
       "<style>\n",
       "  .colab-df-quickchart {\n",
       "    background-color: #E8F0FE;\n",
       "    border: none;\n",
       "    border-radius: 50%;\n",
       "    cursor: pointer;\n",
       "    display: none;\n",
       "    fill: #1967D2;\n",
       "    height: 32px;\n",
       "    padding: 0 0 0 0;\n",
       "    width: 32px;\n",
       "  }\n",
       "\n",
       "  .colab-df-quickchart:hover {\n",
       "    background-color: #E2EBFA;\n",
       "    box-shadow: 0px 1px 2px rgba(60, 64, 67, 0.3), 0px 1px 3px 1px rgba(60, 64, 67, 0.15);\n",
       "    fill: #174EA6;\n",
       "  }\n",
       "\n",
       "  [theme=dark] .colab-df-quickchart {\n",
       "    background-color: #3B4455;\n",
       "    fill: #D2E3FC;\n",
       "  }\n",
       "\n",
       "  [theme=dark] .colab-df-quickchart:hover {\n",
       "    background-color: #434B5C;\n",
       "    box-shadow: 0px 1px 3px 1px rgba(0, 0, 0, 0.15);\n",
       "    filter: drop-shadow(0px 1px 2px rgba(0, 0, 0, 0.3));\n",
       "    fill: #FFFFFF;\n",
       "  }\n",
       "</style>\n",
       "\n",
       "    <script>\n",
       "      async function quickchart(key) {\n",
       "        const containerElement = document.querySelector('#' + key);\n",
       "        const charts = await google.colab.kernel.invokeFunction(\n",
       "            'suggestCharts', [key], {});\n",
       "      }\n",
       "    </script>\n",
       "\n",
       "      <script>\n",
       "\n",
       "function displayQuickchartButton(domScope) {\n",
       "  let quickchartButtonEl =\n",
       "    domScope.querySelector('#df-02058181-2554-4772-8481-38fd7dee2f5a button.colab-df-quickchart');\n",
       "  quickchartButtonEl.style.display =\n",
       "    google.colab.kernel.accessAllowed ? 'block' : 'none';\n",
       "}\n",
       "\n",
       "        displayQuickchartButton(document);\n",
       "      </script>\n",
       "      <style>\n",
       "    .colab-df-container {\n",
       "      display:flex;\n",
       "      flex-wrap:wrap;\n",
       "      gap: 12px;\n",
       "    }\n",
       "\n",
       "    .colab-df-convert {\n",
       "      background-color: #E8F0FE;\n",
       "      border: none;\n",
       "      border-radius: 50%;\n",
       "      cursor: pointer;\n",
       "      display: none;\n",
       "      fill: #1967D2;\n",
       "      height: 32px;\n",
       "      padding: 0 0 0 0;\n",
       "      width: 32px;\n",
       "    }\n",
       "\n",
       "    .colab-df-convert:hover {\n",
       "      background-color: #E2EBFA;\n",
       "      box-shadow: 0px 1px 2px rgba(60, 64, 67, 0.3), 0px 1px 3px 1px rgba(60, 64, 67, 0.15);\n",
       "      fill: #174EA6;\n",
       "    }\n",
       "\n",
       "    [theme=dark] .colab-df-convert {\n",
       "      background-color: #3B4455;\n",
       "      fill: #D2E3FC;\n",
       "    }\n",
       "\n",
       "    [theme=dark] .colab-df-convert:hover {\n",
       "      background-color: #434B5C;\n",
       "      box-shadow: 0px 1px 3px 1px rgba(0, 0, 0, 0.15);\n",
       "      filter: drop-shadow(0px 1px 2px rgba(0, 0, 0, 0.3));\n",
       "      fill: #FFFFFF;\n",
       "    }\n",
       "  </style>\n",
       "\n",
       "      <script>\n",
       "        const buttonEl =\n",
       "          document.querySelector('#df-1466dc64-5ac3-4028-9bf1-72dba36dcc67 button.colab-df-convert');\n",
       "        buttonEl.style.display =\n",
       "          google.colab.kernel.accessAllowed ? 'block' : 'none';\n",
       "\n",
       "        async function convertToInteractive(key) {\n",
       "          const element = document.querySelector('#df-1466dc64-5ac3-4028-9bf1-72dba36dcc67');\n",
       "          const dataTable =\n",
       "            await google.colab.kernel.invokeFunction('convertToInteractive',\n",
       "                                                     [key], {});\n",
       "          if (!dataTable) return;\n",
       "\n",
       "          const docLinkHtml = 'Like what you see? Visit the ' +\n",
       "            '<a target=\"_blank\" href=https://colab.research.google.com/notebooks/data_table.ipynb>data table notebook</a>'\n",
       "            + ' to learn more about interactive tables.';\n",
       "          element.innerHTML = '';\n",
       "          dataTable['output_type'] = 'display_data';\n",
       "          await google.colab.output.renderOutput(dataTable, element);\n",
       "          const docLink = document.createElement('div');\n",
       "          docLink.innerHTML = docLinkHtml;\n",
       "          element.appendChild(docLink);\n",
       "        }\n",
       "      </script>\n",
       "    </div>\n",
       "  </div>\n"
      ],
      "text/plain": [
       "                                                 name  count\n",
       "0                                           Amsterdam     28\n",
       "1                  Spacious apartment near Vondelpark      6\n",
       "2                       Lovely apartment in Amsterdam      5\n",
       "3                     Spacious apartment in Amsterdam      5\n",
       "4      Cosy apartment in the city centre of Amsterdam      4\n",
       "..                                                ...    ...\n",
       "95                                    Home sweet home      2\n",
       "96    Spacious private room in the heart of Amsterdam      2\n",
       "97                      Light appartment in Amsterdam      2\n",
       "98  NEW! Temporary housing in the centre of Amsterdam      2\n",
       "99                    Room in the centre of Amsterdam      2\n",
       "\n",
       "[100 rows x 2 columns]"
      ]
     },
     "execution_count": 11,
     "metadata": {},
     "output_type": "execute_result"
    }
   ],
   "source": [
    "df_train[bool_series].groupby(['name']).size().sort_values(ascending=False).reset_index(name='count').head(100)"
   ]
  },
  {
   "cell_type": "code",
   "execution_count": null,
   "metadata": {
    "colab": {
     "base_uri": "https://localhost:8080/",
     "height": 517
    },
    "id": "MINhTJyKjFJx",
    "outputId": "02de5dfe-8b2a-4606-8b1a-46e89fd46e18"
   },
   "outputs": [
    {
     "data": {
      "text/html": [
       "<html>\n",
       "<head><meta charset=\"utf-8\" /></head>\n",
       "<body>\n",
       "    <div>            <script src=\"https://cdnjs.cloudflare.com/ajax/libs/mathjax/2.7.5/MathJax.js?config=TeX-AMS-MML_SVG\"></script><script type=\"text/javascript\">if (window.MathJax && window.MathJax.Hub && window.MathJax.Hub.Config) {window.MathJax.Hub.Config({SVG: {font: \"STIX-Web\"}});}</script>                <script type=\"text/javascript\">window.PlotlyConfig = {MathJaxConfig: 'local'};</script>\n",
       "        <script src=\"https://cdn.plot.ly/plotly-2.18.2.min.js\"></script>                <div id=\"0ef11f01-8d14-4584-bba0-5bdbbe018c53\" class=\"plotly-graph-div\" style=\"height:500px; width:1400px;\"></div>            <script type=\"text/javascript\">                                    window.PLOTLYENV=window.PLOTLYENV || {};                                    if (document.getElementById(\"0ef11f01-8d14-4584-bba0-5bdbbe018c53\")) {                    Plotly.newPlot(                        \"0ef11f01-8d14-4584-bba0-5bdbbe018c53\",                        [{\"alignmentgroup\":\"True\",\"hovertemplate\":\"count=%{x}<br>name=%{y}<extra></extra>\",\"legendgroup\":\"\",\"marker\":{\"color\":\"#636efa\",\"pattern\":{\"shape\":\"\"}},\"name\":\"\",\"offsetgroup\":\"\",\"orientation\":\"h\",\"showlegend\":false,\"textposition\":\"auto\",\"x\":[28,6,5,5,4,4,4,4,4,4,4,4,4,4,3,3,3,3,3,3,3,3,3,3,3,3,3,3,3,3,3,3,3,3,2,2,2,2,2,2,2,2,2,2,2,2,2,2,2,2,2,2,2,2,2,2,2,2,2,2,2,2,2,2,2,2,2,2,2,2,2,2,2,2,2,2,2,2,2,2,2,2,2,2,2,2,2,2,2,2,2,2,2,2,2,2,2,2,2,2],\"xaxis\":\"x\",\"y\":[\"Amsterdam\",\"Spacious apartment near Vondelpark\",\"Lovely apartment in Amsterdam\",\"Spacious apartment in Amsterdam\",\"Cosy apartment in the city centre of Amsterdam\",\"Cosy apartment near city center\",\"Amsterdam Appartement\",\"Canal View Apartment\",\"Quality stay in an AUTHENTIC FARMHOUSE near Amstel\",\"Spacious apartment with garden\",\"Beautiful apartment in Amsterdam\",\"Lovely apartment near Vondelpark\",\"Hotel in the heart of Amsterdam 2p\",\"Cosy apartment near Vondelpark\",\"Beautiful apartment near Vondelpark\",\"Sunny apartment in Amsterdam West\",\"Lovely apartment in Amsterdam West\",\"Cozy apartment\",\"Family house with garden\",\"Room in Amsterdam\",\"Spacious appartment with garden\",\"Apartment in Amsterdam\",\"Apartment next to Vondelpark\",\"Cityden Museum Square, One bedroom apartment\",\"Cozy apartment in Amsterdam West\",\"Beautiful apartment in city centre\",\"Friends & Couples Getaway in \\u2665 of Old Town\",\"Cozy room in Amsterdam\",\"Spacious family house with garden\",\"Lovely Apartment near Vondelpark\",\"Spacious apartment in city centre\",\"Cosy appartment in Amsterdam\",\"Cosy apartment in Amsterdam West\",\"Cosy apartment in Amsterdam\",\"Lovely apartment near Amstel river\",\"Luxurious Amsterdam apartment\",\"Private room in the city center\",\"Museum District Studio 1\",\"Houseboat in Amsterdam\",\"Cozy apartment located next to the city centre\",\"Nice apartment with roof terrace\",\"Lovely apartment near city centre\",\"Apartment in Amsterdam east\",\"Room in cosy apt\",\"Apartment in Amsterdam Westerpark\",\"Cozy apartment with canal view\",\"Museum District studio 2\",\"Spacious Apartment in Amsterdam\",\"Spacious Apartment close to the Vondelpark\",\"Room in De Pijp\",\"Beautiful Apartment Amsterdam\",\"Unique city centre apartment\",\"Stylish and sunny apartment\",\"2 Bedroom Apartment with Balcony in Center - New\",\"Bright & beautiful appartment close to everything\",\"Bright & Sunny Apartment in Central A'dam (Pijp)\",\"Stylish apartment with canal view!\",\"Great apartment in Amsterdam\",\"Amsterdam Apartment\",\"Lovely bright apartment in popular West area\",\"Spacious apartment near centre\",\"Spacious apartment near city centre\",\"Light and cosy apartment\",\"Brand new renovated apartment city centre\",\"Apartment close to Vondelpark\",\"Cozy apartment in the heart of Amsterdam\",\"Nice appartment in Amsterdam\",\"BEAUTIFUL Roof Terrace apartment!!!\",\"Beautiful house with roofterrace\",\"Spacious apartment with canal view\",\"Apartment in central Amsterdam\",\"Nice apartment near city centre\",\"Spacious light apartment\",\"Neat room in Old-West\",\"Emperor's studio\",\"Little Dutch\",\"Comfortable room in Amsterdam\",\"Artis Zoo Studio\",\"Caesars studio\",\"New apartment in Amsterdam\",\"Cozy Studio Amsterdam\",\"Weesper Studio 1\",\"Cozy Room close to the City Centre\",\"A home away from home\",\"Lovely apartment (2 pers) in Amsterdam East!\",\"Luxurious private suite City center of Amsterdam\",\"Ground floor apartment with garden\",\"Luxury Canal Apartment\",\"Spacious family home with garden\",\"Appartment in Amsterdam\",\"AMAZING Stylish bedroom on waterfront\",\"Luxurious two bedroom apartment\",\"Appartement in Amsterdam\",\"Canal view apartment\",\"Spacious familyhouse + sunny garden\",\"Home sweet home\",\"Spacious private room in the heart of Amsterdam\",\"Light appartment in Amsterdam\",\"NEW! Temporary housing in the centre of Amsterdam\",\"Room in the centre of Amsterdam\"],\"yaxis\":\"y\",\"type\":\"bar\"}],                        {\"template\":{\"data\":{\"histogram2dcontour\":[{\"type\":\"histogram2dcontour\",\"colorbar\":{\"outlinewidth\":0,\"ticks\":\"\"},\"colorscale\":[[0.0,\"#0d0887\"],[0.1111111111111111,\"#46039f\"],[0.2222222222222222,\"#7201a8\"],[0.3333333333333333,\"#9c179e\"],[0.4444444444444444,\"#bd3786\"],[0.5555555555555556,\"#d8576b\"],[0.6666666666666666,\"#ed7953\"],[0.7777777777777778,\"#fb9f3a\"],[0.8888888888888888,\"#fdca26\"],[1.0,\"#f0f921\"]]}],\"choropleth\":[{\"type\":\"choropleth\",\"colorbar\":{\"outlinewidth\":0,\"ticks\":\"\"}}],\"histogram2d\":[{\"type\":\"histogram2d\",\"colorbar\":{\"outlinewidth\":0,\"ticks\":\"\"},\"colorscale\":[[0.0,\"#0d0887\"],[0.1111111111111111,\"#46039f\"],[0.2222222222222222,\"#7201a8\"],[0.3333333333333333,\"#9c179e\"],[0.4444444444444444,\"#bd3786\"],[0.5555555555555556,\"#d8576b\"],[0.6666666666666666,\"#ed7953\"],[0.7777777777777778,\"#fb9f3a\"],[0.8888888888888888,\"#fdca26\"],[1.0,\"#f0f921\"]]}],\"heatmap\":[{\"type\":\"heatmap\",\"colorbar\":{\"outlinewidth\":0,\"ticks\":\"\"},\"colorscale\":[[0.0,\"#0d0887\"],[0.1111111111111111,\"#46039f\"],[0.2222222222222222,\"#7201a8\"],[0.3333333333333333,\"#9c179e\"],[0.4444444444444444,\"#bd3786\"],[0.5555555555555556,\"#d8576b\"],[0.6666666666666666,\"#ed7953\"],[0.7777777777777778,\"#fb9f3a\"],[0.8888888888888888,\"#fdca26\"],[1.0,\"#f0f921\"]]}],\"heatmapgl\":[{\"type\":\"heatmapgl\",\"colorbar\":{\"outlinewidth\":0,\"ticks\":\"\"},\"colorscale\":[[0.0,\"#0d0887\"],[0.1111111111111111,\"#46039f\"],[0.2222222222222222,\"#7201a8\"],[0.3333333333333333,\"#9c179e\"],[0.4444444444444444,\"#bd3786\"],[0.5555555555555556,\"#d8576b\"],[0.6666666666666666,\"#ed7953\"],[0.7777777777777778,\"#fb9f3a\"],[0.8888888888888888,\"#fdca26\"],[1.0,\"#f0f921\"]]}],\"contourcarpet\":[{\"type\":\"contourcarpet\",\"colorbar\":{\"outlinewidth\":0,\"ticks\":\"\"}}],\"contour\":[{\"type\":\"contour\",\"colorbar\":{\"outlinewidth\":0,\"ticks\":\"\"},\"colorscale\":[[0.0,\"#0d0887\"],[0.1111111111111111,\"#46039f\"],[0.2222222222222222,\"#7201a8\"],[0.3333333333333333,\"#9c179e\"],[0.4444444444444444,\"#bd3786\"],[0.5555555555555556,\"#d8576b\"],[0.6666666666666666,\"#ed7953\"],[0.7777777777777778,\"#fb9f3a\"],[0.8888888888888888,\"#fdca26\"],[1.0,\"#f0f921\"]]}],\"surface\":[{\"type\":\"surface\",\"colorbar\":{\"outlinewidth\":0,\"ticks\":\"\"},\"colorscale\":[[0.0,\"#0d0887\"],[0.1111111111111111,\"#46039f\"],[0.2222222222222222,\"#7201a8\"],[0.3333333333333333,\"#9c179e\"],[0.4444444444444444,\"#bd3786\"],[0.5555555555555556,\"#d8576b\"],[0.6666666666666666,\"#ed7953\"],[0.7777777777777778,\"#fb9f3a\"],[0.8888888888888888,\"#fdca26\"],[1.0,\"#f0f921\"]]}],\"mesh3d\":[{\"type\":\"mesh3d\",\"colorbar\":{\"outlinewidth\":0,\"ticks\":\"\"}}],\"scatter\":[{\"fillpattern\":{\"fillmode\":\"overlay\",\"size\":10,\"solidity\":0.2},\"type\":\"scatter\"}],\"parcoords\":[{\"type\":\"parcoords\",\"line\":{\"colorbar\":{\"outlinewidth\":0,\"ticks\":\"\"}}}],\"scatterpolargl\":[{\"type\":\"scatterpolargl\",\"marker\":{\"colorbar\":{\"outlinewidth\":0,\"ticks\":\"\"}}}],\"bar\":[{\"error_x\":{\"color\":\"#2a3f5f\"},\"error_y\":{\"color\":\"#2a3f5f\"},\"marker\":{\"line\":{\"color\":\"#E5ECF6\",\"width\":0.5},\"pattern\":{\"fillmode\":\"overlay\",\"size\":10,\"solidity\":0.2}},\"type\":\"bar\"}],\"scattergeo\":[{\"type\":\"scattergeo\",\"marker\":{\"colorbar\":{\"outlinewidth\":0,\"ticks\":\"\"}}}],\"scatterpolar\":[{\"type\":\"scatterpolar\",\"marker\":{\"colorbar\":{\"outlinewidth\":0,\"ticks\":\"\"}}}],\"histogram\":[{\"marker\":{\"pattern\":{\"fillmode\":\"overlay\",\"size\":10,\"solidity\":0.2}},\"type\":\"histogram\"}],\"scattergl\":[{\"type\":\"scattergl\",\"marker\":{\"colorbar\":{\"outlinewidth\":0,\"ticks\":\"\"}}}],\"scatter3d\":[{\"type\":\"scatter3d\",\"line\":{\"colorbar\":{\"outlinewidth\":0,\"ticks\":\"\"}},\"marker\":{\"colorbar\":{\"outlinewidth\":0,\"ticks\":\"\"}}}],\"scattermapbox\":[{\"type\":\"scattermapbox\",\"marker\":{\"colorbar\":{\"outlinewidth\":0,\"ticks\":\"\"}}}],\"scatterternary\":[{\"type\":\"scatterternary\",\"marker\":{\"colorbar\":{\"outlinewidth\":0,\"ticks\":\"\"}}}],\"scattercarpet\":[{\"type\":\"scattercarpet\",\"marker\":{\"colorbar\":{\"outlinewidth\":0,\"ticks\":\"\"}}}],\"carpet\":[{\"aaxis\":{\"endlinecolor\":\"#2a3f5f\",\"gridcolor\":\"white\",\"linecolor\":\"white\",\"minorgridcolor\":\"white\",\"startlinecolor\":\"#2a3f5f\"},\"baxis\":{\"endlinecolor\":\"#2a3f5f\",\"gridcolor\":\"white\",\"linecolor\":\"white\",\"minorgridcolor\":\"white\",\"startlinecolor\":\"#2a3f5f\"},\"type\":\"carpet\"}],\"table\":[{\"cells\":{\"fill\":{\"color\":\"#EBF0F8\"},\"line\":{\"color\":\"white\"}},\"header\":{\"fill\":{\"color\":\"#C8D4E3\"},\"line\":{\"color\":\"white\"}},\"type\":\"table\"}],\"barpolar\":[{\"marker\":{\"line\":{\"color\":\"#E5ECF6\",\"width\":0.5},\"pattern\":{\"fillmode\":\"overlay\",\"size\":10,\"solidity\":0.2}},\"type\":\"barpolar\"}],\"pie\":[{\"automargin\":true,\"type\":\"pie\"}]},\"layout\":{\"autotypenumbers\":\"strict\",\"colorway\":[\"#636efa\",\"#EF553B\",\"#00cc96\",\"#ab63fa\",\"#FFA15A\",\"#19d3f3\",\"#FF6692\",\"#B6E880\",\"#FF97FF\",\"#FECB52\"],\"font\":{\"color\":\"#2a3f5f\"},\"hovermode\":\"closest\",\"hoverlabel\":{\"align\":\"left\"},\"paper_bgcolor\":\"white\",\"plot_bgcolor\":\"#E5ECF6\",\"polar\":{\"bgcolor\":\"#E5ECF6\",\"angularaxis\":{\"gridcolor\":\"white\",\"linecolor\":\"white\",\"ticks\":\"\"},\"radialaxis\":{\"gridcolor\":\"white\",\"linecolor\":\"white\",\"ticks\":\"\"}},\"ternary\":{\"bgcolor\":\"#E5ECF6\",\"aaxis\":{\"gridcolor\":\"white\",\"linecolor\":\"white\",\"ticks\":\"\"},\"baxis\":{\"gridcolor\":\"white\",\"linecolor\":\"white\",\"ticks\":\"\"},\"caxis\":{\"gridcolor\":\"white\",\"linecolor\":\"white\",\"ticks\":\"\"}},\"coloraxis\":{\"colorbar\":{\"outlinewidth\":0,\"ticks\":\"\"}},\"colorscale\":{\"sequential\":[[0.0,\"#0d0887\"],[0.1111111111111111,\"#46039f\"],[0.2222222222222222,\"#7201a8\"],[0.3333333333333333,\"#9c179e\"],[0.4444444444444444,\"#bd3786\"],[0.5555555555555556,\"#d8576b\"],[0.6666666666666666,\"#ed7953\"],[0.7777777777777778,\"#fb9f3a\"],[0.8888888888888888,\"#fdca26\"],[1.0,\"#f0f921\"]],\"sequentialminus\":[[0.0,\"#0d0887\"],[0.1111111111111111,\"#46039f\"],[0.2222222222222222,\"#7201a8\"],[0.3333333333333333,\"#9c179e\"],[0.4444444444444444,\"#bd3786\"],[0.5555555555555556,\"#d8576b\"],[0.6666666666666666,\"#ed7953\"],[0.7777777777777778,\"#fb9f3a\"],[0.8888888888888888,\"#fdca26\"],[1.0,\"#f0f921\"]],\"diverging\":[[0,\"#8e0152\"],[0.1,\"#c51b7d\"],[0.2,\"#de77ae\"],[0.3,\"#f1b6da\"],[0.4,\"#fde0ef\"],[0.5,\"#f7f7f7\"],[0.6,\"#e6f5d0\"],[0.7,\"#b8e186\"],[0.8,\"#7fbc41\"],[0.9,\"#4d9221\"],[1,\"#276419\"]]},\"xaxis\":{\"gridcolor\":\"white\",\"linecolor\":\"white\",\"ticks\":\"\",\"title\":{\"standoff\":15},\"zerolinecolor\":\"white\",\"automargin\":true,\"zerolinewidth\":2},\"yaxis\":{\"gridcolor\":\"white\",\"linecolor\":\"white\",\"ticks\":\"\",\"title\":{\"standoff\":15},\"zerolinecolor\":\"white\",\"automargin\":true,\"zerolinewidth\":2},\"scene\":{\"xaxis\":{\"backgroundcolor\":\"#E5ECF6\",\"gridcolor\":\"white\",\"linecolor\":\"white\",\"showbackground\":true,\"ticks\":\"\",\"zerolinecolor\":\"white\",\"gridwidth\":2},\"yaxis\":{\"backgroundcolor\":\"#E5ECF6\",\"gridcolor\":\"white\",\"linecolor\":\"white\",\"showbackground\":true,\"ticks\":\"\",\"zerolinecolor\":\"white\",\"gridwidth\":2},\"zaxis\":{\"backgroundcolor\":\"#E5ECF6\",\"gridcolor\":\"white\",\"linecolor\":\"white\",\"showbackground\":true,\"ticks\":\"\",\"zerolinecolor\":\"white\",\"gridwidth\":2}},\"shapedefaults\":{\"line\":{\"color\":\"#2a3f5f\"}},\"annotationdefaults\":{\"arrowcolor\":\"#2a3f5f\",\"arrowhead\":0,\"arrowwidth\":1},\"geo\":{\"bgcolor\":\"white\",\"landcolor\":\"#E5ECF6\",\"subunitcolor\":\"white\",\"showland\":true,\"showlakes\":true,\"lakecolor\":\"white\"},\"title\":{\"x\":0.05},\"mapbox\":{\"style\":\"light\"}}},\"xaxis\":{\"anchor\":\"y\",\"domain\":[0.0,1.0],\"title\":{\"text\":\"count\"},\"range\":[0,30]},\"yaxis\":{\"anchor\":\"x\",\"domain\":[0.0,1.0],\"title\":{\"text\":\"name\"}},\"legend\":{\"tracegroupgap\":0},\"margin\":{\"t\":60},\"barmode\":\"relative\",\"font\":{\"size\":15,\"color\":\"#0f0f0f\",\"family\":\"Courier New, monospace\"},\"autosize\":false,\"height\":500,\"width\":1400},                        {\"responsive\": true}                    ).then(function(){\n",
       "                            \n",
       "var gd = document.getElementById('0ef11f01-8d14-4584-bba0-5bdbbe018c53');\n",
       "var x = new MutationObserver(function (mutations, observer) {{\n",
       "        var display = window.getComputedStyle(gd).display;\n",
       "        if (!display || display === 'none') {{\n",
       "            console.log([gd, 'removed!']);\n",
       "            Plotly.purge(gd);\n",
       "            observer.disconnect();\n",
       "        }}\n",
       "}});\n",
       "\n",
       "// Listen for the removal of the full notebook cells\n",
       "var notebookContainer = gd.closest('#notebook-container');\n",
       "if (notebookContainer) {{\n",
       "    x.observe(notebookContainer, {childList: true});\n",
       "}}\n",
       "\n",
       "// Listen for the clearing of the current output cell\n",
       "var outputEl = gd.closest('.output');\n",
       "if (outputEl) {{\n",
       "    x.observe(outputEl, {childList: true});\n",
       "}}\n",
       "\n",
       "                        })                };                            </script>        </div>\n",
       "</body>\n",
       "</html>"
      ]
     },
     "metadata": {},
     "output_type": "display_data"
    }
   ],
   "source": [
    "d=df_train[bool_series].groupby(['name']).size().sort_values(ascending=False).reset_index(name='count').head(100)\n",
    "fig=px.bar(d,\n",
    "                           y='name',\n",
    "                           x='count',\n",
    "                           #size='count',\n",
    "                           #color='name',\n",
    "                           range_x=[0,30]\n",
    "                           )\n",
    "fig.update_layout(autosize=False,\n",
    "                  height=500,\n",
    "                  width=1400,\n",
    "                  font=dict(size=15,color=\"#0f0f0f\",family=\"Courier New, monospace\"),\n",
    "                 )\n",
    "fig.show()"
   ]
  },
  {
   "cell_type": "code",
   "execution_count": null,
   "metadata": {
    "colab": {
     "base_uri": "https://localhost:8080/"
    },
    "id": "dbJ9J5bkjHvX",
    "outputId": "b583a36c-0274-43ad-cd36-54aceac3d993"
   },
   "outputs": [
    {
     "data": {
      "text/plain": [
       "count       12893\n",
       "unique       4536\n",
       "top       Martijn\n",
       "freq           76\n",
       "Name: host_name, dtype: object"
      ]
     },
     "execution_count": 13,
     "metadata": {},
     "output_type": "execute_result"
    }
   ],
   "source": [
    "df_train.host_name.describe()"
   ]
  },
  {
   "cell_type": "code",
   "execution_count": null,
   "metadata": {
    "colab": {
     "base_uri": "https://localhost:8080/"
    },
    "id": "J-Lg9lBAjKAb",
    "outputId": "67c31bca-3f14-4a8c-c0e2-e033d5f46736"
   },
   "outputs": [
    {
     "data": {
      "text/plain": [
       "0        Marjolein\n",
       "1              Ana\n",
       "2             Mark\n",
       "3            Ayden\n",
       "4           Alissa\n",
       "           ...    \n",
       "12896     Michelle\n",
       "12897         Rens\n",
       "12898     Francien\n",
       "12899         Olaf\n",
       "12900         City\n",
       "Name: host_name, Length: 12893, dtype: object"
      ]
     },
     "execution_count": 14,
     "metadata": {},
     "output_type": "execute_result"
    }
   ],
   "source": [
    "bool_series1 = pd.notnull(df_train[\"host_name\"])\n",
    "df_train[bool_series1].host_name"
   ]
  },
  {
   "cell_type": "code",
   "execution_count": null,
   "metadata": {
    "colab": {
     "base_uri": "https://localhost:8080/",
     "height": 423
    },
    "id": "LlTv3x_djL13",
    "outputId": "d51a4f79-35e5-4340-f57d-da337bdb963c"
   },
   "outputs": [
    {
     "data": {
      "text/html": [
       "\n",
       "\n",
       "  <div id=\"df-5f9ec8f9-b4f8-426c-bcca-3a609e2f38ef\">\n",
       "    <div class=\"colab-df-container\">\n",
       "      <div>\n",
       "<style scoped>\n",
       "    .dataframe tbody tr th:only-of-type {\n",
       "        vertical-align: middle;\n",
       "    }\n",
       "\n",
       "    .dataframe tbody tr th {\n",
       "        vertical-align: top;\n",
       "    }\n",
       "\n",
       "    .dataframe thead th {\n",
       "        text-align: right;\n",
       "    }\n",
       "</style>\n",
       "<table border=\"1\" class=\"dataframe\">\n",
       "  <thead>\n",
       "    <tr style=\"text-align: right;\">\n",
       "      <th></th>\n",
       "      <th>host_name</th>\n",
       "      <th>count</th>\n",
       "    </tr>\n",
       "  </thead>\n",
       "  <tbody>\n",
       "    <tr>\n",
       "      <th>0</th>\n",
       "      <td>Martijn</td>\n",
       "      <td>76</td>\n",
       "    </tr>\n",
       "    <tr>\n",
       "      <th>1</th>\n",
       "      <td>Anne</td>\n",
       "      <td>58</td>\n",
       "    </tr>\n",
       "    <tr>\n",
       "      <th>2</th>\n",
       "      <td>Thomas</td>\n",
       "      <td>53</td>\n",
       "    </tr>\n",
       "    <tr>\n",
       "      <th>3</th>\n",
       "      <td>Tim</td>\n",
       "      <td>51</td>\n",
       "    </tr>\n",
       "    <tr>\n",
       "      <th>4</th>\n",
       "      <td>Marieke</td>\n",
       "      <td>51</td>\n",
       "    </tr>\n",
       "    <tr>\n",
       "      <th>...</th>\n",
       "      <td>...</td>\n",
       "      <td>...</td>\n",
       "    </tr>\n",
       "    <tr>\n",
       "      <th>95</th>\n",
       "      <td>Sara</td>\n",
       "      <td>20</td>\n",
       "    </tr>\n",
       "    <tr>\n",
       "      <th>96</th>\n",
       "      <td>Steven</td>\n",
       "      <td>20</td>\n",
       "    </tr>\n",
       "    <tr>\n",
       "      <th>97</th>\n",
       "      <td>Floor</td>\n",
       "      <td>20</td>\n",
       "    </tr>\n",
       "    <tr>\n",
       "      <th>98</th>\n",
       "      <td>Dennis</td>\n",
       "      <td>20</td>\n",
       "    </tr>\n",
       "    <tr>\n",
       "      <th>99</th>\n",
       "      <td>Jacqueline</td>\n",
       "      <td>20</td>\n",
       "    </tr>\n",
       "  </tbody>\n",
       "</table>\n",
       "<p>100 rows × 2 columns</p>\n",
       "</div>\n",
       "      <button class=\"colab-df-convert\" onclick=\"convertToInteractive('df-5f9ec8f9-b4f8-426c-bcca-3a609e2f38ef')\"\n",
       "              title=\"Convert this dataframe to an interactive table.\"\n",
       "              style=\"display:none;\">\n",
       "\n",
       "  <svg xmlns=\"http://www.w3.org/2000/svg\" height=\"24px\"viewBox=\"0 0 24 24\"\n",
       "       width=\"24px\">\n",
       "    <path d=\"M0 0h24v24H0V0z\" fill=\"none\"/>\n",
       "    <path d=\"M18.56 5.44l.94 2.06.94-2.06 2.06-.94-2.06-.94-.94-2.06-.94 2.06-2.06.94zm-11 1L8.5 8.5l.94-2.06 2.06-.94-2.06-.94L8.5 2.5l-.94 2.06-2.06.94zm10 10l.94 2.06.94-2.06 2.06-.94-2.06-.94-.94-2.06-.94 2.06-2.06.94z\"/><path d=\"M17.41 7.96l-1.37-1.37c-.4-.4-.92-.59-1.43-.59-.52 0-1.04.2-1.43.59L10.3 9.45l-7.72 7.72c-.78.78-.78 2.05 0 2.83L4 21.41c.39.39.9.59 1.41.59.51 0 1.02-.2 1.41-.59l7.78-7.78 2.81-2.81c.8-.78.8-2.07 0-2.86zM5.41 20L4 18.59l7.72-7.72 1.47 1.35L5.41 20z\"/>\n",
       "  </svg>\n",
       "      </button>\n",
       "\n",
       "\n",
       "\n",
       "    <div id=\"df-db94cbbb-ded7-4ba1-8308-5eb8d8b9db33\">\n",
       "      <button class=\"colab-df-quickchart\" onclick=\"quickchart('df-db94cbbb-ded7-4ba1-8308-5eb8d8b9db33')\"\n",
       "              title=\"Suggest charts.\"\n",
       "              style=\"display:none;\">\n",
       "\n",
       "<svg xmlns=\"http://www.w3.org/2000/svg\" height=\"24px\"viewBox=\"0 0 24 24\"\n",
       "     width=\"24px\">\n",
       "    <g>\n",
       "        <path d=\"M19 3H5c-1.1 0-2 .9-2 2v14c0 1.1.9 2 2 2h14c1.1 0 2-.9 2-2V5c0-1.1-.9-2-2-2zM9 17H7v-7h2v7zm4 0h-2V7h2v10zm4 0h-2v-4h2v4z\"/>\n",
       "    </g>\n",
       "</svg>\n",
       "      </button>\n",
       "    </div>\n",
       "\n",
       "<style>\n",
       "  .colab-df-quickchart {\n",
       "    background-color: #E8F0FE;\n",
       "    border: none;\n",
       "    border-radius: 50%;\n",
       "    cursor: pointer;\n",
       "    display: none;\n",
       "    fill: #1967D2;\n",
       "    height: 32px;\n",
       "    padding: 0 0 0 0;\n",
       "    width: 32px;\n",
       "  }\n",
       "\n",
       "  .colab-df-quickchart:hover {\n",
       "    background-color: #E2EBFA;\n",
       "    box-shadow: 0px 1px 2px rgba(60, 64, 67, 0.3), 0px 1px 3px 1px rgba(60, 64, 67, 0.15);\n",
       "    fill: #174EA6;\n",
       "  }\n",
       "\n",
       "  [theme=dark] .colab-df-quickchart {\n",
       "    background-color: #3B4455;\n",
       "    fill: #D2E3FC;\n",
       "  }\n",
       "\n",
       "  [theme=dark] .colab-df-quickchart:hover {\n",
       "    background-color: #434B5C;\n",
       "    box-shadow: 0px 1px 3px 1px rgba(0, 0, 0, 0.15);\n",
       "    filter: drop-shadow(0px 1px 2px rgba(0, 0, 0, 0.3));\n",
       "    fill: #FFFFFF;\n",
       "  }\n",
       "</style>\n",
       "\n",
       "    <script>\n",
       "      async function quickchart(key) {\n",
       "        const containerElement = document.querySelector('#' + key);\n",
       "        const charts = await google.colab.kernel.invokeFunction(\n",
       "            'suggestCharts', [key], {});\n",
       "      }\n",
       "    </script>\n",
       "\n",
       "      <script>\n",
       "\n",
       "function displayQuickchartButton(domScope) {\n",
       "  let quickchartButtonEl =\n",
       "    domScope.querySelector('#df-db94cbbb-ded7-4ba1-8308-5eb8d8b9db33 button.colab-df-quickchart');\n",
       "  quickchartButtonEl.style.display =\n",
       "    google.colab.kernel.accessAllowed ? 'block' : 'none';\n",
       "}\n",
       "\n",
       "        displayQuickchartButton(document);\n",
       "      </script>\n",
       "      <style>\n",
       "    .colab-df-container {\n",
       "      display:flex;\n",
       "      flex-wrap:wrap;\n",
       "      gap: 12px;\n",
       "    }\n",
       "\n",
       "    .colab-df-convert {\n",
       "      background-color: #E8F0FE;\n",
       "      border: none;\n",
       "      border-radius: 50%;\n",
       "      cursor: pointer;\n",
       "      display: none;\n",
       "      fill: #1967D2;\n",
       "      height: 32px;\n",
       "      padding: 0 0 0 0;\n",
       "      width: 32px;\n",
       "    }\n",
       "\n",
       "    .colab-df-convert:hover {\n",
       "      background-color: #E2EBFA;\n",
       "      box-shadow: 0px 1px 2px rgba(60, 64, 67, 0.3), 0px 1px 3px 1px rgba(60, 64, 67, 0.15);\n",
       "      fill: #174EA6;\n",
       "    }\n",
       "\n",
       "    [theme=dark] .colab-df-convert {\n",
       "      background-color: #3B4455;\n",
       "      fill: #D2E3FC;\n",
       "    }\n",
       "\n",
       "    [theme=dark] .colab-df-convert:hover {\n",
       "      background-color: #434B5C;\n",
       "      box-shadow: 0px 1px 3px 1px rgba(0, 0, 0, 0.15);\n",
       "      filter: drop-shadow(0px 1px 2px rgba(0, 0, 0, 0.3));\n",
       "      fill: #FFFFFF;\n",
       "    }\n",
       "  </style>\n",
       "\n",
       "      <script>\n",
       "        const buttonEl =\n",
       "          document.querySelector('#df-5f9ec8f9-b4f8-426c-bcca-3a609e2f38ef button.colab-df-convert');\n",
       "        buttonEl.style.display =\n",
       "          google.colab.kernel.accessAllowed ? 'block' : 'none';\n",
       "\n",
       "        async function convertToInteractive(key) {\n",
       "          const element = document.querySelector('#df-5f9ec8f9-b4f8-426c-bcca-3a609e2f38ef');\n",
       "          const dataTable =\n",
       "            await google.colab.kernel.invokeFunction('convertToInteractive',\n",
       "                                                     [key], {});\n",
       "          if (!dataTable) return;\n",
       "\n",
       "          const docLinkHtml = 'Like what you see? Visit the ' +\n",
       "            '<a target=\"_blank\" href=https://colab.research.google.com/notebooks/data_table.ipynb>data table notebook</a>'\n",
       "            + ' to learn more about interactive tables.';\n",
       "          element.innerHTML = '';\n",
       "          dataTable['output_type'] = 'display_data';\n",
       "          await google.colab.output.renderOutput(dataTable, element);\n",
       "          const docLink = document.createElement('div');\n",
       "          docLink.innerHTML = docLinkHtml;\n",
       "          element.appendChild(docLink);\n",
       "        }\n",
       "      </script>\n",
       "    </div>\n",
       "  </div>\n"
      ],
      "text/plain": [
       "     host_name  count\n",
       "0      Martijn     76\n",
       "1         Anne     58\n",
       "2       Thomas     53\n",
       "3          Tim     51\n",
       "4      Marieke     51\n",
       "..         ...    ...\n",
       "95        Sara     20\n",
       "96      Steven     20\n",
       "97       Floor     20\n",
       "98      Dennis     20\n",
       "99  Jacqueline     20\n",
       "\n",
       "[100 rows x 2 columns]"
      ]
     },
     "execution_count": 15,
     "metadata": {},
     "output_type": "execute_result"
    }
   ],
   "source": [
    "df_train[bool_series1].groupby(['host_name']).size().sort_values(ascending=False).reset_index(name='count').head(100)"
   ]
  },
  {
   "cell_type": "code",
   "execution_count": null,
   "metadata": {
    "colab": {
     "base_uri": "https://localhost:8080/",
     "height": 517
    },
    "id": "WqKY4DzwjPMy",
    "outputId": "86250c80-e2af-46b3-e957-6547363d7963"
   },
   "outputs": [
    {
     "data": {
      "text/html": [
       "<html>\n",
       "<head><meta charset=\"utf-8\" /></head>\n",
       "<body>\n",
       "    <div>            <script src=\"https://cdnjs.cloudflare.com/ajax/libs/mathjax/2.7.5/MathJax.js?config=TeX-AMS-MML_SVG\"></script><script type=\"text/javascript\">if (window.MathJax && window.MathJax.Hub && window.MathJax.Hub.Config) {window.MathJax.Hub.Config({SVG: {font: \"STIX-Web\"}});}</script>                <script type=\"text/javascript\">window.PlotlyConfig = {MathJaxConfig: 'local'};</script>\n",
       "        <script src=\"https://cdn.plot.ly/plotly-2.18.2.min.js\"></script>                <div id=\"cbb1d6b3-16c9-4ee1-939a-80b7907b99dd\" class=\"plotly-graph-div\" style=\"height:500px; width:1400px;\"></div>            <script type=\"text/javascript\">                                    window.PLOTLYENV=window.PLOTLYENV || {};                                    if (document.getElementById(\"cbb1d6b3-16c9-4ee1-939a-80b7907b99dd\")) {                    Plotly.newPlot(                        \"cbb1d6b3-16c9-4ee1-939a-80b7907b99dd\",                        [{\"alignmentgroup\":\"True\",\"hovertemplate\":\"count=%{x}<br>host_name=%{y}<extra></extra>\",\"legendgroup\":\"\",\"marker\":{\"color\":\"#636efa\",\"pattern\":{\"shape\":\"\"}},\"name\":\"\",\"offsetgroup\":\"\",\"orientation\":\"h\",\"showlegend\":false,\"textposition\":\"auto\",\"x\":[76,58,53,51,51,51,51,51,49,49,49,49,49,49,48,47,47,45,45,45,43,43,42,42,41,41,38,38,38,37,36,36,35,35,35,34,33,32,32,32,31,31,30,30,29,29,29,29,28,28,27,27,27,27,27,27,27,26,26,26,26,26,26,25,25,25,25,24,24,24,24,24,24,23,23,23,22,22,22,22,22,22,22,22,21,21,21,21,21,21,21,21,21,20,20,20,20,20,20,20],\"xaxis\":\"x\",\"y\":[\"Martijn\",\"Anne\",\"Thomas\",\"Tim\",\"Marieke\",\"Paul\",\"Bas\",\"Michiel\",\"Wendy And Bram\",\"Jasper\",\"Joost\",\"Eva\",\"Suzanne\",\"Jeroen\",\"Sophie\",\"Anna\",\"Laura\",\"Short Stay Group\",\"Peter\",\"Mark\",\"Charlotte\",\"Jan\",\"Ruben\",\"Bart\",\"Maarten\",\"Willem\",\"David\",\"Wouter\",\"Erik\",\"Rob\",\"Esther\",\"Nina\",\"Robert\",\"Pieter\",\"Sandra\",\"Sarah\",\"Frank\",\"Kim\",\"Vincent\",\"Sanne\",\"Saskia\",\"Joris\",\"Nicole\",\"Daan\",\"Linda\",\"Tom\",\"Niels\",\"Monique\",\"Inge\",\"Merel\",\"Alexander\",\"Julia\",\"Caroline\",\"Maaike\",\"Fleur\",\"Stephanie\",\"FantasticStay\",\"Lisa\",\"Barbara\",\"Thijs\",\"Laurens\",\"Ellen\",\"Sander\",\"Daniel\",\"Michael\",\"Alex\",\"Michelle\",\"Koen\",\"Hans\",\"Karin\",\"Anouk\",\"Rick\",\"Judith\",\"Marc\",\"Ruben, Sarah & Lindy\",\"Nienke\",\"Karen\",\"Martin\",\"Lotte\",\"Stefan\",\"Nick\",\"Simon\",\"Claudia\",\"Tessa\",\"Ruchi\",\"Patrick\",\"Eric\",\"Mirjam\",\"Marcel\",\"Martine\",\"Chris\",\"Simone\",\"Maria\",\"Roos\",\"Sjoerd\",\"Sara\",\"Steven\",\"Floor\",\"Dennis\",\"Jacqueline\"],\"yaxis\":\"y\",\"type\":\"bar\"}],                        {\"template\":{\"data\":{\"histogram2dcontour\":[{\"type\":\"histogram2dcontour\",\"colorbar\":{\"outlinewidth\":0,\"ticks\":\"\"},\"colorscale\":[[0.0,\"#0d0887\"],[0.1111111111111111,\"#46039f\"],[0.2222222222222222,\"#7201a8\"],[0.3333333333333333,\"#9c179e\"],[0.4444444444444444,\"#bd3786\"],[0.5555555555555556,\"#d8576b\"],[0.6666666666666666,\"#ed7953\"],[0.7777777777777778,\"#fb9f3a\"],[0.8888888888888888,\"#fdca26\"],[1.0,\"#f0f921\"]]}],\"choropleth\":[{\"type\":\"choropleth\",\"colorbar\":{\"outlinewidth\":0,\"ticks\":\"\"}}],\"histogram2d\":[{\"type\":\"histogram2d\",\"colorbar\":{\"outlinewidth\":0,\"ticks\":\"\"},\"colorscale\":[[0.0,\"#0d0887\"],[0.1111111111111111,\"#46039f\"],[0.2222222222222222,\"#7201a8\"],[0.3333333333333333,\"#9c179e\"],[0.4444444444444444,\"#bd3786\"],[0.5555555555555556,\"#d8576b\"],[0.6666666666666666,\"#ed7953\"],[0.7777777777777778,\"#fb9f3a\"],[0.8888888888888888,\"#fdca26\"],[1.0,\"#f0f921\"]]}],\"heatmap\":[{\"type\":\"heatmap\",\"colorbar\":{\"outlinewidth\":0,\"ticks\":\"\"},\"colorscale\":[[0.0,\"#0d0887\"],[0.1111111111111111,\"#46039f\"],[0.2222222222222222,\"#7201a8\"],[0.3333333333333333,\"#9c179e\"],[0.4444444444444444,\"#bd3786\"],[0.5555555555555556,\"#d8576b\"],[0.6666666666666666,\"#ed7953\"],[0.7777777777777778,\"#fb9f3a\"],[0.8888888888888888,\"#fdca26\"],[1.0,\"#f0f921\"]]}],\"heatmapgl\":[{\"type\":\"heatmapgl\",\"colorbar\":{\"outlinewidth\":0,\"ticks\":\"\"},\"colorscale\":[[0.0,\"#0d0887\"],[0.1111111111111111,\"#46039f\"],[0.2222222222222222,\"#7201a8\"],[0.3333333333333333,\"#9c179e\"],[0.4444444444444444,\"#bd3786\"],[0.5555555555555556,\"#d8576b\"],[0.6666666666666666,\"#ed7953\"],[0.7777777777777778,\"#fb9f3a\"],[0.8888888888888888,\"#fdca26\"],[1.0,\"#f0f921\"]]}],\"contourcarpet\":[{\"type\":\"contourcarpet\",\"colorbar\":{\"outlinewidth\":0,\"ticks\":\"\"}}],\"contour\":[{\"type\":\"contour\",\"colorbar\":{\"outlinewidth\":0,\"ticks\":\"\"},\"colorscale\":[[0.0,\"#0d0887\"],[0.1111111111111111,\"#46039f\"],[0.2222222222222222,\"#7201a8\"],[0.3333333333333333,\"#9c179e\"],[0.4444444444444444,\"#bd3786\"],[0.5555555555555556,\"#d8576b\"],[0.6666666666666666,\"#ed7953\"],[0.7777777777777778,\"#fb9f3a\"],[0.8888888888888888,\"#fdca26\"],[1.0,\"#f0f921\"]]}],\"surface\":[{\"type\":\"surface\",\"colorbar\":{\"outlinewidth\":0,\"ticks\":\"\"},\"colorscale\":[[0.0,\"#0d0887\"],[0.1111111111111111,\"#46039f\"],[0.2222222222222222,\"#7201a8\"],[0.3333333333333333,\"#9c179e\"],[0.4444444444444444,\"#bd3786\"],[0.5555555555555556,\"#d8576b\"],[0.6666666666666666,\"#ed7953\"],[0.7777777777777778,\"#fb9f3a\"],[0.8888888888888888,\"#fdca26\"],[1.0,\"#f0f921\"]]}],\"mesh3d\":[{\"type\":\"mesh3d\",\"colorbar\":{\"outlinewidth\":0,\"ticks\":\"\"}}],\"scatter\":[{\"fillpattern\":{\"fillmode\":\"overlay\",\"size\":10,\"solidity\":0.2},\"type\":\"scatter\"}],\"parcoords\":[{\"type\":\"parcoords\",\"line\":{\"colorbar\":{\"outlinewidth\":0,\"ticks\":\"\"}}}],\"scatterpolargl\":[{\"type\":\"scatterpolargl\",\"marker\":{\"colorbar\":{\"outlinewidth\":0,\"ticks\":\"\"}}}],\"bar\":[{\"error_x\":{\"color\":\"#2a3f5f\"},\"error_y\":{\"color\":\"#2a3f5f\"},\"marker\":{\"line\":{\"color\":\"#E5ECF6\",\"width\":0.5},\"pattern\":{\"fillmode\":\"overlay\",\"size\":10,\"solidity\":0.2}},\"type\":\"bar\"}],\"scattergeo\":[{\"type\":\"scattergeo\",\"marker\":{\"colorbar\":{\"outlinewidth\":0,\"ticks\":\"\"}}}],\"scatterpolar\":[{\"type\":\"scatterpolar\",\"marker\":{\"colorbar\":{\"outlinewidth\":0,\"ticks\":\"\"}}}],\"histogram\":[{\"marker\":{\"pattern\":{\"fillmode\":\"overlay\",\"size\":10,\"solidity\":0.2}},\"type\":\"histogram\"}],\"scattergl\":[{\"type\":\"scattergl\",\"marker\":{\"colorbar\":{\"outlinewidth\":0,\"ticks\":\"\"}}}],\"scatter3d\":[{\"type\":\"scatter3d\",\"line\":{\"colorbar\":{\"outlinewidth\":0,\"ticks\":\"\"}},\"marker\":{\"colorbar\":{\"outlinewidth\":0,\"ticks\":\"\"}}}],\"scattermapbox\":[{\"type\":\"scattermapbox\",\"marker\":{\"colorbar\":{\"outlinewidth\":0,\"ticks\":\"\"}}}],\"scatterternary\":[{\"type\":\"scatterternary\",\"marker\":{\"colorbar\":{\"outlinewidth\":0,\"ticks\":\"\"}}}],\"scattercarpet\":[{\"type\":\"scattercarpet\",\"marker\":{\"colorbar\":{\"outlinewidth\":0,\"ticks\":\"\"}}}],\"carpet\":[{\"aaxis\":{\"endlinecolor\":\"#2a3f5f\",\"gridcolor\":\"white\",\"linecolor\":\"white\",\"minorgridcolor\":\"white\",\"startlinecolor\":\"#2a3f5f\"},\"baxis\":{\"endlinecolor\":\"#2a3f5f\",\"gridcolor\":\"white\",\"linecolor\":\"white\",\"minorgridcolor\":\"white\",\"startlinecolor\":\"#2a3f5f\"},\"type\":\"carpet\"}],\"table\":[{\"cells\":{\"fill\":{\"color\":\"#EBF0F8\"},\"line\":{\"color\":\"white\"}},\"header\":{\"fill\":{\"color\":\"#C8D4E3\"},\"line\":{\"color\":\"white\"}},\"type\":\"table\"}],\"barpolar\":[{\"marker\":{\"line\":{\"color\":\"#E5ECF6\",\"width\":0.5},\"pattern\":{\"fillmode\":\"overlay\",\"size\":10,\"solidity\":0.2}},\"type\":\"barpolar\"}],\"pie\":[{\"automargin\":true,\"type\":\"pie\"}]},\"layout\":{\"autotypenumbers\":\"strict\",\"colorway\":[\"#636efa\",\"#EF553B\",\"#00cc96\",\"#ab63fa\",\"#FFA15A\",\"#19d3f3\",\"#FF6692\",\"#B6E880\",\"#FF97FF\",\"#FECB52\"],\"font\":{\"color\":\"#2a3f5f\"},\"hovermode\":\"closest\",\"hoverlabel\":{\"align\":\"left\"},\"paper_bgcolor\":\"white\",\"plot_bgcolor\":\"#E5ECF6\",\"polar\":{\"bgcolor\":\"#E5ECF6\",\"angularaxis\":{\"gridcolor\":\"white\",\"linecolor\":\"white\",\"ticks\":\"\"},\"radialaxis\":{\"gridcolor\":\"white\",\"linecolor\":\"white\",\"ticks\":\"\"}},\"ternary\":{\"bgcolor\":\"#E5ECF6\",\"aaxis\":{\"gridcolor\":\"white\",\"linecolor\":\"white\",\"ticks\":\"\"},\"baxis\":{\"gridcolor\":\"white\",\"linecolor\":\"white\",\"ticks\":\"\"},\"caxis\":{\"gridcolor\":\"white\",\"linecolor\":\"white\",\"ticks\":\"\"}},\"coloraxis\":{\"colorbar\":{\"outlinewidth\":0,\"ticks\":\"\"}},\"colorscale\":{\"sequential\":[[0.0,\"#0d0887\"],[0.1111111111111111,\"#46039f\"],[0.2222222222222222,\"#7201a8\"],[0.3333333333333333,\"#9c179e\"],[0.4444444444444444,\"#bd3786\"],[0.5555555555555556,\"#d8576b\"],[0.6666666666666666,\"#ed7953\"],[0.7777777777777778,\"#fb9f3a\"],[0.8888888888888888,\"#fdca26\"],[1.0,\"#f0f921\"]],\"sequentialminus\":[[0.0,\"#0d0887\"],[0.1111111111111111,\"#46039f\"],[0.2222222222222222,\"#7201a8\"],[0.3333333333333333,\"#9c179e\"],[0.4444444444444444,\"#bd3786\"],[0.5555555555555556,\"#d8576b\"],[0.6666666666666666,\"#ed7953\"],[0.7777777777777778,\"#fb9f3a\"],[0.8888888888888888,\"#fdca26\"],[1.0,\"#f0f921\"]],\"diverging\":[[0,\"#8e0152\"],[0.1,\"#c51b7d\"],[0.2,\"#de77ae\"],[0.3,\"#f1b6da\"],[0.4,\"#fde0ef\"],[0.5,\"#f7f7f7\"],[0.6,\"#e6f5d0\"],[0.7,\"#b8e186\"],[0.8,\"#7fbc41\"],[0.9,\"#4d9221\"],[1,\"#276419\"]]},\"xaxis\":{\"gridcolor\":\"white\",\"linecolor\":\"white\",\"ticks\":\"\",\"title\":{\"standoff\":15},\"zerolinecolor\":\"white\",\"automargin\":true,\"zerolinewidth\":2},\"yaxis\":{\"gridcolor\":\"white\",\"linecolor\":\"white\",\"ticks\":\"\",\"title\":{\"standoff\":15},\"zerolinecolor\":\"white\",\"automargin\":true,\"zerolinewidth\":2},\"scene\":{\"xaxis\":{\"backgroundcolor\":\"#E5ECF6\",\"gridcolor\":\"white\",\"linecolor\":\"white\",\"showbackground\":true,\"ticks\":\"\",\"zerolinecolor\":\"white\",\"gridwidth\":2},\"yaxis\":{\"backgroundcolor\":\"#E5ECF6\",\"gridcolor\":\"white\",\"linecolor\":\"white\",\"showbackground\":true,\"ticks\":\"\",\"zerolinecolor\":\"white\",\"gridwidth\":2},\"zaxis\":{\"backgroundcolor\":\"#E5ECF6\",\"gridcolor\":\"white\",\"linecolor\":\"white\",\"showbackground\":true,\"ticks\":\"\",\"zerolinecolor\":\"white\",\"gridwidth\":2}},\"shapedefaults\":{\"line\":{\"color\":\"#2a3f5f\"}},\"annotationdefaults\":{\"arrowcolor\":\"#2a3f5f\",\"arrowhead\":0,\"arrowwidth\":1},\"geo\":{\"bgcolor\":\"white\",\"landcolor\":\"#E5ECF6\",\"subunitcolor\":\"white\",\"showland\":true,\"showlakes\":true,\"lakecolor\":\"white\"},\"title\":{\"x\":0.05},\"mapbox\":{\"style\":\"light\"}}},\"xaxis\":{\"anchor\":\"y\",\"domain\":[0.0,1.0],\"title\":{\"text\":\"count\"},\"range\":[0,80]},\"yaxis\":{\"anchor\":\"x\",\"domain\":[0.0,1.0],\"title\":{\"text\":\"host_name\"}},\"legend\":{\"tracegroupgap\":0},\"margin\":{\"t\":60},\"barmode\":\"relative\",\"font\":{\"size\":15,\"color\":\"#0f0f0f\",\"family\":\"Courier New, monospace\"},\"autosize\":false,\"height\":500,\"width\":1400},                        {\"responsive\": true}                    ).then(function(){\n",
       "                            \n",
       "var gd = document.getElementById('cbb1d6b3-16c9-4ee1-939a-80b7907b99dd');\n",
       "var x = new MutationObserver(function (mutations, observer) {{\n",
       "        var display = window.getComputedStyle(gd).display;\n",
       "        if (!display || display === 'none') {{\n",
       "            console.log([gd, 'removed!']);\n",
       "            Plotly.purge(gd);\n",
       "            observer.disconnect();\n",
       "        }}\n",
       "}});\n",
       "\n",
       "// Listen for the removal of the full notebook cells\n",
       "var notebookContainer = gd.closest('#notebook-container');\n",
       "if (notebookContainer) {{\n",
       "    x.observe(notebookContainer, {childList: true});\n",
       "}}\n",
       "\n",
       "// Listen for the clearing of the current output cell\n",
       "var outputEl = gd.closest('.output');\n",
       "if (outputEl) {{\n",
       "    x.observe(outputEl, {childList: true});\n",
       "}}\n",
       "\n",
       "                        })                };                            </script>        </div>\n",
       "</body>\n",
       "</html>"
      ]
     },
     "metadata": {},
     "output_type": "display_data"
    }
   ],
   "source": [
    "d=df_train[bool_series1].groupby(['host_name']).size().sort_values(ascending=False).reset_index(name='count').head(100)\n",
    "fig=px.bar(d,\n",
    "                           y='host_name',\n",
    "                           x='count',\n",
    "                           #size='count',\n",
    "                           #color='name',\n",
    "                           range_x=[0,80]\n",
    "                           )\n",
    "fig.update_layout(autosize=False,\n",
    "                  height=500,\n",
    "                  width=1400,\n",
    "                  font=dict(size=15,color=\"#0f0f0f\",family=\"Courier New, monospace\"),\n",
    "                 )\n",
    "fig.show()"
   ]
  },
  {
   "cell_type": "code",
   "execution_count": null,
   "metadata": {
    "colab": {
     "base_uri": "https://localhost:8080/"
    },
    "id": "PElTYFtfjSO3",
    "outputId": "8a508bd4-3de6-4eac-d953-f4a005d1205b"
   },
   "outputs": [
    {
     "data": {
      "text/plain": [
       "count                      12901\n",
       "unique                        22\n",
       "top       De Baarsjes - Oud-West\n",
       "freq                        2209\n",
       "Name: neighbourhood, dtype: object"
      ]
     },
     "execution_count": 17,
     "metadata": {},
     "output_type": "execute_result"
    }
   ],
   "source": [
    "df_train.neighbourhood.describe()"
   ]
  },
  {
   "cell_type": "code",
   "execution_count": null,
   "metadata": {
    "colab": {
     "base_uri": "https://localhost:8080/",
     "height": 739
    },
    "id": "eVUAl2Z0jUZ3",
    "outputId": "ae51769a-0238-4df5-fe4a-e0e2321fa208"
   },
   "outputs": [
    {
     "data": {
      "text/html": [
       "\n",
       "\n",
       "  <div id=\"df-6682049f-ef3e-4cd6-b868-afdab304ae30\">\n",
       "    <div class=\"colab-df-container\">\n",
       "      <div>\n",
       "<style scoped>\n",
       "    .dataframe tbody tr th:only-of-type {\n",
       "        vertical-align: middle;\n",
       "    }\n",
       "\n",
       "    .dataframe tbody tr th {\n",
       "        vertical-align: top;\n",
       "    }\n",
       "\n",
       "    .dataframe thead th {\n",
       "        text-align: right;\n",
       "    }\n",
       "</style>\n",
       "<table border=\"1\" class=\"dataframe\">\n",
       "  <thead>\n",
       "    <tr style=\"text-align: right;\">\n",
       "      <th></th>\n",
       "      <th>neighbourhood</th>\n",
       "      <th>count</th>\n",
       "    </tr>\n",
       "  </thead>\n",
       "  <tbody>\n",
       "    <tr>\n",
       "      <th>0</th>\n",
       "      <td>De Baarsjes - Oud-West</td>\n",
       "      <td>2209</td>\n",
       "    </tr>\n",
       "    <tr>\n",
       "      <th>1</th>\n",
       "      <td>De Pijp - Rivierenbuurt</td>\n",
       "      <td>1600</td>\n",
       "    </tr>\n",
       "    <tr>\n",
       "      <th>2</th>\n",
       "      <td>Centrum-West</td>\n",
       "      <td>1429</td>\n",
       "    </tr>\n",
       "    <tr>\n",
       "      <th>3</th>\n",
       "      <td>Centrum-Oost</td>\n",
       "      <td>1097</td>\n",
       "    </tr>\n",
       "    <tr>\n",
       "      <th>4</th>\n",
       "      <td>Westerpark</td>\n",
       "      <td>958</td>\n",
       "    </tr>\n",
       "    <tr>\n",
       "      <th>5</th>\n",
       "      <td>Zuid</td>\n",
       "      <td>924</td>\n",
       "    </tr>\n",
       "    <tr>\n",
       "      <th>6</th>\n",
       "      <td>Oud-Oost</td>\n",
       "      <td>831</td>\n",
       "    </tr>\n",
       "    <tr>\n",
       "      <th>7</th>\n",
       "      <td>Bos en Lommer</td>\n",
       "      <td>730</td>\n",
       "    </tr>\n",
       "    <tr>\n",
       "      <th>8</th>\n",
       "      <td>Oostelijk Havengebied - Indische Buurt</td>\n",
       "      <td>644</td>\n",
       "    </tr>\n",
       "    <tr>\n",
       "      <th>9</th>\n",
       "      <td>Watergraafsmeer</td>\n",
       "      <td>381</td>\n",
       "    </tr>\n",
       "    <tr>\n",
       "      <th>10</th>\n",
       "      <td>Oud-Noord</td>\n",
       "      <td>376</td>\n",
       "    </tr>\n",
       "    <tr>\n",
       "      <th>11</th>\n",
       "      <td>IJburg - Zeeburgereiland</td>\n",
       "      <td>321</td>\n",
       "    </tr>\n",
       "    <tr>\n",
       "      <th>12</th>\n",
       "      <td>Slotervaart</td>\n",
       "      <td>269</td>\n",
       "    </tr>\n",
       "    <tr>\n",
       "      <th>13</th>\n",
       "      <td>Noord-West</td>\n",
       "      <td>257</td>\n",
       "    </tr>\n",
       "    <tr>\n",
       "      <th>14</th>\n",
       "      <td>Noord-Oost</td>\n",
       "      <td>171</td>\n",
       "    </tr>\n",
       "    <tr>\n",
       "      <th>15</th>\n",
       "      <td>Buitenveldert - Zuidas</td>\n",
       "      <td>155</td>\n",
       "    </tr>\n",
       "    <tr>\n",
       "      <th>16</th>\n",
       "      <td>Geuzenveld - Slotermeer</td>\n",
       "      <td>144</td>\n",
       "    </tr>\n",
       "    <tr>\n",
       "      <th>17</th>\n",
       "      <td>De Aker - Nieuw Sloten</td>\n",
       "      <td>88</td>\n",
       "    </tr>\n",
       "    <tr>\n",
       "      <th>18</th>\n",
       "      <td>Osdorp</td>\n",
       "      <td>83</td>\n",
       "    </tr>\n",
       "    <tr>\n",
       "      <th>19</th>\n",
       "      <td>Gaasperdam - Driemond</td>\n",
       "      <td>80</td>\n",
       "    </tr>\n",
       "    <tr>\n",
       "      <th>20</th>\n",
       "      <td>Bijlmer-Centrum</td>\n",
       "      <td>78</td>\n",
       "    </tr>\n",
       "    <tr>\n",
       "      <th>21</th>\n",
       "      <td>Bijlmer-Oost</td>\n",
       "      <td>76</td>\n",
       "    </tr>\n",
       "  </tbody>\n",
       "</table>\n",
       "</div>\n",
       "      <button class=\"colab-df-convert\" onclick=\"convertToInteractive('df-6682049f-ef3e-4cd6-b868-afdab304ae30')\"\n",
       "              title=\"Convert this dataframe to an interactive table.\"\n",
       "              style=\"display:none;\">\n",
       "\n",
       "  <svg xmlns=\"http://www.w3.org/2000/svg\" height=\"24px\"viewBox=\"0 0 24 24\"\n",
       "       width=\"24px\">\n",
       "    <path d=\"M0 0h24v24H0V0z\" fill=\"none\"/>\n",
       "    <path d=\"M18.56 5.44l.94 2.06.94-2.06 2.06-.94-2.06-.94-.94-2.06-.94 2.06-2.06.94zm-11 1L8.5 8.5l.94-2.06 2.06-.94-2.06-.94L8.5 2.5l-.94 2.06-2.06.94zm10 10l.94 2.06.94-2.06 2.06-.94-2.06-.94-.94-2.06-.94 2.06-2.06.94z\"/><path d=\"M17.41 7.96l-1.37-1.37c-.4-.4-.92-.59-1.43-.59-.52 0-1.04.2-1.43.59L10.3 9.45l-7.72 7.72c-.78.78-.78 2.05 0 2.83L4 21.41c.39.39.9.59 1.41.59.51 0 1.02-.2 1.41-.59l7.78-7.78 2.81-2.81c.8-.78.8-2.07 0-2.86zM5.41 20L4 18.59l7.72-7.72 1.47 1.35L5.41 20z\"/>\n",
       "  </svg>\n",
       "      </button>\n",
       "\n",
       "\n",
       "\n",
       "    <div id=\"df-a1837948-86be-403a-97a4-6d8ecb89170c\">\n",
       "      <button class=\"colab-df-quickchart\" onclick=\"quickchart('df-a1837948-86be-403a-97a4-6d8ecb89170c')\"\n",
       "              title=\"Suggest charts.\"\n",
       "              style=\"display:none;\">\n",
       "\n",
       "<svg xmlns=\"http://www.w3.org/2000/svg\" height=\"24px\"viewBox=\"0 0 24 24\"\n",
       "     width=\"24px\">\n",
       "    <g>\n",
       "        <path d=\"M19 3H5c-1.1 0-2 .9-2 2v14c0 1.1.9 2 2 2h14c1.1 0 2-.9 2-2V5c0-1.1-.9-2-2-2zM9 17H7v-7h2v7zm4 0h-2V7h2v10zm4 0h-2v-4h2v4z\"/>\n",
       "    </g>\n",
       "</svg>\n",
       "      </button>\n",
       "    </div>\n",
       "\n",
       "<style>\n",
       "  .colab-df-quickchart {\n",
       "    background-color: #E8F0FE;\n",
       "    border: none;\n",
       "    border-radius: 50%;\n",
       "    cursor: pointer;\n",
       "    display: none;\n",
       "    fill: #1967D2;\n",
       "    height: 32px;\n",
       "    padding: 0 0 0 0;\n",
       "    width: 32px;\n",
       "  }\n",
       "\n",
       "  .colab-df-quickchart:hover {\n",
       "    background-color: #E2EBFA;\n",
       "    box-shadow: 0px 1px 2px rgba(60, 64, 67, 0.3), 0px 1px 3px 1px rgba(60, 64, 67, 0.15);\n",
       "    fill: #174EA6;\n",
       "  }\n",
       "\n",
       "  [theme=dark] .colab-df-quickchart {\n",
       "    background-color: #3B4455;\n",
       "    fill: #D2E3FC;\n",
       "  }\n",
       "\n",
       "  [theme=dark] .colab-df-quickchart:hover {\n",
       "    background-color: #434B5C;\n",
       "    box-shadow: 0px 1px 3px 1px rgba(0, 0, 0, 0.15);\n",
       "    filter: drop-shadow(0px 1px 2px rgba(0, 0, 0, 0.3));\n",
       "    fill: #FFFFFF;\n",
       "  }\n",
       "</style>\n",
       "\n",
       "    <script>\n",
       "      async function quickchart(key) {\n",
       "        const containerElement = document.querySelector('#' + key);\n",
       "        const charts = await google.colab.kernel.invokeFunction(\n",
       "            'suggestCharts', [key], {});\n",
       "      }\n",
       "    </script>\n",
       "\n",
       "      <script>\n",
       "\n",
       "function displayQuickchartButton(domScope) {\n",
       "  let quickchartButtonEl =\n",
       "    domScope.querySelector('#df-a1837948-86be-403a-97a4-6d8ecb89170c button.colab-df-quickchart');\n",
       "  quickchartButtonEl.style.display =\n",
       "    google.colab.kernel.accessAllowed ? 'block' : 'none';\n",
       "}\n",
       "\n",
       "        displayQuickchartButton(document);\n",
       "      </script>\n",
       "      <style>\n",
       "    .colab-df-container {\n",
       "      display:flex;\n",
       "      flex-wrap:wrap;\n",
       "      gap: 12px;\n",
       "    }\n",
       "\n",
       "    .colab-df-convert {\n",
       "      background-color: #E8F0FE;\n",
       "      border: none;\n",
       "      border-radius: 50%;\n",
       "      cursor: pointer;\n",
       "      display: none;\n",
       "      fill: #1967D2;\n",
       "      height: 32px;\n",
       "      padding: 0 0 0 0;\n",
       "      width: 32px;\n",
       "    }\n",
       "\n",
       "    .colab-df-convert:hover {\n",
       "      background-color: #E2EBFA;\n",
       "      box-shadow: 0px 1px 2px rgba(60, 64, 67, 0.3), 0px 1px 3px 1px rgba(60, 64, 67, 0.15);\n",
       "      fill: #174EA6;\n",
       "    }\n",
       "\n",
       "    [theme=dark] .colab-df-convert {\n",
       "      background-color: #3B4455;\n",
       "      fill: #D2E3FC;\n",
       "    }\n",
       "\n",
       "    [theme=dark] .colab-df-convert:hover {\n",
       "      background-color: #434B5C;\n",
       "      box-shadow: 0px 1px 3px 1px rgba(0, 0, 0, 0.15);\n",
       "      filter: drop-shadow(0px 1px 2px rgba(0, 0, 0, 0.3));\n",
       "      fill: #FFFFFF;\n",
       "    }\n",
       "  </style>\n",
       "\n",
       "      <script>\n",
       "        const buttonEl =\n",
       "          document.querySelector('#df-6682049f-ef3e-4cd6-b868-afdab304ae30 button.colab-df-convert');\n",
       "        buttonEl.style.display =\n",
       "          google.colab.kernel.accessAllowed ? 'block' : 'none';\n",
       "\n",
       "        async function convertToInteractive(key) {\n",
       "          const element = document.querySelector('#df-6682049f-ef3e-4cd6-b868-afdab304ae30');\n",
       "          const dataTable =\n",
       "            await google.colab.kernel.invokeFunction('convertToInteractive',\n",
       "                                                     [key], {});\n",
       "          if (!dataTable) return;\n",
       "\n",
       "          const docLinkHtml = 'Like what you see? Visit the ' +\n",
       "            '<a target=\"_blank\" href=https://colab.research.google.com/notebooks/data_table.ipynb>data table notebook</a>'\n",
       "            + ' to learn more about interactive tables.';\n",
       "          element.innerHTML = '';\n",
       "          dataTable['output_type'] = 'display_data';\n",
       "          await google.colab.output.renderOutput(dataTable, element);\n",
       "          const docLink = document.createElement('div');\n",
       "          docLink.innerHTML = docLinkHtml;\n",
       "          element.appendChild(docLink);\n",
       "        }\n",
       "      </script>\n",
       "    </div>\n",
       "  </div>\n"
      ],
      "text/plain": [
       "                             neighbourhood  count\n",
       "0                   De Baarsjes - Oud-West   2209\n",
       "1                  De Pijp - Rivierenbuurt   1600\n",
       "2                             Centrum-West   1429\n",
       "3                             Centrum-Oost   1097\n",
       "4                               Westerpark    958\n",
       "5                                     Zuid    924\n",
       "6                                 Oud-Oost    831\n",
       "7                            Bos en Lommer    730\n",
       "8   Oostelijk Havengebied - Indische Buurt    644\n",
       "9                          Watergraafsmeer    381\n",
       "10                               Oud-Noord    376\n",
       "11                IJburg - Zeeburgereiland    321\n",
       "12                             Slotervaart    269\n",
       "13                              Noord-West    257\n",
       "14                              Noord-Oost    171\n",
       "15                  Buitenveldert - Zuidas    155\n",
       "16                 Geuzenveld - Slotermeer    144\n",
       "17                  De Aker - Nieuw Sloten     88\n",
       "18                                  Osdorp     83\n",
       "19                   Gaasperdam - Driemond     80\n",
       "20                         Bijlmer-Centrum     78\n",
       "21                            Bijlmer-Oost     76"
      ]
     },
     "execution_count": 18,
     "metadata": {},
     "output_type": "execute_result"
    }
   ],
   "source": [
    "df_train.groupby(['neighbourhood']).size().sort_values(ascending=False).reset_index(name='count')"
   ]
  },
  {
   "cell_type": "code",
   "execution_count": null,
   "metadata": {
    "colab": {
     "base_uri": "https://localhost:8080/",
     "height": 517
    },
    "id": "o6x0ZnqmjX_8",
    "outputId": "f256b8c4-d654-42ea-c0e4-09712631a89d"
   },
   "outputs": [
    {
     "data": {
      "text/html": [
       "<html>\n",
       "<head><meta charset=\"utf-8\" /></head>\n",
       "<body>\n",
       "    <div>            <script src=\"https://cdnjs.cloudflare.com/ajax/libs/mathjax/2.7.5/MathJax.js?config=TeX-AMS-MML_SVG\"></script><script type=\"text/javascript\">if (window.MathJax && window.MathJax.Hub && window.MathJax.Hub.Config) {window.MathJax.Hub.Config({SVG: {font: \"STIX-Web\"}});}</script>                <script type=\"text/javascript\">window.PlotlyConfig = {MathJaxConfig: 'local'};</script>\n",
       "        <script src=\"https://cdn.plot.ly/plotly-2.18.2.min.js\"></script>                <div id=\"33b2ce10-7d4c-4400-8eaa-42eab1331915\" class=\"plotly-graph-div\" style=\"height:500px; width:1400px;\"></div>            <script type=\"text/javascript\">                                    window.PLOTLYENV=window.PLOTLYENV || {};                                    if (document.getElementById(\"33b2ce10-7d4c-4400-8eaa-42eab1331915\")) {                    Plotly.newPlot(                        \"33b2ce10-7d4c-4400-8eaa-42eab1331915\",                        [{\"alignmentgroup\":\"True\",\"hovertemplate\":\"count=%{x}<br>neighbourhood=%{y}<extra></extra>\",\"legendgroup\":\"\",\"marker\":{\"color\":\"#636efa\",\"pattern\":{\"shape\":\"\"}},\"name\":\"\",\"offsetgroup\":\"\",\"orientation\":\"h\",\"showlegend\":false,\"textposition\":\"auto\",\"x\":[2209,1600,1429,1097,958,924,831,730,644,381,376,321,269,257,171,155,144,88,83,80,78,76],\"xaxis\":\"x\",\"y\":[\"De Baarsjes - Oud-West\",\"De Pijp - Rivierenbuurt\",\"Centrum-West\",\"Centrum-Oost\",\"Westerpark\",\"Zuid\",\"Oud-Oost\",\"Bos en Lommer\",\"Oostelijk Havengebied - Indische Buurt\",\"Watergraafsmeer\",\"Oud-Noord\",\"IJburg - Zeeburgereiland\",\"Slotervaart\",\"Noord-West\",\"Noord-Oost\",\"Buitenveldert - Zuidas\",\"Geuzenveld - Slotermeer\",\"De Aker - Nieuw Sloten\",\"Osdorp\",\"Gaasperdam - Driemond\",\"Bijlmer-Centrum\",\"Bijlmer-Oost\"],\"yaxis\":\"y\",\"type\":\"bar\"}],                        {\"template\":{\"data\":{\"histogram2dcontour\":[{\"type\":\"histogram2dcontour\",\"colorbar\":{\"outlinewidth\":0,\"ticks\":\"\"},\"colorscale\":[[0.0,\"#0d0887\"],[0.1111111111111111,\"#46039f\"],[0.2222222222222222,\"#7201a8\"],[0.3333333333333333,\"#9c179e\"],[0.4444444444444444,\"#bd3786\"],[0.5555555555555556,\"#d8576b\"],[0.6666666666666666,\"#ed7953\"],[0.7777777777777778,\"#fb9f3a\"],[0.8888888888888888,\"#fdca26\"],[1.0,\"#f0f921\"]]}],\"choropleth\":[{\"type\":\"choropleth\",\"colorbar\":{\"outlinewidth\":0,\"ticks\":\"\"}}],\"histogram2d\":[{\"type\":\"histogram2d\",\"colorbar\":{\"outlinewidth\":0,\"ticks\":\"\"},\"colorscale\":[[0.0,\"#0d0887\"],[0.1111111111111111,\"#46039f\"],[0.2222222222222222,\"#7201a8\"],[0.3333333333333333,\"#9c179e\"],[0.4444444444444444,\"#bd3786\"],[0.5555555555555556,\"#d8576b\"],[0.6666666666666666,\"#ed7953\"],[0.7777777777777778,\"#fb9f3a\"],[0.8888888888888888,\"#fdca26\"],[1.0,\"#f0f921\"]]}],\"heatmap\":[{\"type\":\"heatmap\",\"colorbar\":{\"outlinewidth\":0,\"ticks\":\"\"},\"colorscale\":[[0.0,\"#0d0887\"],[0.1111111111111111,\"#46039f\"],[0.2222222222222222,\"#7201a8\"],[0.3333333333333333,\"#9c179e\"],[0.4444444444444444,\"#bd3786\"],[0.5555555555555556,\"#d8576b\"],[0.6666666666666666,\"#ed7953\"],[0.7777777777777778,\"#fb9f3a\"],[0.8888888888888888,\"#fdca26\"],[1.0,\"#f0f921\"]]}],\"heatmapgl\":[{\"type\":\"heatmapgl\",\"colorbar\":{\"outlinewidth\":0,\"ticks\":\"\"},\"colorscale\":[[0.0,\"#0d0887\"],[0.1111111111111111,\"#46039f\"],[0.2222222222222222,\"#7201a8\"],[0.3333333333333333,\"#9c179e\"],[0.4444444444444444,\"#bd3786\"],[0.5555555555555556,\"#d8576b\"],[0.6666666666666666,\"#ed7953\"],[0.7777777777777778,\"#fb9f3a\"],[0.8888888888888888,\"#fdca26\"],[1.0,\"#f0f921\"]]}],\"contourcarpet\":[{\"type\":\"contourcarpet\",\"colorbar\":{\"outlinewidth\":0,\"ticks\":\"\"}}],\"contour\":[{\"type\":\"contour\",\"colorbar\":{\"outlinewidth\":0,\"ticks\":\"\"},\"colorscale\":[[0.0,\"#0d0887\"],[0.1111111111111111,\"#46039f\"],[0.2222222222222222,\"#7201a8\"],[0.3333333333333333,\"#9c179e\"],[0.4444444444444444,\"#bd3786\"],[0.5555555555555556,\"#d8576b\"],[0.6666666666666666,\"#ed7953\"],[0.7777777777777778,\"#fb9f3a\"],[0.8888888888888888,\"#fdca26\"],[1.0,\"#f0f921\"]]}],\"surface\":[{\"type\":\"surface\",\"colorbar\":{\"outlinewidth\":0,\"ticks\":\"\"},\"colorscale\":[[0.0,\"#0d0887\"],[0.1111111111111111,\"#46039f\"],[0.2222222222222222,\"#7201a8\"],[0.3333333333333333,\"#9c179e\"],[0.4444444444444444,\"#bd3786\"],[0.5555555555555556,\"#d8576b\"],[0.6666666666666666,\"#ed7953\"],[0.7777777777777778,\"#fb9f3a\"],[0.8888888888888888,\"#fdca26\"],[1.0,\"#f0f921\"]]}],\"mesh3d\":[{\"type\":\"mesh3d\",\"colorbar\":{\"outlinewidth\":0,\"ticks\":\"\"}}],\"scatter\":[{\"fillpattern\":{\"fillmode\":\"overlay\",\"size\":10,\"solidity\":0.2},\"type\":\"scatter\"}],\"parcoords\":[{\"type\":\"parcoords\",\"line\":{\"colorbar\":{\"outlinewidth\":0,\"ticks\":\"\"}}}],\"scatterpolargl\":[{\"type\":\"scatterpolargl\",\"marker\":{\"colorbar\":{\"outlinewidth\":0,\"ticks\":\"\"}}}],\"bar\":[{\"error_x\":{\"color\":\"#2a3f5f\"},\"error_y\":{\"color\":\"#2a3f5f\"},\"marker\":{\"line\":{\"color\":\"#E5ECF6\",\"width\":0.5},\"pattern\":{\"fillmode\":\"overlay\",\"size\":10,\"solidity\":0.2}},\"type\":\"bar\"}],\"scattergeo\":[{\"type\":\"scattergeo\",\"marker\":{\"colorbar\":{\"outlinewidth\":0,\"ticks\":\"\"}}}],\"scatterpolar\":[{\"type\":\"scatterpolar\",\"marker\":{\"colorbar\":{\"outlinewidth\":0,\"ticks\":\"\"}}}],\"histogram\":[{\"marker\":{\"pattern\":{\"fillmode\":\"overlay\",\"size\":10,\"solidity\":0.2}},\"type\":\"histogram\"}],\"scattergl\":[{\"type\":\"scattergl\",\"marker\":{\"colorbar\":{\"outlinewidth\":0,\"ticks\":\"\"}}}],\"scatter3d\":[{\"type\":\"scatter3d\",\"line\":{\"colorbar\":{\"outlinewidth\":0,\"ticks\":\"\"}},\"marker\":{\"colorbar\":{\"outlinewidth\":0,\"ticks\":\"\"}}}],\"scattermapbox\":[{\"type\":\"scattermapbox\",\"marker\":{\"colorbar\":{\"outlinewidth\":0,\"ticks\":\"\"}}}],\"scatterternary\":[{\"type\":\"scatterternary\",\"marker\":{\"colorbar\":{\"outlinewidth\":0,\"ticks\":\"\"}}}],\"scattercarpet\":[{\"type\":\"scattercarpet\",\"marker\":{\"colorbar\":{\"outlinewidth\":0,\"ticks\":\"\"}}}],\"carpet\":[{\"aaxis\":{\"endlinecolor\":\"#2a3f5f\",\"gridcolor\":\"white\",\"linecolor\":\"white\",\"minorgridcolor\":\"white\",\"startlinecolor\":\"#2a3f5f\"},\"baxis\":{\"endlinecolor\":\"#2a3f5f\",\"gridcolor\":\"white\",\"linecolor\":\"white\",\"minorgridcolor\":\"white\",\"startlinecolor\":\"#2a3f5f\"},\"type\":\"carpet\"}],\"table\":[{\"cells\":{\"fill\":{\"color\":\"#EBF0F8\"},\"line\":{\"color\":\"white\"}},\"header\":{\"fill\":{\"color\":\"#C8D4E3\"},\"line\":{\"color\":\"white\"}},\"type\":\"table\"}],\"barpolar\":[{\"marker\":{\"line\":{\"color\":\"#E5ECF6\",\"width\":0.5},\"pattern\":{\"fillmode\":\"overlay\",\"size\":10,\"solidity\":0.2}},\"type\":\"barpolar\"}],\"pie\":[{\"automargin\":true,\"type\":\"pie\"}]},\"layout\":{\"autotypenumbers\":\"strict\",\"colorway\":[\"#636efa\",\"#EF553B\",\"#00cc96\",\"#ab63fa\",\"#FFA15A\",\"#19d3f3\",\"#FF6692\",\"#B6E880\",\"#FF97FF\",\"#FECB52\"],\"font\":{\"color\":\"#2a3f5f\"},\"hovermode\":\"closest\",\"hoverlabel\":{\"align\":\"left\"},\"paper_bgcolor\":\"white\",\"plot_bgcolor\":\"#E5ECF6\",\"polar\":{\"bgcolor\":\"#E5ECF6\",\"angularaxis\":{\"gridcolor\":\"white\",\"linecolor\":\"white\",\"ticks\":\"\"},\"radialaxis\":{\"gridcolor\":\"white\",\"linecolor\":\"white\",\"ticks\":\"\"}},\"ternary\":{\"bgcolor\":\"#E5ECF6\",\"aaxis\":{\"gridcolor\":\"white\",\"linecolor\":\"white\",\"ticks\":\"\"},\"baxis\":{\"gridcolor\":\"white\",\"linecolor\":\"white\",\"ticks\":\"\"},\"caxis\":{\"gridcolor\":\"white\",\"linecolor\":\"white\",\"ticks\":\"\"}},\"coloraxis\":{\"colorbar\":{\"outlinewidth\":0,\"ticks\":\"\"}},\"colorscale\":{\"sequential\":[[0.0,\"#0d0887\"],[0.1111111111111111,\"#46039f\"],[0.2222222222222222,\"#7201a8\"],[0.3333333333333333,\"#9c179e\"],[0.4444444444444444,\"#bd3786\"],[0.5555555555555556,\"#d8576b\"],[0.6666666666666666,\"#ed7953\"],[0.7777777777777778,\"#fb9f3a\"],[0.8888888888888888,\"#fdca26\"],[1.0,\"#f0f921\"]],\"sequentialminus\":[[0.0,\"#0d0887\"],[0.1111111111111111,\"#46039f\"],[0.2222222222222222,\"#7201a8\"],[0.3333333333333333,\"#9c179e\"],[0.4444444444444444,\"#bd3786\"],[0.5555555555555556,\"#d8576b\"],[0.6666666666666666,\"#ed7953\"],[0.7777777777777778,\"#fb9f3a\"],[0.8888888888888888,\"#fdca26\"],[1.0,\"#f0f921\"]],\"diverging\":[[0,\"#8e0152\"],[0.1,\"#c51b7d\"],[0.2,\"#de77ae\"],[0.3,\"#f1b6da\"],[0.4,\"#fde0ef\"],[0.5,\"#f7f7f7\"],[0.6,\"#e6f5d0\"],[0.7,\"#b8e186\"],[0.8,\"#7fbc41\"],[0.9,\"#4d9221\"],[1,\"#276419\"]]},\"xaxis\":{\"gridcolor\":\"white\",\"linecolor\":\"white\",\"ticks\":\"\",\"title\":{\"standoff\":15},\"zerolinecolor\":\"white\",\"automargin\":true,\"zerolinewidth\":2},\"yaxis\":{\"gridcolor\":\"white\",\"linecolor\":\"white\",\"ticks\":\"\",\"title\":{\"standoff\":15},\"zerolinecolor\":\"white\",\"automargin\":true,\"zerolinewidth\":2},\"scene\":{\"xaxis\":{\"backgroundcolor\":\"#E5ECF6\",\"gridcolor\":\"white\",\"linecolor\":\"white\",\"showbackground\":true,\"ticks\":\"\",\"zerolinecolor\":\"white\",\"gridwidth\":2},\"yaxis\":{\"backgroundcolor\":\"#E5ECF6\",\"gridcolor\":\"white\",\"linecolor\":\"white\",\"showbackground\":true,\"ticks\":\"\",\"zerolinecolor\":\"white\",\"gridwidth\":2},\"zaxis\":{\"backgroundcolor\":\"#E5ECF6\",\"gridcolor\":\"white\",\"linecolor\":\"white\",\"showbackground\":true,\"ticks\":\"\",\"zerolinecolor\":\"white\",\"gridwidth\":2}},\"shapedefaults\":{\"line\":{\"color\":\"#2a3f5f\"}},\"annotationdefaults\":{\"arrowcolor\":\"#2a3f5f\",\"arrowhead\":0,\"arrowwidth\":1},\"geo\":{\"bgcolor\":\"white\",\"landcolor\":\"#E5ECF6\",\"subunitcolor\":\"white\",\"showland\":true,\"showlakes\":true,\"lakecolor\":\"white\"},\"title\":{\"x\":0.05},\"mapbox\":{\"style\":\"light\"}}},\"xaxis\":{\"anchor\":\"y\",\"domain\":[0.0,1.0],\"title\":{\"text\":\"count\"},\"range\":[0,2500]},\"yaxis\":{\"anchor\":\"x\",\"domain\":[0.0,1.0],\"title\":{\"text\":\"neighbourhood\"}},\"legend\":{\"tracegroupgap\":0},\"margin\":{\"t\":60},\"barmode\":\"relative\",\"font\":{\"size\":15,\"color\":\"#0f0f0f\",\"family\":\"Courier New, monospace\"},\"autosize\":false,\"height\":500,\"width\":1400},                        {\"responsive\": true}                    ).then(function(){\n",
       "                            \n",
       "var gd = document.getElementById('33b2ce10-7d4c-4400-8eaa-42eab1331915');\n",
       "var x = new MutationObserver(function (mutations, observer) {{\n",
       "        var display = window.getComputedStyle(gd).display;\n",
       "        if (!display || display === 'none') {{\n",
       "            console.log([gd, 'removed!']);\n",
       "            Plotly.purge(gd);\n",
       "            observer.disconnect();\n",
       "        }}\n",
       "}});\n",
       "\n",
       "// Listen for the removal of the full notebook cells\n",
       "var notebookContainer = gd.closest('#notebook-container');\n",
       "if (notebookContainer) {{\n",
       "    x.observe(notebookContainer, {childList: true});\n",
       "}}\n",
       "\n",
       "// Listen for the clearing of the current output cell\n",
       "var outputEl = gd.closest('.output');\n",
       "if (outputEl) {{\n",
       "    x.observe(outputEl, {childList: true});\n",
       "}}\n",
       "\n",
       "                        })                };                            </script>        </div>\n",
       "</body>\n",
       "</html>"
      ]
     },
     "metadata": {},
     "output_type": "display_data"
    }
   ],
   "source": [
    "d=df_train.groupby(['neighbourhood']).size().sort_values(ascending=False).reset_index(name='count')\n",
    "fig=px.bar(d,\n",
    "                           y='neighbourhood',\n",
    "                           x='count',\n",
    "                           #size='count',\n",
    "                           #color='name',\n",
    "                           range_x=[0,2500]\n",
    "                           )\n",
    "fig.update_layout(autosize=False,\n",
    "                  height=500,\n",
    "                  width=1400,\n",
    "                  font=dict(size=15,color=\"#0f0f0f\",family=\"Courier New, monospace\"),\n",
    "                 )\n",
    "fig.show()"
   ]
  },
  {
   "cell_type": "code",
   "execution_count": null,
   "metadata": {
    "colab": {
     "base_uri": "https://localhost:8080/"
    },
    "id": "2P_ZoZk-jdqQ",
    "outputId": "9e36ac30-c603-4b85-86ef-deb45f0b80ba"
   },
   "outputs": [
    {
     "data": {
      "text/plain": [
       "<bound method Series.unique of 0        Entire home/apt\n",
       "1        Entire home/apt\n",
       "2        Entire home/apt\n",
       "3        Entire home/apt\n",
       "4           Private room\n",
       "              ...       \n",
       "12896    Entire home/apt\n",
       "12897    Entire home/apt\n",
       "12898    Entire home/apt\n",
       "12899    Entire home/apt\n",
       "12900         Hotel room\n",
       "Name: room_type, Length: 12901, dtype: object>"
      ]
     },
     "execution_count": 20,
     "metadata": {},
     "output_type": "execute_result"
    }
   ],
   "source": [
    "df_train.room_type.unique"
   ]
  },
  {
   "cell_type": "code",
   "execution_count": null,
   "metadata": {
    "colab": {
     "base_uri": "https://localhost:8080/",
     "height": 517
    },
    "id": "-8fGbpAJjfk8",
    "outputId": "e300a262-2117-4880-df88-ffd6ad7d21ea"
   },
   "outputs": [
    {
     "data": {
      "text/html": [
       "<html>\n",
       "<head><meta charset=\"utf-8\" /></head>\n",
       "<body>\n",
       "    <div>            <script src=\"https://cdnjs.cloudflare.com/ajax/libs/mathjax/2.7.5/MathJax.js?config=TeX-AMS-MML_SVG\"></script><script type=\"text/javascript\">if (window.MathJax && window.MathJax.Hub && window.MathJax.Hub.Config) {window.MathJax.Hub.Config({SVG: {font: \"STIX-Web\"}});}</script>                <script type=\"text/javascript\">window.PlotlyConfig = {MathJaxConfig: 'local'};</script>\n",
       "        <script src=\"https://cdn.plot.ly/plotly-2.18.2.min.js\"></script>                <div id=\"95fe37f7-4547-4a91-a545-1155a54a65ba\" class=\"plotly-graph-div\" style=\"height:500px; width:1400px;\"></div>            <script type=\"text/javascript\">                                    window.PLOTLYENV=window.PLOTLYENV || {};                                    if (document.getElementById(\"95fe37f7-4547-4a91-a545-1155a54a65ba\")) {                    Plotly.newPlot(                        \"95fe37f7-4547-4a91-a545-1155a54a65ba\",                        [{\"alignmentgroup\":\"True\",\"hovertemplate\":\"count=%{x}<br>room_type=%{y}<extra></extra>\",\"legendgroup\":\"\",\"marker\":{\"color\":\"#636efa\",\"pattern\":{\"shape\":\"\"}},\"name\":\"\",\"offsetgroup\":\"\",\"orientation\":\"h\",\"showlegend\":false,\"textposition\":\"auto\",\"x\":[10064,2622,174,41],\"xaxis\":\"x\",\"y\":[\"Entire home/apt\",\"Private room\",\"Hotel room\",\"Shared room\"],\"yaxis\":\"y\",\"type\":\"bar\"}],                        {\"template\":{\"data\":{\"histogram2dcontour\":[{\"type\":\"histogram2dcontour\",\"colorbar\":{\"outlinewidth\":0,\"ticks\":\"\"},\"colorscale\":[[0.0,\"#0d0887\"],[0.1111111111111111,\"#46039f\"],[0.2222222222222222,\"#7201a8\"],[0.3333333333333333,\"#9c179e\"],[0.4444444444444444,\"#bd3786\"],[0.5555555555555556,\"#d8576b\"],[0.6666666666666666,\"#ed7953\"],[0.7777777777777778,\"#fb9f3a\"],[0.8888888888888888,\"#fdca26\"],[1.0,\"#f0f921\"]]}],\"choropleth\":[{\"type\":\"choropleth\",\"colorbar\":{\"outlinewidth\":0,\"ticks\":\"\"}}],\"histogram2d\":[{\"type\":\"histogram2d\",\"colorbar\":{\"outlinewidth\":0,\"ticks\":\"\"},\"colorscale\":[[0.0,\"#0d0887\"],[0.1111111111111111,\"#46039f\"],[0.2222222222222222,\"#7201a8\"],[0.3333333333333333,\"#9c179e\"],[0.4444444444444444,\"#bd3786\"],[0.5555555555555556,\"#d8576b\"],[0.6666666666666666,\"#ed7953\"],[0.7777777777777778,\"#fb9f3a\"],[0.8888888888888888,\"#fdca26\"],[1.0,\"#f0f921\"]]}],\"heatmap\":[{\"type\":\"heatmap\",\"colorbar\":{\"outlinewidth\":0,\"ticks\":\"\"},\"colorscale\":[[0.0,\"#0d0887\"],[0.1111111111111111,\"#46039f\"],[0.2222222222222222,\"#7201a8\"],[0.3333333333333333,\"#9c179e\"],[0.4444444444444444,\"#bd3786\"],[0.5555555555555556,\"#d8576b\"],[0.6666666666666666,\"#ed7953\"],[0.7777777777777778,\"#fb9f3a\"],[0.8888888888888888,\"#fdca26\"],[1.0,\"#f0f921\"]]}],\"heatmapgl\":[{\"type\":\"heatmapgl\",\"colorbar\":{\"outlinewidth\":0,\"ticks\":\"\"},\"colorscale\":[[0.0,\"#0d0887\"],[0.1111111111111111,\"#46039f\"],[0.2222222222222222,\"#7201a8\"],[0.3333333333333333,\"#9c179e\"],[0.4444444444444444,\"#bd3786\"],[0.5555555555555556,\"#d8576b\"],[0.6666666666666666,\"#ed7953\"],[0.7777777777777778,\"#fb9f3a\"],[0.8888888888888888,\"#fdca26\"],[1.0,\"#f0f921\"]]}],\"contourcarpet\":[{\"type\":\"contourcarpet\",\"colorbar\":{\"outlinewidth\":0,\"ticks\":\"\"}}],\"contour\":[{\"type\":\"contour\",\"colorbar\":{\"outlinewidth\":0,\"ticks\":\"\"},\"colorscale\":[[0.0,\"#0d0887\"],[0.1111111111111111,\"#46039f\"],[0.2222222222222222,\"#7201a8\"],[0.3333333333333333,\"#9c179e\"],[0.4444444444444444,\"#bd3786\"],[0.5555555555555556,\"#d8576b\"],[0.6666666666666666,\"#ed7953\"],[0.7777777777777778,\"#fb9f3a\"],[0.8888888888888888,\"#fdca26\"],[1.0,\"#f0f921\"]]}],\"surface\":[{\"type\":\"surface\",\"colorbar\":{\"outlinewidth\":0,\"ticks\":\"\"},\"colorscale\":[[0.0,\"#0d0887\"],[0.1111111111111111,\"#46039f\"],[0.2222222222222222,\"#7201a8\"],[0.3333333333333333,\"#9c179e\"],[0.4444444444444444,\"#bd3786\"],[0.5555555555555556,\"#d8576b\"],[0.6666666666666666,\"#ed7953\"],[0.7777777777777778,\"#fb9f3a\"],[0.8888888888888888,\"#fdca26\"],[1.0,\"#f0f921\"]]}],\"mesh3d\":[{\"type\":\"mesh3d\",\"colorbar\":{\"outlinewidth\":0,\"ticks\":\"\"}}],\"scatter\":[{\"fillpattern\":{\"fillmode\":\"overlay\",\"size\":10,\"solidity\":0.2},\"type\":\"scatter\"}],\"parcoords\":[{\"type\":\"parcoords\",\"line\":{\"colorbar\":{\"outlinewidth\":0,\"ticks\":\"\"}}}],\"scatterpolargl\":[{\"type\":\"scatterpolargl\",\"marker\":{\"colorbar\":{\"outlinewidth\":0,\"ticks\":\"\"}}}],\"bar\":[{\"error_x\":{\"color\":\"#2a3f5f\"},\"error_y\":{\"color\":\"#2a3f5f\"},\"marker\":{\"line\":{\"color\":\"#E5ECF6\",\"width\":0.5},\"pattern\":{\"fillmode\":\"overlay\",\"size\":10,\"solidity\":0.2}},\"type\":\"bar\"}],\"scattergeo\":[{\"type\":\"scattergeo\",\"marker\":{\"colorbar\":{\"outlinewidth\":0,\"ticks\":\"\"}}}],\"scatterpolar\":[{\"type\":\"scatterpolar\",\"marker\":{\"colorbar\":{\"outlinewidth\":0,\"ticks\":\"\"}}}],\"histogram\":[{\"marker\":{\"pattern\":{\"fillmode\":\"overlay\",\"size\":10,\"solidity\":0.2}},\"type\":\"histogram\"}],\"scattergl\":[{\"type\":\"scattergl\",\"marker\":{\"colorbar\":{\"outlinewidth\":0,\"ticks\":\"\"}}}],\"scatter3d\":[{\"type\":\"scatter3d\",\"line\":{\"colorbar\":{\"outlinewidth\":0,\"ticks\":\"\"}},\"marker\":{\"colorbar\":{\"outlinewidth\":0,\"ticks\":\"\"}}}],\"scattermapbox\":[{\"type\":\"scattermapbox\",\"marker\":{\"colorbar\":{\"outlinewidth\":0,\"ticks\":\"\"}}}],\"scatterternary\":[{\"type\":\"scatterternary\",\"marker\":{\"colorbar\":{\"outlinewidth\":0,\"ticks\":\"\"}}}],\"scattercarpet\":[{\"type\":\"scattercarpet\",\"marker\":{\"colorbar\":{\"outlinewidth\":0,\"ticks\":\"\"}}}],\"carpet\":[{\"aaxis\":{\"endlinecolor\":\"#2a3f5f\",\"gridcolor\":\"white\",\"linecolor\":\"white\",\"minorgridcolor\":\"white\",\"startlinecolor\":\"#2a3f5f\"},\"baxis\":{\"endlinecolor\":\"#2a3f5f\",\"gridcolor\":\"white\",\"linecolor\":\"white\",\"minorgridcolor\":\"white\",\"startlinecolor\":\"#2a3f5f\"},\"type\":\"carpet\"}],\"table\":[{\"cells\":{\"fill\":{\"color\":\"#EBF0F8\"},\"line\":{\"color\":\"white\"}},\"header\":{\"fill\":{\"color\":\"#C8D4E3\"},\"line\":{\"color\":\"white\"}},\"type\":\"table\"}],\"barpolar\":[{\"marker\":{\"line\":{\"color\":\"#E5ECF6\",\"width\":0.5},\"pattern\":{\"fillmode\":\"overlay\",\"size\":10,\"solidity\":0.2}},\"type\":\"barpolar\"}],\"pie\":[{\"automargin\":true,\"type\":\"pie\"}]},\"layout\":{\"autotypenumbers\":\"strict\",\"colorway\":[\"#636efa\",\"#EF553B\",\"#00cc96\",\"#ab63fa\",\"#FFA15A\",\"#19d3f3\",\"#FF6692\",\"#B6E880\",\"#FF97FF\",\"#FECB52\"],\"font\":{\"color\":\"#2a3f5f\"},\"hovermode\":\"closest\",\"hoverlabel\":{\"align\":\"left\"},\"paper_bgcolor\":\"white\",\"plot_bgcolor\":\"#E5ECF6\",\"polar\":{\"bgcolor\":\"#E5ECF6\",\"angularaxis\":{\"gridcolor\":\"white\",\"linecolor\":\"white\",\"ticks\":\"\"},\"radialaxis\":{\"gridcolor\":\"white\",\"linecolor\":\"white\",\"ticks\":\"\"}},\"ternary\":{\"bgcolor\":\"#E5ECF6\",\"aaxis\":{\"gridcolor\":\"white\",\"linecolor\":\"white\",\"ticks\":\"\"},\"baxis\":{\"gridcolor\":\"white\",\"linecolor\":\"white\",\"ticks\":\"\"},\"caxis\":{\"gridcolor\":\"white\",\"linecolor\":\"white\",\"ticks\":\"\"}},\"coloraxis\":{\"colorbar\":{\"outlinewidth\":0,\"ticks\":\"\"}},\"colorscale\":{\"sequential\":[[0.0,\"#0d0887\"],[0.1111111111111111,\"#46039f\"],[0.2222222222222222,\"#7201a8\"],[0.3333333333333333,\"#9c179e\"],[0.4444444444444444,\"#bd3786\"],[0.5555555555555556,\"#d8576b\"],[0.6666666666666666,\"#ed7953\"],[0.7777777777777778,\"#fb9f3a\"],[0.8888888888888888,\"#fdca26\"],[1.0,\"#f0f921\"]],\"sequentialminus\":[[0.0,\"#0d0887\"],[0.1111111111111111,\"#46039f\"],[0.2222222222222222,\"#7201a8\"],[0.3333333333333333,\"#9c179e\"],[0.4444444444444444,\"#bd3786\"],[0.5555555555555556,\"#d8576b\"],[0.6666666666666666,\"#ed7953\"],[0.7777777777777778,\"#fb9f3a\"],[0.8888888888888888,\"#fdca26\"],[1.0,\"#f0f921\"]],\"diverging\":[[0,\"#8e0152\"],[0.1,\"#c51b7d\"],[0.2,\"#de77ae\"],[0.3,\"#f1b6da\"],[0.4,\"#fde0ef\"],[0.5,\"#f7f7f7\"],[0.6,\"#e6f5d0\"],[0.7,\"#b8e186\"],[0.8,\"#7fbc41\"],[0.9,\"#4d9221\"],[1,\"#276419\"]]},\"xaxis\":{\"gridcolor\":\"white\",\"linecolor\":\"white\",\"ticks\":\"\",\"title\":{\"standoff\":15},\"zerolinecolor\":\"white\",\"automargin\":true,\"zerolinewidth\":2},\"yaxis\":{\"gridcolor\":\"white\",\"linecolor\":\"white\",\"ticks\":\"\",\"title\":{\"standoff\":15},\"zerolinecolor\":\"white\",\"automargin\":true,\"zerolinewidth\":2},\"scene\":{\"xaxis\":{\"backgroundcolor\":\"#E5ECF6\",\"gridcolor\":\"white\",\"linecolor\":\"white\",\"showbackground\":true,\"ticks\":\"\",\"zerolinecolor\":\"white\",\"gridwidth\":2},\"yaxis\":{\"backgroundcolor\":\"#E5ECF6\",\"gridcolor\":\"white\",\"linecolor\":\"white\",\"showbackground\":true,\"ticks\":\"\",\"zerolinecolor\":\"white\",\"gridwidth\":2},\"zaxis\":{\"backgroundcolor\":\"#E5ECF6\",\"gridcolor\":\"white\",\"linecolor\":\"white\",\"showbackground\":true,\"ticks\":\"\",\"zerolinecolor\":\"white\",\"gridwidth\":2}},\"shapedefaults\":{\"line\":{\"color\":\"#2a3f5f\"}},\"annotationdefaults\":{\"arrowcolor\":\"#2a3f5f\",\"arrowhead\":0,\"arrowwidth\":1},\"geo\":{\"bgcolor\":\"white\",\"landcolor\":\"#E5ECF6\",\"subunitcolor\":\"white\",\"showland\":true,\"showlakes\":true,\"lakecolor\":\"white\"},\"title\":{\"x\":0.05},\"mapbox\":{\"style\":\"light\"}}},\"xaxis\":{\"anchor\":\"y\",\"domain\":[0.0,1.0],\"title\":{\"text\":\"count\"}},\"yaxis\":{\"anchor\":\"x\",\"domain\":[0.0,1.0],\"title\":{\"text\":\"room_type\"}},\"legend\":{\"tracegroupgap\":0},\"margin\":{\"t\":60},\"barmode\":\"relative\",\"font\":{\"size\":15,\"color\":\"#0f0f0f\",\"family\":\"Courier New, monospace\"},\"autosize\":false,\"height\":500,\"width\":1400},                        {\"responsive\": true}                    ).then(function(){\n",
       "                            \n",
       "var gd = document.getElementById('95fe37f7-4547-4a91-a545-1155a54a65ba');\n",
       "var x = new MutationObserver(function (mutations, observer) {{\n",
       "        var display = window.getComputedStyle(gd).display;\n",
       "        if (!display || display === 'none') {{\n",
       "            console.log([gd, 'removed!']);\n",
       "            Plotly.purge(gd);\n",
       "            observer.disconnect();\n",
       "        }}\n",
       "}});\n",
       "\n",
       "// Listen for the removal of the full notebook cells\n",
       "var notebookContainer = gd.closest('#notebook-container');\n",
       "if (notebookContainer) {{\n",
       "    x.observe(notebookContainer, {childList: true});\n",
       "}}\n",
       "\n",
       "// Listen for the clearing of the current output cell\n",
       "var outputEl = gd.closest('.output');\n",
       "if (outputEl) {{\n",
       "    x.observe(outputEl, {childList: true});\n",
       "}}\n",
       "\n",
       "                        })                };                            </script>        </div>\n",
       "</body>\n",
       "</html>"
      ]
     },
     "metadata": {},
     "output_type": "display_data"
    }
   ],
   "source": [
    "d=df_train.groupby(['room_type']).size().sort_values(ascending=False).reset_index(name='count')\n",
    "fig=px.bar(d,\n",
    "                           y='room_type',\n",
    "                           x='count',\n",
    "                           #size='count',\n",
    "                           #color='name',\n",
    "                           #range_y=[0,5]\n",
    "                           )\n",
    "fig.update_layout(autosize=False,\n",
    "                  height=500,\n",
    "                  width=1400,\n",
    "                  font=dict(size=15,color=\"#0f0f0f\",family=\"Courier New, monospace\"),\n",
    "                 )\n",
    "fig.show()"
   ]
  },
  {
   "cell_type": "code",
   "execution_count": null,
   "metadata": {
    "colab": {
     "base_uri": "https://localhost:8080/"
    },
    "id": "6DiJ899bjhuF",
    "outputId": "d5d39975-726d-469b-da7d-77480eb9a5bc"
   },
   "outputs": [
    {
     "data": {
      "text/plain": [
       "count    12901.000000\n",
       "mean         3.542516\n",
       "std         15.154077\n",
       "min          1.000000\n",
       "25%          2.000000\n",
       "50%          2.000000\n",
       "75%          3.000000\n",
       "max       1001.000000\n",
       "Name: minimum_nights, dtype: float64"
      ]
     },
     "execution_count": 22,
     "metadata": {},
     "output_type": "execute_result"
    }
   ],
   "source": [
    "df_train.minimum_nights.describe()"
   ]
  },
  {
   "cell_type": "code",
   "execution_count": null,
   "metadata": {
    "colab": {
     "base_uri": "https://localhost:8080/",
     "height": 517
    },
    "id": "HI1SGdoJjl4g",
    "outputId": "f29bec63-adc5-4b4c-fe84-b453d5727683"
   },
   "outputs": [
    {
     "data": {
      "text/html": [
       "<html>\n",
       "<head><meta charset=\"utf-8\" /></head>\n",
       "<body>\n",
       "    <div>            <script src=\"https://cdnjs.cloudflare.com/ajax/libs/mathjax/2.7.5/MathJax.js?config=TeX-AMS-MML_SVG\"></script><script type=\"text/javascript\">if (window.MathJax && window.MathJax.Hub && window.MathJax.Hub.Config) {window.MathJax.Hub.Config({SVG: {font: \"STIX-Web\"}});}</script>                <script type=\"text/javascript\">window.PlotlyConfig = {MathJaxConfig: 'local'};</script>\n",
       "        <script src=\"https://cdn.plot.ly/plotly-2.18.2.min.js\"></script>                <div id=\"8f11142c-0b28-49de-a03f-4e907cd14d46\" class=\"plotly-graph-div\" style=\"height:500px; width:1400px;\"></div>            <script type=\"text/javascript\">                                    window.PLOTLYENV=window.PLOTLYENV || {};                                    if (document.getElementById(\"8f11142c-0b28-49de-a03f-4e907cd14d46\")) {                    Plotly.newPlot(                        \"8f11142c-0b28-49de-a03f-4e907cd14d46\",                        [{\"hovertemplate\":\"minimum_nights=%{marker.color}<br>count=%{y}<extra></extra>\",\"legendgroup\":\"\",\"marker\":{\"color\":[2,3,1,4,5,7,6,14,10,30,20,21,8,9,60,12,15,28,25,90,11,13,23,18,180,59,50,45,120,150,365,42,16,26,40,19,999,300,240,222,200,186,181,17,22,38,100,99,95,24,89,70,27,31,37,1001],\"coloraxis\":\"coloraxis\",\"size\":[2,3,1,4,5,7,6,14,10,30,20,21,8,9,60,12,15,28,25,90,11,13,23,18,180,59,50,45,120,150,365,42,16,26,40,19,999,300,240,222,200,186,181,17,22,38,100,99,95,24,89,70,27,31,37,1001],\"sizemode\":\"area\",\"sizeref\":2.5025,\"symbol\":\"circle\"},\"mode\":\"markers\",\"name\":\"\",\"orientation\":\"v\",\"showlegend\":false,\"x\":[2,3,1,4,5,7,6,14,10,30,20,21,8,9,60,12,15,28,25,90,11,13,23,18,180,59,50,45,120,150,365,42,16,26,40,19,999,300,240,222,200,186,181,17,22,38,100,99,95,24,89,70,27,31,37,1001],\"xaxis\":\"x\",\"y\":[4968,3191,2138,1051,641,374,156,71,61,53,29,24,23,13,13,8,8,7,7,5,4,4,3,3,3,3,3,3,2,2,2,2,2,2,1,1,1,1,1,1,1,1,1,1,1,1,1,1,1,1,1,1,1,1,1,1],\"yaxis\":\"y\",\"type\":\"scatter\"}],                        {\"template\":{\"data\":{\"histogram2dcontour\":[{\"type\":\"histogram2dcontour\",\"colorbar\":{\"outlinewidth\":0,\"ticks\":\"\"},\"colorscale\":[[0.0,\"#0d0887\"],[0.1111111111111111,\"#46039f\"],[0.2222222222222222,\"#7201a8\"],[0.3333333333333333,\"#9c179e\"],[0.4444444444444444,\"#bd3786\"],[0.5555555555555556,\"#d8576b\"],[0.6666666666666666,\"#ed7953\"],[0.7777777777777778,\"#fb9f3a\"],[0.8888888888888888,\"#fdca26\"],[1.0,\"#f0f921\"]]}],\"choropleth\":[{\"type\":\"choropleth\",\"colorbar\":{\"outlinewidth\":0,\"ticks\":\"\"}}],\"histogram2d\":[{\"type\":\"histogram2d\",\"colorbar\":{\"outlinewidth\":0,\"ticks\":\"\"},\"colorscale\":[[0.0,\"#0d0887\"],[0.1111111111111111,\"#46039f\"],[0.2222222222222222,\"#7201a8\"],[0.3333333333333333,\"#9c179e\"],[0.4444444444444444,\"#bd3786\"],[0.5555555555555556,\"#d8576b\"],[0.6666666666666666,\"#ed7953\"],[0.7777777777777778,\"#fb9f3a\"],[0.8888888888888888,\"#fdca26\"],[1.0,\"#f0f921\"]]}],\"heatmap\":[{\"type\":\"heatmap\",\"colorbar\":{\"outlinewidth\":0,\"ticks\":\"\"},\"colorscale\":[[0.0,\"#0d0887\"],[0.1111111111111111,\"#46039f\"],[0.2222222222222222,\"#7201a8\"],[0.3333333333333333,\"#9c179e\"],[0.4444444444444444,\"#bd3786\"],[0.5555555555555556,\"#d8576b\"],[0.6666666666666666,\"#ed7953\"],[0.7777777777777778,\"#fb9f3a\"],[0.8888888888888888,\"#fdca26\"],[1.0,\"#f0f921\"]]}],\"heatmapgl\":[{\"type\":\"heatmapgl\",\"colorbar\":{\"outlinewidth\":0,\"ticks\":\"\"},\"colorscale\":[[0.0,\"#0d0887\"],[0.1111111111111111,\"#46039f\"],[0.2222222222222222,\"#7201a8\"],[0.3333333333333333,\"#9c179e\"],[0.4444444444444444,\"#bd3786\"],[0.5555555555555556,\"#d8576b\"],[0.6666666666666666,\"#ed7953\"],[0.7777777777777778,\"#fb9f3a\"],[0.8888888888888888,\"#fdca26\"],[1.0,\"#f0f921\"]]}],\"contourcarpet\":[{\"type\":\"contourcarpet\",\"colorbar\":{\"outlinewidth\":0,\"ticks\":\"\"}}],\"contour\":[{\"type\":\"contour\",\"colorbar\":{\"outlinewidth\":0,\"ticks\":\"\"},\"colorscale\":[[0.0,\"#0d0887\"],[0.1111111111111111,\"#46039f\"],[0.2222222222222222,\"#7201a8\"],[0.3333333333333333,\"#9c179e\"],[0.4444444444444444,\"#bd3786\"],[0.5555555555555556,\"#d8576b\"],[0.6666666666666666,\"#ed7953\"],[0.7777777777777778,\"#fb9f3a\"],[0.8888888888888888,\"#fdca26\"],[1.0,\"#f0f921\"]]}],\"surface\":[{\"type\":\"surface\",\"colorbar\":{\"outlinewidth\":0,\"ticks\":\"\"},\"colorscale\":[[0.0,\"#0d0887\"],[0.1111111111111111,\"#46039f\"],[0.2222222222222222,\"#7201a8\"],[0.3333333333333333,\"#9c179e\"],[0.4444444444444444,\"#bd3786\"],[0.5555555555555556,\"#d8576b\"],[0.6666666666666666,\"#ed7953\"],[0.7777777777777778,\"#fb9f3a\"],[0.8888888888888888,\"#fdca26\"],[1.0,\"#f0f921\"]]}],\"mesh3d\":[{\"type\":\"mesh3d\",\"colorbar\":{\"outlinewidth\":0,\"ticks\":\"\"}}],\"scatter\":[{\"fillpattern\":{\"fillmode\":\"overlay\",\"size\":10,\"solidity\":0.2},\"type\":\"scatter\"}],\"parcoords\":[{\"type\":\"parcoords\",\"line\":{\"colorbar\":{\"outlinewidth\":0,\"ticks\":\"\"}}}],\"scatterpolargl\":[{\"type\":\"scatterpolargl\",\"marker\":{\"colorbar\":{\"outlinewidth\":0,\"ticks\":\"\"}}}],\"bar\":[{\"error_x\":{\"color\":\"#2a3f5f\"},\"error_y\":{\"color\":\"#2a3f5f\"},\"marker\":{\"line\":{\"color\":\"#E5ECF6\",\"width\":0.5},\"pattern\":{\"fillmode\":\"overlay\",\"size\":10,\"solidity\":0.2}},\"type\":\"bar\"}],\"scattergeo\":[{\"type\":\"scattergeo\",\"marker\":{\"colorbar\":{\"outlinewidth\":0,\"ticks\":\"\"}}}],\"scatterpolar\":[{\"type\":\"scatterpolar\",\"marker\":{\"colorbar\":{\"outlinewidth\":0,\"ticks\":\"\"}}}],\"histogram\":[{\"marker\":{\"pattern\":{\"fillmode\":\"overlay\",\"size\":10,\"solidity\":0.2}},\"type\":\"histogram\"}],\"scattergl\":[{\"type\":\"scattergl\",\"marker\":{\"colorbar\":{\"outlinewidth\":0,\"ticks\":\"\"}}}],\"scatter3d\":[{\"type\":\"scatter3d\",\"line\":{\"colorbar\":{\"outlinewidth\":0,\"ticks\":\"\"}},\"marker\":{\"colorbar\":{\"outlinewidth\":0,\"ticks\":\"\"}}}],\"scattermapbox\":[{\"type\":\"scattermapbox\",\"marker\":{\"colorbar\":{\"outlinewidth\":0,\"ticks\":\"\"}}}],\"scatterternary\":[{\"type\":\"scatterternary\",\"marker\":{\"colorbar\":{\"outlinewidth\":0,\"ticks\":\"\"}}}],\"scattercarpet\":[{\"type\":\"scattercarpet\",\"marker\":{\"colorbar\":{\"outlinewidth\":0,\"ticks\":\"\"}}}],\"carpet\":[{\"aaxis\":{\"endlinecolor\":\"#2a3f5f\",\"gridcolor\":\"white\",\"linecolor\":\"white\",\"minorgridcolor\":\"white\",\"startlinecolor\":\"#2a3f5f\"},\"baxis\":{\"endlinecolor\":\"#2a3f5f\",\"gridcolor\":\"white\",\"linecolor\":\"white\",\"minorgridcolor\":\"white\",\"startlinecolor\":\"#2a3f5f\"},\"type\":\"carpet\"}],\"table\":[{\"cells\":{\"fill\":{\"color\":\"#EBF0F8\"},\"line\":{\"color\":\"white\"}},\"header\":{\"fill\":{\"color\":\"#C8D4E3\"},\"line\":{\"color\":\"white\"}},\"type\":\"table\"}],\"barpolar\":[{\"marker\":{\"line\":{\"color\":\"#E5ECF6\",\"width\":0.5},\"pattern\":{\"fillmode\":\"overlay\",\"size\":10,\"solidity\":0.2}},\"type\":\"barpolar\"}],\"pie\":[{\"automargin\":true,\"type\":\"pie\"}]},\"layout\":{\"autotypenumbers\":\"strict\",\"colorway\":[\"#636efa\",\"#EF553B\",\"#00cc96\",\"#ab63fa\",\"#FFA15A\",\"#19d3f3\",\"#FF6692\",\"#B6E880\",\"#FF97FF\",\"#FECB52\"],\"font\":{\"color\":\"#2a3f5f\"},\"hovermode\":\"closest\",\"hoverlabel\":{\"align\":\"left\"},\"paper_bgcolor\":\"white\",\"plot_bgcolor\":\"#E5ECF6\",\"polar\":{\"bgcolor\":\"#E5ECF6\",\"angularaxis\":{\"gridcolor\":\"white\",\"linecolor\":\"white\",\"ticks\":\"\"},\"radialaxis\":{\"gridcolor\":\"white\",\"linecolor\":\"white\",\"ticks\":\"\"}},\"ternary\":{\"bgcolor\":\"#E5ECF6\",\"aaxis\":{\"gridcolor\":\"white\",\"linecolor\":\"white\",\"ticks\":\"\"},\"baxis\":{\"gridcolor\":\"white\",\"linecolor\":\"white\",\"ticks\":\"\"},\"caxis\":{\"gridcolor\":\"white\",\"linecolor\":\"white\",\"ticks\":\"\"}},\"coloraxis\":{\"colorbar\":{\"outlinewidth\":0,\"ticks\":\"\"}},\"colorscale\":{\"sequential\":[[0.0,\"#0d0887\"],[0.1111111111111111,\"#46039f\"],[0.2222222222222222,\"#7201a8\"],[0.3333333333333333,\"#9c179e\"],[0.4444444444444444,\"#bd3786\"],[0.5555555555555556,\"#d8576b\"],[0.6666666666666666,\"#ed7953\"],[0.7777777777777778,\"#fb9f3a\"],[0.8888888888888888,\"#fdca26\"],[1.0,\"#f0f921\"]],\"sequentialminus\":[[0.0,\"#0d0887\"],[0.1111111111111111,\"#46039f\"],[0.2222222222222222,\"#7201a8\"],[0.3333333333333333,\"#9c179e\"],[0.4444444444444444,\"#bd3786\"],[0.5555555555555556,\"#d8576b\"],[0.6666666666666666,\"#ed7953\"],[0.7777777777777778,\"#fb9f3a\"],[0.8888888888888888,\"#fdca26\"],[1.0,\"#f0f921\"]],\"diverging\":[[0,\"#8e0152\"],[0.1,\"#c51b7d\"],[0.2,\"#de77ae\"],[0.3,\"#f1b6da\"],[0.4,\"#fde0ef\"],[0.5,\"#f7f7f7\"],[0.6,\"#e6f5d0\"],[0.7,\"#b8e186\"],[0.8,\"#7fbc41\"],[0.9,\"#4d9221\"],[1,\"#276419\"]]},\"xaxis\":{\"gridcolor\":\"white\",\"linecolor\":\"white\",\"ticks\":\"\",\"title\":{\"standoff\":15},\"zerolinecolor\":\"white\",\"automargin\":true,\"zerolinewidth\":2},\"yaxis\":{\"gridcolor\":\"white\",\"linecolor\":\"white\",\"ticks\":\"\",\"title\":{\"standoff\":15},\"zerolinecolor\":\"white\",\"automargin\":true,\"zerolinewidth\":2},\"scene\":{\"xaxis\":{\"backgroundcolor\":\"#E5ECF6\",\"gridcolor\":\"white\",\"linecolor\":\"white\",\"showbackground\":true,\"ticks\":\"\",\"zerolinecolor\":\"white\",\"gridwidth\":2},\"yaxis\":{\"backgroundcolor\":\"#E5ECF6\",\"gridcolor\":\"white\",\"linecolor\":\"white\",\"showbackground\":true,\"ticks\":\"\",\"zerolinecolor\":\"white\",\"gridwidth\":2},\"zaxis\":{\"backgroundcolor\":\"#E5ECF6\",\"gridcolor\":\"white\",\"linecolor\":\"white\",\"showbackground\":true,\"ticks\":\"\",\"zerolinecolor\":\"white\",\"gridwidth\":2}},\"shapedefaults\":{\"line\":{\"color\":\"#2a3f5f\"}},\"annotationdefaults\":{\"arrowcolor\":\"#2a3f5f\",\"arrowhead\":0,\"arrowwidth\":1},\"geo\":{\"bgcolor\":\"white\",\"landcolor\":\"#E5ECF6\",\"subunitcolor\":\"white\",\"showland\":true,\"showlakes\":true,\"lakecolor\":\"white\"},\"title\":{\"x\":0.05},\"mapbox\":{\"style\":\"light\"}}},\"xaxis\":{\"anchor\":\"y\",\"domain\":[0.0,1.0],\"title\":{\"text\":\"minimum_nights\"},\"range\":[0,1005]},\"yaxis\":{\"anchor\":\"x\",\"domain\":[0.0,1.0],\"title\":{\"text\":\"count\"},\"range\":[0,80]},\"coloraxis\":{\"colorbar\":{\"title\":{\"text\":\"minimum_nights\"}},\"colorscale\":[[0.0,\"#0d0887\"],[0.1111111111111111,\"#46039f\"],[0.2222222222222222,\"#7201a8\"],[0.3333333333333333,\"#9c179e\"],[0.4444444444444444,\"#bd3786\"],[0.5555555555555556,\"#d8576b\"],[0.6666666666666666,\"#ed7953\"],[0.7777777777777778,\"#fb9f3a\"],[0.8888888888888888,\"#fdca26\"],[1.0,\"#f0f921\"]]},\"legend\":{\"tracegroupgap\":0,\"itemsizing\":\"constant\"},\"margin\":{\"t\":60},\"font\":{\"size\":15,\"color\":\"#0f0f0f\",\"family\":\"Courier New, monospace\"},\"autosize\":false,\"height\":500,\"width\":1400},                        {\"responsive\": true}                    ).then(function(){\n",
       "                            \n",
       "var gd = document.getElementById('8f11142c-0b28-49de-a03f-4e907cd14d46');\n",
       "var x = new MutationObserver(function (mutations, observer) {{\n",
       "        var display = window.getComputedStyle(gd).display;\n",
       "        if (!display || display === 'none') {{\n",
       "            console.log([gd, 'removed!']);\n",
       "            Plotly.purge(gd);\n",
       "            observer.disconnect();\n",
       "        }}\n",
       "}});\n",
       "\n",
       "// Listen for the removal of the full notebook cells\n",
       "var notebookContainer = gd.closest('#notebook-container');\n",
       "if (notebookContainer) {{\n",
       "    x.observe(notebookContainer, {childList: true});\n",
       "}}\n",
       "\n",
       "// Listen for the clearing of the current output cell\n",
       "var outputEl = gd.closest('.output');\n",
       "if (outputEl) {{\n",
       "    x.observe(outputEl, {childList: true});\n",
       "}}\n",
       "\n",
       "                        })                };                            </script>        </div>\n",
       "</body>\n",
       "</html>"
      ]
     },
     "metadata": {},
     "output_type": "display_data"
    }
   ],
   "source": [
    "d=df_train.groupby(['minimum_nights']).size().sort_values(ascending=False).reset_index(name='count').head(100)\n",
    "fig=px.scatter(d,\n",
    "                           x='minimum_nights',\n",
    "                           y='count',\n",
    "                           size='minimum_nights',\n",
    "                           color='minimum_nights',\n",
    "                           range_x=[0,1005],\n",
    "                           range_y=[0,80]\n",
    "                           )\n",
    "fig.update_layout(autosize=False,\n",
    "                  height=500,\n",
    "                  width=1400,\n",
    "                  font=dict(size=15,color=\"#0f0f0f\",family=\"Courier New, monospace\"),\n",
    "                 )\n",
    "fig.show()"
   ]
  },
  {
   "cell_type": "code",
   "execution_count": null,
   "metadata": {
    "colab": {
     "base_uri": "https://localhost:8080/"
    },
    "id": "M3MinjxCjn-Q",
    "outputId": "54a80e70-9e8e-491d-91fb-39cd71dd22b8"
   },
   "outputs": [
    {
     "data": {
      "text/plain": [
       "count    12901.000000\n",
       "mean        24.803194\n",
       "std         53.406134\n",
       "min          0.000000\n",
       "25%          2.000000\n",
       "50%          9.000000\n",
       "75%         24.000000\n",
       "max        843.000000\n",
       "Name: number_of_reviews, dtype: float64"
      ]
     },
     "execution_count": 24,
     "metadata": {},
     "output_type": "execute_result"
    }
   ],
   "source": [
    "df_train.number_of_reviews.describe()"
   ]
  },
  {
   "cell_type": "code",
   "execution_count": null,
   "metadata": {
    "colab": {
     "base_uri": "https://localhost:8080/",
     "height": 423
    },
    "id": "GN8bgQPjjqMh",
    "outputId": "1c47ace6-50c5-493d-bb1f-469e346c7b88"
   },
   "outputs": [
    {
     "data": {
      "text/html": [
       "\n",
       "\n",
       "  <div id=\"df-5411c1d1-2467-4d95-9dd7-eb96e3f81b3a\">\n",
       "    <div class=\"colab-df-container\">\n",
       "      <div>\n",
       "<style scoped>\n",
       "    .dataframe tbody tr th:only-of-type {\n",
       "        vertical-align: middle;\n",
       "    }\n",
       "\n",
       "    .dataframe tbody tr th {\n",
       "        vertical-align: top;\n",
       "    }\n",
       "\n",
       "    .dataframe thead th {\n",
       "        text-align: right;\n",
       "    }\n",
       "</style>\n",
       "<table border=\"1\" class=\"dataframe\">\n",
       "  <thead>\n",
       "    <tr style=\"text-align: right;\">\n",
       "      <th></th>\n",
       "      <th>number_of_reviews</th>\n",
       "      <th>count</th>\n",
       "    </tr>\n",
       "  </thead>\n",
       "  <tbody>\n",
       "    <tr>\n",
       "      <th>0</th>\n",
       "      <td>0</td>\n",
       "      <td>1596</td>\n",
       "    </tr>\n",
       "    <tr>\n",
       "      <th>1</th>\n",
       "      <td>1</td>\n",
       "      <td>928</td>\n",
       "    </tr>\n",
       "    <tr>\n",
       "      <th>2</th>\n",
       "      <td>2</td>\n",
       "      <td>761</td>\n",
       "    </tr>\n",
       "    <tr>\n",
       "      <th>3</th>\n",
       "      <td>3</td>\n",
       "      <td>661</td>\n",
       "    </tr>\n",
       "    <tr>\n",
       "      <th>4</th>\n",
       "      <td>4</td>\n",
       "      <td>590</td>\n",
       "    </tr>\n",
       "    <tr>\n",
       "      <th>...</th>\n",
       "      <td>...</td>\n",
       "      <td>...</td>\n",
       "    </tr>\n",
       "    <tr>\n",
       "      <th>357</th>\n",
       "      <td>116</td>\n",
       "      <td>1</td>\n",
       "    </tr>\n",
       "    <tr>\n",
       "      <th>358</th>\n",
       "      <td>312</td>\n",
       "      <td>1</td>\n",
       "    </tr>\n",
       "    <tr>\n",
       "      <th>359</th>\n",
       "      <td>311</td>\n",
       "      <td>1</td>\n",
       "    </tr>\n",
       "    <tr>\n",
       "      <th>360</th>\n",
       "      <td>306</td>\n",
       "      <td>1</td>\n",
       "    </tr>\n",
       "    <tr>\n",
       "      <th>361</th>\n",
       "      <td>843</td>\n",
       "      <td>1</td>\n",
       "    </tr>\n",
       "  </tbody>\n",
       "</table>\n",
       "<p>362 rows × 2 columns</p>\n",
       "</div>\n",
       "      <button class=\"colab-df-convert\" onclick=\"convertToInteractive('df-5411c1d1-2467-4d95-9dd7-eb96e3f81b3a')\"\n",
       "              title=\"Convert this dataframe to an interactive table.\"\n",
       "              style=\"display:none;\">\n",
       "\n",
       "  <svg xmlns=\"http://www.w3.org/2000/svg\" height=\"24px\"viewBox=\"0 0 24 24\"\n",
       "       width=\"24px\">\n",
       "    <path d=\"M0 0h24v24H0V0z\" fill=\"none\"/>\n",
       "    <path d=\"M18.56 5.44l.94 2.06.94-2.06 2.06-.94-2.06-.94-.94-2.06-.94 2.06-2.06.94zm-11 1L8.5 8.5l.94-2.06 2.06-.94-2.06-.94L8.5 2.5l-.94 2.06-2.06.94zm10 10l.94 2.06.94-2.06 2.06-.94-2.06-.94-.94-2.06-.94 2.06-2.06.94z\"/><path d=\"M17.41 7.96l-1.37-1.37c-.4-.4-.92-.59-1.43-.59-.52 0-1.04.2-1.43.59L10.3 9.45l-7.72 7.72c-.78.78-.78 2.05 0 2.83L4 21.41c.39.39.9.59 1.41.59.51 0 1.02-.2 1.41-.59l7.78-7.78 2.81-2.81c.8-.78.8-2.07 0-2.86zM5.41 20L4 18.59l7.72-7.72 1.47 1.35L5.41 20z\"/>\n",
       "  </svg>\n",
       "      </button>\n",
       "\n",
       "\n",
       "\n",
       "    <div id=\"df-35347000-577d-4693-b595-296cfd57d296\">\n",
       "      <button class=\"colab-df-quickchart\" onclick=\"quickchart('df-35347000-577d-4693-b595-296cfd57d296')\"\n",
       "              title=\"Suggest charts.\"\n",
       "              style=\"display:none;\">\n",
       "\n",
       "<svg xmlns=\"http://www.w3.org/2000/svg\" height=\"24px\"viewBox=\"0 0 24 24\"\n",
       "     width=\"24px\">\n",
       "    <g>\n",
       "        <path d=\"M19 3H5c-1.1 0-2 .9-2 2v14c0 1.1.9 2 2 2h14c1.1 0 2-.9 2-2V5c0-1.1-.9-2-2-2zM9 17H7v-7h2v7zm4 0h-2V7h2v10zm4 0h-2v-4h2v4z\"/>\n",
       "    </g>\n",
       "</svg>\n",
       "      </button>\n",
       "    </div>\n",
       "\n",
       "<style>\n",
       "  .colab-df-quickchart {\n",
       "    background-color: #E8F0FE;\n",
       "    border: none;\n",
       "    border-radius: 50%;\n",
       "    cursor: pointer;\n",
       "    display: none;\n",
       "    fill: #1967D2;\n",
       "    height: 32px;\n",
       "    padding: 0 0 0 0;\n",
       "    width: 32px;\n",
       "  }\n",
       "\n",
       "  .colab-df-quickchart:hover {\n",
       "    background-color: #E2EBFA;\n",
       "    box-shadow: 0px 1px 2px rgba(60, 64, 67, 0.3), 0px 1px 3px 1px rgba(60, 64, 67, 0.15);\n",
       "    fill: #174EA6;\n",
       "  }\n",
       "\n",
       "  [theme=dark] .colab-df-quickchart {\n",
       "    background-color: #3B4455;\n",
       "    fill: #D2E3FC;\n",
       "  }\n",
       "\n",
       "  [theme=dark] .colab-df-quickchart:hover {\n",
       "    background-color: #434B5C;\n",
       "    box-shadow: 0px 1px 3px 1px rgba(0, 0, 0, 0.15);\n",
       "    filter: drop-shadow(0px 1px 2px rgba(0, 0, 0, 0.3));\n",
       "    fill: #FFFFFF;\n",
       "  }\n",
       "</style>\n",
       "\n",
       "    <script>\n",
       "      async function quickchart(key) {\n",
       "        const containerElement = document.querySelector('#' + key);\n",
       "        const charts = await google.colab.kernel.invokeFunction(\n",
       "            'suggestCharts', [key], {});\n",
       "      }\n",
       "    </script>\n",
       "\n",
       "      <script>\n",
       "\n",
       "function displayQuickchartButton(domScope) {\n",
       "  let quickchartButtonEl =\n",
       "    domScope.querySelector('#df-35347000-577d-4693-b595-296cfd57d296 button.colab-df-quickchart');\n",
       "  quickchartButtonEl.style.display =\n",
       "    google.colab.kernel.accessAllowed ? 'block' : 'none';\n",
       "}\n",
       "\n",
       "        displayQuickchartButton(document);\n",
       "      </script>\n",
       "      <style>\n",
       "    .colab-df-container {\n",
       "      display:flex;\n",
       "      flex-wrap:wrap;\n",
       "      gap: 12px;\n",
       "    }\n",
       "\n",
       "    .colab-df-convert {\n",
       "      background-color: #E8F0FE;\n",
       "      border: none;\n",
       "      border-radius: 50%;\n",
       "      cursor: pointer;\n",
       "      display: none;\n",
       "      fill: #1967D2;\n",
       "      height: 32px;\n",
       "      padding: 0 0 0 0;\n",
       "      width: 32px;\n",
       "    }\n",
       "\n",
       "    .colab-df-convert:hover {\n",
       "      background-color: #E2EBFA;\n",
       "      box-shadow: 0px 1px 2px rgba(60, 64, 67, 0.3), 0px 1px 3px 1px rgba(60, 64, 67, 0.15);\n",
       "      fill: #174EA6;\n",
       "    }\n",
       "\n",
       "    [theme=dark] .colab-df-convert {\n",
       "      background-color: #3B4455;\n",
       "      fill: #D2E3FC;\n",
       "    }\n",
       "\n",
       "    [theme=dark] .colab-df-convert:hover {\n",
       "      background-color: #434B5C;\n",
       "      box-shadow: 0px 1px 3px 1px rgba(0, 0, 0, 0.15);\n",
       "      filter: drop-shadow(0px 1px 2px rgba(0, 0, 0, 0.3));\n",
       "      fill: #FFFFFF;\n",
       "    }\n",
       "  </style>\n",
       "\n",
       "      <script>\n",
       "        const buttonEl =\n",
       "          document.querySelector('#df-5411c1d1-2467-4d95-9dd7-eb96e3f81b3a button.colab-df-convert');\n",
       "        buttonEl.style.display =\n",
       "          google.colab.kernel.accessAllowed ? 'block' : 'none';\n",
       "\n",
       "        async function convertToInteractive(key) {\n",
       "          const element = document.querySelector('#df-5411c1d1-2467-4d95-9dd7-eb96e3f81b3a');\n",
       "          const dataTable =\n",
       "            await google.colab.kernel.invokeFunction('convertToInteractive',\n",
       "                                                     [key], {});\n",
       "          if (!dataTable) return;\n",
       "\n",
       "          const docLinkHtml = 'Like what you see? Visit the ' +\n",
       "            '<a target=\"_blank\" href=https://colab.research.google.com/notebooks/data_table.ipynb>data table notebook</a>'\n",
       "            + ' to learn more about interactive tables.';\n",
       "          element.innerHTML = '';\n",
       "          dataTable['output_type'] = 'display_data';\n",
       "          await google.colab.output.renderOutput(dataTable, element);\n",
       "          const docLink = document.createElement('div');\n",
       "          docLink.innerHTML = docLinkHtml;\n",
       "          element.appendChild(docLink);\n",
       "        }\n",
       "      </script>\n",
       "    </div>\n",
       "  </div>\n"
      ],
      "text/plain": [
       "     number_of_reviews  count\n",
       "0                    0   1596\n",
       "1                    1    928\n",
       "2                    2    761\n",
       "3                    3    661\n",
       "4                    4    590\n",
       "..                 ...    ...\n",
       "357                116      1\n",
       "358                312      1\n",
       "359                311      1\n",
       "360                306      1\n",
       "361                843      1\n",
       "\n",
       "[362 rows x 2 columns]"
      ]
     },
     "execution_count": 25,
     "metadata": {},
     "output_type": "execute_result"
    }
   ],
   "source": [
    "df_train.groupby(['number_of_reviews']).size().sort_values(ascending=False).reset_index(name='count')"
   ]
  },
  {
   "cell_type": "code",
   "execution_count": null,
   "metadata": {
    "colab": {
     "base_uri": "https://localhost:8080/",
     "height": 517
    },
    "id": "OZNEpGr2jtE_",
    "outputId": "bb87d08c-a10b-4073-bc7a-0bcedf11dfcf"
   },
   "outputs": [
    {
     "data": {
      "text/html": [
       "<html>\n",
       "<head><meta charset=\"utf-8\" /></head>\n",
       "<body>\n",
       "    <div>            <script src=\"https://cdnjs.cloudflare.com/ajax/libs/mathjax/2.7.5/MathJax.js?config=TeX-AMS-MML_SVG\"></script><script type=\"text/javascript\">if (window.MathJax && window.MathJax.Hub && window.MathJax.Hub.Config) {window.MathJax.Hub.Config({SVG: {font: \"STIX-Web\"}});}</script>                <script type=\"text/javascript\">window.PlotlyConfig = {MathJaxConfig: 'local'};</script>\n",
       "        <script src=\"https://cdn.plot.ly/plotly-2.18.2.min.js\"></script>                <div id=\"cc1de02b-da6a-4b46-8c92-77f62337b275\" class=\"plotly-graph-div\" style=\"height:500px; width:1400px;\"></div>            <script type=\"text/javascript\">                                    window.PLOTLYENV=window.PLOTLYENV || {};                                    if (document.getElementById(\"cc1de02b-da6a-4b46-8c92-77f62337b275\")) {                    Plotly.newPlot(                        \"cc1de02b-da6a-4b46-8c92-77f62337b275\",                        [{\"hovertemplate\":\"number_of_reviews=%{marker.color}<br>count=%{marker.size}<extra></extra>\",\"legendgroup\":\"\",\"marker\":{\"color\":[0,1,2,3,4,5,6,7,10,8,9,11,12,13,16,15,14,17,19,18,20,21,23,24,26,27,22,29,28,25,31,36,30,32,33,38,34,37,40,35,39,42,43,41,48,44,47,49,45,52,50,51,55,53,61,46,58,56,59,60,54,68,76,67,66,63,70,57,89,64,69,73,82,62,93,65,78,80,81,75,74,95,85,87,97,101,88,103,91,77,84,71,90,92,79,112,86,96,94,102,170,108,99,72,100,126,128,114,137,150,123,119,106,158,131,160,164,125,154,134,118,105,152,130,146,233,143,219,98,238,129,127,109,151,153,184,110,185,196,174,198,107,216,197,111,199,171,166,298,141,83,113,115,317,133,144,192,193,200,307,187,279,282,273,324,245,182,202,296,207,272,210,213,265,262,232,234,256,255,263,183,124,157,135,165,138,159,142,132,156,179,248,254,147,145,274,258,139,264,246,244,267,268,243,257,181,275,149,596,553,414,408,390,375,367,349,340,331,323,309,117,304,180,120,292,122,280,239,299,237,161,162,163,208,204,167,201,168,169,172,173,188,175,190,191,176,215,177,155,235,221,236,224,229,225,410,411,698,421,558,424,409,674,434,435,430,401,756,406,440,392,391,388,386,383,382,377,376,439,659,444,178,515,511,572,508,501,492,488,485,574,479,475,471,468,467,373,590,459,186,628,458,455,450,646,463,348,372,217,285,284,283,206,281,278,277,276,211,214,271,266,121,218,222,259,226,227,228,252,251,249,230,148,290,300,369,336,364,362,359,358,356,354,194,241,347,343,195,330,302,329,328,327,325,104,321,319,116,312,311,306,843],\"coloraxis\":\"coloraxis\",\"size\":[1596,928,761,661,590,519,490,433,394,383,362,332,294,233,220,218,217,175,173,157,149,141,140,127,118,110,109,102,98,97,90,77,76,75,75,63,61,58,57,57,55,54,54,53,41,40,35,34,34,31,31,30,30,29,28,27,26,25,25,25,24,21,20,20,19,19,18,18,18,17,16,14,14,14,14,14,14,13,13,13,13,12,12,12,11,11,11,11,11,11,11,11,10,10,10,9,9,9,9,8,8,8,8,7,7,7,7,7,7,7,7,7,7,6,6,6,6,6,6,6,6,6,5,5,5,5,5,5,5,5,5,5,4,4,4,4,4,4,4,4,4,4,4,4,4,4,4,4,4,4,4,4,4,4,4,4,3,3,3,3,3,3,3,3,3,3,3,3,3,3,3,3,3,3,3,3,3,3,3,3,3,3,3,3,3,3,3,3,3,3,3,2,2,2,2,2,2,2,2,2,2,2,2,2,2,2,2,2,2,2,2,2,2,2,2,2,2,2,2,2,2,2,2,2,2,2,2,2,2,2,2,2,2,2,2,2,2,2,2,2,2,2,2,2,2,2,2,2,2,2,2,2,2,2,2,1,1,1,1,1,1,1,1,1,1,1,1,1,1,1,1,1,1,1,1,1,1,1,1,1,1,1,1,1,1,1,1,1,1,1,1,1,1,1,1,1,1,1,1,1,1,1,1,1,1,1,1,1,1,1,1,1,1,1,1,1,1,1,1,1,1,1,1,1,1,1,1,1,1,1,1,1,1,1,1,1,1,1,1,1,1,1,1,1,1,1,1,1,1,1,1,1,1,1,1,1,1,1,1,1,1,1],\"sizemode\":\"area\",\"sizeref\":3.99,\"symbol\":\"circle\"},\"mode\":\"markers\",\"name\":\"\",\"orientation\":\"v\",\"showlegend\":false,\"x\":[0,1,2,3,4,5,6,7,10,8,9,11,12,13,16,15,14,17,19,18,20,21,23,24,26,27,22,29,28,25,31,36,30,32,33,38,34,37,40,35,39,42,43,41,48,44,47,49,45,52,50,51,55,53,61,46,58,56,59,60,54,68,76,67,66,63,70,57,89,64,69,73,82,62,93,65,78,80,81,75,74,95,85,87,97,101,88,103,91,77,84,71,90,92,79,112,86,96,94,102,170,108,99,72,100,126,128,114,137,150,123,119,106,158,131,160,164,125,154,134,118,105,152,130,146,233,143,219,98,238,129,127,109,151,153,184,110,185,196,174,198,107,216,197,111,199,171,166,298,141,83,113,115,317,133,144,192,193,200,307,187,279,282,273,324,245,182,202,296,207,272,210,213,265,262,232,234,256,255,263,183,124,157,135,165,138,159,142,132,156,179,248,254,147,145,274,258,139,264,246,244,267,268,243,257,181,275,149,596,553,414,408,390,375,367,349,340,331,323,309,117,304,180,120,292,122,280,239,299,237,161,162,163,208,204,167,201,168,169,172,173,188,175,190,191,176,215,177,155,235,221,236,224,229,225,410,411,698,421,558,424,409,674,434,435,430,401,756,406,440,392,391,388,386,383,382,377,376,439,659,444,178,515,511,572,508,501,492,488,485,574,479,475,471,468,467,373,590,459,186,628,458,455,450,646,463,348,372,217,285,284,283,206,281,278,277,276,211,214,271,266,121,218,222,259,226,227,228,252,251,249,230,148,290,300,369,336,364,362,359,358,356,354,194,241,347,343,195,330,302,329,328,327,325,104,321,319,116,312,311,306,843],\"xaxis\":\"x\",\"y\":[1596,928,761,661,590,519,490,433,394,383,362,332,294,233,220,218,217,175,173,157,149,141,140,127,118,110,109,102,98,97,90,77,76,75,75,63,61,58,57,57,55,54,54,53,41,40,35,34,34,31,31,30,30,29,28,27,26,25,25,25,24,21,20,20,19,19,18,18,18,17,16,14,14,14,14,14,14,13,13,13,13,12,12,12,11,11,11,11,11,11,11,11,10,10,10,9,9,9,9,8,8,8,8,7,7,7,7,7,7,7,7,7,7,6,6,6,6,6,6,6,6,6,5,5,5,5,5,5,5,5,5,5,4,4,4,4,4,4,4,4,4,4,4,4,4,4,4,4,4,4,4,4,4,4,4,4,3,3,3,3,3,3,3,3,3,3,3,3,3,3,3,3,3,3,3,3,3,3,3,3,3,3,3,3,3,3,3,3,3,3,3,2,2,2,2,2,2,2,2,2,2,2,2,2,2,2,2,2,2,2,2,2,2,2,2,2,2,2,2,2,2,2,2,2,2,2,2,2,2,2,2,2,2,2,2,2,2,2,2,2,2,2,2,2,2,2,2,2,2,2,2,2,2,2,2,1,1,1,1,1,1,1,1,1,1,1,1,1,1,1,1,1,1,1,1,1,1,1,1,1,1,1,1,1,1,1,1,1,1,1,1,1,1,1,1,1,1,1,1,1,1,1,1,1,1,1,1,1,1,1,1,1,1,1,1,1,1,1,1,1,1,1,1,1,1,1,1,1,1,1,1,1,1,1,1,1,1,1,1,1,1,1,1,1,1,1,1,1,1,1,1,1,1,1,1,1,1,1,1,1,1,1],\"yaxis\":\"y\",\"type\":\"scatter\"}],                        {\"template\":{\"data\":{\"histogram2dcontour\":[{\"type\":\"histogram2dcontour\",\"colorbar\":{\"outlinewidth\":0,\"ticks\":\"\"},\"colorscale\":[[0.0,\"#0d0887\"],[0.1111111111111111,\"#46039f\"],[0.2222222222222222,\"#7201a8\"],[0.3333333333333333,\"#9c179e\"],[0.4444444444444444,\"#bd3786\"],[0.5555555555555556,\"#d8576b\"],[0.6666666666666666,\"#ed7953\"],[0.7777777777777778,\"#fb9f3a\"],[0.8888888888888888,\"#fdca26\"],[1.0,\"#f0f921\"]]}],\"choropleth\":[{\"type\":\"choropleth\",\"colorbar\":{\"outlinewidth\":0,\"ticks\":\"\"}}],\"histogram2d\":[{\"type\":\"histogram2d\",\"colorbar\":{\"outlinewidth\":0,\"ticks\":\"\"},\"colorscale\":[[0.0,\"#0d0887\"],[0.1111111111111111,\"#46039f\"],[0.2222222222222222,\"#7201a8\"],[0.3333333333333333,\"#9c179e\"],[0.4444444444444444,\"#bd3786\"],[0.5555555555555556,\"#d8576b\"],[0.6666666666666666,\"#ed7953\"],[0.7777777777777778,\"#fb9f3a\"],[0.8888888888888888,\"#fdca26\"],[1.0,\"#f0f921\"]]}],\"heatmap\":[{\"type\":\"heatmap\",\"colorbar\":{\"outlinewidth\":0,\"ticks\":\"\"},\"colorscale\":[[0.0,\"#0d0887\"],[0.1111111111111111,\"#46039f\"],[0.2222222222222222,\"#7201a8\"],[0.3333333333333333,\"#9c179e\"],[0.4444444444444444,\"#bd3786\"],[0.5555555555555556,\"#d8576b\"],[0.6666666666666666,\"#ed7953\"],[0.7777777777777778,\"#fb9f3a\"],[0.8888888888888888,\"#fdca26\"],[1.0,\"#f0f921\"]]}],\"heatmapgl\":[{\"type\":\"heatmapgl\",\"colorbar\":{\"outlinewidth\":0,\"ticks\":\"\"},\"colorscale\":[[0.0,\"#0d0887\"],[0.1111111111111111,\"#46039f\"],[0.2222222222222222,\"#7201a8\"],[0.3333333333333333,\"#9c179e\"],[0.4444444444444444,\"#bd3786\"],[0.5555555555555556,\"#d8576b\"],[0.6666666666666666,\"#ed7953\"],[0.7777777777777778,\"#fb9f3a\"],[0.8888888888888888,\"#fdca26\"],[1.0,\"#f0f921\"]]}],\"contourcarpet\":[{\"type\":\"contourcarpet\",\"colorbar\":{\"outlinewidth\":0,\"ticks\":\"\"}}],\"contour\":[{\"type\":\"contour\",\"colorbar\":{\"outlinewidth\":0,\"ticks\":\"\"},\"colorscale\":[[0.0,\"#0d0887\"],[0.1111111111111111,\"#46039f\"],[0.2222222222222222,\"#7201a8\"],[0.3333333333333333,\"#9c179e\"],[0.4444444444444444,\"#bd3786\"],[0.5555555555555556,\"#d8576b\"],[0.6666666666666666,\"#ed7953\"],[0.7777777777777778,\"#fb9f3a\"],[0.8888888888888888,\"#fdca26\"],[1.0,\"#f0f921\"]]}],\"surface\":[{\"type\":\"surface\",\"colorbar\":{\"outlinewidth\":0,\"ticks\":\"\"},\"colorscale\":[[0.0,\"#0d0887\"],[0.1111111111111111,\"#46039f\"],[0.2222222222222222,\"#7201a8\"],[0.3333333333333333,\"#9c179e\"],[0.4444444444444444,\"#bd3786\"],[0.5555555555555556,\"#d8576b\"],[0.6666666666666666,\"#ed7953\"],[0.7777777777777778,\"#fb9f3a\"],[0.8888888888888888,\"#fdca26\"],[1.0,\"#f0f921\"]]}],\"mesh3d\":[{\"type\":\"mesh3d\",\"colorbar\":{\"outlinewidth\":0,\"ticks\":\"\"}}],\"scatter\":[{\"fillpattern\":{\"fillmode\":\"overlay\",\"size\":10,\"solidity\":0.2},\"type\":\"scatter\"}],\"parcoords\":[{\"type\":\"parcoords\",\"line\":{\"colorbar\":{\"outlinewidth\":0,\"ticks\":\"\"}}}],\"scatterpolargl\":[{\"type\":\"scatterpolargl\",\"marker\":{\"colorbar\":{\"outlinewidth\":0,\"ticks\":\"\"}}}],\"bar\":[{\"error_x\":{\"color\":\"#2a3f5f\"},\"error_y\":{\"color\":\"#2a3f5f\"},\"marker\":{\"line\":{\"color\":\"#E5ECF6\",\"width\":0.5},\"pattern\":{\"fillmode\":\"overlay\",\"size\":10,\"solidity\":0.2}},\"type\":\"bar\"}],\"scattergeo\":[{\"type\":\"scattergeo\",\"marker\":{\"colorbar\":{\"outlinewidth\":0,\"ticks\":\"\"}}}],\"scatterpolar\":[{\"type\":\"scatterpolar\",\"marker\":{\"colorbar\":{\"outlinewidth\":0,\"ticks\":\"\"}}}],\"histogram\":[{\"marker\":{\"pattern\":{\"fillmode\":\"overlay\",\"size\":10,\"solidity\":0.2}},\"type\":\"histogram\"}],\"scattergl\":[{\"type\":\"scattergl\",\"marker\":{\"colorbar\":{\"outlinewidth\":0,\"ticks\":\"\"}}}],\"scatter3d\":[{\"type\":\"scatter3d\",\"line\":{\"colorbar\":{\"outlinewidth\":0,\"ticks\":\"\"}},\"marker\":{\"colorbar\":{\"outlinewidth\":0,\"ticks\":\"\"}}}],\"scattermapbox\":[{\"type\":\"scattermapbox\",\"marker\":{\"colorbar\":{\"outlinewidth\":0,\"ticks\":\"\"}}}],\"scatterternary\":[{\"type\":\"scatterternary\",\"marker\":{\"colorbar\":{\"outlinewidth\":0,\"ticks\":\"\"}}}],\"scattercarpet\":[{\"type\":\"scattercarpet\",\"marker\":{\"colorbar\":{\"outlinewidth\":0,\"ticks\":\"\"}}}],\"carpet\":[{\"aaxis\":{\"endlinecolor\":\"#2a3f5f\",\"gridcolor\":\"white\",\"linecolor\":\"white\",\"minorgridcolor\":\"white\",\"startlinecolor\":\"#2a3f5f\"},\"baxis\":{\"endlinecolor\":\"#2a3f5f\",\"gridcolor\":\"white\",\"linecolor\":\"white\",\"minorgridcolor\":\"white\",\"startlinecolor\":\"#2a3f5f\"},\"type\":\"carpet\"}],\"table\":[{\"cells\":{\"fill\":{\"color\":\"#EBF0F8\"},\"line\":{\"color\":\"white\"}},\"header\":{\"fill\":{\"color\":\"#C8D4E3\"},\"line\":{\"color\":\"white\"}},\"type\":\"table\"}],\"barpolar\":[{\"marker\":{\"line\":{\"color\":\"#E5ECF6\",\"width\":0.5},\"pattern\":{\"fillmode\":\"overlay\",\"size\":10,\"solidity\":0.2}},\"type\":\"barpolar\"}],\"pie\":[{\"automargin\":true,\"type\":\"pie\"}]},\"layout\":{\"autotypenumbers\":\"strict\",\"colorway\":[\"#636efa\",\"#EF553B\",\"#00cc96\",\"#ab63fa\",\"#FFA15A\",\"#19d3f3\",\"#FF6692\",\"#B6E880\",\"#FF97FF\",\"#FECB52\"],\"font\":{\"color\":\"#2a3f5f\"},\"hovermode\":\"closest\",\"hoverlabel\":{\"align\":\"left\"},\"paper_bgcolor\":\"white\",\"plot_bgcolor\":\"#E5ECF6\",\"polar\":{\"bgcolor\":\"#E5ECF6\",\"angularaxis\":{\"gridcolor\":\"white\",\"linecolor\":\"white\",\"ticks\":\"\"},\"radialaxis\":{\"gridcolor\":\"white\",\"linecolor\":\"white\",\"ticks\":\"\"}},\"ternary\":{\"bgcolor\":\"#E5ECF6\",\"aaxis\":{\"gridcolor\":\"white\",\"linecolor\":\"white\",\"ticks\":\"\"},\"baxis\":{\"gridcolor\":\"white\",\"linecolor\":\"white\",\"ticks\":\"\"},\"caxis\":{\"gridcolor\":\"white\",\"linecolor\":\"white\",\"ticks\":\"\"}},\"coloraxis\":{\"colorbar\":{\"outlinewidth\":0,\"ticks\":\"\"}},\"colorscale\":{\"sequential\":[[0.0,\"#0d0887\"],[0.1111111111111111,\"#46039f\"],[0.2222222222222222,\"#7201a8\"],[0.3333333333333333,\"#9c179e\"],[0.4444444444444444,\"#bd3786\"],[0.5555555555555556,\"#d8576b\"],[0.6666666666666666,\"#ed7953\"],[0.7777777777777778,\"#fb9f3a\"],[0.8888888888888888,\"#fdca26\"],[1.0,\"#f0f921\"]],\"sequentialminus\":[[0.0,\"#0d0887\"],[0.1111111111111111,\"#46039f\"],[0.2222222222222222,\"#7201a8\"],[0.3333333333333333,\"#9c179e\"],[0.4444444444444444,\"#bd3786\"],[0.5555555555555556,\"#d8576b\"],[0.6666666666666666,\"#ed7953\"],[0.7777777777777778,\"#fb9f3a\"],[0.8888888888888888,\"#fdca26\"],[1.0,\"#f0f921\"]],\"diverging\":[[0,\"#8e0152\"],[0.1,\"#c51b7d\"],[0.2,\"#de77ae\"],[0.3,\"#f1b6da\"],[0.4,\"#fde0ef\"],[0.5,\"#f7f7f7\"],[0.6,\"#e6f5d0\"],[0.7,\"#b8e186\"],[0.8,\"#7fbc41\"],[0.9,\"#4d9221\"],[1,\"#276419\"]]},\"xaxis\":{\"gridcolor\":\"white\",\"linecolor\":\"white\",\"ticks\":\"\",\"title\":{\"standoff\":15},\"zerolinecolor\":\"white\",\"automargin\":true,\"zerolinewidth\":2},\"yaxis\":{\"gridcolor\":\"white\",\"linecolor\":\"white\",\"ticks\":\"\",\"title\":{\"standoff\":15},\"zerolinecolor\":\"white\",\"automargin\":true,\"zerolinewidth\":2},\"scene\":{\"xaxis\":{\"backgroundcolor\":\"#E5ECF6\",\"gridcolor\":\"white\",\"linecolor\":\"white\",\"showbackground\":true,\"ticks\":\"\",\"zerolinecolor\":\"white\",\"gridwidth\":2},\"yaxis\":{\"backgroundcolor\":\"#E5ECF6\",\"gridcolor\":\"white\",\"linecolor\":\"white\",\"showbackground\":true,\"ticks\":\"\",\"zerolinecolor\":\"white\",\"gridwidth\":2},\"zaxis\":{\"backgroundcolor\":\"#E5ECF6\",\"gridcolor\":\"white\",\"linecolor\":\"white\",\"showbackground\":true,\"ticks\":\"\",\"zerolinecolor\":\"white\",\"gridwidth\":2}},\"shapedefaults\":{\"line\":{\"color\":\"#2a3f5f\"}},\"annotationdefaults\":{\"arrowcolor\":\"#2a3f5f\",\"arrowhead\":0,\"arrowwidth\":1},\"geo\":{\"bgcolor\":\"white\",\"landcolor\":\"#E5ECF6\",\"subunitcolor\":\"white\",\"showland\":true,\"showlakes\":true,\"lakecolor\":\"white\"},\"title\":{\"x\":0.05},\"mapbox\":{\"style\":\"light\"}}},\"xaxis\":{\"anchor\":\"y\",\"domain\":[0.0,1.0],\"title\":{\"text\":\"number_of_reviews\"},\"range\":[0,900]},\"yaxis\":{\"anchor\":\"x\",\"domain\":[0.0,1.0],\"title\":{\"text\":\"count\"},\"range\":[0,1700]},\"coloraxis\":{\"colorbar\":{\"title\":{\"text\":\"number_of_reviews\"}},\"colorscale\":[[0.0,\"#0d0887\"],[0.1111111111111111,\"#46039f\"],[0.2222222222222222,\"#7201a8\"],[0.3333333333333333,\"#9c179e\"],[0.4444444444444444,\"#bd3786\"],[0.5555555555555556,\"#d8576b\"],[0.6666666666666666,\"#ed7953\"],[0.7777777777777778,\"#fb9f3a\"],[0.8888888888888888,\"#fdca26\"],[1.0,\"#f0f921\"]]},\"legend\":{\"tracegroupgap\":0,\"itemsizing\":\"constant\"},\"margin\":{\"t\":60},\"font\":{\"size\":15,\"color\":\"#0f0f0f\",\"family\":\"Courier New, monospace\"},\"autosize\":false,\"height\":500,\"width\":1400},                        {\"responsive\": true}                    ).then(function(){\n",
       "                            \n",
       "var gd = document.getElementById('cc1de02b-da6a-4b46-8c92-77f62337b275');\n",
       "var x = new MutationObserver(function (mutations, observer) {{\n",
       "        var display = window.getComputedStyle(gd).display;\n",
       "        if (!display || display === 'none') {{\n",
       "            console.log([gd, 'removed!']);\n",
       "            Plotly.purge(gd);\n",
       "            observer.disconnect();\n",
       "        }}\n",
       "}});\n",
       "\n",
       "// Listen for the removal of the full notebook cells\n",
       "var notebookContainer = gd.closest('#notebook-container');\n",
       "if (notebookContainer) {{\n",
       "    x.observe(notebookContainer, {childList: true});\n",
       "}}\n",
       "\n",
       "// Listen for the clearing of the current output cell\n",
       "var outputEl = gd.closest('.output');\n",
       "if (outputEl) {{\n",
       "    x.observe(outputEl, {childList: true});\n",
       "}}\n",
       "\n",
       "                        })                };                            </script>        </div>\n",
       "</body>\n",
       "</html>"
      ]
     },
     "metadata": {},
     "output_type": "display_data"
    }
   ],
   "source": [
    "d=df_train.groupby(['number_of_reviews']).size().sort_values(ascending=False).reset_index(name='count')\n",
    "fig=px.scatter(d,\n",
    "                           x='number_of_reviews',\n",
    "                           y='count',\n",
    "                           size='count',\n",
    "                           color='number_of_reviews',\n",
    "                           range_y=[0,1700],\n",
    "                           range_x=[0,900]\n",
    "                           )\n",
    "fig.update_layout(autosize=False,\n",
    "                  height=500,\n",
    "                  width=1400,\n",
    "                  font=dict(size=15,color=\"#0f0f0f\",family=\"Courier New, monospace\"),\n",
    "                 )\n",
    "fig.show()"
   ]
  },
  {
   "cell_type": "code",
   "execution_count": null,
   "metadata": {
    "colab": {
     "base_uri": "https://localhost:8080/"
    },
    "id": "f6lX5GlfjvVg",
    "outputId": "213eb77a-5d0c-448a-e581-1e6eadeaf822"
   },
   "outputs": [
    {
     "data": {
      "text/plain": [
       "count          11305\n",
       "unique          1495\n",
       "top       08-03-2020\n",
       "freq             269\n",
       "Name: last_review, dtype: object"
      ]
     },
     "execution_count": 27,
     "metadata": {},
     "output_type": "execute_result"
    }
   ],
   "source": [
    "df_train.last_review.describe()"
   ]
  },
  {
   "cell_type": "code",
   "execution_count": null,
   "metadata": {
    "colab": {
     "base_uri": "https://localhost:8080/"
    },
    "id": "ytHMgTgMjxCj",
    "outputId": "dba25e0c-2697-44d1-80e6-adfd07466ff3"
   },
   "outputs": [
    {
     "data": {
      "text/plain": [
       "0        15-02-2020\n",
       "1        19-06-2019\n",
       "2        16-03-2020\n",
       "3        17-02-2020\n",
       "4        26-02-2020\n",
       "            ...    \n",
       "12896    13-09-2017\n",
       "12897    25-02-2020\n",
       "12898    07-10-2018\n",
       "12899    28-04-2019\n",
       "12900    17-02-2020\n",
       "Name: last_review, Length: 12901, dtype: object"
      ]
     },
     "execution_count": 28,
     "metadata": {},
     "output_type": "execute_result"
    }
   ],
   "source": [
    "df_train.last_review"
   ]
  },
  {
   "cell_type": "code",
   "execution_count": null,
   "metadata": {
    "colab": {
     "base_uri": "https://localhost:8080/",
     "height": 517
    },
    "id": "xcy9fInJjywc",
    "outputId": "2bd8cd71-145c-41d1-d44a-013d355f0180"
   },
   "outputs": [
    {
     "data": {
      "text/html": [
       "<html>\n",
       "<head><meta charset=\"utf-8\" /></head>\n",
       "<body>\n",
       "    <div>            <script src=\"https://cdnjs.cloudflare.com/ajax/libs/mathjax/2.7.5/MathJax.js?config=TeX-AMS-MML_SVG\"></script><script type=\"text/javascript\">if (window.MathJax && window.MathJax.Hub && window.MathJax.Hub.Config) {window.MathJax.Hub.Config({SVG: {font: \"STIX-Web\"}});}</script>                <script type=\"text/javascript\">window.PlotlyConfig = {MathJaxConfig: 'local'};</script>\n",
       "        <script src=\"https://cdn.plot.ly/plotly-2.18.2.min.js\"></script>                <div id=\"6fbaa0c7-b66a-4045-be1e-80be2b9618b9\" class=\"plotly-graph-div\" style=\"height:500px; width:1400px;\"></div>            <script type=\"text/javascript\">                                    window.PLOTLYENV=window.PLOTLYENV || {};                                    if (document.getElementById(\"6fbaa0c7-b66a-4045-be1e-80be2b9618b9\")) {                    Plotly.newPlot(                        \"6fbaa0c7-b66a-4045-be1e-80be2b9618b9\",                        [{\"hovertemplate\":\"last_review=%{x}<br>count=%{marker.size}<extra></extra>\",\"legendgroup\":\"08-03-2020\",\"marker\":{\"color\":\"#636efa\",\"size\":[269],\"sizemode\":\"area\",\"sizeref\":0.6725,\"symbol\":\"circle\"},\"mode\":\"markers\",\"name\":\"08-03-2020\",\"orientation\":\"v\",\"showlegend\":true,\"x\":[\"08-03-2020\"],\"xaxis\":\"x\",\"y\":[269],\"yaxis\":\"y\",\"type\":\"scatter\"},{\"hovertemplate\":\"last_review=%{x}<br>count=%{marker.size}<extra></extra>\",\"legendgroup\":\"02-01-2020\",\"marker\":{\"color\":\"#EF553B\",\"size\":[223],\"sizemode\":\"area\",\"sizeref\":0.6725,\"symbol\":\"circle\"},\"mode\":\"markers\",\"name\":\"02-01-2020\",\"orientation\":\"v\",\"showlegend\":true,\"x\":[\"02-01-2020\"],\"xaxis\":\"x\",\"y\":[223],\"yaxis\":\"y\",\"type\":\"scatter\"},{\"hovertemplate\":\"last_review=%{x}<br>count=%{marker.size}<extra></extra>\",\"legendgroup\":\"15-03-2020\",\"marker\":{\"color\":\"#00cc96\",\"size\":[223],\"sizemode\":\"area\",\"sizeref\":0.6725,\"symbol\":\"circle\"},\"mode\":\"markers\",\"name\":\"15-03-2020\",\"orientation\":\"v\",\"showlegend\":true,\"x\":[\"15-03-2020\"],\"xaxis\":\"x\",\"y\":[223],\"yaxis\":\"y\",\"type\":\"scatter\"},{\"hovertemplate\":\"last_review=%{x}<br>count=%{marker.size}<extra></extra>\",\"legendgroup\":\"01-01-2020\",\"marker\":{\"color\":\"#ab63fa\",\"size\":[179],\"sizemode\":\"area\",\"sizeref\":0.6725,\"symbol\":\"circle\"},\"mode\":\"markers\",\"name\":\"01-01-2020\",\"orientation\":\"v\",\"showlegend\":true,\"x\":[\"01-01-2020\"],\"xaxis\":\"x\",\"y\":[179],\"yaxis\":\"y\",\"type\":\"scatter\"},{\"hovertemplate\":\"last_review=%{x}<br>count=%{marker.size}<extra></extra>\",\"legendgroup\":\"16-02-2020\",\"marker\":{\"color\":\"#FFA15A\",\"size\":[159],\"sizemode\":\"area\",\"sizeref\":0.6725,\"symbol\":\"circle\"},\"mode\":\"markers\",\"name\":\"16-02-2020\",\"orientation\":\"v\",\"showlegend\":true,\"x\":[\"16-02-2020\"],\"xaxis\":\"x\",\"y\":[159],\"yaxis\":\"y\",\"type\":\"scatter\"},{\"hovertemplate\":\"last_review=%{x}<br>count=%{marker.size}<extra></extra>\",\"legendgroup\":\"09-03-2020\",\"marker\":{\"color\":\"#19d3f3\",\"size\":[131],\"sizemode\":\"area\",\"sizeref\":0.6725,\"symbol\":\"circle\"},\"mode\":\"markers\",\"name\":\"09-03-2020\",\"orientation\":\"v\",\"showlegend\":true,\"x\":[\"09-03-2020\"],\"xaxis\":\"x\",\"y\":[131],\"yaxis\":\"y\",\"type\":\"scatter\"},{\"hovertemplate\":\"last_review=%{x}<br>count=%{marker.size}<extra></extra>\",\"legendgroup\":\"03-01-2020\",\"marker\":{\"color\":\"#FF6692\",\"size\":[127],\"sizemode\":\"area\",\"sizeref\":0.6725,\"symbol\":\"circle\"},\"mode\":\"markers\",\"name\":\"03-01-2020\",\"orientation\":\"v\",\"showlegend\":true,\"x\":[\"03-01-2020\"],\"xaxis\":\"x\",\"y\":[127],\"yaxis\":\"y\",\"type\":\"scatter\"},{\"hovertemplate\":\"last_review=%{x}<br>count=%{marker.size}<extra></extra>\",\"legendgroup\":\"20-10-2019\",\"marker\":{\"color\":\"#B6E880\",\"size\":[123],\"sizemode\":\"area\",\"sizeref\":0.6725,\"symbol\":\"circle\"},\"mode\":\"markers\",\"name\":\"20-10-2019\",\"orientation\":\"v\",\"showlegend\":true,\"x\":[\"20-10-2019\"],\"xaxis\":\"x\",\"y\":[123],\"yaxis\":\"y\",\"type\":\"scatter\"},{\"hovertemplate\":\"last_review=%{x}<br>count=%{marker.size}<extra></extra>\",\"legendgroup\":\"23-02-2020\",\"marker\":{\"color\":\"#FF97FF\",\"size\":[117],\"sizemode\":\"area\",\"sizeref\":0.6725,\"symbol\":\"circle\"},\"mode\":\"markers\",\"name\":\"23-02-2020\",\"orientation\":\"v\",\"showlegend\":true,\"x\":[\"23-02-2020\"],\"xaxis\":\"x\",\"y\":[117],\"yaxis\":\"y\",\"type\":\"scatter\"},{\"hovertemplate\":\"last_review=%{x}<br>count=%{marker.size}<extra></extra>\",\"legendgroup\":\"16-03-2020\",\"marker\":{\"color\":\"#FECB52\",\"size\":[111],\"sizemode\":\"area\",\"sizeref\":0.6725,\"symbol\":\"circle\"},\"mode\":\"markers\",\"name\":\"16-03-2020\",\"orientation\":\"v\",\"showlegend\":true,\"x\":[\"16-03-2020\"],\"xaxis\":\"x\",\"y\":[111],\"yaxis\":\"y\",\"type\":\"scatter\"},{\"hovertemplate\":\"last_review=%{x}<br>count=%{marker.size}<extra></extra>\",\"legendgroup\":\"01-03-2020\",\"marker\":{\"color\":\"#636efa\",\"size\":[106],\"sizemode\":\"area\",\"sizeref\":0.6725,\"symbol\":\"circle\"},\"mode\":\"markers\",\"name\":\"01-03-2020\",\"orientation\":\"v\",\"showlegend\":true,\"x\":[\"01-03-2020\"],\"xaxis\":\"x\",\"y\":[106],\"yaxis\":\"y\",\"type\":\"scatter\"},{\"hovertemplate\":\"last_review=%{x}<br>count=%{marker.size}<extra></extra>\",\"legendgroup\":\"21-10-2019\",\"marker\":{\"color\":\"#EF553B\",\"size\":[87],\"sizemode\":\"area\",\"sizeref\":0.6725,\"symbol\":\"circle\"},\"mode\":\"markers\",\"name\":\"21-10-2019\",\"orientation\":\"v\",\"showlegend\":true,\"x\":[\"21-10-2019\"],\"xaxis\":\"x\",\"y\":[87],\"yaxis\":\"y\",\"type\":\"scatter\"},{\"hovertemplate\":\"last_review=%{x}<br>count=%{marker.size}<extra></extra>\",\"legendgroup\":\"17-02-2020\",\"marker\":{\"color\":\"#00cc96\",\"size\":[84],\"sizemode\":\"area\",\"sizeref\":0.6725,\"symbol\":\"circle\"},\"mode\":\"markers\",\"name\":\"17-02-2020\",\"orientation\":\"v\",\"showlegend\":true,\"x\":[\"17-02-2020\"],\"xaxis\":\"x\",\"y\":[84],\"yaxis\":\"y\",\"type\":\"scatter\"},{\"hovertemplate\":\"last_review=%{x}<br>count=%{marker.size}<extra></extra>\",\"legendgroup\":\"30-12-2019\",\"marker\":{\"color\":\"#ab63fa\",\"size\":[75],\"sizemode\":\"area\",\"sizeref\":0.6725,\"symbol\":\"circle\"},\"mode\":\"markers\",\"name\":\"30-12-2019\",\"orientation\":\"v\",\"showlegend\":true,\"x\":[\"30-12-2019\"],\"xaxis\":\"x\",\"y\":[75],\"yaxis\":\"y\",\"type\":\"scatter\"},{\"hovertemplate\":\"last_review=%{x}<br>count=%{marker.size}<extra></extra>\",\"legendgroup\":\"14-03-2020\",\"marker\":{\"color\":\"#FFA15A\",\"size\":[75],\"sizemode\":\"area\",\"sizeref\":0.6725,\"symbol\":\"circle\"},\"mode\":\"markers\",\"name\":\"14-03-2020\",\"orientation\":\"v\",\"showlegend\":true,\"x\":[\"14-03-2020\"],\"xaxis\":\"x\",\"y\":[75],\"yaxis\":\"y\",\"type\":\"scatter\"},{\"hovertemplate\":\"last_review=%{x}<br>count=%{marker.size}<extra></extra>\",\"legendgroup\":\"05-01-2020\",\"marker\":{\"color\":\"#19d3f3\",\"size\":[70],\"sizemode\":\"area\",\"sizeref\":0.6725,\"symbol\":\"circle\"},\"mode\":\"markers\",\"name\":\"05-01-2020\",\"orientation\":\"v\",\"showlegend\":true,\"x\":[\"05-01-2020\"],\"xaxis\":\"x\",\"y\":[70],\"yaxis\":\"y\",\"type\":\"scatter\"},{\"hovertemplate\":\"last_review=%{x}<br>count=%{marker.size}<extra></extra>\",\"legendgroup\":\"24-02-2020\",\"marker\":{\"color\":\"#FF6692\",\"size\":[68],\"sizemode\":\"area\",\"sizeref\":0.6725,\"symbol\":\"circle\"},\"mode\":\"markers\",\"name\":\"24-02-2020\",\"orientation\":\"v\",\"showlegend\":true,\"x\":[\"24-02-2020\"],\"xaxis\":\"x\",\"y\":[68],\"yaxis\":\"y\",\"type\":\"scatter\"},{\"hovertemplate\":\"last_review=%{x}<br>count=%{marker.size}<extra></extra>\",\"legendgroup\":\"02-03-2020\",\"marker\":{\"color\":\"#B6E880\",\"size\":[67],\"sizemode\":\"area\",\"sizeref\":0.6725,\"symbol\":\"circle\"},\"mode\":\"markers\",\"name\":\"02-03-2020\",\"orientation\":\"v\",\"showlegend\":true,\"x\":[\"02-03-2020\"],\"xaxis\":\"x\",\"y\":[67],\"yaxis\":\"y\",\"type\":\"scatter\"},{\"hovertemplate\":\"last_review=%{x}<br>count=%{marker.size}<extra></extra>\",\"legendgroup\":\"15-02-2020\",\"marker\":{\"color\":\"#FF97FF\",\"size\":[63],\"sizemode\":\"area\",\"sizeref\":0.6725,\"symbol\":\"circle\"},\"mode\":\"markers\",\"name\":\"15-02-2020\",\"orientation\":\"v\",\"showlegend\":true,\"x\":[\"15-02-2020\"],\"xaxis\":\"x\",\"y\":[63],\"yaxis\":\"y\",\"type\":\"scatter\"},{\"hovertemplate\":\"last_review=%{x}<br>count=%{marker.size}<extra></extra>\",\"legendgroup\":\"04-01-2020\",\"marker\":{\"color\":\"#FECB52\",\"size\":[63],\"sizemode\":\"area\",\"sizeref\":0.6725,\"symbol\":\"circle\"},\"mode\":\"markers\",\"name\":\"04-01-2020\",\"orientation\":\"v\",\"showlegend\":true,\"x\":[\"04-01-2020\"],\"xaxis\":\"x\",\"y\":[63],\"yaxis\":\"y\",\"type\":\"scatter\"},{\"hovertemplate\":\"last_review=%{x}<br>count=%{marker.size}<extra></extra>\",\"legendgroup\":\"15-09-2019\",\"marker\":{\"color\":\"#636efa\",\"size\":[61],\"sizemode\":\"area\",\"sizeref\":0.6725,\"symbol\":\"circle\"},\"mode\":\"markers\",\"name\":\"15-09-2019\",\"orientation\":\"v\",\"showlegend\":true,\"x\":[\"15-09-2019\"],\"xaxis\":\"x\",\"y\":[61],\"yaxis\":\"y\",\"type\":\"scatter\"},{\"hovertemplate\":\"last_review=%{x}<br>count=%{marker.size}<extra></extra>\",\"legendgroup\":\"03-11-2019\",\"marker\":{\"color\":\"#EF553B\",\"size\":[61],\"sizemode\":\"area\",\"sizeref\":0.6725,\"symbol\":\"circle\"},\"mode\":\"markers\",\"name\":\"03-11-2019\",\"orientation\":\"v\",\"showlegend\":true,\"x\":[\"03-11-2019\"],\"xaxis\":\"x\",\"y\":[61],\"yaxis\":\"y\",\"type\":\"scatter\"},{\"hovertemplate\":\"last_review=%{x}<br>count=%{marker.size}<extra></extra>\",\"legendgroup\":\"10-03-2020\",\"marker\":{\"color\":\"#00cc96\",\"size\":[57],\"sizemode\":\"area\",\"sizeref\":0.6725,\"symbol\":\"circle\"},\"mode\":\"markers\",\"name\":\"10-03-2020\",\"orientation\":\"v\",\"showlegend\":true,\"x\":[\"10-03-2020\"],\"xaxis\":\"x\",\"y\":[57],\"yaxis\":\"y\",\"type\":\"scatter\"},{\"hovertemplate\":\"last_review=%{x}<br>count=%{marker.size}<extra></extra>\",\"legendgroup\":\"07-03-2020\",\"marker\":{\"color\":\"#ab63fa\",\"size\":[54],\"sizemode\":\"area\",\"sizeref\":0.6725,\"symbol\":\"circle\"},\"mode\":\"markers\",\"name\":\"07-03-2020\",\"orientation\":\"v\",\"showlegend\":true,\"x\":[\"07-03-2020\"],\"xaxis\":\"x\",\"y\":[54],\"yaxis\":\"y\",\"type\":\"scatter\"},{\"hovertemplate\":\"last_review=%{x}<br>count=%{marker.size}<extra></extra>\",\"legendgroup\":\"13-03-2020\",\"marker\":{\"color\":\"#FFA15A\",\"size\":[51],\"sizemode\":\"area\",\"sizeref\":0.6725,\"symbol\":\"circle\"},\"mode\":\"markers\",\"name\":\"13-03-2020\",\"orientation\":\"v\",\"showlegend\":true,\"x\":[\"13-03-2020\"],\"xaxis\":\"x\",\"y\":[51],\"yaxis\":\"y\",\"type\":\"scatter\"},{\"hovertemplate\":\"last_review=%{x}<br>count=%{marker.size}<extra></extra>\",\"legendgroup\":\"27-10-2019\",\"marker\":{\"color\":\"#19d3f3\",\"size\":[49],\"sizemode\":\"area\",\"sizeref\":0.6725,\"symbol\":\"circle\"},\"mode\":\"markers\",\"name\":\"27-10-2019\",\"orientation\":\"v\",\"showlegend\":true,\"x\":[\"27-10-2019\"],\"xaxis\":\"x\",\"y\":[49],\"yaxis\":\"y\",\"type\":\"scatter\"},{\"hovertemplate\":\"last_review=%{x}<br>count=%{marker.size}<extra></extra>\",\"legendgroup\":\"29-12-2019\",\"marker\":{\"color\":\"#FF6692\",\"size\":[46],\"sizemode\":\"area\",\"sizeref\":0.6725,\"symbol\":\"circle\"},\"mode\":\"markers\",\"name\":\"29-12-2019\",\"orientation\":\"v\",\"showlegend\":true,\"x\":[\"29-12-2019\"],\"xaxis\":\"x\",\"y\":[46],\"yaxis\":\"y\",\"type\":\"scatter\"},{\"hovertemplate\":\"last_review=%{x}<br>count=%{marker.size}<extra></extra>\",\"legendgroup\":\"22-09-2019\",\"marker\":{\"color\":\"#B6E880\",\"size\":[46],\"sizemode\":\"area\",\"sizeref\":0.6725,\"symbol\":\"circle\"},\"mode\":\"markers\",\"name\":\"22-09-2019\",\"orientation\":\"v\",\"showlegend\":true,\"x\":[\"22-09-2019\"],\"xaxis\":\"x\",\"y\":[46],\"yaxis\":\"y\",\"type\":\"scatter\"},{\"hovertemplate\":\"last_review=%{x}<br>count=%{marker.size}<extra></extra>\",\"legendgroup\":\"25-08-2019\",\"marker\":{\"color\":\"#FF97FF\",\"size\":[46],\"sizemode\":\"area\",\"sizeref\":0.6725,\"symbol\":\"circle\"},\"mode\":\"markers\",\"name\":\"25-08-2019\",\"orientation\":\"v\",\"showlegend\":true,\"x\":[\"25-08-2019\"],\"xaxis\":\"x\",\"y\":[46],\"yaxis\":\"y\",\"type\":\"scatter\"},{\"hovertemplate\":\"last_review=%{x}<br>count=%{marker.size}<extra></extra>\",\"legendgroup\":\"11-03-2020\",\"marker\":{\"color\":\"#FECB52\",\"size\":[46],\"sizemode\":\"area\",\"sizeref\":0.6725,\"symbol\":\"circle\"},\"mode\":\"markers\",\"name\":\"11-03-2020\",\"orientation\":\"v\",\"showlegend\":true,\"x\":[\"11-03-2020\"],\"xaxis\":\"x\",\"y\":[46],\"yaxis\":\"y\",\"type\":\"scatter\"},{\"hovertemplate\":\"last_review=%{x}<br>count=%{marker.size}<extra></extra>\",\"legendgroup\":\"16-09-2019\",\"marker\":{\"color\":\"#636efa\",\"size\":[46],\"sizemode\":\"area\",\"sizeref\":0.6725,\"symbol\":\"circle\"},\"mode\":\"markers\",\"name\":\"16-09-2019\",\"orientation\":\"v\",\"showlegend\":true,\"x\":[\"16-09-2019\"],\"xaxis\":\"x\",\"y\":[46],\"yaxis\":\"y\",\"type\":\"scatter\"},{\"hovertemplate\":\"last_review=%{x}<br>count=%{marker.size}<extra></extra>\",\"legendgroup\":\"14-02-2020\",\"marker\":{\"color\":\"#EF553B\",\"size\":[46],\"sizemode\":\"area\",\"sizeref\":0.6725,\"symbol\":\"circle\"},\"mode\":\"markers\",\"name\":\"14-02-2020\",\"orientation\":\"v\",\"showlegend\":true,\"x\":[\"14-02-2020\"],\"xaxis\":\"x\",\"y\":[46],\"yaxis\":\"y\",\"type\":\"scatter\"},{\"hovertemplate\":\"last_review=%{x}<br>count=%{marker.size}<extra></extra>\",\"legendgroup\":\"10-11-2019\",\"marker\":{\"color\":\"#00cc96\",\"size\":[45],\"sizemode\":\"area\",\"sizeref\":0.6725,\"symbol\":\"circle\"},\"mode\":\"markers\",\"name\":\"10-11-2019\",\"orientation\":\"v\",\"showlegend\":true,\"x\":[\"10-11-2019\"],\"xaxis\":\"x\",\"y\":[45],\"yaxis\":\"y\",\"type\":\"scatter\"},{\"hovertemplate\":\"last_review=%{x}<br>count=%{marker.size}<extra></extra>\",\"legendgroup\":\"02-01-2019\",\"marker\":{\"color\":\"#ab63fa\",\"size\":[45],\"sizemode\":\"area\",\"sizeref\":0.6725,\"symbol\":\"circle\"},\"mode\":\"markers\",\"name\":\"02-01-2019\",\"orientation\":\"v\",\"showlegend\":true,\"x\":[\"02-01-2019\"],\"xaxis\":\"x\",\"y\":[45],\"yaxis\":\"y\",\"type\":\"scatter\"},{\"hovertemplate\":\"last_review=%{x}<br>count=%{marker.size}<extra></extra>\",\"legendgroup\":\"29-09-2019\",\"marker\":{\"color\":\"#FFA15A\",\"size\":[43],\"sizemode\":\"area\",\"sizeref\":0.6725,\"symbol\":\"circle\"},\"mode\":\"markers\",\"name\":\"29-09-2019\",\"orientation\":\"v\",\"showlegend\":true,\"x\":[\"29-09-2019\"],\"xaxis\":\"x\",\"y\":[43],\"yaxis\":\"y\",\"type\":\"scatter\"},{\"hovertemplate\":\"last_review=%{x}<br>count=%{marker.size}<extra></extra>\",\"legendgroup\":\"09-02-2020\",\"marker\":{\"color\":\"#19d3f3\",\"size\":[43],\"sizemode\":\"area\",\"sizeref\":0.6725,\"symbol\":\"circle\"},\"mode\":\"markers\",\"name\":\"09-02-2020\",\"orientation\":\"v\",\"showlegend\":true,\"x\":[\"09-02-2020\"],\"xaxis\":\"x\",\"y\":[43],\"yaxis\":\"y\",\"type\":\"scatter\"},{\"hovertemplate\":\"last_review=%{x}<br>count=%{marker.size}<extra></extra>\",\"legendgroup\":\"11-08-2019\",\"marker\":{\"color\":\"#FF6692\",\"size\":[42],\"sizemode\":\"area\",\"sizeref\":0.6725,\"symbol\":\"circle\"},\"mode\":\"markers\",\"name\":\"11-08-2019\",\"orientation\":\"v\",\"showlegend\":true,\"x\":[\"11-08-2019\"],\"xaxis\":\"x\",\"y\":[42],\"yaxis\":\"y\",\"type\":\"scatter\"},{\"hovertemplate\":\"last_review=%{x}<br>count=%{marker.size}<extra></extra>\",\"legendgroup\":\"06-10-2019\",\"marker\":{\"color\":\"#B6E880\",\"size\":[41],\"sizemode\":\"area\",\"sizeref\":0.6725,\"symbol\":\"circle\"},\"mode\":\"markers\",\"name\":\"06-10-2019\",\"orientation\":\"v\",\"showlegend\":true,\"x\":[\"06-10-2019\"],\"xaxis\":\"x\",\"y\":[41],\"yaxis\":\"y\",\"type\":\"scatter\"},{\"hovertemplate\":\"last_review=%{x}<br>count=%{marker.size}<extra></extra>\",\"legendgroup\":\"05-08-2019\",\"marker\":{\"color\":\"#FF97FF\",\"size\":[40],\"sizemode\":\"area\",\"sizeref\":0.6725,\"symbol\":\"circle\"},\"mode\":\"markers\",\"name\":\"05-08-2019\",\"orientation\":\"v\",\"showlegend\":true,\"x\":[\"05-08-2019\"],\"xaxis\":\"x\",\"y\":[40],\"yaxis\":\"y\",\"type\":\"scatter\"},{\"hovertemplate\":\"last_review=%{x}<br>count=%{marker.size}<extra></extra>\",\"legendgroup\":\"01-12-2019\",\"marker\":{\"color\":\"#FECB52\",\"size\":[40],\"sizemode\":\"area\",\"sizeref\":0.6725,\"symbol\":\"circle\"},\"mode\":\"markers\",\"name\":\"01-12-2019\",\"orientation\":\"v\",\"showlegend\":true,\"x\":[\"01-12-2019\"],\"xaxis\":\"x\",\"y\":[40],\"yaxis\":\"y\",\"type\":\"scatter\"},{\"hovertemplate\":\"last_review=%{x}<br>count=%{marker.size}<extra></extra>\",\"legendgroup\":\"31-12-2019\",\"marker\":{\"color\":\"#636efa\",\"size\":[40],\"sizemode\":\"area\",\"sizeref\":0.6725,\"symbol\":\"circle\"},\"mode\":\"markers\",\"name\":\"31-12-2019\",\"orientation\":\"v\",\"showlegend\":true,\"x\":[\"31-12-2019\"],\"xaxis\":\"x\",\"y\":[40],\"yaxis\":\"y\",\"type\":\"scatter\"},{\"hovertemplate\":\"last_review=%{x}<br>count=%{marker.size}<extra></extra>\",\"legendgroup\":\"12-03-2020\",\"marker\":{\"color\":\"#EF553B\",\"size\":[40],\"sizemode\":\"area\",\"sizeref\":0.6725,\"symbol\":\"circle\"},\"mode\":\"markers\",\"name\":\"12-03-2020\",\"orientation\":\"v\",\"showlegend\":true,\"x\":[\"12-03-2020\"],\"xaxis\":\"x\",\"y\":[40],\"yaxis\":\"y\",\"type\":\"scatter\"},{\"hovertemplate\":\"last_review=%{x}<br>count=%{marker.size}<extra></extra>\",\"legendgroup\":\"01-01-2019\",\"marker\":{\"color\":\"#00cc96\",\"size\":[39],\"sizemode\":\"area\",\"sizeref\":0.6725,\"symbol\":\"circle\"},\"mode\":\"markers\",\"name\":\"01-01-2019\",\"orientation\":\"v\",\"showlegend\":true,\"x\":[\"01-01-2019\"],\"xaxis\":\"x\",\"y\":[39],\"yaxis\":\"y\",\"type\":\"scatter\"},{\"hovertemplate\":\"last_review=%{x}<br>count=%{marker.size}<extra></extra>\",\"legendgroup\":\"25-02-2020\",\"marker\":{\"color\":\"#ab63fa\",\"size\":[39],\"sizemode\":\"area\",\"sizeref\":0.6725,\"symbol\":\"circle\"},\"mode\":\"markers\",\"name\":\"25-02-2020\",\"orientation\":\"v\",\"showlegend\":true,\"x\":[\"25-02-2020\"],\"xaxis\":\"x\",\"y\":[39],\"yaxis\":\"y\",\"type\":\"scatter\"},{\"hovertemplate\":\"last_review=%{x}<br>count=%{marker.size}<extra></extra>\",\"legendgroup\":\"26-01-2020\",\"marker\":{\"color\":\"#FFA15A\",\"size\":[38],\"sizemode\":\"area\",\"sizeref\":0.6725,\"symbol\":\"circle\"},\"mode\":\"markers\",\"name\":\"26-01-2020\",\"orientation\":\"v\",\"showlegend\":true,\"x\":[\"26-01-2020\"],\"xaxis\":\"x\",\"y\":[38],\"yaxis\":\"y\",\"type\":\"scatter\"},{\"hovertemplate\":\"last_review=%{x}<br>count=%{marker.size}<extra></extra>\",\"legendgroup\":\"22-10-2019\",\"marker\":{\"color\":\"#19d3f3\",\"size\":[38],\"sizemode\":\"area\",\"sizeref\":0.6725,\"symbol\":\"circle\"},\"mode\":\"markers\",\"name\":\"22-10-2019\",\"orientation\":\"v\",\"showlegend\":true,\"x\":[\"22-10-2019\"],\"xaxis\":\"x\",\"y\":[38],\"yaxis\":\"y\",\"type\":\"scatter\"},{\"hovertemplate\":\"last_review=%{x}<br>count=%{marker.size}<extra></extra>\",\"legendgroup\":\"17-03-2020\",\"marker\":{\"color\":\"#FF6692\",\"size\":[37],\"sizemode\":\"area\",\"sizeref\":0.6725,\"symbol\":\"circle\"},\"mode\":\"markers\",\"name\":\"17-03-2020\",\"orientation\":\"v\",\"showlegend\":true,\"x\":[\"17-03-2020\"],\"xaxis\":\"x\",\"y\":[37],\"yaxis\":\"y\",\"type\":\"scatter\"},{\"hovertemplate\":\"last_review=%{x}<br>count=%{marker.size}<extra></extra>\",\"legendgroup\":\"13-02-2020\",\"marker\":{\"color\":\"#B6E880\",\"size\":[36],\"sizemode\":\"area\",\"sizeref\":0.6725,\"symbol\":\"circle\"},\"mode\":\"markers\",\"name\":\"13-02-2020\",\"orientation\":\"v\",\"showlegend\":true,\"x\":[\"13-02-2020\"],\"xaxis\":\"x\",\"y\":[36],\"yaxis\":\"y\",\"type\":\"scatter\"},{\"hovertemplate\":\"last_review=%{x}<br>count=%{marker.size}<extra></extra>\",\"legendgroup\":\"29-02-2020\",\"marker\":{\"color\":\"#FF97FF\",\"size\":[36],\"sizemode\":\"area\",\"sizeref\":0.6725,\"symbol\":\"circle\"},\"mode\":\"markers\",\"name\":\"29-02-2020\",\"orientation\":\"v\",\"showlegend\":true,\"x\":[\"29-02-2020\"],\"xaxis\":\"x\",\"y\":[36],\"yaxis\":\"y\",\"type\":\"scatter\"},{\"hovertemplate\":\"last_review=%{x}<br>count=%{marker.size}<extra></extra>\",\"legendgroup\":\"18-08-2019\",\"marker\":{\"color\":\"#FECB52\",\"size\":[36],\"sizemode\":\"area\",\"sizeref\":0.6725,\"symbol\":\"circle\"},\"mode\":\"markers\",\"name\":\"18-08-2019\",\"orientation\":\"v\",\"showlegend\":true,\"x\":[\"18-08-2019\"],\"xaxis\":\"x\",\"y\":[36],\"yaxis\":\"y\",\"type\":\"scatter\"},{\"hovertemplate\":\"last_review=%{x}<br>count=%{marker.size}<extra></extra>\",\"legendgroup\":\"06-03-2020\",\"marker\":{\"color\":\"#636efa\",\"size\":[35],\"sizemode\":\"area\",\"sizeref\":0.6725,\"symbol\":\"circle\"},\"mode\":\"markers\",\"name\":\"06-03-2020\",\"orientation\":\"v\",\"showlegend\":true,\"x\":[\"06-03-2020\"],\"xaxis\":\"x\",\"y\":[35],\"yaxis\":\"y\",\"type\":\"scatter\"},{\"hovertemplate\":\"last_review=%{x}<br>count=%{marker.size}<extra></extra>\",\"legendgroup\":\"24-11-2019\",\"marker\":{\"color\":\"#EF553B\",\"size\":[35],\"sizemode\":\"area\",\"sizeref\":0.6725,\"symbol\":\"circle\"},\"mode\":\"markers\",\"name\":\"24-11-2019\",\"orientation\":\"v\",\"showlegend\":true,\"x\":[\"24-11-2019\"],\"xaxis\":\"x\",\"y\":[35],\"yaxis\":\"y\",\"type\":\"scatter\"},{\"hovertemplate\":\"last_review=%{x}<br>count=%{marker.size}<extra></extra>\",\"legendgroup\":\"04-08-2019\",\"marker\":{\"color\":\"#00cc96\",\"size\":[34],\"sizemode\":\"area\",\"sizeref\":0.6725,\"symbol\":\"circle\"},\"mode\":\"markers\",\"name\":\"04-08-2019\",\"orientation\":\"v\",\"showlegend\":true,\"x\":[\"04-08-2019\"],\"xaxis\":\"x\",\"y\":[34],\"yaxis\":\"y\",\"type\":\"scatter\"},{\"hovertemplate\":\"last_review=%{x}<br>count=%{marker.size}<extra></extra>\",\"legendgroup\":\"02-02-2020\",\"marker\":{\"color\":\"#ab63fa\",\"size\":[33],\"sizemode\":\"area\",\"sizeref\":0.6725,\"symbol\":\"circle\"},\"mode\":\"markers\",\"name\":\"02-02-2020\",\"orientation\":\"v\",\"showlegend\":true,\"x\":[\"02-02-2020\"],\"xaxis\":\"x\",\"y\":[33],\"yaxis\":\"y\",\"type\":\"scatter\"},{\"hovertemplate\":\"last_review=%{x}<br>count=%{marker.size}<extra></extra>\",\"legendgroup\":\"02-06-2019\",\"marker\":{\"color\":\"#FFA15A\",\"size\":[32],\"sizemode\":\"area\",\"sizeref\":0.6725,\"symbol\":\"circle\"},\"mode\":\"markers\",\"name\":\"02-06-2019\",\"orientation\":\"v\",\"showlegend\":true,\"x\":[\"02-06-2019\"],\"xaxis\":\"x\",\"y\":[32],\"yaxis\":\"y\",\"type\":\"scatter\"},{\"hovertemplate\":\"last_review=%{x}<br>count=%{marker.size}<extra></extra>\",\"legendgroup\":\"18-02-2020\",\"marker\":{\"color\":\"#19d3f3\",\"size\":[31],\"sizemode\":\"area\",\"sizeref\":0.6725,\"symbol\":\"circle\"},\"mode\":\"markers\",\"name\":\"18-02-2020\",\"orientation\":\"v\",\"showlegend\":true,\"x\":[\"18-02-2020\"],\"xaxis\":\"x\",\"y\":[31],\"yaxis\":\"y\",\"type\":\"scatter\"},{\"hovertemplate\":\"last_review=%{x}<br>count=%{marker.size}<extra></extra>\",\"legendgroup\":\"08-12-2019\",\"marker\":{\"color\":\"#FF6692\",\"size\":[30],\"sizemode\":\"area\",\"sizeref\":0.6725,\"symbol\":\"circle\"},\"mode\":\"markers\",\"name\":\"08-12-2019\",\"orientation\":\"v\",\"showlegend\":true,\"x\":[\"08-12-2019\"],\"xaxis\":\"x\",\"y\":[30],\"yaxis\":\"y\",\"type\":\"scatter\"},{\"hovertemplate\":\"last_review=%{x}<br>count=%{marker.size}<extra></extra>\",\"legendgroup\":\"01-01-2018\",\"marker\":{\"color\":\"#B6E880\",\"size\":[29],\"sizemode\":\"area\",\"sizeref\":0.6725,\"symbol\":\"circle\"},\"mode\":\"markers\",\"name\":\"01-01-2018\",\"orientation\":\"v\",\"showlegend\":true,\"x\":[\"01-01-2018\"],\"xaxis\":\"x\",\"y\":[29],\"yaxis\":\"y\",\"type\":\"scatter\"},{\"hovertemplate\":\"last_review=%{x}<br>count=%{marker.size}<extra></extra>\",\"legendgroup\":\"30-06-2019\",\"marker\":{\"color\":\"#FF97FF\",\"size\":[29],\"sizemode\":\"area\",\"sizeref\":0.6725,\"symbol\":\"circle\"},\"mode\":\"markers\",\"name\":\"30-06-2019\",\"orientation\":\"v\",\"showlegend\":true,\"x\":[\"30-06-2019\"],\"xaxis\":\"x\",\"y\":[29],\"yaxis\":\"y\",\"type\":\"scatter\"},{\"hovertemplate\":\"last_review=%{x}<br>count=%{marker.size}<extra></extra>\",\"legendgroup\":\"18-03-2020\",\"marker\":{\"color\":\"#FECB52\",\"size\":[29],\"sizemode\":\"area\",\"sizeref\":0.6725,\"symbol\":\"circle\"},\"mode\":\"markers\",\"name\":\"18-03-2020\",\"orientation\":\"v\",\"showlegend\":true,\"x\":[\"18-03-2020\"],\"xaxis\":\"x\",\"y\":[29],\"yaxis\":\"y\",\"type\":\"scatter\"},{\"hovertemplate\":\"last_review=%{x}<br>count=%{marker.size}<extra></extra>\",\"legendgroup\":\"12-08-2019\",\"marker\":{\"color\":\"#636efa\",\"size\":[29],\"sizemode\":\"area\",\"sizeref\":0.6725,\"symbol\":\"circle\"},\"mode\":\"markers\",\"name\":\"12-08-2019\",\"orientation\":\"v\",\"showlegend\":true,\"x\":[\"12-08-2019\"],\"xaxis\":\"x\",\"y\":[29],\"yaxis\":\"y\",\"type\":\"scatter\"},{\"hovertemplate\":\"last_review=%{x}<br>count=%{marker.size}<extra></extra>\",\"legendgroup\":\"26-02-2020\",\"marker\":{\"color\":\"#EF553B\",\"size\":[28],\"sizemode\":\"area\",\"sizeref\":0.6725,\"symbol\":\"circle\"},\"mode\":\"markers\",\"name\":\"26-02-2020\",\"orientation\":\"v\",\"showlegend\":true,\"x\":[\"26-02-2020\"],\"xaxis\":\"x\",\"y\":[28],\"yaxis\":\"y\",\"type\":\"scatter\"},{\"hovertemplate\":\"last_review=%{x}<br>count=%{marker.size}<extra></extra>\",\"legendgroup\":\"19-01-2020\",\"marker\":{\"color\":\"#00cc96\",\"size\":[28],\"sizemode\":\"area\",\"sizeref\":0.6725,\"symbol\":\"circle\"},\"mode\":\"markers\",\"name\":\"19-01-2020\",\"orientation\":\"v\",\"showlegend\":true,\"x\":[\"19-01-2020\"],\"xaxis\":\"x\",\"y\":[28],\"yaxis\":\"y\",\"type\":\"scatter\"},{\"hovertemplate\":\"last_review=%{x}<br>count=%{marker.size}<extra></extra>\",\"legendgroup\":\"10-08-2019\",\"marker\":{\"color\":\"#ab63fa\",\"size\":[28],\"sizemode\":\"area\",\"sizeref\":0.6725,\"symbol\":\"circle\"},\"mode\":\"markers\",\"name\":\"10-08-2019\",\"orientation\":\"v\",\"showlegend\":true,\"x\":[\"10-08-2019\"],\"xaxis\":\"x\",\"y\":[28],\"yaxis\":\"y\",\"type\":\"scatter\"},{\"hovertemplate\":\"last_review=%{x}<br>count=%{marker.size}<extra></extra>\",\"legendgroup\":\"28-07-2019\",\"marker\":{\"color\":\"#FFA15A\",\"size\":[28],\"sizemode\":\"area\",\"sizeref\":0.6725,\"symbol\":\"circle\"},\"mode\":\"markers\",\"name\":\"28-07-2019\",\"orientation\":\"v\",\"showlegend\":true,\"x\":[\"28-07-2019\"],\"xaxis\":\"x\",\"y\":[28],\"yaxis\":\"y\",\"type\":\"scatter\"},{\"hovertemplate\":\"last_review=%{x}<br>count=%{marker.size}<extra></extra>\",\"legendgroup\":\"05-05-2019\",\"marker\":{\"color\":\"#19d3f3\",\"size\":[27],\"sizemode\":\"area\",\"sizeref\":0.6725,\"symbol\":\"circle\"},\"mode\":\"markers\",\"name\":\"05-05-2019\",\"orientation\":\"v\",\"showlegend\":true,\"x\":[\"05-05-2019\"],\"xaxis\":\"x\",\"y\":[27],\"yaxis\":\"y\",\"type\":\"scatter\"},{\"hovertemplate\":\"last_review=%{x}<br>count=%{marker.size}<extra></extra>\",\"legendgroup\":\"10-06-2019\",\"marker\":{\"color\":\"#FF6692\",\"size\":[27],\"sizemode\":\"area\",\"sizeref\":0.6725,\"symbol\":\"circle\"},\"mode\":\"markers\",\"name\":\"10-06-2019\",\"orientation\":\"v\",\"showlegend\":true,\"x\":[\"10-06-2019\"],\"xaxis\":\"x\",\"y\":[27],\"yaxis\":\"y\",\"type\":\"scatter\"},{\"hovertemplate\":\"last_review=%{x}<br>count=%{marker.size}<extra></extra>\",\"legendgroup\":\"17-11-2019\",\"marker\":{\"color\":\"#B6E880\",\"size\":[27],\"sizemode\":\"area\",\"sizeref\":0.6725,\"symbol\":\"circle\"},\"mode\":\"markers\",\"name\":\"17-11-2019\",\"orientation\":\"v\",\"showlegend\":true,\"x\":[\"17-11-2019\"],\"xaxis\":\"x\",\"y\":[27],\"yaxis\":\"y\",\"type\":\"scatter\"},{\"hovertemplate\":\"last_review=%{x}<br>count=%{marker.size}<extra></extra>\",\"legendgroup\":\"22-04-2019\",\"marker\":{\"color\":\"#FF97FF\",\"size\":[26],\"sizemode\":\"area\",\"sizeref\":0.6725,\"symbol\":\"circle\"},\"mode\":\"markers\",\"name\":\"22-04-2019\",\"orientation\":\"v\",\"showlegend\":true,\"x\":[\"22-04-2019\"],\"xaxis\":\"x\",\"y\":[26],\"yaxis\":\"y\",\"type\":\"scatter\"},{\"hovertemplate\":\"last_review=%{x}<br>count=%{marker.size}<extra></extra>\",\"legendgroup\":\"22-02-2020\",\"marker\":{\"color\":\"#FECB52\",\"size\":[26],\"sizemode\":\"area\",\"sizeref\":0.6725,\"symbol\":\"circle\"},\"mode\":\"markers\",\"name\":\"22-02-2020\",\"orientation\":\"v\",\"showlegend\":true,\"x\":[\"22-02-2020\"],\"xaxis\":\"x\",\"y\":[26],\"yaxis\":\"y\",\"type\":\"scatter\"},{\"hovertemplate\":\"last_review=%{x}<br>count=%{marker.size}<extra></extra>\",\"legendgroup\":\"06-08-2019\",\"marker\":{\"color\":\"#636efa\",\"size\":[26],\"sizemode\":\"area\",\"sizeref\":0.6725,\"symbol\":\"circle\"},\"mode\":\"markers\",\"name\":\"06-08-2019\",\"orientation\":\"v\",\"showlegend\":true,\"x\":[\"06-08-2019\"],\"xaxis\":\"x\",\"y\":[26],\"yaxis\":\"y\",\"type\":\"scatter\"},{\"hovertemplate\":\"last_review=%{x}<br>count=%{marker.size}<extra></extra>\",\"legendgroup\":\"30-09-2019\",\"marker\":{\"color\":\"#EF553B\",\"size\":[26],\"sizemode\":\"area\",\"sizeref\":0.6725,\"symbol\":\"circle\"},\"mode\":\"markers\",\"name\":\"30-09-2019\",\"orientation\":\"v\",\"showlegend\":true,\"x\":[\"30-09-2019\"],\"xaxis\":\"x\",\"y\":[26],\"yaxis\":\"y\",\"type\":\"scatter\"},{\"hovertemplate\":\"last_review=%{x}<br>count=%{marker.size}<extra></extra>\",\"legendgroup\":\"17-08-2019\",\"marker\":{\"color\":\"#00cc96\",\"size\":[26],\"sizemode\":\"area\",\"sizeref\":0.6725,\"symbol\":\"circle\"},\"mode\":\"markers\",\"name\":\"17-08-2019\",\"orientation\":\"v\",\"showlegend\":true,\"x\":[\"17-08-2019\"],\"xaxis\":\"x\",\"y\":[26],\"yaxis\":\"y\",\"type\":\"scatter\"},{\"hovertemplate\":\"last_review=%{x}<br>count=%{marker.size}<extra></extra>\",\"legendgroup\":\"28-04-2019\",\"marker\":{\"color\":\"#ab63fa\",\"size\":[25],\"sizemode\":\"area\",\"sizeref\":0.6725,\"symbol\":\"circle\"},\"mode\":\"markers\",\"name\":\"28-04-2019\",\"orientation\":\"v\",\"showlegend\":true,\"x\":[\"28-04-2019\"],\"xaxis\":\"x\",\"y\":[25],\"yaxis\":\"y\",\"type\":\"scatter\"},{\"hovertemplate\":\"last_review=%{x}<br>count=%{marker.size}<extra></extra>\",\"legendgroup\":\"27-12-2019\",\"marker\":{\"color\":\"#FFA15A\",\"size\":[25],\"sizemode\":\"area\",\"sizeref\":0.6725,\"symbol\":\"circle\"},\"mode\":\"markers\",\"name\":\"27-12-2019\",\"orientation\":\"v\",\"showlegend\":true,\"x\":[\"27-12-2019\"],\"xaxis\":\"x\",\"y\":[25],\"yaxis\":\"y\",\"type\":\"scatter\"},{\"hovertemplate\":\"last_review=%{x}<br>count=%{marker.size}<extra></extra>\",\"legendgroup\":\"17-09-2019\",\"marker\":{\"color\":\"#19d3f3\",\"size\":[25],\"sizemode\":\"area\",\"sizeref\":0.6725,\"symbol\":\"circle\"},\"mode\":\"markers\",\"name\":\"17-09-2019\",\"orientation\":\"v\",\"showlegend\":true,\"x\":[\"17-09-2019\"],\"xaxis\":\"x\",\"y\":[25],\"yaxis\":\"y\",\"type\":\"scatter\"},{\"hovertemplate\":\"last_review=%{x}<br>count=%{marker.size}<extra></extra>\",\"legendgroup\":\"21-02-2020\",\"marker\":{\"color\":\"#FF6692\",\"size\":[25],\"sizemode\":\"area\",\"sizeref\":0.6725,\"symbol\":\"circle\"},\"mode\":\"markers\",\"name\":\"21-02-2020\",\"orientation\":\"v\",\"showlegend\":true,\"x\":[\"21-02-2020\"],\"xaxis\":\"x\",\"y\":[25],\"yaxis\":\"y\",\"type\":\"scatter\"},{\"hovertemplate\":\"last_review=%{x}<br>count=%{marker.size}<extra></extra>\",\"legendgroup\":\"04-03-2020\",\"marker\":{\"color\":\"#B6E880\",\"size\":[24],\"sizemode\":\"area\",\"sizeref\":0.6725,\"symbol\":\"circle\"},\"mode\":\"markers\",\"name\":\"04-03-2020\",\"orientation\":\"v\",\"showlegend\":true,\"x\":[\"04-03-2020\"],\"xaxis\":\"x\",\"y\":[24],\"yaxis\":\"y\",\"type\":\"scatter\"},{\"hovertemplate\":\"last_review=%{x}<br>count=%{marker.size}<extra></extra>\",\"legendgroup\":\"26-10-2019\",\"marker\":{\"color\":\"#FF97FF\",\"size\":[24],\"sizemode\":\"area\",\"sizeref\":0.6725,\"symbol\":\"circle\"},\"mode\":\"markers\",\"name\":\"26-10-2019\",\"orientation\":\"v\",\"showlegend\":true,\"x\":[\"26-10-2019\"],\"xaxis\":\"x\",\"y\":[24],\"yaxis\":\"y\",\"type\":\"scatter\"},{\"hovertemplate\":\"last_review=%{x}<br>count=%{marker.size}<extra></extra>\",\"legendgroup\":\"07-10-2019\",\"marker\":{\"color\":\"#FECB52\",\"size\":[24],\"sizemode\":\"area\",\"sizeref\":0.6725,\"symbol\":\"circle\"},\"mode\":\"markers\",\"name\":\"07-10-2019\",\"orientation\":\"v\",\"showlegend\":true,\"x\":[\"07-10-2019\"],\"xaxis\":\"x\",\"y\":[24],\"yaxis\":\"y\",\"type\":\"scatter\"},{\"hovertemplate\":\"last_review=%{x}<br>count=%{marker.size}<extra></extra>\",\"legendgroup\":\"28-10-2019\",\"marker\":{\"color\":\"#636efa\",\"size\":[24],\"sizemode\":\"area\",\"sizeref\":0.6725,\"symbol\":\"circle\"},\"mode\":\"markers\",\"name\":\"28-10-2019\",\"orientation\":\"v\",\"showlegend\":true,\"x\":[\"28-10-2019\"],\"xaxis\":\"x\",\"y\":[24],\"yaxis\":\"y\",\"type\":\"scatter\"},{\"hovertemplate\":\"last_review=%{x}<br>count=%{marker.size}<extra></extra>\",\"legendgroup\":\"16-06-2019\",\"marker\":{\"color\":\"#EF553B\",\"size\":[24],\"sizemode\":\"area\",\"sizeref\":0.6725,\"symbol\":\"circle\"},\"mode\":\"markers\",\"name\":\"16-06-2019\",\"orientation\":\"v\",\"showlegend\":true,\"x\":[\"16-06-2019\"],\"xaxis\":\"x\",\"y\":[24],\"yaxis\":\"y\",\"type\":\"scatter\"},{\"hovertemplate\":\"last_review=%{x}<br>count=%{marker.size}<extra></extra>\",\"legendgroup\":\"22-10-2018\",\"marker\":{\"color\":\"#00cc96\",\"size\":[24],\"sizemode\":\"area\",\"sizeref\":0.6725,\"symbol\":\"circle\"},\"mode\":\"markers\",\"name\":\"22-10-2018\",\"orientation\":\"v\",\"showlegend\":true,\"x\":[\"22-10-2018\"],\"xaxis\":\"x\",\"y\":[24],\"yaxis\":\"y\",\"type\":\"scatter\"},{\"hovertemplate\":\"last_review=%{x}<br>count=%{marker.size}<extra></extra>\",\"legendgroup\":\"14-07-2019\",\"marker\":{\"color\":\"#ab63fa\",\"size\":[23],\"sizemode\":\"area\",\"sizeref\":0.6725,\"symbol\":\"circle\"},\"mode\":\"markers\",\"name\":\"14-07-2019\",\"orientation\":\"v\",\"showlegend\":true,\"x\":[\"14-07-2019\"],\"xaxis\":\"x\",\"y\":[23],\"yaxis\":\"y\",\"type\":\"scatter\"},{\"hovertemplate\":\"last_review=%{x}<br>count=%{marker.size}<extra></extra>\",\"legendgroup\":\"13-10-2019\",\"marker\":{\"color\":\"#FFA15A\",\"size\":[23],\"sizemode\":\"area\",\"sizeref\":0.6725,\"symbol\":\"circle\"},\"mode\":\"markers\",\"name\":\"13-10-2019\",\"orientation\":\"v\",\"showlegend\":true,\"x\":[\"13-10-2019\"],\"xaxis\":\"x\",\"y\":[23],\"yaxis\":\"y\",\"type\":\"scatter\"},{\"hovertemplate\":\"last_review=%{x}<br>count=%{marker.size}<extra></extra>\",\"legendgroup\":\"15-12-2019\",\"marker\":{\"color\":\"#19d3f3\",\"size\":[23],\"sizemode\":\"area\",\"sizeref\":0.6725,\"symbol\":\"circle\"},\"mode\":\"markers\",\"name\":\"15-12-2019\",\"orientation\":\"v\",\"showlegend\":true,\"x\":[\"15-12-2019\"],\"xaxis\":\"x\",\"y\":[23],\"yaxis\":\"y\",\"type\":\"scatter\"},{\"hovertemplate\":\"last_review=%{x}<br>count=%{marker.size}<extra></extra>\",\"legendgroup\":\"05-03-2020\",\"marker\":{\"color\":\"#FF6692\",\"size\":[23],\"sizemode\":\"area\",\"sizeref\":0.6725,\"symbol\":\"circle\"},\"mode\":\"markers\",\"name\":\"05-03-2020\",\"orientation\":\"v\",\"showlegend\":true,\"x\":[\"05-03-2020\"],\"xaxis\":\"x\",\"y\":[23],\"yaxis\":\"y\",\"type\":\"scatter\"},{\"hovertemplate\":\"last_review=%{x}<br>count=%{marker.size}<extra></extra>\",\"legendgroup\":\"28-12-2019\",\"marker\":{\"color\":\"#B6E880\",\"size\":[23],\"sizemode\":\"area\",\"sizeref\":0.6725,\"symbol\":\"circle\"},\"mode\":\"markers\",\"name\":\"28-12-2019\",\"orientation\":\"v\",\"showlegend\":true,\"x\":[\"28-12-2019\"],\"xaxis\":\"x\",\"y\":[23],\"yaxis\":\"y\",\"type\":\"scatter\"},{\"hovertemplate\":\"last_review=%{x}<br>count=%{marker.size}<extra></extra>\",\"legendgroup\":\"27-01-2020\",\"marker\":{\"color\":\"#FF97FF\",\"size\":[22],\"sizemode\":\"area\",\"sizeref\":0.6725,\"symbol\":\"circle\"},\"mode\":\"markers\",\"name\":\"27-01-2020\",\"orientation\":\"v\",\"showlegend\":true,\"x\":[\"27-01-2020\"],\"xaxis\":\"x\",\"y\":[22],\"yaxis\":\"y\",\"type\":\"scatter\"},{\"hovertemplate\":\"last_review=%{x}<br>count=%{marker.size}<extra></extra>\",\"legendgroup\":\"08-09-2019\",\"marker\":{\"color\":\"#FECB52\",\"size\":[22],\"sizemode\":\"area\",\"sizeref\":0.6725,\"symbol\":\"circle\"},\"mode\":\"markers\",\"name\":\"08-09-2019\",\"orientation\":\"v\",\"showlegend\":true,\"x\":[\"08-09-2019\"],\"xaxis\":\"x\",\"y\":[22],\"yaxis\":\"y\",\"type\":\"scatter\"},{\"hovertemplate\":\"last_review=%{x}<br>count=%{marker.size}<extra></extra>\",\"legendgroup\":\"02-01-2018\",\"marker\":{\"color\":\"#636efa\",\"size\":[22],\"sizemode\":\"area\",\"sizeref\":0.6725,\"symbol\":\"circle\"},\"mode\":\"markers\",\"name\":\"02-01-2018\",\"orientation\":\"v\",\"showlegend\":true,\"x\":[\"02-01-2018\"],\"xaxis\":\"x\",\"y\":[22],\"yaxis\":\"y\",\"type\":\"scatter\"},{\"hovertemplate\":\"last_review=%{x}<br>count=%{marker.size}<extra></extra>\",\"legendgroup\":\"18-09-2019\",\"marker\":{\"color\":\"#EF553B\",\"size\":[22],\"sizemode\":\"area\",\"sizeref\":0.6725,\"symbol\":\"circle\"},\"mode\":\"markers\",\"name\":\"18-09-2019\",\"orientation\":\"v\",\"showlegend\":true,\"x\":[\"18-09-2019\"],\"xaxis\":\"x\",\"y\":[22],\"yaxis\":\"y\",\"type\":\"scatter\"},{\"hovertemplate\":\"last_review=%{x}<br>count=%{marker.size}<extra></extra>\",\"legendgroup\":\"28-02-2020\",\"marker\":{\"color\":\"#00cc96\",\"size\":[22],\"sizemode\":\"area\",\"sizeref\":0.6725,\"symbol\":\"circle\"},\"mode\":\"markers\",\"name\":\"28-02-2020\",\"orientation\":\"v\",\"showlegend\":true,\"x\":[\"28-02-2020\"],\"xaxis\":\"x\",\"y\":[22],\"yaxis\":\"y\",\"type\":\"scatter\"},{\"hovertemplate\":\"last_review=%{x}<br>count=%{marker.size}<extra></extra>\",\"legendgroup\":\"13-08-2019\",\"marker\":{\"color\":\"#ab63fa\",\"size\":[22],\"sizemode\":\"area\",\"sizeref\":0.6725,\"symbol\":\"circle\"},\"mode\":\"markers\",\"name\":\"13-08-2019\",\"orientation\":\"v\",\"showlegend\":true,\"x\":[\"13-08-2019\"],\"xaxis\":\"x\",\"y\":[22],\"yaxis\":\"y\",\"type\":\"scatter\"},{\"hovertemplate\":\"last_review=%{x}<br>count=%{marker.size}<extra></extra>\",\"legendgroup\":\"19-08-2019\",\"marker\":{\"color\":\"#FFA15A\",\"size\":[22],\"sizemode\":\"area\",\"sizeref\":0.6725,\"symbol\":\"circle\"},\"mode\":\"markers\",\"name\":\"19-08-2019\",\"orientation\":\"v\",\"showlegend\":true,\"x\":[\"19-08-2019\"],\"xaxis\":\"x\",\"y\":[22],\"yaxis\":\"y\",\"type\":\"scatter\"},{\"hovertemplate\":\"last_review=%{x}<br>count=%{marker.size}<extra></extra>\",\"legendgroup\":\"19-03-2020\",\"marker\":{\"color\":\"#19d3f3\",\"size\":[22],\"sizemode\":\"area\",\"sizeref\":0.6725,\"symbol\":\"circle\"},\"mode\":\"markers\",\"name\":\"19-03-2020\",\"orientation\":\"v\",\"showlegend\":true,\"x\":[\"19-03-2020\"],\"xaxis\":\"x\",\"y\":[22],\"yaxis\":\"y\",\"type\":\"scatter\"},{\"hovertemplate\":\"last_review=%{x}<br>count=%{marker.size}<extra></extra>\",\"legendgroup\":\"16-08-2019\",\"marker\":{\"color\":\"#FF6692\",\"size\":[22],\"sizemode\":\"area\",\"sizeref\":0.6725,\"symbol\":\"circle\"},\"mode\":\"markers\",\"name\":\"16-08-2019\",\"orientation\":\"v\",\"showlegend\":true,\"x\":[\"16-08-2019\"],\"xaxis\":\"x\",\"y\":[22],\"yaxis\":\"y\",\"type\":\"scatter\"},{\"hovertemplate\":\"last_review=%{x}<br>count=%{marker.size}<extra></extra>\",\"legendgroup\":\"12-01-2020\",\"marker\":{\"color\":\"#B6E880\",\"size\":[21],\"sizemode\":\"area\",\"sizeref\":0.6725,\"symbol\":\"circle\"},\"mode\":\"markers\",\"name\":\"12-01-2020\",\"orientation\":\"v\",\"showlegend\":true,\"x\":[\"12-01-2020\"],\"xaxis\":\"x\",\"y\":[21],\"yaxis\":\"y\",\"type\":\"scatter\"},{\"hovertemplate\":\"last_review=%{x}<br>count=%{marker.size}<extra></extra>\",\"legendgroup\":\"27-02-2020\",\"marker\":{\"color\":\"#FF97FF\",\"size\":[21],\"sizemode\":\"area\",\"sizeref\":0.6725,\"symbol\":\"circle\"},\"mode\":\"markers\",\"name\":\"27-02-2020\",\"orientation\":\"v\",\"showlegend\":true,\"x\":[\"27-02-2020\"],\"xaxis\":\"x\",\"y\":[21],\"yaxis\":\"y\",\"type\":\"scatter\"},{\"hovertemplate\":\"last_review=%{x}<br>count=%{marker.size}<extra></extra>\",\"legendgroup\":\"03-03-2020\",\"marker\":{\"color\":\"#FECB52\",\"size\":[21],\"sizemode\":\"area\",\"sizeref\":0.6725,\"symbol\":\"circle\"},\"mode\":\"markers\",\"name\":\"03-03-2020\",\"orientation\":\"v\",\"showlegend\":true,\"x\":[\"03-03-2020\"],\"xaxis\":\"x\",\"y\":[21],\"yaxis\":\"y\",\"type\":\"scatter\"}],                        {\"template\":{\"data\":{\"histogram2dcontour\":[{\"type\":\"histogram2dcontour\",\"colorbar\":{\"outlinewidth\":0,\"ticks\":\"\"},\"colorscale\":[[0.0,\"#0d0887\"],[0.1111111111111111,\"#46039f\"],[0.2222222222222222,\"#7201a8\"],[0.3333333333333333,\"#9c179e\"],[0.4444444444444444,\"#bd3786\"],[0.5555555555555556,\"#d8576b\"],[0.6666666666666666,\"#ed7953\"],[0.7777777777777778,\"#fb9f3a\"],[0.8888888888888888,\"#fdca26\"],[1.0,\"#f0f921\"]]}],\"choropleth\":[{\"type\":\"choropleth\",\"colorbar\":{\"outlinewidth\":0,\"ticks\":\"\"}}],\"histogram2d\":[{\"type\":\"histogram2d\",\"colorbar\":{\"outlinewidth\":0,\"ticks\":\"\"},\"colorscale\":[[0.0,\"#0d0887\"],[0.1111111111111111,\"#46039f\"],[0.2222222222222222,\"#7201a8\"],[0.3333333333333333,\"#9c179e\"],[0.4444444444444444,\"#bd3786\"],[0.5555555555555556,\"#d8576b\"],[0.6666666666666666,\"#ed7953\"],[0.7777777777777778,\"#fb9f3a\"],[0.8888888888888888,\"#fdca26\"],[1.0,\"#f0f921\"]]}],\"heatmap\":[{\"type\":\"heatmap\",\"colorbar\":{\"outlinewidth\":0,\"ticks\":\"\"},\"colorscale\":[[0.0,\"#0d0887\"],[0.1111111111111111,\"#46039f\"],[0.2222222222222222,\"#7201a8\"],[0.3333333333333333,\"#9c179e\"],[0.4444444444444444,\"#bd3786\"],[0.5555555555555556,\"#d8576b\"],[0.6666666666666666,\"#ed7953\"],[0.7777777777777778,\"#fb9f3a\"],[0.8888888888888888,\"#fdca26\"],[1.0,\"#f0f921\"]]}],\"heatmapgl\":[{\"type\":\"heatmapgl\",\"colorbar\":{\"outlinewidth\":0,\"ticks\":\"\"},\"colorscale\":[[0.0,\"#0d0887\"],[0.1111111111111111,\"#46039f\"],[0.2222222222222222,\"#7201a8\"],[0.3333333333333333,\"#9c179e\"],[0.4444444444444444,\"#bd3786\"],[0.5555555555555556,\"#d8576b\"],[0.6666666666666666,\"#ed7953\"],[0.7777777777777778,\"#fb9f3a\"],[0.8888888888888888,\"#fdca26\"],[1.0,\"#f0f921\"]]}],\"contourcarpet\":[{\"type\":\"contourcarpet\",\"colorbar\":{\"outlinewidth\":0,\"ticks\":\"\"}}],\"contour\":[{\"type\":\"contour\",\"colorbar\":{\"outlinewidth\":0,\"ticks\":\"\"},\"colorscale\":[[0.0,\"#0d0887\"],[0.1111111111111111,\"#46039f\"],[0.2222222222222222,\"#7201a8\"],[0.3333333333333333,\"#9c179e\"],[0.4444444444444444,\"#bd3786\"],[0.5555555555555556,\"#d8576b\"],[0.6666666666666666,\"#ed7953\"],[0.7777777777777778,\"#fb9f3a\"],[0.8888888888888888,\"#fdca26\"],[1.0,\"#f0f921\"]]}],\"surface\":[{\"type\":\"surface\",\"colorbar\":{\"outlinewidth\":0,\"ticks\":\"\"},\"colorscale\":[[0.0,\"#0d0887\"],[0.1111111111111111,\"#46039f\"],[0.2222222222222222,\"#7201a8\"],[0.3333333333333333,\"#9c179e\"],[0.4444444444444444,\"#bd3786\"],[0.5555555555555556,\"#d8576b\"],[0.6666666666666666,\"#ed7953\"],[0.7777777777777778,\"#fb9f3a\"],[0.8888888888888888,\"#fdca26\"],[1.0,\"#f0f921\"]]}],\"mesh3d\":[{\"type\":\"mesh3d\",\"colorbar\":{\"outlinewidth\":0,\"ticks\":\"\"}}],\"scatter\":[{\"fillpattern\":{\"fillmode\":\"overlay\",\"size\":10,\"solidity\":0.2},\"type\":\"scatter\"}],\"parcoords\":[{\"type\":\"parcoords\",\"line\":{\"colorbar\":{\"outlinewidth\":0,\"ticks\":\"\"}}}],\"scatterpolargl\":[{\"type\":\"scatterpolargl\",\"marker\":{\"colorbar\":{\"outlinewidth\":0,\"ticks\":\"\"}}}],\"bar\":[{\"error_x\":{\"color\":\"#2a3f5f\"},\"error_y\":{\"color\":\"#2a3f5f\"},\"marker\":{\"line\":{\"color\":\"#E5ECF6\",\"width\":0.5},\"pattern\":{\"fillmode\":\"overlay\",\"size\":10,\"solidity\":0.2}},\"type\":\"bar\"}],\"scattergeo\":[{\"type\":\"scattergeo\",\"marker\":{\"colorbar\":{\"outlinewidth\":0,\"ticks\":\"\"}}}],\"scatterpolar\":[{\"type\":\"scatterpolar\",\"marker\":{\"colorbar\":{\"outlinewidth\":0,\"ticks\":\"\"}}}],\"histogram\":[{\"marker\":{\"pattern\":{\"fillmode\":\"overlay\",\"size\":10,\"solidity\":0.2}},\"type\":\"histogram\"}],\"scattergl\":[{\"type\":\"scattergl\",\"marker\":{\"colorbar\":{\"outlinewidth\":0,\"ticks\":\"\"}}}],\"scatter3d\":[{\"type\":\"scatter3d\",\"line\":{\"colorbar\":{\"outlinewidth\":0,\"ticks\":\"\"}},\"marker\":{\"colorbar\":{\"outlinewidth\":0,\"ticks\":\"\"}}}],\"scattermapbox\":[{\"type\":\"scattermapbox\",\"marker\":{\"colorbar\":{\"outlinewidth\":0,\"ticks\":\"\"}}}],\"scatterternary\":[{\"type\":\"scatterternary\",\"marker\":{\"colorbar\":{\"outlinewidth\":0,\"ticks\":\"\"}}}],\"scattercarpet\":[{\"type\":\"scattercarpet\",\"marker\":{\"colorbar\":{\"outlinewidth\":0,\"ticks\":\"\"}}}],\"carpet\":[{\"aaxis\":{\"endlinecolor\":\"#2a3f5f\",\"gridcolor\":\"white\",\"linecolor\":\"white\",\"minorgridcolor\":\"white\",\"startlinecolor\":\"#2a3f5f\"},\"baxis\":{\"endlinecolor\":\"#2a3f5f\",\"gridcolor\":\"white\",\"linecolor\":\"white\",\"minorgridcolor\":\"white\",\"startlinecolor\":\"#2a3f5f\"},\"type\":\"carpet\"}],\"table\":[{\"cells\":{\"fill\":{\"color\":\"#EBF0F8\"},\"line\":{\"color\":\"white\"}},\"header\":{\"fill\":{\"color\":\"#C8D4E3\"},\"line\":{\"color\":\"white\"}},\"type\":\"table\"}],\"barpolar\":[{\"marker\":{\"line\":{\"color\":\"#E5ECF6\",\"width\":0.5},\"pattern\":{\"fillmode\":\"overlay\",\"size\":10,\"solidity\":0.2}},\"type\":\"barpolar\"}],\"pie\":[{\"automargin\":true,\"type\":\"pie\"}]},\"layout\":{\"autotypenumbers\":\"strict\",\"colorway\":[\"#636efa\",\"#EF553B\",\"#00cc96\",\"#ab63fa\",\"#FFA15A\",\"#19d3f3\",\"#FF6692\",\"#B6E880\",\"#FF97FF\",\"#FECB52\"],\"font\":{\"color\":\"#2a3f5f\"},\"hovermode\":\"closest\",\"hoverlabel\":{\"align\":\"left\"},\"paper_bgcolor\":\"white\",\"plot_bgcolor\":\"#E5ECF6\",\"polar\":{\"bgcolor\":\"#E5ECF6\",\"angularaxis\":{\"gridcolor\":\"white\",\"linecolor\":\"white\",\"ticks\":\"\"},\"radialaxis\":{\"gridcolor\":\"white\",\"linecolor\":\"white\",\"ticks\":\"\"}},\"ternary\":{\"bgcolor\":\"#E5ECF6\",\"aaxis\":{\"gridcolor\":\"white\",\"linecolor\":\"white\",\"ticks\":\"\"},\"baxis\":{\"gridcolor\":\"white\",\"linecolor\":\"white\",\"ticks\":\"\"},\"caxis\":{\"gridcolor\":\"white\",\"linecolor\":\"white\",\"ticks\":\"\"}},\"coloraxis\":{\"colorbar\":{\"outlinewidth\":0,\"ticks\":\"\"}},\"colorscale\":{\"sequential\":[[0.0,\"#0d0887\"],[0.1111111111111111,\"#46039f\"],[0.2222222222222222,\"#7201a8\"],[0.3333333333333333,\"#9c179e\"],[0.4444444444444444,\"#bd3786\"],[0.5555555555555556,\"#d8576b\"],[0.6666666666666666,\"#ed7953\"],[0.7777777777777778,\"#fb9f3a\"],[0.8888888888888888,\"#fdca26\"],[1.0,\"#f0f921\"]],\"sequentialminus\":[[0.0,\"#0d0887\"],[0.1111111111111111,\"#46039f\"],[0.2222222222222222,\"#7201a8\"],[0.3333333333333333,\"#9c179e\"],[0.4444444444444444,\"#bd3786\"],[0.5555555555555556,\"#d8576b\"],[0.6666666666666666,\"#ed7953\"],[0.7777777777777778,\"#fb9f3a\"],[0.8888888888888888,\"#fdca26\"],[1.0,\"#f0f921\"]],\"diverging\":[[0,\"#8e0152\"],[0.1,\"#c51b7d\"],[0.2,\"#de77ae\"],[0.3,\"#f1b6da\"],[0.4,\"#fde0ef\"],[0.5,\"#f7f7f7\"],[0.6,\"#e6f5d0\"],[0.7,\"#b8e186\"],[0.8,\"#7fbc41\"],[0.9,\"#4d9221\"],[1,\"#276419\"]]},\"xaxis\":{\"gridcolor\":\"white\",\"linecolor\":\"white\",\"ticks\":\"\",\"title\":{\"standoff\":15},\"zerolinecolor\":\"white\",\"automargin\":true,\"zerolinewidth\":2},\"yaxis\":{\"gridcolor\":\"white\",\"linecolor\":\"white\",\"ticks\":\"\",\"title\":{\"standoff\":15},\"zerolinecolor\":\"white\",\"automargin\":true,\"zerolinewidth\":2},\"scene\":{\"xaxis\":{\"backgroundcolor\":\"#E5ECF6\",\"gridcolor\":\"white\",\"linecolor\":\"white\",\"showbackground\":true,\"ticks\":\"\",\"zerolinecolor\":\"white\",\"gridwidth\":2},\"yaxis\":{\"backgroundcolor\":\"#E5ECF6\",\"gridcolor\":\"white\",\"linecolor\":\"white\",\"showbackground\":true,\"ticks\":\"\",\"zerolinecolor\":\"white\",\"gridwidth\":2},\"zaxis\":{\"backgroundcolor\":\"#E5ECF6\",\"gridcolor\":\"white\",\"linecolor\":\"white\",\"showbackground\":true,\"ticks\":\"\",\"zerolinecolor\":\"white\",\"gridwidth\":2}},\"shapedefaults\":{\"line\":{\"color\":\"#2a3f5f\"}},\"annotationdefaults\":{\"arrowcolor\":\"#2a3f5f\",\"arrowhead\":0,\"arrowwidth\":1},\"geo\":{\"bgcolor\":\"white\",\"landcolor\":\"#E5ECF6\",\"subunitcolor\":\"white\",\"showland\":true,\"showlakes\":true,\"lakecolor\":\"white\"},\"title\":{\"x\":0.05},\"mapbox\":{\"style\":\"light\"}}},\"xaxis\":{\"anchor\":\"y\",\"domain\":[0.0,1.0],\"title\":{\"text\":\"last_review\"},\"categoryorder\":\"array\",\"categoryarray\":[\"08-03-2020\",\"02-01-2020\",\"15-03-2020\",\"01-01-2020\",\"16-02-2020\",\"09-03-2020\",\"03-01-2020\",\"20-10-2019\",\"23-02-2020\",\"16-03-2020\",\"01-03-2020\",\"21-10-2019\",\"17-02-2020\",\"30-12-2019\",\"14-03-2020\",\"05-01-2020\",\"24-02-2020\",\"02-03-2020\",\"15-02-2020\",\"04-01-2020\",\"15-09-2019\",\"03-11-2019\",\"10-03-2020\",\"07-03-2020\",\"13-03-2020\",\"27-10-2019\",\"29-12-2019\",\"22-09-2019\",\"25-08-2019\",\"11-03-2020\",\"16-09-2019\",\"14-02-2020\",\"10-11-2019\",\"02-01-2019\",\"29-09-2019\",\"09-02-2020\",\"11-08-2019\",\"06-10-2019\",\"05-08-2019\",\"01-12-2019\",\"31-12-2019\",\"12-03-2020\",\"01-01-2019\",\"25-02-2020\",\"26-01-2020\",\"22-10-2019\",\"17-03-2020\",\"13-02-2020\",\"29-02-2020\",\"18-08-2019\",\"06-03-2020\",\"24-11-2019\",\"04-08-2019\",\"02-02-2020\",\"02-06-2019\",\"18-02-2020\",\"08-12-2019\",\"01-01-2018\",\"30-06-2019\",\"18-03-2020\",\"12-08-2019\",\"26-02-2020\",\"19-01-2020\",\"10-08-2019\",\"28-07-2019\",\"05-05-2019\",\"10-06-2019\",\"17-11-2019\",\"22-04-2019\",\"22-02-2020\",\"06-08-2019\",\"30-09-2019\",\"17-08-2019\",\"28-04-2019\",\"27-12-2019\",\"17-09-2019\",\"21-02-2020\",\"04-03-2020\",\"26-10-2019\",\"07-10-2019\",\"28-10-2019\",\"16-06-2019\",\"22-10-2018\",\"14-07-2019\",\"13-10-2019\",\"15-12-2019\",\"05-03-2020\",\"28-12-2019\",\"27-01-2020\",\"08-09-2019\",\"02-01-2018\",\"18-09-2019\",\"28-02-2020\",\"13-08-2019\",\"19-08-2019\",\"19-03-2020\",\"16-08-2019\",\"12-01-2020\",\"27-02-2020\",\"03-03-2020\"]},\"yaxis\":{\"anchor\":\"x\",\"domain\":[0.0,1.0],\"title\":{\"text\":\"count\"},\"range\":[0,300]},\"legend\":{\"title\":{\"text\":\"last_review\"},\"tracegroupgap\":0,\"itemsizing\":\"constant\"},\"margin\":{\"t\":60},\"font\":{\"size\":15,\"color\":\"#0f0f0f\",\"family\":\"Courier New, monospace\"},\"autosize\":false,\"height\":500,\"width\":1400},                        {\"responsive\": true}                    ).then(function(){\n",
       "                            \n",
       "var gd = document.getElementById('6fbaa0c7-b66a-4045-be1e-80be2b9618b9');\n",
       "var x = new MutationObserver(function (mutations, observer) {{\n",
       "        var display = window.getComputedStyle(gd).display;\n",
       "        if (!display || display === 'none') {{\n",
       "            console.log([gd, 'removed!']);\n",
       "            Plotly.purge(gd);\n",
       "            observer.disconnect();\n",
       "        }}\n",
       "}});\n",
       "\n",
       "// Listen for the removal of the full notebook cells\n",
       "var notebookContainer = gd.closest('#notebook-container');\n",
       "if (notebookContainer) {{\n",
       "    x.observe(notebookContainer, {childList: true});\n",
       "}}\n",
       "\n",
       "// Listen for the clearing of the current output cell\n",
       "var outputEl = gd.closest('.output');\n",
       "if (outputEl) {{\n",
       "    x.observe(outputEl, {childList: true});\n",
       "}}\n",
       "\n",
       "                        })                };                            </script>        </div>\n",
       "</body>\n",
       "</html>"
      ]
     },
     "metadata": {},
     "output_type": "display_data"
    }
   ],
   "source": [
    "d=df_train.groupby(['last_review']).size().sort_values(ascending=False).reset_index(name='count').head(100)\n",
    "fig=px.scatter(d,\n",
    "                           x='last_review',\n",
    "                           y='count',\n",
    "                           size='count',\n",
    "                           color='last_review',\n",
    "                           range_y=[0,300],\n",
    "                           #range_x=[0,900]\n",
    "                           )\n",
    "fig.update_layout(autosize=False,\n",
    "                  height=500,\n",
    "                  width=1400,\n",
    "                  font=dict(size=15,color=\"#0f0f0f\",family=\"Courier New, monospace\"),\n",
    "                 )\n",
    "fig.show()"
   ]
  },
  {
   "cell_type": "code",
   "execution_count": null,
   "metadata": {
    "colab": {
     "base_uri": "https://localhost:8080/"
    },
    "id": "8F5xrjvgj0yX",
    "outputId": "1567cbfe-81fd-4347-947a-a10e4ce4a731"
   },
   "outputs": [
    {
     "data": {
      "text/plain": [
       "count    11305.000000\n",
       "mean         0.748501\n",
       "std          1.260791\n",
       "min          0.010000\n",
       "25%          0.180000\n",
       "50%          0.380000\n",
       "75%          0.770000\n",
       "max         50.000000\n",
       "Name: reviews_per_month, dtype: float64"
      ]
     },
     "execution_count": 30,
     "metadata": {},
     "output_type": "execute_result"
    }
   ],
   "source": [
    "df_train.reviews_per_month.describe()"
   ]
  },
  {
   "cell_type": "code",
   "execution_count": null,
   "metadata": {
    "colab": {
     "base_uri": "https://localhost:8080/"
    },
    "id": "lEWPld3cj2mo",
    "outputId": "234032a2-da71-4914-eaf9-e378706375bb"
   },
   "outputs": [
    {
     "data": {
      "text/plain": [
       "count    12901.000000\n",
       "mean         2.136501\n",
       "std          6.001838\n",
       "min          1.000000\n",
       "25%          1.000000\n",
       "50%          1.000000\n",
       "75%          1.000000\n",
       "max         78.000000\n",
       "Name: calculated_host_listings_count, dtype: float64"
      ]
     },
     "execution_count": 31,
     "metadata": {},
     "output_type": "execute_result"
    }
   ],
   "source": [
    "df_train.calculated_host_listings_count.describe()"
   ]
  },
  {
   "cell_type": "code",
   "execution_count": null,
   "metadata": {
    "colab": {
     "base_uri": "https://localhost:8080/"
    },
    "id": "7bXRvZMFj5qC",
    "outputId": "1fb018d1-a756-4866-90e6-6163b33da6ff"
   },
   "outputs": [
    {
     "data": {
      "text/plain": [
       "count    12901.000000\n",
       "mean        61.392295\n",
       "std        107.988329\n",
       "min          0.000000\n",
       "25%          0.000000\n",
       "50%          0.000000\n",
       "75%         87.000000\n",
       "max        365.000000\n",
       "Name: availability_365, dtype: float64"
      ]
     },
     "execution_count": 32,
     "metadata": {},
     "output_type": "execute_result"
    }
   ],
   "source": [
    "df_train.availability_365.describe()"
   ]
  },
  {
   "cell_type": "code",
   "execution_count": null,
   "metadata": {
    "colab": {
     "base_uri": "https://localhost:8080/",
     "height": 517
    },
    "id": "-gRpj7GBj7s1",
    "outputId": "9a42ca60-8c67-4a5e-dfe1-37c2c322e620"
   },
   "outputs": [
    {
     "data": {
      "text/html": [
       "<html>\n",
       "<head><meta charset=\"utf-8\" /></head>\n",
       "<body>\n",
       "    <div>            <script src=\"https://cdnjs.cloudflare.com/ajax/libs/mathjax/2.7.5/MathJax.js?config=TeX-AMS-MML_SVG\"></script><script type=\"text/javascript\">if (window.MathJax && window.MathJax.Hub && window.MathJax.Hub.Config) {window.MathJax.Hub.Config({SVG: {font: \"STIX-Web\"}});}</script>                <script type=\"text/javascript\">window.PlotlyConfig = {MathJaxConfig: 'local'};</script>\n",
       "        <script src=\"https://cdn.plot.ly/plotly-2.18.2.min.js\"></script>                <div id=\"40e70780-9f3b-4cfe-a7dc-4afc302661c7\" class=\"plotly-graph-div\" style=\"height:500px; width:1400px;\"></div>            <script type=\"text/javascript\">                                    window.PLOTLYENV=window.PLOTLYENV || {};                                    if (document.getElementById(\"40e70780-9f3b-4cfe-a7dc-4afc302661c7\")) {                    Plotly.newPlot(                        \"40e70780-9f3b-4cfe-a7dc-4afc302661c7\",                        [{\"hovertemplate\":\"availability_365=%{marker.color}<br>count=%{y}<extra></extra>\",\"legendgroup\":\"\",\"marker\":{\"color\":[0,365,90,89,160,364,1,88,179,7,69,9,180,87,38,21,6,363,8,14,129,3,5,362,16,358,4,15,83,13,11,22,10,12,177,161,2,17,20,178,159,36,19,70,344,360,39,51,357,174,32,67,82,97,221,340,171,23,31,28,30,353,40,252,348,18,24,29,27,173,361,25,37,350,47,341,176,347,85,270,68,172,44,62,140,86,26,168,50,356,48,52,72,170,359,158,343,96,49,205,81,35,332,42,309,166,128,325,107,60,354,54,77,73,269,336,169,339,307,65,163,164,76,45,112,57,263,135,330,33,334,313,282,351,126,191,342,326,314,84,98,175,165,266,182,157,150,201,346,250,64,352,101,355,80,78,75,71,66,105,41,43,55,58,204,328,53,283,284,203,298,59,197,199,108,61,200,327,349,338,151,317,155,156,144,162,335,333,113,122,345,312,181,127,288,145,56,268,267,324,103,256,255,34,295,290,142,111,137,202,120,130,186,198,132,300,167,131,192,257,251,253,301,260,308,318,297,235,285,310,183,215,79,100,212,110,143,188,193,187,63,148,220,273,337,119,321,278,281,124,271,133,121,287,134,219,138,207,331,299,195,189,149,323,289,320,262,243,93,102,104,91,106,240,92,265,304,246,245,94,302,329,190,305,294,311,74,46,234,316,152,233,322,296,293,224,123,116,117,264,114,222,275,259,277,279,206,225,254,226,99,95,247,147,115,146,125,118,136,139,141,184,319,211,154,230,227,306,153,232,276,239,291,214,213,229,274,261,244,208,238,303,237,185,242,223,248,249,241,272,258,218,280,286,210,194,315,231,109,228,217,216,209,292,196,236],\"coloraxis\":\"coloraxis\",\"size\":[0,365,90,89,160,364,1,88,179,7,69,9,180,87,38,21,6,363,8,14,129,3,5,362,16,358,4,15,83,13,11,22,10,12,177,161,2,17,20,178,159,36,19,70,344,360,39,51,357,174,32,67,82,97,221,340,171,23,31,28,30,353,40,252,348,18,24,29,27,173,361,25,37,350,47,341,176,347,85,270,68,172,44,62,140,86,26,168,50,356,48,52,72,170,359,158,343,96,49,205,81,35,332,42,309,166,128,325,107,60,354,54,77,73,269,336,169,339,307,65,163,164,76,45,112,57,263,135,330,33,334,313,282,351,126,191,342,326,314,84,98,175,165,266,182,157,150,201,346,250,64,352,101,355,80,78,75,71,66,105,41,43,55,58,204,328,53,283,284,203,298,59,197,199,108,61,200,327,349,338,151,317,155,156,144,162,335,333,113,122,345,312,181,127,288,145,56,268,267,324,103,256,255,34,295,290,142,111,137,202,120,130,186,198,132,300,167,131,192,257,251,253,301,260,308,318,297,235,285,310,183,215,79,100,212,110,143,188,193,187,63,148,220,273,337,119,321,278,281,124,271,133,121,287,134,219,138,207,331,299,195,189,149,323,289,320,262,243,93,102,104,91,106,240,92,265,304,246,245,94,302,329,190,305,294,311,74,46,234,316,152,233,322,296,293,224,123,116,117,264,114,222,275,259,277,279,206,225,254,226,99,95,247,147,115,146,125,118,136,139,141,184,319,211,154,230,227,306,153,232,276,239,291,214,213,229,274,261,244,208,238,303,237,185,242,223,248,249,241,272,258,218,280,286,210,194,315,231,109,228,217,216,209,292,196,236],\"sizemode\":\"area\",\"sizeref\":0.9125,\"symbol\":\"circle\"},\"mode\":\"markers\",\"name\":\"\",\"orientation\":\"v\",\"showlegend\":false,\"x\":[0,365,90,89,160,364,1,88,179,7,69,9,180,87,38,21,6,363,8,14,129,3,5,362,16,358,4,15,83,13,11,22,10,12,177,161,2,17,20,178,159,36,19,70,344,360,39,51,357,174,32,67,82,97,221,340,171,23,31,28,30,353,40,252,348,18,24,29,27,173,361,25,37,350,47,341,176,347,85,270,68,172,44,62,140,86,26,168,50,356,48,52,72,170,359,158,343,96,49,205,81,35,332,42,309,166,128,325,107,60,354,54,77,73,269,336,169,339,307,65,163,164,76,45,112,57,263,135,330,33,334,313,282,351,126,191,342,326,314,84,98,175,165,266,182,157,150,201,346,250,64,352,101,355,80,78,75,71,66,105,41,43,55,58,204,328,53,283,284,203,298,59,197,199,108,61,200,327,349,338,151,317,155,156,144,162,335,333,113,122,345,312,181,127,288,145,56,268,267,324,103,256,255,34,295,290,142,111,137,202,120,130,186,198,132,300,167,131,192,257,251,253,301,260,308,318,297,235,285,310,183,215,79,100,212,110,143,188,193,187,63,148,220,273,337,119,321,278,281,124,271,133,121,287,134,219,138,207,331,299,195,189,149,323,289,320,262,243,93,102,104,91,106,240,92,265,304,246,245,94,302,329,190,305,294,311,74,46,234,316,152,233,322,296,293,224,123,116,117,264,114,222,275,259,277,279,206,225,254,226,99,95,247,147,115,146,125,118,136,139,141,184,319,211,154,230,227,306,153,232,276,239,291,214,213,229,274,261,244,208,238,303,237,185,242,223,248,249,241,272,258,218,280,286,210,194,315,231,109,228,217,216,209,292,196,236],\"xaxis\":\"x\",\"y\":[7781,188,128,120,118,94,70,68,65,64,54,50,50,49,47,45,44,44,44,43,43,42,42,41,41,41,40,39,39,38,37,37,35,33,33,31,31,31,30,30,29,28,26,25,24,23,22,22,22,21,21,20,20,20,20,20,20,20,20,20,19,19,19,19,19,19,19,18,18,18,18,18,18,18,18,17,17,17,17,16,16,16,16,16,16,16,16,16,16,15,15,15,15,15,14,14,14,14,14,14,14,14,14,14,14,13,13,13,13,13,13,13,13,13,12,12,12,12,12,12,12,12,12,12,12,11,11,11,11,11,11,11,11,11,11,11,11,11,11,11,11,11,10,10,10,10,10,10,10,10,10,10,10,10,10,10,10,10,10,10,10,10,10,10,9,9,9,9,9,9,9,9,9,9,9,9,9,9,9,9,9,9,9,9,9,9,9,9,9,9,9,8,8,8,8,8,8,8,8,8,8,8,8,8,8,8,8,8,8,8,8,8,8,8,8,8,8,8,8,7,7,7,7,7,7,7,7,7,7,7,7,7,7,7,7,7,7,7,7,7,7,7,7,6,6,6,6,6,6,6,6,6,6,6,6,6,6,6,6,6,6,6,6,6,6,6,6,6,6,6,6,6,6,6,6,5,5,5,5,5,5,5,5,5,5,5,5,5,5,5,5,5,5,5,5,5,5,5,5,5,5,5,5,5,5,5,5,5,5,5,5,5,5,4,4,4,4,4,4,4,4,4,4,4,4,4,4,4,4,4,4,4,4,4,4,3,3,3,3,3,3,3,3,3,2,2,2,2,2,2,2,2,2,2,2,2,2,2,1,1,1,1,1,1,1,1],\"yaxis\":\"y\",\"type\":\"scatter\"}],                        {\"template\":{\"data\":{\"histogram2dcontour\":[{\"type\":\"histogram2dcontour\",\"colorbar\":{\"outlinewidth\":0,\"ticks\":\"\"},\"colorscale\":[[0.0,\"#0d0887\"],[0.1111111111111111,\"#46039f\"],[0.2222222222222222,\"#7201a8\"],[0.3333333333333333,\"#9c179e\"],[0.4444444444444444,\"#bd3786\"],[0.5555555555555556,\"#d8576b\"],[0.6666666666666666,\"#ed7953\"],[0.7777777777777778,\"#fb9f3a\"],[0.8888888888888888,\"#fdca26\"],[1.0,\"#f0f921\"]]}],\"choropleth\":[{\"type\":\"choropleth\",\"colorbar\":{\"outlinewidth\":0,\"ticks\":\"\"}}],\"histogram2d\":[{\"type\":\"histogram2d\",\"colorbar\":{\"outlinewidth\":0,\"ticks\":\"\"},\"colorscale\":[[0.0,\"#0d0887\"],[0.1111111111111111,\"#46039f\"],[0.2222222222222222,\"#7201a8\"],[0.3333333333333333,\"#9c179e\"],[0.4444444444444444,\"#bd3786\"],[0.5555555555555556,\"#d8576b\"],[0.6666666666666666,\"#ed7953\"],[0.7777777777777778,\"#fb9f3a\"],[0.8888888888888888,\"#fdca26\"],[1.0,\"#f0f921\"]]}],\"heatmap\":[{\"type\":\"heatmap\",\"colorbar\":{\"outlinewidth\":0,\"ticks\":\"\"},\"colorscale\":[[0.0,\"#0d0887\"],[0.1111111111111111,\"#46039f\"],[0.2222222222222222,\"#7201a8\"],[0.3333333333333333,\"#9c179e\"],[0.4444444444444444,\"#bd3786\"],[0.5555555555555556,\"#d8576b\"],[0.6666666666666666,\"#ed7953\"],[0.7777777777777778,\"#fb9f3a\"],[0.8888888888888888,\"#fdca26\"],[1.0,\"#f0f921\"]]}],\"heatmapgl\":[{\"type\":\"heatmapgl\",\"colorbar\":{\"outlinewidth\":0,\"ticks\":\"\"},\"colorscale\":[[0.0,\"#0d0887\"],[0.1111111111111111,\"#46039f\"],[0.2222222222222222,\"#7201a8\"],[0.3333333333333333,\"#9c179e\"],[0.4444444444444444,\"#bd3786\"],[0.5555555555555556,\"#d8576b\"],[0.6666666666666666,\"#ed7953\"],[0.7777777777777778,\"#fb9f3a\"],[0.8888888888888888,\"#fdca26\"],[1.0,\"#f0f921\"]]}],\"contourcarpet\":[{\"type\":\"contourcarpet\",\"colorbar\":{\"outlinewidth\":0,\"ticks\":\"\"}}],\"contour\":[{\"type\":\"contour\",\"colorbar\":{\"outlinewidth\":0,\"ticks\":\"\"},\"colorscale\":[[0.0,\"#0d0887\"],[0.1111111111111111,\"#46039f\"],[0.2222222222222222,\"#7201a8\"],[0.3333333333333333,\"#9c179e\"],[0.4444444444444444,\"#bd3786\"],[0.5555555555555556,\"#d8576b\"],[0.6666666666666666,\"#ed7953\"],[0.7777777777777778,\"#fb9f3a\"],[0.8888888888888888,\"#fdca26\"],[1.0,\"#f0f921\"]]}],\"surface\":[{\"type\":\"surface\",\"colorbar\":{\"outlinewidth\":0,\"ticks\":\"\"},\"colorscale\":[[0.0,\"#0d0887\"],[0.1111111111111111,\"#46039f\"],[0.2222222222222222,\"#7201a8\"],[0.3333333333333333,\"#9c179e\"],[0.4444444444444444,\"#bd3786\"],[0.5555555555555556,\"#d8576b\"],[0.6666666666666666,\"#ed7953\"],[0.7777777777777778,\"#fb9f3a\"],[0.8888888888888888,\"#fdca26\"],[1.0,\"#f0f921\"]]}],\"mesh3d\":[{\"type\":\"mesh3d\",\"colorbar\":{\"outlinewidth\":0,\"ticks\":\"\"}}],\"scatter\":[{\"fillpattern\":{\"fillmode\":\"overlay\",\"size\":10,\"solidity\":0.2},\"type\":\"scatter\"}],\"parcoords\":[{\"type\":\"parcoords\",\"line\":{\"colorbar\":{\"outlinewidth\":0,\"ticks\":\"\"}}}],\"scatterpolargl\":[{\"type\":\"scatterpolargl\",\"marker\":{\"colorbar\":{\"outlinewidth\":0,\"ticks\":\"\"}}}],\"bar\":[{\"error_x\":{\"color\":\"#2a3f5f\"},\"error_y\":{\"color\":\"#2a3f5f\"},\"marker\":{\"line\":{\"color\":\"#E5ECF6\",\"width\":0.5},\"pattern\":{\"fillmode\":\"overlay\",\"size\":10,\"solidity\":0.2}},\"type\":\"bar\"}],\"scattergeo\":[{\"type\":\"scattergeo\",\"marker\":{\"colorbar\":{\"outlinewidth\":0,\"ticks\":\"\"}}}],\"scatterpolar\":[{\"type\":\"scatterpolar\",\"marker\":{\"colorbar\":{\"outlinewidth\":0,\"ticks\":\"\"}}}],\"histogram\":[{\"marker\":{\"pattern\":{\"fillmode\":\"overlay\",\"size\":10,\"solidity\":0.2}},\"type\":\"histogram\"}],\"scattergl\":[{\"type\":\"scattergl\",\"marker\":{\"colorbar\":{\"outlinewidth\":0,\"ticks\":\"\"}}}],\"scatter3d\":[{\"type\":\"scatter3d\",\"line\":{\"colorbar\":{\"outlinewidth\":0,\"ticks\":\"\"}},\"marker\":{\"colorbar\":{\"outlinewidth\":0,\"ticks\":\"\"}}}],\"scattermapbox\":[{\"type\":\"scattermapbox\",\"marker\":{\"colorbar\":{\"outlinewidth\":0,\"ticks\":\"\"}}}],\"scatterternary\":[{\"type\":\"scatterternary\",\"marker\":{\"colorbar\":{\"outlinewidth\":0,\"ticks\":\"\"}}}],\"scattercarpet\":[{\"type\":\"scattercarpet\",\"marker\":{\"colorbar\":{\"outlinewidth\":0,\"ticks\":\"\"}}}],\"carpet\":[{\"aaxis\":{\"endlinecolor\":\"#2a3f5f\",\"gridcolor\":\"white\",\"linecolor\":\"white\",\"minorgridcolor\":\"white\",\"startlinecolor\":\"#2a3f5f\"},\"baxis\":{\"endlinecolor\":\"#2a3f5f\",\"gridcolor\":\"white\",\"linecolor\":\"white\",\"minorgridcolor\":\"white\",\"startlinecolor\":\"#2a3f5f\"},\"type\":\"carpet\"}],\"table\":[{\"cells\":{\"fill\":{\"color\":\"#EBF0F8\"},\"line\":{\"color\":\"white\"}},\"header\":{\"fill\":{\"color\":\"#C8D4E3\"},\"line\":{\"color\":\"white\"}},\"type\":\"table\"}],\"barpolar\":[{\"marker\":{\"line\":{\"color\":\"#E5ECF6\",\"width\":0.5},\"pattern\":{\"fillmode\":\"overlay\",\"size\":10,\"solidity\":0.2}},\"type\":\"barpolar\"}],\"pie\":[{\"automargin\":true,\"type\":\"pie\"}]},\"layout\":{\"autotypenumbers\":\"strict\",\"colorway\":[\"#636efa\",\"#EF553B\",\"#00cc96\",\"#ab63fa\",\"#FFA15A\",\"#19d3f3\",\"#FF6692\",\"#B6E880\",\"#FF97FF\",\"#FECB52\"],\"font\":{\"color\":\"#2a3f5f\"},\"hovermode\":\"closest\",\"hoverlabel\":{\"align\":\"left\"},\"paper_bgcolor\":\"white\",\"plot_bgcolor\":\"#E5ECF6\",\"polar\":{\"bgcolor\":\"#E5ECF6\",\"angularaxis\":{\"gridcolor\":\"white\",\"linecolor\":\"white\",\"ticks\":\"\"},\"radialaxis\":{\"gridcolor\":\"white\",\"linecolor\":\"white\",\"ticks\":\"\"}},\"ternary\":{\"bgcolor\":\"#E5ECF6\",\"aaxis\":{\"gridcolor\":\"white\",\"linecolor\":\"white\",\"ticks\":\"\"},\"baxis\":{\"gridcolor\":\"white\",\"linecolor\":\"white\",\"ticks\":\"\"},\"caxis\":{\"gridcolor\":\"white\",\"linecolor\":\"white\",\"ticks\":\"\"}},\"coloraxis\":{\"colorbar\":{\"outlinewidth\":0,\"ticks\":\"\"}},\"colorscale\":{\"sequential\":[[0.0,\"#0d0887\"],[0.1111111111111111,\"#46039f\"],[0.2222222222222222,\"#7201a8\"],[0.3333333333333333,\"#9c179e\"],[0.4444444444444444,\"#bd3786\"],[0.5555555555555556,\"#d8576b\"],[0.6666666666666666,\"#ed7953\"],[0.7777777777777778,\"#fb9f3a\"],[0.8888888888888888,\"#fdca26\"],[1.0,\"#f0f921\"]],\"sequentialminus\":[[0.0,\"#0d0887\"],[0.1111111111111111,\"#46039f\"],[0.2222222222222222,\"#7201a8\"],[0.3333333333333333,\"#9c179e\"],[0.4444444444444444,\"#bd3786\"],[0.5555555555555556,\"#d8576b\"],[0.6666666666666666,\"#ed7953\"],[0.7777777777777778,\"#fb9f3a\"],[0.8888888888888888,\"#fdca26\"],[1.0,\"#f0f921\"]],\"diverging\":[[0,\"#8e0152\"],[0.1,\"#c51b7d\"],[0.2,\"#de77ae\"],[0.3,\"#f1b6da\"],[0.4,\"#fde0ef\"],[0.5,\"#f7f7f7\"],[0.6,\"#e6f5d0\"],[0.7,\"#b8e186\"],[0.8,\"#7fbc41\"],[0.9,\"#4d9221\"],[1,\"#276419\"]]},\"xaxis\":{\"gridcolor\":\"white\",\"linecolor\":\"white\",\"ticks\":\"\",\"title\":{\"standoff\":15},\"zerolinecolor\":\"white\",\"automargin\":true,\"zerolinewidth\":2},\"yaxis\":{\"gridcolor\":\"white\",\"linecolor\":\"white\",\"ticks\":\"\",\"title\":{\"standoff\":15},\"zerolinecolor\":\"white\",\"automargin\":true,\"zerolinewidth\":2},\"scene\":{\"xaxis\":{\"backgroundcolor\":\"#E5ECF6\",\"gridcolor\":\"white\",\"linecolor\":\"white\",\"showbackground\":true,\"ticks\":\"\",\"zerolinecolor\":\"white\",\"gridwidth\":2},\"yaxis\":{\"backgroundcolor\":\"#E5ECF6\",\"gridcolor\":\"white\",\"linecolor\":\"white\",\"showbackground\":true,\"ticks\":\"\",\"zerolinecolor\":\"white\",\"gridwidth\":2},\"zaxis\":{\"backgroundcolor\":\"#E5ECF6\",\"gridcolor\":\"white\",\"linecolor\":\"white\",\"showbackground\":true,\"ticks\":\"\",\"zerolinecolor\":\"white\",\"gridwidth\":2}},\"shapedefaults\":{\"line\":{\"color\":\"#2a3f5f\"}},\"annotationdefaults\":{\"arrowcolor\":\"#2a3f5f\",\"arrowhead\":0,\"arrowwidth\":1},\"geo\":{\"bgcolor\":\"white\",\"landcolor\":\"#E5ECF6\",\"subunitcolor\":\"white\",\"showland\":true,\"showlakes\":true,\"lakecolor\":\"white\"},\"title\":{\"x\":0.05},\"mapbox\":{\"style\":\"light\"}}},\"xaxis\":{\"anchor\":\"y\",\"domain\":[0.0,1.0],\"title\":{\"text\":\"availability_365\"}},\"yaxis\":{\"anchor\":\"x\",\"domain\":[0.0,1.0],\"title\":{\"text\":\"count\"},\"range\":[0,200]},\"coloraxis\":{\"colorbar\":{\"title\":{\"text\":\"availability_365\"}},\"colorscale\":[[0.0,\"#0d0887\"],[0.1111111111111111,\"#46039f\"],[0.2222222222222222,\"#7201a8\"],[0.3333333333333333,\"#9c179e\"],[0.4444444444444444,\"#bd3786\"],[0.5555555555555556,\"#d8576b\"],[0.6666666666666666,\"#ed7953\"],[0.7777777777777778,\"#fb9f3a\"],[0.8888888888888888,\"#fdca26\"],[1.0,\"#f0f921\"]]},\"legend\":{\"tracegroupgap\":0,\"itemsizing\":\"constant\"},\"margin\":{\"t\":60},\"font\":{\"size\":15,\"color\":\"#0f0f0f\",\"family\":\"Courier New, monospace\"},\"autosize\":false,\"height\":500,\"width\":1400},                        {\"responsive\": true}                    ).then(function(){\n",
       "                            \n",
       "var gd = document.getElementById('40e70780-9f3b-4cfe-a7dc-4afc302661c7');\n",
       "var x = new MutationObserver(function (mutations, observer) {{\n",
       "        var display = window.getComputedStyle(gd).display;\n",
       "        if (!display || display === 'none') {{\n",
       "            console.log([gd, 'removed!']);\n",
       "            Plotly.purge(gd);\n",
       "            observer.disconnect();\n",
       "        }}\n",
       "}});\n",
       "\n",
       "// Listen for the removal of the full notebook cells\n",
       "var notebookContainer = gd.closest('#notebook-container');\n",
       "if (notebookContainer) {{\n",
       "    x.observe(notebookContainer, {childList: true});\n",
       "}}\n",
       "\n",
       "// Listen for the clearing of the current output cell\n",
       "var outputEl = gd.closest('.output');\n",
       "if (outputEl) {{\n",
       "    x.observe(outputEl, {childList: true});\n",
       "}}\n",
       "\n",
       "                        })                };                            </script>        </div>\n",
       "</body>\n",
       "</html>"
      ]
     },
     "metadata": {},
     "output_type": "display_data"
    }
   ],
   "source": [
    "d=df_train.groupby(['availability_365']).size().sort_values(ascending=False).reset_index(name='count')\n",
    "fig=px.scatter(d,\n",
    "                           x='availability_365',\n",
    "                           y='count',\n",
    "                           size='availability_365',\n",
    "                           color='availability_365',\n",
    "                           range_y=[0,200],\n",
    "                           #range_x=[0,900]\n",
    "                           )\n",
    "fig.update_layout(autosize=False,\n",
    "                  height=500,\n",
    "                  width=1400,\n",
    "                  font=dict(size=15,color=\"#0f0f0f\",family=\"Courier New, monospace\"),\n",
    "                 )\n",
    "fig.show()"
   ]
  },
  {
   "cell_type": "code",
   "execution_count": null,
   "metadata": {
    "colab": {
     "base_uri": "https://localhost:8080/"
    },
    "id": "XiKODGp5j-eO",
    "outputId": "0095ae1a-215b-4d34-ff9d-440814bbb7cb"
   },
   "outputs": [
    {
     "data": {
      "text/plain": [
       "count    12901.000000\n",
       "mean       166.959538\n",
       "std        234.794630\n",
       "min          6.000000\n",
       "25%         99.000000\n",
       "50%        135.000000\n",
       "75%        190.000000\n",
       "max       9000.000000\n",
       "Name: price, dtype: float64"
      ]
     },
     "execution_count": 34,
     "metadata": {},
     "output_type": "execute_result"
    }
   ],
   "source": [
    "df_train.price.describe()"
   ]
  },
  {
   "cell_type": "code",
   "execution_count": null,
   "metadata": {
    "colab": {
     "base_uri": "https://localhost:8080/",
     "height": 423
    },
    "id": "830-jmwpkAXg",
    "outputId": "865c5a95-bb07-4cca-ce4d-70cb81284806"
   },
   "outputs": [
    {
     "data": {
      "text/html": [
       "\n",
       "\n",
       "  <div id=\"df-26874dd3-34bf-40ab-bd0a-6f7640994345\">\n",
       "    <div class=\"colab-df-container\">\n",
       "      <div>\n",
       "<style scoped>\n",
       "    .dataframe tbody tr th:only-of-type {\n",
       "        vertical-align: middle;\n",
       "    }\n",
       "\n",
       "    .dataframe tbody tr th {\n",
       "        vertical-align: top;\n",
       "    }\n",
       "\n",
       "    .dataframe thead th {\n",
       "        text-align: right;\n",
       "    }\n",
       "</style>\n",
       "<table border=\"1\" class=\"dataframe\">\n",
       "  <thead>\n",
       "    <tr style=\"text-align: right;\">\n",
       "      <th></th>\n",
       "      <th>name</th>\n",
       "      <th>host_name</th>\n",
       "      <th>price</th>\n",
       "    </tr>\n",
       "  </thead>\n",
       "  <tbody>\n",
       "    <tr>\n",
       "      <th>12839</th>\n",
       "      <td>Center, Large&amp;Sunny Room,Pvt Bathrm</td>\n",
       "      <td>David</td>\n",
       "      <td>9000</td>\n",
       "    </tr>\n",
       "    <tr>\n",
       "      <th>6023</th>\n",
       "      <td>Moie kamer in Amsterdam</td>\n",
       "      <td>Mery</td>\n",
       "      <td>7550</td>\n",
       "    </tr>\n",
       "    <tr>\n",
       "      <th>10029</th>\n",
       "      <td>Hotel Estheréa, Classic Room</td>\n",
       "      <td>Hotel Estheréa</td>\n",
       "      <td>7000</td>\n",
       "    </tr>\n",
       "    <tr>\n",
       "      <th>12885</th>\n",
       "      <td>Hotel Estheréa, Deluxe Room</td>\n",
       "      <td>Hotel Estheréa</td>\n",
       "      <td>7000</td>\n",
       "    </tr>\n",
       "    <tr>\n",
       "      <th>1657</th>\n",
       "      <td>Hotel Estheréa, Triple Room</td>\n",
       "      <td>Hotel Estheréa</td>\n",
       "      <td>7000</td>\n",
       "    </tr>\n",
       "    <tr>\n",
       "      <th>...</th>\n",
       "      <td>...</td>\n",
       "      <td>...</td>\n",
       "      <td>...</td>\n",
       "    </tr>\n",
       "    <tr>\n",
       "      <th>5427</th>\n",
       "      <td>1 Bed in 10 Bedded Girls Dorm En-suite</td>\n",
       "      <td>ClinkNOORD</td>\n",
       "      <td>20</td>\n",
       "    </tr>\n",
       "    <tr>\n",
       "      <th>7810</th>\n",
       "      <td>Minimalist White Room</td>\n",
       "      <td>Daniela</td>\n",
       "      <td>19</td>\n",
       "    </tr>\n",
       "    <tr>\n",
       "      <th>480</th>\n",
       "      <td>Appartement in het veelzijdige Amsterdam-Noord</td>\n",
       "      <td>Han</td>\n",
       "      <td>12</td>\n",
       "    </tr>\n",
       "    <tr>\n",
       "      <th>1887</th>\n",
       "      <td>Beautiful calm room in Amsterdam</td>\n",
       "      <td>Herry</td>\n",
       "      <td>10</td>\n",
       "    </tr>\n",
       "    <tr>\n",
       "      <th>9351</th>\n",
       "      <td>C</td>\n",
       "      <td>Nimesh</td>\n",
       "      <td>6</td>\n",
       "    </tr>\n",
       "  </tbody>\n",
       "</table>\n",
       "<p>12901 rows × 3 columns</p>\n",
       "</div>\n",
       "      <button class=\"colab-df-convert\" onclick=\"convertToInteractive('df-26874dd3-34bf-40ab-bd0a-6f7640994345')\"\n",
       "              title=\"Convert this dataframe to an interactive table.\"\n",
       "              style=\"display:none;\">\n",
       "\n",
       "  <svg xmlns=\"http://www.w3.org/2000/svg\" height=\"24px\"viewBox=\"0 0 24 24\"\n",
       "       width=\"24px\">\n",
       "    <path d=\"M0 0h24v24H0V0z\" fill=\"none\"/>\n",
       "    <path d=\"M18.56 5.44l.94 2.06.94-2.06 2.06-.94-2.06-.94-.94-2.06-.94 2.06-2.06.94zm-11 1L8.5 8.5l.94-2.06 2.06-.94-2.06-.94L8.5 2.5l-.94 2.06-2.06.94zm10 10l.94 2.06.94-2.06 2.06-.94-2.06-.94-.94-2.06-.94 2.06-2.06.94z\"/><path d=\"M17.41 7.96l-1.37-1.37c-.4-.4-.92-.59-1.43-.59-.52 0-1.04.2-1.43.59L10.3 9.45l-7.72 7.72c-.78.78-.78 2.05 0 2.83L4 21.41c.39.39.9.59 1.41.59.51 0 1.02-.2 1.41-.59l7.78-7.78 2.81-2.81c.8-.78.8-2.07 0-2.86zM5.41 20L4 18.59l7.72-7.72 1.47 1.35L5.41 20z\"/>\n",
       "  </svg>\n",
       "      </button>\n",
       "\n",
       "\n",
       "\n",
       "    <div id=\"df-319c0c58-1e79-415f-9524-b237655a6dd9\">\n",
       "      <button class=\"colab-df-quickchart\" onclick=\"quickchart('df-319c0c58-1e79-415f-9524-b237655a6dd9')\"\n",
       "              title=\"Suggest charts.\"\n",
       "              style=\"display:none;\">\n",
       "\n",
       "<svg xmlns=\"http://www.w3.org/2000/svg\" height=\"24px\"viewBox=\"0 0 24 24\"\n",
       "     width=\"24px\">\n",
       "    <g>\n",
       "        <path d=\"M19 3H5c-1.1 0-2 .9-2 2v14c0 1.1.9 2 2 2h14c1.1 0 2-.9 2-2V5c0-1.1-.9-2-2-2zM9 17H7v-7h2v7zm4 0h-2V7h2v10zm4 0h-2v-4h2v4z\"/>\n",
       "    </g>\n",
       "</svg>\n",
       "      </button>\n",
       "    </div>\n",
       "\n",
       "<style>\n",
       "  .colab-df-quickchart {\n",
       "    background-color: #E8F0FE;\n",
       "    border: none;\n",
       "    border-radius: 50%;\n",
       "    cursor: pointer;\n",
       "    display: none;\n",
       "    fill: #1967D2;\n",
       "    height: 32px;\n",
       "    padding: 0 0 0 0;\n",
       "    width: 32px;\n",
       "  }\n",
       "\n",
       "  .colab-df-quickchart:hover {\n",
       "    background-color: #E2EBFA;\n",
       "    box-shadow: 0px 1px 2px rgba(60, 64, 67, 0.3), 0px 1px 3px 1px rgba(60, 64, 67, 0.15);\n",
       "    fill: #174EA6;\n",
       "  }\n",
       "\n",
       "  [theme=dark] .colab-df-quickchart {\n",
       "    background-color: #3B4455;\n",
       "    fill: #D2E3FC;\n",
       "  }\n",
       "\n",
       "  [theme=dark] .colab-df-quickchart:hover {\n",
       "    background-color: #434B5C;\n",
       "    box-shadow: 0px 1px 3px 1px rgba(0, 0, 0, 0.15);\n",
       "    filter: drop-shadow(0px 1px 2px rgba(0, 0, 0, 0.3));\n",
       "    fill: #FFFFFF;\n",
       "  }\n",
       "</style>\n",
       "\n",
       "    <script>\n",
       "      async function quickchart(key) {\n",
       "        const containerElement = document.querySelector('#' + key);\n",
       "        const charts = await google.colab.kernel.invokeFunction(\n",
       "            'suggestCharts', [key], {});\n",
       "      }\n",
       "    </script>\n",
       "\n",
       "      <script>\n",
       "\n",
       "function displayQuickchartButton(domScope) {\n",
       "  let quickchartButtonEl =\n",
       "    domScope.querySelector('#df-319c0c58-1e79-415f-9524-b237655a6dd9 button.colab-df-quickchart');\n",
       "  quickchartButtonEl.style.display =\n",
       "    google.colab.kernel.accessAllowed ? 'block' : 'none';\n",
       "}\n",
       "\n",
       "        displayQuickchartButton(document);\n",
       "      </script>\n",
       "      <style>\n",
       "    .colab-df-container {\n",
       "      display:flex;\n",
       "      flex-wrap:wrap;\n",
       "      gap: 12px;\n",
       "    }\n",
       "\n",
       "    .colab-df-convert {\n",
       "      background-color: #E8F0FE;\n",
       "      border: none;\n",
       "      border-radius: 50%;\n",
       "      cursor: pointer;\n",
       "      display: none;\n",
       "      fill: #1967D2;\n",
       "      height: 32px;\n",
       "      padding: 0 0 0 0;\n",
       "      width: 32px;\n",
       "    }\n",
       "\n",
       "    .colab-df-convert:hover {\n",
       "      background-color: #E2EBFA;\n",
       "      box-shadow: 0px 1px 2px rgba(60, 64, 67, 0.3), 0px 1px 3px 1px rgba(60, 64, 67, 0.15);\n",
       "      fill: #174EA6;\n",
       "    }\n",
       "\n",
       "    [theme=dark] .colab-df-convert {\n",
       "      background-color: #3B4455;\n",
       "      fill: #D2E3FC;\n",
       "    }\n",
       "\n",
       "    [theme=dark] .colab-df-convert:hover {\n",
       "      background-color: #434B5C;\n",
       "      box-shadow: 0px 1px 3px 1px rgba(0, 0, 0, 0.15);\n",
       "      filter: drop-shadow(0px 1px 2px rgba(0, 0, 0, 0.3));\n",
       "      fill: #FFFFFF;\n",
       "    }\n",
       "  </style>\n",
       "\n",
       "      <script>\n",
       "        const buttonEl =\n",
       "          document.querySelector('#df-26874dd3-34bf-40ab-bd0a-6f7640994345 button.colab-df-convert');\n",
       "        buttonEl.style.display =\n",
       "          google.colab.kernel.accessAllowed ? 'block' : 'none';\n",
       "\n",
       "        async function convertToInteractive(key) {\n",
       "          const element = document.querySelector('#df-26874dd3-34bf-40ab-bd0a-6f7640994345');\n",
       "          const dataTable =\n",
       "            await google.colab.kernel.invokeFunction('convertToInteractive',\n",
       "                                                     [key], {});\n",
       "          if (!dataTable) return;\n",
       "\n",
       "          const docLinkHtml = 'Like what you see? Visit the ' +\n",
       "            '<a target=\"_blank\" href=https://colab.research.google.com/notebooks/data_table.ipynb>data table notebook</a>'\n",
       "            + ' to learn more about interactive tables.';\n",
       "          element.innerHTML = '';\n",
       "          dataTable['output_type'] = 'display_data';\n",
       "          await google.colab.output.renderOutput(dataTable, element);\n",
       "          const docLink = document.createElement('div');\n",
       "          docLink.innerHTML = docLinkHtml;\n",
       "          element.appendChild(docLink);\n",
       "        }\n",
       "      </script>\n",
       "    </div>\n",
       "  </div>\n"
      ],
      "text/plain": [
       "                                                 name       host_name  price\n",
       "12839             Center, Large&Sunny Room,Pvt Bathrm           David   9000\n",
       "6023                          Moie kamer in Amsterdam            Mery   7550\n",
       "10029                    Hotel Estheréa, Classic Room  Hotel Estheréa   7000\n",
       "12885                     Hotel Estheréa, Deluxe Room  Hotel Estheréa   7000\n",
       "1657                      Hotel Estheréa, Triple Room  Hotel Estheréa   7000\n",
       "...                                               ...             ...    ...\n",
       "5427           1 Bed in 10 Bedded Girls Dorm En-suite      ClinkNOORD     20\n",
       "7810                            Minimalist White Room         Daniela     19\n",
       "480    Appartement in het veelzijdige Amsterdam-Noord             Han     12\n",
       "1887                 Beautiful calm room in Amsterdam           Herry     10\n",
       "9351                                                C          Nimesh      6\n",
       "\n",
       "[12901 rows x 3 columns]"
      ]
     },
     "execution_count": 35,
     "metadata": {},
     "output_type": "execute_result"
    }
   ],
   "source": [
    "df_train[['name','host_name','price']].sort_values(by='price',ascending=False)"
   ]
  },
  {
   "cell_type": "code",
   "execution_count": null,
   "metadata": {
    "colab": {
     "base_uri": "https://localhost:8080/",
     "height": 517
    },
    "id": "WIxqhfbckFfa",
    "outputId": "95df9ce0-b762-41cc-d380-ad3ca98192f4"
   },
   "outputs": [
    {
     "data": {
      "text/html": [
       "<html>\n",
       "<head><meta charset=\"utf-8\" /></head>\n",
       "<body>\n",
       "    <div>            <script src=\"https://cdnjs.cloudflare.com/ajax/libs/mathjax/2.7.5/MathJax.js?config=TeX-AMS-MML_SVG\"></script><script type=\"text/javascript\">if (window.MathJax && window.MathJax.Hub && window.MathJax.Hub.Config) {window.MathJax.Hub.Config({SVG: {font: \"STIX-Web\"}});}</script>                <script type=\"text/javascript\">window.PlotlyConfig = {MathJaxConfig: 'local'};</script>\n",
       "        <script src=\"https://cdn.plot.ly/plotly-2.18.2.min.js\"></script>                <div id=\"e91d819e-24c7-4034-861e-d580ceaf9130\" class=\"plotly-graph-div\" style=\"height:500px; width:1400px;\"></div>            <script type=\"text/javascript\">                                    window.PLOTLYENV=window.PLOTLYENV || {};                                    if (document.getElementById(\"e91d819e-24c7-4034-861e-d580ceaf9130\")) {                    Plotly.newPlot(                        \"e91d819e-24c7-4034-861e-d580ceaf9130\",                        [{\"hovertemplate\":\"host_name=David<br>name=%{x}<br>price=%{marker.size}<extra></extra>\",\"legendgroup\":\"David\",\"marker\":{\"color\":\"#636efa\",\"size\":[9000,3000],\"sizemode\":\"area\",\"sizeref\":22.5,\"symbol\":\"circle\"},\"mode\":\"markers\",\"name\":\"David\",\"orientation\":\"v\",\"showlegend\":true,\"x\":[\"Center, Large&Sunny Room,Pvt Bathrm\",\"No available\"],\"xaxis\":\"x\",\"y\":[9000,3000],\"yaxis\":\"y\",\"type\":\"scatter\"},{\"hovertemplate\":\"host_name=Mery<br>name=%{x}<br>price=%{marker.size}<extra></extra>\",\"legendgroup\":\"Mery\",\"marker\":{\"color\":\"#EF553B\",\"size\":[7550],\"sizemode\":\"area\",\"sizeref\":22.5,\"symbol\":\"circle\"},\"mode\":\"markers\",\"name\":\"Mery\",\"orientation\":\"v\",\"showlegend\":true,\"x\":[\"Moie kamer in Amsterdam\"],\"xaxis\":\"x\",\"y\":[7550],\"yaxis\":\"y\",\"type\":\"scatter\"},{\"hovertemplate\":\"host_name=Hotel Esther\\u00e9a<br>name=%{x}<br>price=%{marker.size}<extra></extra>\",\"legendgroup\":\"Hotel Esther\\u00e9a\",\"marker\":{\"color\":\"#00cc96\",\"size\":[7000,7000,7000,7000],\"sizemode\":\"area\",\"sizeref\":22.5,\"symbol\":\"circle\"},\"mode\":\"markers\",\"name\":\"Hotel Esther\\u00e9a\",\"orientation\":\"v\",\"showlegend\":true,\"x\":[\"Hotel Esther\\u00e9a, Classic Room\",\"Hotel Esther\\u00e9a, Deluxe Room\",\"Hotel Esther\\u00e9a, Triple Room\",\"Hotel Esther\\u00e9a, Deluxe Canal View Room\"],\"xaxis\":\"x\",\"y\":[7000,7000,7000,7000],\"yaxis\":\"y\",\"type\":\"scatter\"},{\"hovertemplate\":\"host_name=Luxury Suites<br>name=%{x}<br>price=%{marker.size}<extra></extra>\",\"legendgroup\":\"Luxury Suites\",\"marker\":{\"color\":\"#ab63fa\",\"size\":[6477,6477,6477],\"sizemode\":\"area\",\"sizeref\":22.5,\"symbol\":\"circle\"},\"mode\":\"markers\",\"name\":\"Luxury Suites\",\"orientation\":\"v\",\"showlegend\":true,\"x\":[\"Luxury Suites Amsterdam, Luxury Suite\",\"Luxury Suites Amsterdam, Royal Suite\",\"Luxury Suites Amsterdam, Luxury Suite Patio\"],\"xaxis\":\"x\",\"y\":[6477,6477,6477],\"yaxis\":\"y\",\"type\":\"scatter\"},{\"hovertemplate\":\"host_name=Wendy And Bram<br>name=%{x}<br>price=%{marker.size}<extra></extra>\",\"legendgroup\":\"Wendy And Bram\",\"marker\":{\"color\":\"#FFA15A\",\"size\":[5555],\"sizemode\":\"area\",\"sizeref\":22.5,\"symbol\":\"circle\"},\"mode\":\"markers\",\"name\":\"Wendy And Bram\",\"orientation\":\"v\",\"showlegend\":true,\"x\":[\"Beautiful Modern Apartment With Stunning View\"],\"xaxis\":\"x\",\"y\":[5555],\"yaxis\":\"y\",\"type\":\"scatter\"},{\"hovertemplate\":\"host_name=Anubisdelvalle<br>name=%{x}<br>price=%{marker.size}<extra></extra>\",\"legendgroup\":\"Anubisdelvalle\",\"marker\":{\"color\":\"#19d3f3\",\"size\":[5040],\"sizemode\":\"area\",\"sizeref\":22.5,\"symbol\":\"circle\"},\"mode\":\"markers\",\"name\":\"Anubisdelvalle\",\"orientation\":\"v\",\"showlegend\":true,\"x\":[\"Lovely place\"],\"xaxis\":\"x\",\"y\":[5040],\"yaxis\":\"y\",\"type\":\"scatter\"},{\"hovertemplate\":\"host_name=Marianne<br>name=%{x}<br>price=%{marker.size}<extra></extra>\",\"legendgroup\":\"Marianne\",\"marker\":{\"color\":\"#FF6692\",\"size\":[5000],\"sizemode\":\"area\",\"sizeref\":22.5,\"symbol\":\"circle\"},\"mode\":\"markers\",\"name\":\"Marianne\",\"orientation\":\"v\",\"showlegend\":true,\"x\":[\"diervriendelijk appartementje aan rand Amsterdam\"],\"xaxis\":\"x\",\"y\":[5000],\"yaxis\":\"y\",\"type\":\"scatter\"},{\"hovertemplate\":\"host_name=Faralda<br>name=%{x}<br>price=%{marker.size}<extra></extra>\",\"legendgroup\":\"Faralda\",\"marker\":{\"color\":\"#B6E880\",\"size\":[4500,1285],\"sizemode\":\"area\",\"sizeref\":22.5,\"symbol\":\"circle\"},\"mode\":\"markers\",\"name\":\"Faralda\",\"orientation\":\"v\",\"showlegend\":true,\"x\":[\"Private 50m high crane with 3 design suites and...\",\"2. Luxury Suite in a Crane! Private with 360view!\"],\"xaxis\":\"x\",\"y\":[4500,1285],\"yaxis\":\"y\",\"type\":\"scatter\"},{\"hovertemplate\":\"host_name=Alice<br>name=%{x}<br>price=%{marker.size}<extra></extra>\",\"legendgroup\":\"Alice\",\"marker\":{\"color\":\"#FF97FF\",\"size\":[2500],\"sizemode\":\"area\",\"sizeref\":22.5,\"symbol\":\"circle\"},\"mode\":\"markers\",\"name\":\"Alice\",\"orientation\":\"v\",\"showlegend\":true,\"x\":[\"Verhuurd\"],\"xaxis\":\"x\",\"y\":[2500],\"yaxis\":\"y\",\"type\":\"scatter\"},{\"hovertemplate\":\"host_name=Simone<br>name=%{x}<br>price=%{marker.size}<extra></extra>\",\"legendgroup\":\"Simone\",\"marker\":{\"color\":\"#FECB52\",\"size\":[2500],\"sizemode\":\"area\",\"sizeref\":22.5,\"symbol\":\"circle\"},\"mode\":\"markers\",\"name\":\"Simone\",\"orientation\":\"v\",\"showlegend\":true,\"x\":[\"Apartment, 4 beds, family, garden, children\"],\"xaxis\":\"x\",\"y\":[2500],\"yaxis\":\"y\",\"type\":\"scatter\"},{\"hovertemplate\":\"host_name=Alexandra<br>name=%{x}<br>price=%{marker.size}<extra></extra>\",\"legendgroup\":\"Alexandra\",\"marker\":{\"color\":\"#636efa\",\"size\":[2000],\"sizemode\":\"area\",\"sizeref\":22.5,\"symbol\":\"circle\"},\"mode\":\"markers\",\"name\":\"Alexandra\",\"orientation\":\"v\",\"showlegend\":true,\"x\":[\"Keizers House\"],\"xaxis\":\"x\",\"y\":[2000],\"yaxis\":\"y\",\"type\":\"scatter\"},{\"hovertemplate\":\"host_name=Anke & Robert<br>name=%{x}<br>price=%{marker.size}<extra></extra>\",\"legendgroup\":\"Anke & Robert\",\"marker\":{\"color\":\"#EF553B\",\"size\":[1750],\"sizemode\":\"area\",\"sizeref\":22.5,\"symbol\":\"circle\"},\"mode\":\"markers\",\"name\":\"Anke & Robert\",\"orientation\":\"v\",\"showlegend\":true,\"x\":[\"* Live like a King @ Prinsengracht\"],\"xaxis\":\"x\",\"y\":[1750],\"yaxis\":\"y\",\"type\":\"scatter\"},{\"hovertemplate\":\"host_name=Tineke<br>name=%{x}<br>price=%{marker.size}<extra></extra>\",\"legendgroup\":\"Tineke\",\"marker\":{\"color\":\"#00cc96\",\"size\":[1580],\"sizemode\":\"area\",\"sizeref\":22.5,\"symbol\":\"circle\"},\"mode\":\"markers\",\"name\":\"Tineke\",\"orientation\":\"v\",\"showlegend\":true,\"x\":[\"Penthouse with 253 m\\u00b2 - recently renovated\"],\"xaxis\":\"x\",\"y\":[1580],\"yaxis\":\"y\",\"type\":\"scatter\"},{\"hovertemplate\":\"host_name=Jmo<br>name=%{x}<br>price=%{marker.size}<extra></extra>\",\"legendgroup\":\"Jmo\",\"marker\":{\"color\":\"#ab63fa\",\"size\":[1300],\"sizemode\":\"area\",\"sizeref\":22.5,\"symbol\":\"circle\"},\"mode\":\"markers\",\"name\":\"Jmo\",\"orientation\":\"v\",\"showlegend\":true,\"x\":[\"AmsterdamTogether- Double Apartment\"],\"xaxis\":\"x\",\"y\":[1300],\"yaxis\":\"y\",\"type\":\"scatter\"},{\"hovertemplate\":\"host_name=Diana<br>name=%{x}<br>price=%{marker.size}<extra></extra>\",\"legendgroup\":\"Diana\",\"marker\":{\"color\":\"#FFA15A\",\"size\":[1300],\"sizemode\":\"area\",\"sizeref\":22.5,\"symbol\":\"circle\"},\"mode\":\"markers\",\"name\":\"Diana\",\"orientation\":\"v\",\"showlegend\":true,\"x\":[\"Amsterdam apartment for maximum 12p\"],\"xaxis\":\"x\",\"y\":[1300],\"yaxis\":\"y\",\"type\":\"scatter\"},{\"hovertemplate\":\"host_name=Akul<br>name=%{x}<br>price=%{marker.size}<extra></extra>\",\"legendgroup\":\"Akul\",\"marker\":{\"color\":\"#19d3f3\",\"size\":[1250],\"sizemode\":\"area\",\"sizeref\":22.5,\"symbol\":\"circle\"},\"mode\":\"markers\",\"name\":\"Akul\",\"orientation\":\"v\",\"showlegend\":true,\"x\":[\"DELIGHTFUL VIEWS ACROSS THE CANAL-WESTERPARK\"],\"xaxis\":\"x\",\"y\":[1250],\"yaxis\":\"y\",\"type\":\"scatter\"},{\"hovertemplate\":\"host_name=Brechtje<br>name=%{x}<br>price=%{marker.size}<extra></extra>\",\"legendgroup\":\"Brechtje\",\"marker\":{\"color\":\"#FF6692\",\"size\":[1230],\"sizemode\":\"area\",\"sizeref\":22.5,\"symbol\":\"circle\"},\"mode\":\"markers\",\"name\":\"Brechtje\",\"orientation\":\"v\",\"showlegend\":true,\"x\":[\"Bright Beauty Apartment in de Pijp (sleeps 4)\"],\"xaxis\":\"x\",\"y\":[1230],\"yaxis\":\"y\",\"type\":\"scatter\"},{\"hovertemplate\":\"host_name=JanDirk<br>name=%{x}<br>price=%{marker.size}<extra></extra>\",\"legendgroup\":\"JanDirk\",\"marker\":{\"color\":\"#B6E880\",\"size\":[1200],\"sizemode\":\"area\",\"sizeref\":22.5,\"symbol\":\"circle\"},\"mode\":\"markers\",\"name\":\"JanDirk\",\"orientation\":\"v\",\"showlegend\":true,\"x\":[\"Apartment in city centre JORDAAN\"],\"xaxis\":\"x\",\"y\":[1200],\"yaxis\":\"y\",\"type\":\"scatter\"},{\"hovertemplate\":\"host_name=SWEETS Hotel<br>name=%{x}<br>price=%{marker.size}<extra></extra>\",\"legendgroup\":\"SWEETS Hotel\",\"marker\":{\"color\":\"#FF97FF\",\"size\":[1200],\"sizemode\":\"area\",\"sizeref\":22.5,\"symbol\":\"circle\"},\"mode\":\"markers\",\"name\":\"SWEETS Hotel\",\"orientation\":\"v\",\"showlegend\":true,\"x\":[\"Private island in the heart of Amsterdam\"],\"xaxis\":\"x\",\"y\":[1200],\"yaxis\":\"y\",\"type\":\"scatter\"},{\"hovertemplate\":\"host_name=Willem<br>name=%{x}<br>price=%{marker.size}<extra></extra>\",\"legendgroup\":\"Willem\",\"marker\":{\"color\":\"#FECB52\",\"size\":[1150,1000],\"sizemode\":\"area\",\"sizeref\":22.5,\"symbol\":\"circle\"},\"mode\":\"markers\",\"name\":\"Willem\",\"orientation\":\"v\",\"showlegend\":true,\"x\":[\"Spacious apartment in Amsterdam\",\"Authentic warehouse appartment in center of Adam!!\"],\"xaxis\":\"x\",\"y\":[1150,1000],\"yaxis\":\"y\",\"type\":\"scatter\"},{\"hovertemplate\":\"host_name=Hoxton Amsterdam<br>name=%{x}<br>price=%{marker.size}<extra></extra>\",\"legendgroup\":\"Hoxton Amsterdam\",\"marker\":{\"color\":\"#636efa\",\"size\":[1000,1000],\"sizemode\":\"area\",\"sizeref\":22.5,\"symbol\":\"circle\"},\"mode\":\"markers\",\"name\":\"Hoxton Amsterdam\",\"orientation\":\"v\",\"showlegend\":true,\"x\":[\"Hoxton Amsterdam, Roomy Room\",\"Hoxton Amsterdam, Cosy Room\"],\"xaxis\":\"x\",\"y\":[1000,1000],\"yaxis\":\"y\",\"type\":\"scatter\"},{\"hovertemplate\":\"host_name=St Christophers At The Winston<br>name=%{x}<br>price=%{marker.size}<extra></extra>\",\"legendgroup\":\"St Christophers At The Winston\",\"marker\":{\"color\":\"#EF553B\",\"size\":[1000,1000,1000,1000,1000,1000,1000],\"sizemode\":\"area\",\"sizeref\":22.5,\"symbol\":\"circle\"},\"mode\":\"markers\",\"name\":\"St Christophers At The Winston\",\"orientation\":\"v\",\"showlegend\":true,\"x\":[\"Small Double Ensuite\",\"Bed in 10 POD Dorm Ensuite\",\"Bed in 8 Bed Dorm Ensuite\",\"Bed in 5 Bed Dorm Ensuite\",\"Private Single Ensuite\",\"Bed in 6 POD Dorm Ensuite\",\"Small Twin Ensuite\"],\"xaxis\":\"x\",\"y\":[1000,1000,1000,1000,1000,1000,1000],\"yaxis\":\"y\",\"type\":\"scatter\"},{\"hovertemplate\":\"host_name=The Flying Pig Uptown<br>name=%{x}<br>price=%{marker.size}<extra></extra>\",\"legendgroup\":\"The Flying Pig Uptown\",\"marker\":{\"color\":\"#00cc96\",\"size\":[1000,1000],\"sizemode\":\"area\",\"sizeref\":22.5,\"symbol\":\"circle\"},\"mode\":\"markers\",\"name\":\"The Flying Pig Uptown\",\"orientation\":\"v\",\"showlegend\":true,\"x\":[\"Bed in 8 Bed Dorm\",\"Bed in 6 Bed Dorm\"],\"xaxis\":\"x\",\"y\":[1000,1000],\"yaxis\":\"y\",\"type\":\"scatter\"},{\"hovertemplate\":\"host_name=CityHub<br>name=%{x}<br>price=%{marker.size}<extra></extra>\",\"legendgroup\":\"CityHub\",\"marker\":{\"color\":\"#ab63fa\",\"size\":[1000],\"sizemode\":\"area\",\"sizeref\":22.5,\"symbol\":\"circle\"},\"mode\":\"markers\",\"name\":\"CityHub\",\"orientation\":\"v\",\"showlegend\":true,\"x\":[\"Sleep in a Hub!\"],\"xaxis\":\"x\",\"y\":[1000],\"yaxis\":\"y\",\"type\":\"scatter\"},{\"hovertemplate\":\"host_name=The Arcade Hotel<br>name=%{x}<br>price=%{marker.size}<extra></extra>\",\"legendgroup\":\"The Arcade Hotel\",\"marker\":{\"color\":\"#FFA15A\",\"size\":[1000],\"sizemode\":\"area\",\"sizeref\":22.5,\"symbol\":\"circle\"},\"mode\":\"markers\",\"name\":\"The Arcade Hotel\",\"orientation\":\"v\",\"showlegend\":true,\"x\":[\"VIP Suite - Lust for Life\"],\"xaxis\":\"x\",\"y\":[1000],\"yaxis\":\"y\",\"type\":\"scatter\"},{\"hovertemplate\":\"host_name=Sharif<br>name=%{x}<br>price=%{marker.size}<extra></extra>\",\"legendgroup\":\"Sharif\",\"marker\":{\"color\":\"#19d3f3\",\"size\":[1000],\"sizemode\":\"area\",\"sizeref\":22.5,\"symbol\":\"circle\"},\"mode\":\"markers\",\"name\":\"Sharif\",\"orientation\":\"v\",\"showlegend\":true,\"x\":[\"Unique 200m2 loft in the city center of Amsterdam\"],\"xaxis\":\"x\",\"y\":[1000],\"yaxis\":\"y\",\"type\":\"scatter\"},{\"hovertemplate\":\"host_name=Oleg<br>name=%{x}<br>price=%{marker.size}<extra></extra>\",\"legendgroup\":\"Oleg\",\"marker\":{\"color\":\"#FF6692\",\"size\":[1000],\"sizemode\":\"area\",\"sizeref\":22.5,\"symbol\":\"circle\"},\"mode\":\"markers\",\"name\":\"Oleg\",\"orientation\":\"v\",\"showlegend\":true,\"x\":[\"Lovely and Luxurious Apartment in Perfect Location\"],\"xaxis\":\"x\",\"y\":[1000],\"yaxis\":\"y\",\"type\":\"scatter\"},{\"hovertemplate\":\"host_name=Maarten<br>name=%{x}<br>price=%{marker.size}<extra></extra>\",\"legendgroup\":\"Maarten\",\"marker\":{\"color\":\"#B6E880\",\"size\":[1000],\"sizemode\":\"area\",\"sizeref\":22.5,\"symbol\":\"circle\"},\"mode\":\"markers\",\"name\":\"Maarten\",\"orientation\":\"v\",\"showlegend\":true,\"x\":[\"Beautiful  studio in traditional canal house\"],\"xaxis\":\"x\",\"y\":[1000],\"yaxis\":\"y\",\"type\":\"scatter\"},{\"hovertemplate\":\"host_name=Jolijn<br>name=%{x}<br>price=%{marker.size}<extra></extra>\",\"legendgroup\":\"Jolijn\",\"marker\":{\"color\":\"#FF97FF\",\"size\":[1000],\"sizemode\":\"area\",\"sizeref\":22.5,\"symbol\":\"circle\"},\"mode\":\"markers\",\"name\":\"Jolijn\",\"orientation\":\"v\",\"showlegend\":true,\"x\":[\"Architects family home near Jordaan\"],\"xaxis\":\"x\",\"y\":[1000],\"yaxis\":\"y\",\"type\":\"scatter\"},{\"hovertemplate\":\"host_name=The Flying Pig Downtown<br>name=%{x}<br>price=%{marker.size}<extra></extra>\",\"legendgroup\":\"The Flying Pig Downtown\",\"marker\":{\"color\":\"#FECB52\",\"size\":[1000,1000,1000],\"sizemode\":\"area\",\"sizeref\":22.5,\"symbol\":\"circle\"},\"mode\":\"markers\",\"name\":\"The Flying Pig Downtown\",\"orientation\":\"v\",\"showlegend\":true,\"x\":[\"Bed in 6 Bed Dorm Ensuite\",\"Private Double Ensuite\",\"Bed in 4 Bed Dorm Ensuite\"],\"xaxis\":\"x\",\"y\":[1000,1000,1000],\"yaxis\":\"y\",\"type\":\"scatter\"},{\"hovertemplate\":\"host_name=Judith<br>name=%{x}<br>price=%{marker.size}<extra></extra>\",\"legendgroup\":\"Judith\",\"marker\":{\"color\":\"#636efa\",\"size\":[1000],\"sizemode\":\"area\",\"sizeref\":22.5,\"symbol\":\"circle\"},\"mode\":\"markers\",\"name\":\"Judith\",\"orientation\":\"v\",\"showlegend\":true,\"x\":[\"UNIQUE CANAL HOUSE DOWNTOWN AMSTERDAM (300sqm)\"],\"xaxis\":\"x\",\"y\":[1000],\"yaxis\":\"y\",\"type\":\"scatter\"},{\"hovertemplate\":\"host_name=Sophie<br>name=%{x}<br>price=%{marker.size}<extra></extra>\",\"legendgroup\":\"Sophie\",\"marker\":{\"color\":\"#EF553B\",\"size\":[999],\"sizemode\":\"area\",\"sizeref\":22.5,\"symbol\":\"circle\"},\"mode\":\"markers\",\"name\":\"Sophie\",\"orientation\":\"v\",\"showlegend\":true,\"x\":[\"Spacious Studio Apartment with Gym and Sauna\"],\"xaxis\":\"x\",\"y\":[999],\"yaxis\":\"y\",\"type\":\"scatter\"}],                        {\"template\":{\"data\":{\"histogram2dcontour\":[{\"type\":\"histogram2dcontour\",\"colorbar\":{\"outlinewidth\":0,\"ticks\":\"\"},\"colorscale\":[[0.0,\"#0d0887\"],[0.1111111111111111,\"#46039f\"],[0.2222222222222222,\"#7201a8\"],[0.3333333333333333,\"#9c179e\"],[0.4444444444444444,\"#bd3786\"],[0.5555555555555556,\"#d8576b\"],[0.6666666666666666,\"#ed7953\"],[0.7777777777777778,\"#fb9f3a\"],[0.8888888888888888,\"#fdca26\"],[1.0,\"#f0f921\"]]}],\"choropleth\":[{\"type\":\"choropleth\",\"colorbar\":{\"outlinewidth\":0,\"ticks\":\"\"}}],\"histogram2d\":[{\"type\":\"histogram2d\",\"colorbar\":{\"outlinewidth\":0,\"ticks\":\"\"},\"colorscale\":[[0.0,\"#0d0887\"],[0.1111111111111111,\"#46039f\"],[0.2222222222222222,\"#7201a8\"],[0.3333333333333333,\"#9c179e\"],[0.4444444444444444,\"#bd3786\"],[0.5555555555555556,\"#d8576b\"],[0.6666666666666666,\"#ed7953\"],[0.7777777777777778,\"#fb9f3a\"],[0.8888888888888888,\"#fdca26\"],[1.0,\"#f0f921\"]]}],\"heatmap\":[{\"type\":\"heatmap\",\"colorbar\":{\"outlinewidth\":0,\"ticks\":\"\"},\"colorscale\":[[0.0,\"#0d0887\"],[0.1111111111111111,\"#46039f\"],[0.2222222222222222,\"#7201a8\"],[0.3333333333333333,\"#9c179e\"],[0.4444444444444444,\"#bd3786\"],[0.5555555555555556,\"#d8576b\"],[0.6666666666666666,\"#ed7953\"],[0.7777777777777778,\"#fb9f3a\"],[0.8888888888888888,\"#fdca26\"],[1.0,\"#f0f921\"]]}],\"heatmapgl\":[{\"type\":\"heatmapgl\",\"colorbar\":{\"outlinewidth\":0,\"ticks\":\"\"},\"colorscale\":[[0.0,\"#0d0887\"],[0.1111111111111111,\"#46039f\"],[0.2222222222222222,\"#7201a8\"],[0.3333333333333333,\"#9c179e\"],[0.4444444444444444,\"#bd3786\"],[0.5555555555555556,\"#d8576b\"],[0.6666666666666666,\"#ed7953\"],[0.7777777777777778,\"#fb9f3a\"],[0.8888888888888888,\"#fdca26\"],[1.0,\"#f0f921\"]]}],\"contourcarpet\":[{\"type\":\"contourcarpet\",\"colorbar\":{\"outlinewidth\":0,\"ticks\":\"\"}}],\"contour\":[{\"type\":\"contour\",\"colorbar\":{\"outlinewidth\":0,\"ticks\":\"\"},\"colorscale\":[[0.0,\"#0d0887\"],[0.1111111111111111,\"#46039f\"],[0.2222222222222222,\"#7201a8\"],[0.3333333333333333,\"#9c179e\"],[0.4444444444444444,\"#bd3786\"],[0.5555555555555556,\"#d8576b\"],[0.6666666666666666,\"#ed7953\"],[0.7777777777777778,\"#fb9f3a\"],[0.8888888888888888,\"#fdca26\"],[1.0,\"#f0f921\"]]}],\"surface\":[{\"type\":\"surface\",\"colorbar\":{\"outlinewidth\":0,\"ticks\":\"\"},\"colorscale\":[[0.0,\"#0d0887\"],[0.1111111111111111,\"#46039f\"],[0.2222222222222222,\"#7201a8\"],[0.3333333333333333,\"#9c179e\"],[0.4444444444444444,\"#bd3786\"],[0.5555555555555556,\"#d8576b\"],[0.6666666666666666,\"#ed7953\"],[0.7777777777777778,\"#fb9f3a\"],[0.8888888888888888,\"#fdca26\"],[1.0,\"#f0f921\"]]}],\"mesh3d\":[{\"type\":\"mesh3d\",\"colorbar\":{\"outlinewidth\":0,\"ticks\":\"\"}}],\"scatter\":[{\"fillpattern\":{\"fillmode\":\"overlay\",\"size\":10,\"solidity\":0.2},\"type\":\"scatter\"}],\"parcoords\":[{\"type\":\"parcoords\",\"line\":{\"colorbar\":{\"outlinewidth\":0,\"ticks\":\"\"}}}],\"scatterpolargl\":[{\"type\":\"scatterpolargl\",\"marker\":{\"colorbar\":{\"outlinewidth\":0,\"ticks\":\"\"}}}],\"bar\":[{\"error_x\":{\"color\":\"#2a3f5f\"},\"error_y\":{\"color\":\"#2a3f5f\"},\"marker\":{\"line\":{\"color\":\"#E5ECF6\",\"width\":0.5},\"pattern\":{\"fillmode\":\"overlay\",\"size\":10,\"solidity\":0.2}},\"type\":\"bar\"}],\"scattergeo\":[{\"type\":\"scattergeo\",\"marker\":{\"colorbar\":{\"outlinewidth\":0,\"ticks\":\"\"}}}],\"scatterpolar\":[{\"type\":\"scatterpolar\",\"marker\":{\"colorbar\":{\"outlinewidth\":0,\"ticks\":\"\"}}}],\"histogram\":[{\"marker\":{\"pattern\":{\"fillmode\":\"overlay\",\"size\":10,\"solidity\":0.2}},\"type\":\"histogram\"}],\"scattergl\":[{\"type\":\"scattergl\",\"marker\":{\"colorbar\":{\"outlinewidth\":0,\"ticks\":\"\"}}}],\"scatter3d\":[{\"type\":\"scatter3d\",\"line\":{\"colorbar\":{\"outlinewidth\":0,\"ticks\":\"\"}},\"marker\":{\"colorbar\":{\"outlinewidth\":0,\"ticks\":\"\"}}}],\"scattermapbox\":[{\"type\":\"scattermapbox\",\"marker\":{\"colorbar\":{\"outlinewidth\":0,\"ticks\":\"\"}}}],\"scatterternary\":[{\"type\":\"scatterternary\",\"marker\":{\"colorbar\":{\"outlinewidth\":0,\"ticks\":\"\"}}}],\"scattercarpet\":[{\"type\":\"scattercarpet\",\"marker\":{\"colorbar\":{\"outlinewidth\":0,\"ticks\":\"\"}}}],\"carpet\":[{\"aaxis\":{\"endlinecolor\":\"#2a3f5f\",\"gridcolor\":\"white\",\"linecolor\":\"white\",\"minorgridcolor\":\"white\",\"startlinecolor\":\"#2a3f5f\"},\"baxis\":{\"endlinecolor\":\"#2a3f5f\",\"gridcolor\":\"white\",\"linecolor\":\"white\",\"minorgridcolor\":\"white\",\"startlinecolor\":\"#2a3f5f\"},\"type\":\"carpet\"}],\"table\":[{\"cells\":{\"fill\":{\"color\":\"#EBF0F8\"},\"line\":{\"color\":\"white\"}},\"header\":{\"fill\":{\"color\":\"#C8D4E3\"},\"line\":{\"color\":\"white\"}},\"type\":\"table\"}],\"barpolar\":[{\"marker\":{\"line\":{\"color\":\"#E5ECF6\",\"width\":0.5},\"pattern\":{\"fillmode\":\"overlay\",\"size\":10,\"solidity\":0.2}},\"type\":\"barpolar\"}],\"pie\":[{\"automargin\":true,\"type\":\"pie\"}]},\"layout\":{\"autotypenumbers\":\"strict\",\"colorway\":[\"#636efa\",\"#EF553B\",\"#00cc96\",\"#ab63fa\",\"#FFA15A\",\"#19d3f3\",\"#FF6692\",\"#B6E880\",\"#FF97FF\",\"#FECB52\"],\"font\":{\"color\":\"#2a3f5f\"},\"hovermode\":\"closest\",\"hoverlabel\":{\"align\":\"left\"},\"paper_bgcolor\":\"white\",\"plot_bgcolor\":\"#E5ECF6\",\"polar\":{\"bgcolor\":\"#E5ECF6\",\"angularaxis\":{\"gridcolor\":\"white\",\"linecolor\":\"white\",\"ticks\":\"\"},\"radialaxis\":{\"gridcolor\":\"white\",\"linecolor\":\"white\",\"ticks\":\"\"}},\"ternary\":{\"bgcolor\":\"#E5ECF6\",\"aaxis\":{\"gridcolor\":\"white\",\"linecolor\":\"white\",\"ticks\":\"\"},\"baxis\":{\"gridcolor\":\"white\",\"linecolor\":\"white\",\"ticks\":\"\"},\"caxis\":{\"gridcolor\":\"white\",\"linecolor\":\"white\",\"ticks\":\"\"}},\"coloraxis\":{\"colorbar\":{\"outlinewidth\":0,\"ticks\":\"\"}},\"colorscale\":{\"sequential\":[[0.0,\"#0d0887\"],[0.1111111111111111,\"#46039f\"],[0.2222222222222222,\"#7201a8\"],[0.3333333333333333,\"#9c179e\"],[0.4444444444444444,\"#bd3786\"],[0.5555555555555556,\"#d8576b\"],[0.6666666666666666,\"#ed7953\"],[0.7777777777777778,\"#fb9f3a\"],[0.8888888888888888,\"#fdca26\"],[1.0,\"#f0f921\"]],\"sequentialminus\":[[0.0,\"#0d0887\"],[0.1111111111111111,\"#46039f\"],[0.2222222222222222,\"#7201a8\"],[0.3333333333333333,\"#9c179e\"],[0.4444444444444444,\"#bd3786\"],[0.5555555555555556,\"#d8576b\"],[0.6666666666666666,\"#ed7953\"],[0.7777777777777778,\"#fb9f3a\"],[0.8888888888888888,\"#fdca26\"],[1.0,\"#f0f921\"]],\"diverging\":[[0,\"#8e0152\"],[0.1,\"#c51b7d\"],[0.2,\"#de77ae\"],[0.3,\"#f1b6da\"],[0.4,\"#fde0ef\"],[0.5,\"#f7f7f7\"],[0.6,\"#e6f5d0\"],[0.7,\"#b8e186\"],[0.8,\"#7fbc41\"],[0.9,\"#4d9221\"],[1,\"#276419\"]]},\"xaxis\":{\"gridcolor\":\"white\",\"linecolor\":\"white\",\"ticks\":\"\",\"title\":{\"standoff\":15},\"zerolinecolor\":\"white\",\"automargin\":true,\"zerolinewidth\":2},\"yaxis\":{\"gridcolor\":\"white\",\"linecolor\":\"white\",\"ticks\":\"\",\"title\":{\"standoff\":15},\"zerolinecolor\":\"white\",\"automargin\":true,\"zerolinewidth\":2},\"scene\":{\"xaxis\":{\"backgroundcolor\":\"#E5ECF6\",\"gridcolor\":\"white\",\"linecolor\":\"white\",\"showbackground\":true,\"ticks\":\"\",\"zerolinecolor\":\"white\",\"gridwidth\":2},\"yaxis\":{\"backgroundcolor\":\"#E5ECF6\",\"gridcolor\":\"white\",\"linecolor\":\"white\",\"showbackground\":true,\"ticks\":\"\",\"zerolinecolor\":\"white\",\"gridwidth\":2},\"zaxis\":{\"backgroundcolor\":\"#E5ECF6\",\"gridcolor\":\"white\",\"linecolor\":\"white\",\"showbackground\":true,\"ticks\":\"\",\"zerolinecolor\":\"white\",\"gridwidth\":2}},\"shapedefaults\":{\"line\":{\"color\":\"#2a3f5f\"}},\"annotationdefaults\":{\"arrowcolor\":\"#2a3f5f\",\"arrowhead\":0,\"arrowwidth\":1},\"geo\":{\"bgcolor\":\"white\",\"landcolor\":\"#E5ECF6\",\"subunitcolor\":\"white\",\"showland\":true,\"showlakes\":true,\"lakecolor\":\"white\"},\"title\":{\"x\":0.05},\"mapbox\":{\"style\":\"light\"}}},\"xaxis\":{\"anchor\":\"y\",\"domain\":[0.0,1.0],\"title\":{\"text\":\"name\"}},\"yaxis\":{\"anchor\":\"x\",\"domain\":[0.0,1.0],\"title\":{\"text\":\"price\"}},\"legend\":{\"title\":{\"text\":\"host_name\"},\"tracegroupgap\":0,\"itemsizing\":\"constant\"},\"margin\":{\"t\":60},\"font\":{\"size\":15,\"color\":\"#0f0f0f\",\"family\":\"Courier New, monospace\"},\"autosize\":false,\"height\":500,\"width\":1400},                        {\"responsive\": true}                    ).then(function(){\n",
       "                            \n",
       "var gd = document.getElementById('e91d819e-24c7-4034-861e-d580ceaf9130');\n",
       "var x = new MutationObserver(function (mutations, observer) {{\n",
       "        var display = window.getComputedStyle(gd).display;\n",
       "        if (!display || display === 'none') {{\n",
       "            console.log([gd, 'removed!']);\n",
       "            Plotly.purge(gd);\n",
       "            observer.disconnect();\n",
       "        }}\n",
       "}});\n",
       "\n",
       "// Listen for the removal of the full notebook cells\n",
       "var notebookContainer = gd.closest('#notebook-container');\n",
       "if (notebookContainer) {{\n",
       "    x.observe(notebookContainer, {childList: true});\n",
       "}}\n",
       "\n",
       "// Listen for the clearing of the current output cell\n",
       "var outputEl = gd.closest('.output');\n",
       "if (outputEl) {{\n",
       "    x.observe(outputEl, {childList: true});\n",
       "}}\n",
       "\n",
       "                        })                };                            </script>        </div>\n",
       "</body>\n",
       "</html>"
      ]
     },
     "metadata": {},
     "output_type": "display_data"
    }
   ],
   "source": [
    "d=df_train[['name','host_name','price']].sort_values(by='price',ascending=False).head(50)\n",
    "fig=px.scatter(d,\n",
    "                           x='name',\n",
    "                           y='price',\n",
    "                           size='price',\n",
    "                           color='host_name',\n",
    "                           #range_y=[0,200],\n",
    "                           #range_x=[0,900]\n",
    "                           )\n",
    "fig.update_layout(autosize=False,\n",
    "                  height=500,\n",
    "                  width=1400,\n",
    "                  font=dict(size=15,color=\"#0f0f0f\",family=\"Courier New, monospace\"),\n",
    "                 )\n",
    "fig.show()"
   ]
  },
  {
   "cell_type": "code",
   "execution_count": null,
   "metadata": {
    "colab": {
     "base_uri": "https://localhost:8080/",
     "height": 986
    },
    "id": "ty-rV42FkHyU",
    "outputId": "be788bf2-e6f9-4d02-f541-431d862a5b34"
   },
   "outputs": [
    {
     "name": "stderr",
     "output_type": "stream",
     "text": [
      "<ipython-input-37-52f75420237e>:2: FutureWarning:\n",
      "\n",
      "The default value of numeric_only in DataFrame.corr is deprecated. In a future version, it will default to False. Select only valid columns or specify the value of numeric_only to silence this warning.\n",
      "\n"
     ]
    },
    {
     "data": {
      "text/plain": [
       "<Axes: >"
      ]
     },
     "execution_count": 37,
     "metadata": {},
     "output_type": "execute_result"
    },
    {
     "data": {
      "image/png": "[encoded data removed]",
      "text/plain": [
       "<Figure size 1200x800 with 2 Axes>"
      ]
     },
     "metadata": {},
     "output_type": "display_data"
    }
   ],
   "source": [
    "plt.figure(figsize=(12,8))\n",
    "sns.heatmap(df_train.corr(),cmap='bwr',annot=True)"
   ]
  },
  {
   "cell_type": "markdown",
   "metadata": {
    "id": "3NemRCk7kJwC"
   },
   "source": [
    "Data Cleaning"
   ]
  },
  {
   "cell_type": "code",
   "execution_count": null,
   "metadata": {
    "colab": {
     "base_uri": "https://localhost:8080/"
    },
    "id": "vG4JqV1mkNhk",
    "outputId": "c7ce8152-474c-443c-9882-b78608542646"
   },
   "outputs": [
    {
     "name": "stderr",
     "output_type": "stream",
     "text": [
      "<ipython-input-38-1a4a81c0b08a>:1: UserWarning:\n",
      "\n",
      "Pandas doesn't allow columns to be created via a new attribute name - see https://pandas.pydata.org/pandas-docs/stable/indexing.html#attribute-access\n",
      "\n"
     ]
    }
   ],
   "source": [
    "df_train.cp=df_train.copy()"
   ]
  },
  {
   "cell_type": "code",
   "execution_count": null,
   "metadata": {
    "colab": {
     "base_uri": "https://localhost:8080/"
    },
    "id": "OtQP7QIvkPYQ",
    "outputId": "3799ae38-8bd5-475d-a01a-c7f6bcd9eb46"
   },
   "outputs": [
    {
     "data": {
      "text/plain": [
       "(0, 16)"
      ]
     },
     "execution_count": 39,
     "metadata": {},
     "output_type": "execute_result"
    }
   ],
   "source": [
    "df_train_dup=df_train[df_train.duplicated()]\n",
    "df_train_dup.shape"
   ]
  },
  {
   "cell_type": "code",
   "execution_count": null,
   "metadata": {
    "colab": {
     "base_uri": "https://localhost:8080/"
    },
    "id": "aCz8efIRkatR",
    "outputId": "71e66fa5-0e7b-47f4-8685-7ba4cf708ef4"
   },
   "outputs": [
    {
     "data": {
      "text/plain": [
       "0    08-03-2020\n",
       "Name: last_review, dtype: object"
      ]
     },
     "execution_count": 40,
     "metadata": {},
     "output_type": "execute_result"
    }
   ],
   "source": [
    "df_train['last_review'].mode()"
   ]
  },
  {
   "cell_type": "code",
   "execution_count": null,
   "metadata": {
    "colab": {
     "base_uri": "https://localhost:8080/"
    },
    "id": "2pkns389keV3",
    "outputId": "cab5f26f-40d9-45e1-9c01-260788b9c523"
   },
   "outputs": [
    {
     "data": {
      "text/plain": [
       "count          11305\n",
       "unique          1495\n",
       "top       08-03-2020\n",
       "freq             269\n",
       "Name: last_review, dtype: object"
      ]
     },
     "execution_count": 41,
     "metadata": {},
     "output_type": "execute_result"
    }
   ],
   "source": [
    "df_train['last_review'].describe()"
   ]
  },
  {
   "cell_type": "code",
   "execution_count": null,
   "metadata": {
    "colab": {
     "base_uri": "https://localhost:8080/"
    },
    "id": "_m0gzdkHkfMI",
    "outputId": "cc25e8a1-ec99-40de-c6f7-f8be1997f843"
   },
   "outputs": [
    {
     "data": {
      "text/plain": [
       "count    11305.000000\n",
       "mean         0.748501\n",
       "std          1.260791\n",
       "min          0.010000\n",
       "25%          0.180000\n",
       "50%          0.380000\n",
       "75%          0.770000\n",
       "max         50.000000\n",
       "Name: reviews_per_month, dtype: float64"
      ]
     },
     "execution_count": 42,
     "metadata": {},
     "output_type": "execute_result"
    }
   ],
   "source": [
    "df_train['reviews_per_month'].describe()"
   ]
  },
  {
   "cell_type": "code",
   "execution_count": null,
   "metadata": {
    "colab": {
     "base_uri": "https://localhost:8080/"
    },
    "id": "mghzDXi3kg9a",
    "outputId": "e22ecd21-5a61-47ab-8f6d-fd4e7ab28b5a"
   },
   "outputs": [
    {
     "data": {
      "text/plain": [
       "count    11305.000000\n",
       "mean         0.748501\n",
       "std          1.260791\n",
       "min          0.010000\n",
       "25%          0.180000\n",
       "50%          0.380000\n",
       "75%          0.770000\n",
       "max         50.000000\n",
       "Name: reviews_per_month, dtype: float64"
      ]
     },
     "execution_count": 43,
     "metadata": {},
     "output_type": "execute_result"
    }
   ],
   "source": [
    "df_train['reviews_per_month'].describe()"
   ]
  },
  {
   "cell_type": "code",
   "execution_count": null,
   "metadata": {
    "colab": {
     "base_uri": "https://localhost:8080/"
    },
    "id": "Iey_5ft2kjIv",
    "outputId": "07547b5c-d82c-4a4a-c752-8ac6164aa455"
   },
   "outputs": [
    {
     "name": "stderr",
     "output_type": "stream",
     "text": [
      "<ipython-input-44-db40ab2080e0>:1: UserWarning:\n",
      "\n",
      "Parsing dates in DD/MM/YYYY format when dayfirst=False (the default) was specified. This may lead to inconsistently parsed dates! Specify a format to ensure consistent parsing.\n",
      "\n"
     ]
    }
   ],
   "source": [
    "df_train['last_review']=pd.to_datetime(df_train['last_review'])"
   ]
  },
  {
   "cell_type": "code",
   "execution_count": null,
   "metadata": {
    "id": "X_a379G6klgZ"
   },
   "outputs": [],
   "source": [
    "df_train['name'].fillna(df_train['name'].mode()[0], inplace=True)\n",
    "df_train['host_name'].fillna(df_train['host_name'].mode()[0],inplace=True)\n",
    "df_train['last_review'].fillna(df_train['last_review'].mean(),inplace=True)\n",
    "df_train['reviews_per_month'].fillna(df_train['reviews_per_month'].mean(),inplace=True)"
   ]
  },
  {
   "cell_type": "markdown",
   "metadata": {
    "id": "HYybfbM9k0xl"
   },
   "source": [
    "Dealing with the last_review datatime columns.split it into year,month,day"
   ]
  },
  {
   "cell_type": "code",
   "execution_count": null,
   "metadata": {
    "id": "1L0z1RtHk4V1"
   },
   "outputs": [],
   "source": [
    "df_train[\"day\"] = df_train['last_review'].map(lambda x: x.day)\n",
    "df_train[\"month\"] = df_train['last_review'].map(lambda x: x.month)\n",
    "df_train[\"year\"] = df_train['last_review'].map(lambda x: x.year)"
   ]
  },
  {
   "cell_type": "code",
   "execution_count": null,
   "metadata": {
    "colab": {
     "base_uri": "https://localhost:8080/",
     "height": 645
    },
    "id": "G3ROo9tvk5HQ",
    "outputId": "56ab601d-4625-4bff-c0b4-46d9eed4db84"
   },
   "outputs": [
    {
     "data": {
      "text/html": [
       "\n",
       "\n",
       "  <div id=\"df-8b60e5ed-5e42-46eb-97ba-a2ad6b0863b0\">\n",
       "    <div class=\"colab-df-container\">\n",
       "      <div>\n",
       "<style scoped>\n",
       "    .dataframe tbody tr th:only-of-type {\n",
       "        vertical-align: middle;\n",
       "    }\n",
       "\n",
       "    .dataframe tbody tr th {\n",
       "        vertical-align: top;\n",
       "    }\n",
       "\n",
       "    .dataframe thead th {\n",
       "        text-align: right;\n",
       "    }\n",
       "</style>\n",
       "<table border=\"1\" class=\"dataframe\">\n",
       "  <thead>\n",
       "    <tr style=\"text-align: right;\">\n",
       "      <th></th>\n",
       "      <th>datatype</th>\n",
       "      <th>unique_values</th>\n",
       "      <th>have_null?</th>\n",
       "      <th>Number of null values</th>\n",
       "      <th>percentage of null values</th>\n",
       "    </tr>\n",
       "  </thead>\n",
       "  <tbody>\n",
       "    <tr>\n",
       "      <th>id</th>\n",
       "      <td>int64</td>\n",
       "      <td>12901</td>\n",
       "      <td>False</td>\n",
       "      <td>0</td>\n",
       "      <td>0.0</td>\n",
       "    </tr>\n",
       "    <tr>\n",
       "      <th>name</th>\n",
       "      <td>object</td>\n",
       "      <td>12653</td>\n",
       "      <td>False</td>\n",
       "      <td>0</td>\n",
       "      <td>0.0</td>\n",
       "    </tr>\n",
       "    <tr>\n",
       "      <th>host_id</th>\n",
       "      <td>int64</td>\n",
       "      <td>11601</td>\n",
       "      <td>False</td>\n",
       "      <td>0</td>\n",
       "      <td>0.0</td>\n",
       "    </tr>\n",
       "    <tr>\n",
       "      <th>host_name</th>\n",
       "      <td>object</td>\n",
       "      <td>4536</td>\n",
       "      <td>False</td>\n",
       "      <td>0</td>\n",
       "      <td>0.0</td>\n",
       "    </tr>\n",
       "    <tr>\n",
       "      <th>neighbourhood_group</th>\n",
       "      <td>float64</td>\n",
       "      <td>0</td>\n",
       "      <td>True</td>\n",
       "      <td>12901</td>\n",
       "      <td>100.0</td>\n",
       "    </tr>\n",
       "    <tr>\n",
       "      <th>neighbourhood</th>\n",
       "      <td>object</td>\n",
       "      <td>22</td>\n",
       "      <td>False</td>\n",
       "      <td>0</td>\n",
       "      <td>0.0</td>\n",
       "    </tr>\n",
       "    <tr>\n",
       "      <th>latitude</th>\n",
       "      <td>float64</td>\n",
       "      <td>5227</td>\n",
       "      <td>False</td>\n",
       "      <td>0</td>\n",
       "      <td>0.0</td>\n",
       "    </tr>\n",
       "    <tr>\n",
       "      <th>longitude</th>\n",
       "      <td>float64</td>\n",
       "      <td>7887</td>\n",
       "      <td>False</td>\n",
       "      <td>0</td>\n",
       "      <td>0.0</td>\n",
       "    </tr>\n",
       "    <tr>\n",
       "      <th>room_type</th>\n",
       "      <td>object</td>\n",
       "      <td>4</td>\n",
       "      <td>False</td>\n",
       "      <td>0</td>\n",
       "      <td>0.0</td>\n",
       "    </tr>\n",
       "    <tr>\n",
       "      <th>minimum_nights</th>\n",
       "      <td>int64</td>\n",
       "      <td>56</td>\n",
       "      <td>False</td>\n",
       "      <td>0</td>\n",
       "      <td>0.0</td>\n",
       "    </tr>\n",
       "    <tr>\n",
       "      <th>number_of_reviews</th>\n",
       "      <td>int64</td>\n",
       "      <td>362</td>\n",
       "      <td>False</td>\n",
       "      <td>0</td>\n",
       "      <td>0.0</td>\n",
       "    </tr>\n",
       "    <tr>\n",
       "      <th>last_review</th>\n",
       "      <td>datetime64[ns]</td>\n",
       "      <td>1496</td>\n",
       "      <td>False</td>\n",
       "      <td>0</td>\n",
       "      <td>0.0</td>\n",
       "    </tr>\n",
       "    <tr>\n",
       "      <th>reviews_per_month</th>\n",
       "      <td>float64</td>\n",
       "      <td>611</td>\n",
       "      <td>False</td>\n",
       "      <td>0</td>\n",
       "      <td>0.0</td>\n",
       "    </tr>\n",
       "    <tr>\n",
       "      <th>calculated_host_listings_count</th>\n",
       "      <td>int64</td>\n",
       "      <td>26</td>\n",
       "      <td>False</td>\n",
       "      <td>0</td>\n",
       "      <td>0.0</td>\n",
       "    </tr>\n",
       "    <tr>\n",
       "      <th>availability_365</th>\n",
       "      <td>int64</td>\n",
       "      <td>366</td>\n",
       "      <td>False</td>\n",
       "      <td>0</td>\n",
       "      <td>0.0</td>\n",
       "    </tr>\n",
       "    <tr>\n",
       "      <th>price</th>\n",
       "      <td>int64</td>\n",
       "      <td>400</td>\n",
       "      <td>False</td>\n",
       "      <td>0</td>\n",
       "      <td>0.0</td>\n",
       "    </tr>\n",
       "    <tr>\n",
       "      <th>day</th>\n",
       "      <td>int64</td>\n",
       "      <td>31</td>\n",
       "      <td>False</td>\n",
       "      <td>0</td>\n",
       "      <td>0.0</td>\n",
       "    </tr>\n",
       "    <tr>\n",
       "      <th>month</th>\n",
       "      <td>int64</td>\n",
       "      <td>12</td>\n",
       "      <td>False</td>\n",
       "      <td>0</td>\n",
       "      <td>0.0</td>\n",
       "    </tr>\n",
       "    <tr>\n",
       "      <th>year</th>\n",
       "      <td>int64</td>\n",
       "      <td>9</td>\n",
       "      <td>False</td>\n",
       "      <td>0</td>\n",
       "      <td>0.0</td>\n",
       "    </tr>\n",
       "  </tbody>\n",
       "</table>\n",
       "</div>\n",
       "      <button class=\"colab-df-convert\" onclick=\"convertToInteractive('df-8b60e5ed-5e42-46eb-97ba-a2ad6b0863b0')\"\n",
       "              title=\"Convert this dataframe to an interactive table.\"\n",
       "              style=\"display:none;\">\n",
       "\n",
       "  <svg xmlns=\"http://www.w3.org/2000/svg\" height=\"24px\"viewBox=\"0 0 24 24\"\n",
       "       width=\"24px\">\n",
       "    <path d=\"M0 0h24v24H0V0z\" fill=\"none\"/>\n",
       "    <path d=\"M18.56 5.44l.94 2.06.94-2.06 2.06-.94-2.06-.94-.94-2.06-.94 2.06-2.06.94zm-11 1L8.5 8.5l.94-2.06 2.06-.94-2.06-.94L8.5 2.5l-.94 2.06-2.06.94zm10 10l.94 2.06.94-2.06 2.06-.94-2.06-.94-.94-2.06-.94 2.06-2.06.94z\"/><path d=\"M17.41 7.96l-1.37-1.37c-.4-.4-.92-.59-1.43-.59-.52 0-1.04.2-1.43.59L10.3 9.45l-7.72 7.72c-.78.78-.78 2.05 0 2.83L4 21.41c.39.39.9.59 1.41.59.51 0 1.02-.2 1.41-.59l7.78-7.78 2.81-2.81c.8-.78.8-2.07 0-2.86zM5.41 20L4 18.59l7.72-7.72 1.47 1.35L5.41 20z\"/>\n",
       "  </svg>\n",
       "      </button>\n",
       "\n",
       "\n",
       "\n",
       "    <div id=\"df-e5fda441-3440-49ed-bdd3-6df97a65338a\">\n",
       "      <button class=\"colab-df-quickchart\" onclick=\"quickchart('df-e5fda441-3440-49ed-bdd3-6df97a65338a')\"\n",
       "              title=\"Suggest charts.\"\n",
       "              style=\"display:none;\">\n",
       "\n",
       "<svg xmlns=\"http://www.w3.org/2000/svg\" height=\"24px\"viewBox=\"0 0 24 24\"\n",
       "     width=\"24px\">\n",
       "    <g>\n",
       "        <path d=\"M19 3H5c-1.1 0-2 .9-2 2v14c0 1.1.9 2 2 2h14c1.1 0 2-.9 2-2V5c0-1.1-.9-2-2-2zM9 17H7v-7h2v7zm4 0h-2V7h2v10zm4 0h-2v-4h2v4z\"/>\n",
       "    </g>\n",
       "</svg>\n",
       "      </button>\n",
       "    </div>\n",
       "\n",
       "<style>\n",
       "  .colab-df-quickchart {\n",
       "    background-color: #E8F0FE;\n",
       "    border: none;\n",
       "    border-radius: 50%;\n",
       "    cursor: pointer;\n",
       "    display: none;\n",
       "    fill: #1967D2;\n",
       "    height: 32px;\n",
       "    padding: 0 0 0 0;\n",
       "    width: 32px;\n",
       "  }\n",
       "\n",
       "  .colab-df-quickchart:hover {\n",
       "    background-color: #E2EBFA;\n",
       "    box-shadow: 0px 1px 2px rgba(60, 64, 67, 0.3), 0px 1px 3px 1px rgba(60, 64, 67, 0.15);\n",
       "    fill: #174EA6;\n",
       "  }\n",
       "\n",
       "  [theme=dark] .colab-df-quickchart {\n",
       "    background-color: #3B4455;\n",
       "    fill: #D2E3FC;\n",
       "  }\n",
       "\n",
       "  [theme=dark] .colab-df-quickchart:hover {\n",
       "    background-color: #434B5C;\n",
       "    box-shadow: 0px 1px 3px 1px rgba(0, 0, 0, 0.15);\n",
       "    filter: drop-shadow(0px 1px 2px rgba(0, 0, 0, 0.3));\n",
       "    fill: #FFFFFF;\n",
       "  }\n",
       "</style>\n",
       "\n",
       "    <script>\n",
       "      async function quickchart(key) {\n",
       "        const containerElement = document.querySelector('#' + key);\n",
       "        const charts = await google.colab.kernel.invokeFunction(\n",
       "            'suggestCharts', [key], {});\n",
       "      }\n",
       "    </script>\n",
       "\n",
       "      <script>\n",
       "\n",
       "function displayQuickchartButton(domScope) {\n",
       "  let quickchartButtonEl =\n",
       "    domScope.querySelector('#df-e5fda441-3440-49ed-bdd3-6df97a65338a button.colab-df-quickchart');\n",
       "  quickchartButtonEl.style.display =\n",
       "    google.colab.kernel.accessAllowed ? 'block' : 'none';\n",
       "}\n",
       "\n",
       "        displayQuickchartButton(document);\n",
       "      </script>\n",
       "      <style>\n",
       "    .colab-df-container {\n",
       "      display:flex;\n",
       "      flex-wrap:wrap;\n",
       "      gap: 12px;\n",
       "    }\n",
       "\n",
       "    .colab-df-convert {\n",
       "      background-color: #E8F0FE;\n",
       "      border: none;\n",
       "      border-radius: 50%;\n",
       "      cursor: pointer;\n",
       "      display: none;\n",
       "      fill: #1967D2;\n",
       "      height: 32px;\n",
       "      padding: 0 0 0 0;\n",
       "      width: 32px;\n",
       "    }\n",
       "\n",
       "    .colab-df-convert:hover {\n",
       "      background-color: #E2EBFA;\n",
       "      box-shadow: 0px 1px 2px rgba(60, 64, 67, 0.3), 0px 1px 3px 1px rgba(60, 64, 67, 0.15);\n",
       "      fill: #174EA6;\n",
       "    }\n",
       "\n",
       "    [theme=dark] .colab-df-convert {\n",
       "      background-color: #3B4455;\n",
       "      fill: #D2E3FC;\n",
       "    }\n",
       "\n",
       "    [theme=dark] .colab-df-convert:hover {\n",
       "      background-color: #434B5C;\n",
       "      box-shadow: 0px 1px 3px 1px rgba(0, 0, 0, 0.15);\n",
       "      filter: drop-shadow(0px 1px 2px rgba(0, 0, 0, 0.3));\n",
       "      fill: #FFFFFF;\n",
       "    }\n",
       "  </style>\n",
       "\n",
       "      <script>\n",
       "        const buttonEl =\n",
       "          document.querySelector('#df-8b60e5ed-5e42-46eb-97ba-a2ad6b0863b0 button.colab-df-convert');\n",
       "        buttonEl.style.display =\n",
       "          google.colab.kernel.accessAllowed ? 'block' : 'none';\n",
       "\n",
       "        async function convertToInteractive(key) {\n",
       "          const element = document.querySelector('#df-8b60e5ed-5e42-46eb-97ba-a2ad6b0863b0');\n",
       "          const dataTable =\n",
       "            await google.colab.kernel.invokeFunction('convertToInteractive',\n",
       "                                                     [key], {});\n",
       "          if (!dataTable) return;\n",
       "\n",
       "          const docLinkHtml = 'Like what you see? Visit the ' +\n",
       "            '<a target=\"_blank\" href=https://colab.research.google.com/notebooks/data_table.ipynb>data table notebook</a>'\n",
       "            + ' to learn more about interactive tables.';\n",
       "          element.innerHTML = '';\n",
       "          dataTable['output_type'] = 'display_data';\n",
       "          await google.colab.output.renderOutput(dataTable, element);\n",
       "          const docLink = document.createElement('div');\n",
       "          docLink.innerHTML = docLinkHtml;\n",
       "          element.appendChild(docLink);\n",
       "        }\n",
       "      </script>\n",
       "    </div>\n",
       "  </div>\n"
      ],
      "text/plain": [
       "                                      datatype  unique_values  have_null?  \\\n",
       "id                                       int64          12901       False   \n",
       "name                                    object          12653       False   \n",
       "host_id                                  int64          11601       False   \n",
       "host_name                               object           4536       False   \n",
       "neighbourhood_group                    float64              0        True   \n",
       "neighbourhood                           object             22       False   \n",
       "latitude                               float64           5227       False   \n",
       "longitude                              float64           7887       False   \n",
       "room_type                               object              4       False   \n",
       "minimum_nights                           int64             56       False   \n",
       "number_of_reviews                        int64            362       False   \n",
       "last_review                     datetime64[ns]           1496       False   \n",
       "reviews_per_month                      float64            611       False   \n",
       "calculated_host_listings_count           int64             26       False   \n",
       "availability_365                         int64            366       False   \n",
       "price                                    int64            400       False   \n",
       "day                                      int64             31       False   \n",
       "month                                    int64             12       False   \n",
       "year                                     int64              9       False   \n",
       "\n",
       "                                Number of null values  \\\n",
       "id                                                  0   \n",
       "name                                                0   \n",
       "host_id                                             0   \n",
       "host_name                                           0   \n",
       "neighbourhood_group                             12901   \n",
       "neighbourhood                                       0   \n",
       "latitude                                            0   \n",
       "longitude                                           0   \n",
       "room_type                                           0   \n",
       "minimum_nights                                      0   \n",
       "number_of_reviews                                   0   \n",
       "last_review                                         0   \n",
       "reviews_per_month                                   0   \n",
       "calculated_host_listings_count                      0   \n",
       "availability_365                                    0   \n",
       "price                                               0   \n",
       "day                                                 0   \n",
       "month                                               0   \n",
       "year                                                0   \n",
       "\n",
       "                                percentage of null values  \n",
       "id                                                    0.0  \n",
       "name                                                  0.0  \n",
       "host_id                                               0.0  \n",
       "host_name                                             0.0  \n",
       "neighbourhood_group                                 100.0  \n",
       "neighbourhood                                         0.0  \n",
       "latitude                                              0.0  \n",
       "longitude                                             0.0  \n",
       "room_type                                             0.0  \n",
       "minimum_nights                                        0.0  \n",
       "number_of_reviews                                     0.0  \n",
       "last_review                                           0.0  \n",
       "reviews_per_month                                     0.0  \n",
       "calculated_host_listings_count                        0.0  \n",
       "availability_365                                      0.0  \n",
       "price                                                 0.0  \n",
       "day                                                   0.0  \n",
       "month                                                 0.0  \n",
       "year                                                  0.0  "
      ]
     },
     "execution_count": 47,
     "metadata": {},
     "output_type": "execute_result"
    }
   ],
   "source": [
    "aboutdf(df_train)"
   ]
  },
  {
   "cell_type": "code",
   "execution_count": null,
   "metadata": {
    "id": "s3u5wrpCk9CN"
   },
   "outputs": [],
   "source": [
    "le = LabelEncoder()"
   ]
  },
  {
   "cell_type": "code",
   "execution_count": null,
   "metadata": {
    "id": "P4SxovSFk-ah"
   },
   "outputs": [],
   "source": [
    "df_train['name']=LabelEncoder().fit_transform(df_train['name'])\n",
    "df_train['host_name']=LabelEncoder().fit_transform(df_train['host_name'])\n",
    "df_train['neighbourhood']=LabelEncoder().fit_transform(df_train['neighbourhood'])\n",
    "df_train['room_type']=LabelEncoder().fit_transform(df_train['room_type'])"
   ]
  },
  {
   "cell_type": "code",
   "execution_count": null,
   "metadata": {
    "colab": {
     "base_uri": "https://localhost:8080/",
     "height": 467
    },
    "id": "qnucij0slBdf",
    "outputId": "8ca820d0-96c5-498d-ca3f-3fa5cd22481e"
   },
   "outputs": [
    {
     "data": {
      "text/plain": [
       "<Axes: xlabel='minimum_nights', ylabel='price'>"
      ]
     },
     "execution_count": 50,
     "metadata": {},
     "output_type": "execute_result"
    },
    {
     "data": {
      "image/png": "[encoded data removed]",
      "text/plain": [
       "<Figure size 640x480 with 1 Axes>"
      ]
     },
     "metadata": {},
     "output_type": "display_data"
    }
   ],
   "source": [
    "sns.regplot(x='minimum_nights',y='price',data=df_train,\n",
    "            scatter_kws={'alpha':0.3},line_kws={'color':'orange'})"
   ]
  },
  {
   "cell_type": "code",
   "execution_count": null,
   "metadata": {
    "id": "OO08HdNhlEEa"
   },
   "outputs": [],
   "source": [
    "#X=df_train.drop(columns=['price','last_review','id','host_id'],axis=1)\n",
    "X=df_train.drop(columns=['price','last_review'],axis=1)# just check feature selection\n",
    "y=df_train['price']"
   ]
  },
  {
   "cell_type": "code",
   "execution_count": null,
   "metadata": {
    "id": "pbOWVw-UlGSQ"
   },
   "outputs": [],
   "source": [
    "X_train, X_test, y_train, y_test = train_test_split(X,y,test_size=0.3,random_state=2)"
   ]
  },
  {
   "cell_type": "code",
   "execution_count": null,
   "metadata": {
    "colab": {
     "base_uri": "https://localhost:8080/"
    },
    "id": "AcwGUCEfrGnX",
    "outputId": "41f2fc3c-ef48-46f4-a5b8-7895b504ee56"
   },
   "outputs": [
    {
     "name": "stdout",
     "output_type": "stream",
     "text": [
      "Found existing installation: xgboost 1.7.6\n",
      "Uninstalling xgboost-1.7.6:\n",
      "  Would remove:\n",
      "    /usr/local/lib/python3.10/dist-packages/xgboost-1.7.6.dist-info/*\n",
      "    /usr/local/lib/python3.10/dist-packages/xgboost.libs/libgomp-a34b3233.so.1.0.0\n",
      "    /usr/local/lib/python3.10/dist-packages/xgboost/*\n",
      "Proceed (Y/n)? Y\n",
      "  Successfully uninstalled xgboost-1.7.6\n",
      "Collecting xgboost==0.90\n",
      "  Downloading xgboost-0.90-py2.py3-none-manylinux1_x86_64.whl (142.8 MB)\n",
      "\u001b[2K     \u001b[90m━━━━━━━━━━━━━━━━━━━━━━━━━━━━━━━━━━━━━━━\u001b[0m \u001b[32m142.8/142.8 MB\u001b[0m \u001b[31m6.2 MB/s\u001b[0m eta \u001b[36m0:00:00\u001b[0m\n",
      "\u001b[?25hRequirement already satisfied: numpy in /usr/local/lib/python3.10/dist-packages (from xgboost==0.90) (1.22.4)\n",
      "Requirement already satisfied: scipy in /usr/local/lib/python3.10/dist-packages (from xgboost==0.90) (1.10.1)\n",
      "Installing collected packages: xgboost\n",
      "Successfully installed xgboost-0.90\n"
     ]
    }
   ],
   "source": [
    "! pip uninstall xgboost\n",
    "\n",
    "! pip install xgboost==0.90"
   ]
  },
  {
   "cell_type": "markdown",
   "metadata": {
    "id": "HiYeQcFylQvy"
   },
   "source": [
    "Feature Selection"
   ]
  },
  {
   "cell_type": "code",
   "execution_count": null,
   "metadata": {
    "colab": {
     "base_uri": "https://localhost:8080/",
     "height": 524
    },
    "id": "HsvegyjwlT5f",
    "outputId": "ee40bde3-c35c-4571-f944-b7b3a078309a"
   },
   "outputs": [
    {
     "name": "stdout",
     "output_type": "stream",
     "text": [
      "Feature Importances :  [0.05524519 0.05090429 0.05116195 0.05086941 0.         0.05278847\n",
      " 0.05218531 0.0582587  0.18510424 0.05172244 0.05674894 0.05599936\n",
      " 0.06575717 0.05871382 0.05090651 0.04918836 0.05444585]\n"
     ]
    },
    {
     "data": {
      "image/png": "[encoded data removed]",
      "text/plain": [
       "<Figure size 640x480 with 1 Axes>"
      ]
     },
     "metadata": {},
     "output_type": "display_data"
    }
   ],
   "source": [
    "from xgboost import XGBClassifier\n",
    "from xgboost import plot_importance\n",
    "\n",
    "# fit model to training data\n",
    "xgb_model = XGBClassifier(random_state = 0 )\n",
    "xgb_model.fit(X_train, y_train)\n",
    "\n",
    "print(\"Feature Importances : \", xgb_model.feature_importances_)\n",
    "\n",
    "# plot feature importance\n",
    "plot_importance(xgb_model)\n",
    "plt.show()"
   ]
  },
  {
   "cell_type": "code",
   "execution_count": null,
   "metadata": {
    "id": "g-lCnE_9lWK8"
   },
   "outputs": [],
   "source": [
    "from sklearn.feature_selection import SelectFromModel"
   ]
  },
  {
   "cell_type": "code",
   "execution_count": null,
   "metadata": {
    "id": "MoNk9PM1oMm6"
   },
   "outputs": [],
   "source": [
    "X_train = X_train.replace((np.inf, -np.inf, np.nan), 0).reset_index(drop=True)"
   ]
  },
  {
   "cell_type": "code",
   "execution_count": null,
   "metadata": {
    "colab": {
     "base_uri": "https://localhost:8080/",
     "height": 92
    },
    "id": "JM04twmmA2P6",
    "outputId": "e8fd8c4e-4b4a-4695-f3a1-56400755dfb6"
   },
   "outputs": [
    {
     "name": "stdout",
     "output_type": "stream",
     "text": [
      "SelectFromModel(estimator=XGBClassifier(objective='multi:softprob'))\n"
     ]
    },
    {
     "data": {
      "text/html": [
       "<style>#sk-container-id-1 {color: black;background-color: white;}#sk-container-id-1 pre{padding: 0;}#sk-container-id-1 div.sk-toggleable {background-color: white;}#sk-container-id-1 label.sk-toggleable__label {cursor: pointer;display: block;width: 100%;margin-bottom: 0;padding: 0.3em;box-sizing: border-box;text-align: center;}#sk-container-id-1 label.sk-toggleable__label-arrow:before {content: \"▸\";float: left;margin-right: 0.25em;color: #696969;}#sk-container-id-1 label.sk-toggleable__label-arrow:hover:before {color: black;}#sk-container-id-1 div.sk-estimator:hover label.sk-toggleable__label-arrow:before {color: black;}#sk-container-id-1 div.sk-toggleable__content {max-height: 0;max-width: 0;overflow: hidden;text-align: left;background-color: #f0f8ff;}#sk-container-id-1 div.sk-toggleable__content pre {margin: 0.2em;color: black;border-radius: 0.25em;background-color: #f0f8ff;}#sk-container-id-1 input.sk-toggleable__control:checked~div.sk-toggleable__content {max-height: 200px;max-width: 100%;overflow: auto;}#sk-container-id-1 input.sk-toggleable__control:checked~label.sk-toggleable__label-arrow:before {content: \"▾\";}#sk-container-id-1 div.sk-estimator input.sk-toggleable__control:checked~label.sk-toggleable__label {background-color: #d4ebff;}#sk-container-id-1 div.sk-label input.sk-toggleable__control:checked~label.sk-toggleable__label {background-color: #d4ebff;}#sk-container-id-1 input.sk-hidden--visually {border: 0;clip: rect(1px 1px 1px 1px);clip: rect(1px, 1px, 1px, 1px);height: 1px;margin: -1px;overflow: hidden;padding: 0;position: absolute;width: 1px;}#sk-container-id-1 div.sk-estimator {font-family: monospace;background-color: #f0f8ff;border: 1px dotted black;border-radius: 0.25em;box-sizing: border-box;margin-bottom: 0.5em;}#sk-container-id-1 div.sk-estimator:hover {background-color: #d4ebff;}#sk-container-id-1 div.sk-parallel-item::after {content: \"\";width: 100%;border-bottom: 1px solid gray;flex-grow: 1;}#sk-container-id-1 div.sk-label:hover label.sk-toggleable__label {background-color: #d4ebff;}#sk-container-id-1 div.sk-serial::before {content: \"\";position: absolute;border-left: 1px solid gray;box-sizing: border-box;top: 0;bottom: 0;left: 50%;z-index: 0;}#sk-container-id-1 div.sk-serial {display: flex;flex-direction: column;align-items: center;background-color: white;padding-right: 0.2em;padding-left: 0.2em;position: relative;}#sk-container-id-1 div.sk-item {position: relative;z-index: 1;}#sk-container-id-1 div.sk-parallel {display: flex;align-items: stretch;justify-content: center;background-color: white;position: relative;}#sk-container-id-1 div.sk-item::before, #sk-container-id-1 div.sk-parallel-item::before {content: \"\";position: absolute;border-left: 1px solid gray;box-sizing: border-box;top: 0;bottom: 0;left: 50%;z-index: -1;}#sk-container-id-1 div.sk-parallel-item {display: flex;flex-direction: column;z-index: 1;position: relative;background-color: white;}#sk-container-id-1 div.sk-parallel-item:first-child::after {align-self: flex-end;width: 50%;}#sk-container-id-1 div.sk-parallel-item:last-child::after {align-self: flex-start;width: 50%;}#sk-container-id-1 div.sk-parallel-item:only-child::after {width: 0;}#sk-container-id-1 div.sk-dashed-wrapped {border: 1px dashed gray;margin: 0 0.4em 0.5em 0.4em;box-sizing: border-box;padding-bottom: 0.4em;background-color: white;}#sk-container-id-1 div.sk-label label {font-family: monospace;font-weight: bold;display: inline-block;line-height: 1.2em;}#sk-container-id-1 div.sk-label-container {text-align: center;}#sk-container-id-1 div.sk-container {/* jupyter's `normalize.less` sets `[hidden] { display: none; }` but bootstrap.min.css set `[hidden] { display: none !important; }` so we also need the `!important` here to be able to override the default hidden behavior on the sphinx rendered scikit-learn.org. See: https://github.com/scikit-learn/scikit-learn/issues/21755 */display: inline-block !important;position: relative;}#sk-container-id-1 div.sk-text-repr-fallback {display: none;}</style><div id=\"sk-container-id-1\" class=\"sk-top-container\"><div class=\"sk-text-repr-fallback\"><pre>XGBClassifier(objective=&#x27;multi:softprob&#x27;)</pre><b>In a Jupyter environment, please rerun this cell to show the HTML representation or trust the notebook. <br />On GitHub, the HTML representation is unable to render, please try loading this page with nbviewer.org.</b></div><div class=\"sk-container\" hidden><div class=\"sk-item\"><div class=\"sk-estimator sk-toggleable\"><input class=\"sk-toggleable__control sk-hidden--visually\" id=\"sk-estimator-id-1\" type=\"checkbox\" checked><label for=\"sk-estimator-id-1\" class=\"sk-toggleable__label sk-toggleable__label-arrow\">XGBClassifier</label><div class=\"sk-toggleable__content\"><pre>XGBClassifier(objective=&#x27;multi:softprob&#x27;)</pre></div></div></div></div></div>"
      ],
      "text/plain": [
       "XGBClassifier(objective='multi:softprob')"
      ]
     },
     "execution_count": 57,
     "metadata": {},
     "output_type": "execute_result"
    }
   ],
   "source": [
    "selection = SelectFromModel(xgb_model)\n",
    "print(selection)\n",
    "selection.fit(X_train, y_train)\n",
    "\n",
    "# Transform the train and test features\n",
    "select_X_train = selection.transform(X_train)\n",
    "\n",
    "# train model\n",
    "selection_model = XGBClassifier()\n",
    "selection_model.fit(select_X_train, y_train)"
   ]
  },
  {
   "cell_type": "code",
   "execution_count": null,
   "metadata": {
    "colab": {
     "base_uri": "https://localhost:8080/"
    },
    "id": "xrmomV3xdELE",
    "outputId": "63eef7f0-a330-423c-b451-dee41f847849"
   },
   "outputs": [
    {
     "data": {
      "text/plain": [
       "array([[0., 1.],\n",
       "       [2., 1.],\n",
       "       [0., 1.],\n",
       "       ...,\n",
       "       [2., 3.],\n",
       "       [2., 1.],\n",
       "       [2., 3.]])"
      ]
     },
     "execution_count": 58,
     "metadata": {},
     "output_type": "execute_result"
    }
   ],
   "source": [
    "select_X_train"
   ]
  },
  {
   "cell_type": "code",
   "execution_count": null,
   "metadata": {
    "colab": {
     "base_uri": "https://localhost:8080/"
    },
    "id": "KSyuLUXClbB3",
    "outputId": "a04f7a6f-c665-498f-8c69-e2c779f7b688"
   },
   "outputs": [
    {
     "name": "stdout",
     "output_type": "stream",
     "text": [
      "127.6204132503254\n"
     ]
    }
   ],
   "source": [
    "y_train_pred=xgb_model.predict(X_train)\n",
    "mse_train=mean_squared_error(y_train,y_train_pred)\n",
    "rmse_train=math.sqrt(mse_train)\n",
    "print(rmse_train)"
   ]
  },
  {
   "cell_type": "code",
   "execution_count": null,
   "metadata": {
    "colab": {
     "base_uri": "https://localhost:8080/"
    },
    "id": "DNBE-OizlckW",
    "outputId": "b47aef37-d067-4737-aedb-0876f0da2d98"
   },
   "outputs": [
    {
     "name": "stdout",
     "output_type": "stream",
     "text": [
      "222.04946374692526\n"
     ]
    }
   ],
   "source": [
    "y_pred = xgb_model.predict(X_test)\n",
    "mse_test=mean_squared_error(y_test,y_pred)\n",
    "rmse_test=math.sqrt(mse_test)\n",
    "print(rmse_test)"
   ]
  },
  {
   "cell_type": "code",
   "execution_count": null,
   "metadata": {
    "id": "7gkkzMpDld-b"
   },
   "outputs": [],
   "source": [
    "predictions = selection_model.predict(select_X_train)"
   ]
  },
  {
   "cell_type": "code",
   "execution_count": null,
   "metadata": {
    "colab": {
     "base_uri": "https://localhost:8080/",
     "height": 345
    },
    "id": "tIfdVi4ulf79",
    "outputId": "f38bf567-0e62-4779-aca1-3abd4956bcfd"
   },
   "outputs": [
    {
     "ename": "ValueError",
     "evalue": "ignored",
     "output_type": "error",
     "traceback": [
      "\u001b[0;31m---------------------------------------------------------------------------\u001b[0m",
      "\u001b[0;31mValueError\u001b[0m                                Traceback (most recent call last)",
      "\u001b[0;32m<ipython-input-65-5069965ea638>\u001b[0m in \u001b[0;36m<cell line: 1>\u001b[0;34m()\u001b[0m\n\u001b[0;32m----> 1\u001b[0;31m \u001b[0mmse_test1\u001b[0m \u001b[0;34m=\u001b[0m \u001b[0mmean_squared_error\u001b[0m\u001b[0;34m(\u001b[0m\u001b[0my_test\u001b[0m\u001b[0;34m,\u001b[0m\u001b[0mpredictions\u001b[0m\u001b[0;34m)\u001b[0m\u001b[0;34m\u001b[0m\u001b[0;34m\u001b[0m\u001b[0m\n\u001b[0m\u001b[1;32m      2\u001b[0m \u001b[0mrmse_test1\u001b[0m \u001b[0;34m=\u001b[0m \u001b[0mmath\u001b[0m\u001b[0;34m.\u001b[0m\u001b[0msqrt\u001b[0m\u001b[0;34m(\u001b[0m\u001b[0mmse_test1\u001b[0m\u001b[0;34m)\u001b[0m\u001b[0;34m\u001b[0m\u001b[0;34m\u001b[0m\u001b[0m\n\u001b[1;32m      3\u001b[0m \u001b[0mprint\u001b[0m\u001b[0;34m(\u001b[0m\u001b[0mrmse_test1\u001b[0m\u001b[0;34m)\u001b[0m\u001b[0;34m\u001b[0m\u001b[0;34m\u001b[0m\u001b[0m\n",
      "\u001b[0;32m/usr/local/lib/python3.10/dist-packages/sklearn/metrics/_regression.py\u001b[0m in \u001b[0;36mmean_squared_error\u001b[0;34m(y_true, y_pred, sample_weight, multioutput, squared)\u001b[0m\n\u001b[1;32m    440\u001b[0m     \u001b[0;36m0.825\u001b[0m\u001b[0;34m...\u001b[0m\u001b[0;34m\u001b[0m\u001b[0;34m\u001b[0m\u001b[0m\n\u001b[1;32m    441\u001b[0m     \"\"\"\n\u001b[0;32m--> 442\u001b[0;31m     y_type, y_true, y_pred, multioutput = _check_reg_targets(\n\u001b[0m\u001b[1;32m    443\u001b[0m         \u001b[0my_true\u001b[0m\u001b[0;34m,\u001b[0m \u001b[0my_pred\u001b[0m\u001b[0;34m,\u001b[0m \u001b[0mmultioutput\u001b[0m\u001b[0;34m\u001b[0m\u001b[0;34m\u001b[0m\u001b[0m\n\u001b[1;32m    444\u001b[0m     )\n",
      "\u001b[0;32m/usr/local/lib/python3.10/dist-packages/sklearn/metrics/_regression.py\u001b[0m in \u001b[0;36m_check_reg_targets\u001b[0;34m(y_true, y_pred, multioutput, dtype)\u001b[0m\n\u001b[1;32m     98\u001b[0m         \u001b[0mcorrect\u001b[0m \u001b[0mkeyword\u001b[0m\u001b[0;34m.\u001b[0m\u001b[0;34m\u001b[0m\u001b[0;34m\u001b[0m\u001b[0m\n\u001b[1;32m     99\u001b[0m     \"\"\"\n\u001b[0;32m--> 100\u001b[0;31m     \u001b[0mcheck_consistent_length\u001b[0m\u001b[0;34m(\u001b[0m\u001b[0my_true\u001b[0m\u001b[0;34m,\u001b[0m \u001b[0my_pred\u001b[0m\u001b[0;34m)\u001b[0m\u001b[0;34m\u001b[0m\u001b[0;34m\u001b[0m\u001b[0m\n\u001b[0m\u001b[1;32m    101\u001b[0m     \u001b[0my_true\u001b[0m \u001b[0;34m=\u001b[0m \u001b[0mcheck_array\u001b[0m\u001b[0;34m(\u001b[0m\u001b[0my_true\u001b[0m\u001b[0;34m,\u001b[0m \u001b[0mensure_2d\u001b[0m\u001b[0;34m=\u001b[0m\u001b[0;32mFalse\u001b[0m\u001b[0;34m,\u001b[0m \u001b[0mdtype\u001b[0m\u001b[0;34m=\u001b[0m\u001b[0mdtype\u001b[0m\u001b[0;34m)\u001b[0m\u001b[0;34m\u001b[0m\u001b[0;34m\u001b[0m\u001b[0m\n\u001b[1;32m    102\u001b[0m     \u001b[0my_pred\u001b[0m \u001b[0;34m=\u001b[0m \u001b[0mcheck_array\u001b[0m\u001b[0;34m(\u001b[0m\u001b[0my_pred\u001b[0m\u001b[0;34m,\u001b[0m \u001b[0mensure_2d\u001b[0m\u001b[0;34m=\u001b[0m\u001b[0;32mFalse\u001b[0m\u001b[0;34m,\u001b[0m \u001b[0mdtype\u001b[0m\u001b[0;34m=\u001b[0m\u001b[0mdtype\u001b[0m\u001b[0;34m)\u001b[0m\u001b[0;34m\u001b[0m\u001b[0;34m\u001b[0m\u001b[0m\n",
      "\u001b[0;32m/usr/local/lib/python3.10/dist-packages/sklearn/utils/validation.py\u001b[0m in \u001b[0;36mcheck_consistent_length\u001b[0;34m(*arrays)\u001b[0m\n\u001b[1;32m    395\u001b[0m     \u001b[0muniques\u001b[0m \u001b[0;34m=\u001b[0m \u001b[0mnp\u001b[0m\u001b[0;34m.\u001b[0m\u001b[0munique\u001b[0m\u001b[0;34m(\u001b[0m\u001b[0mlengths\u001b[0m\u001b[0;34m)\u001b[0m\u001b[0;34m\u001b[0m\u001b[0;34m\u001b[0m\u001b[0m\n\u001b[1;32m    396\u001b[0m     \u001b[0;32mif\u001b[0m \u001b[0mlen\u001b[0m\u001b[0;34m(\u001b[0m\u001b[0muniques\u001b[0m\u001b[0;34m)\u001b[0m \u001b[0;34m>\u001b[0m \u001b[0;36m1\u001b[0m\u001b[0;34m:\u001b[0m\u001b[0;34m\u001b[0m\u001b[0;34m\u001b[0m\u001b[0m\n\u001b[0;32m--> 397\u001b[0;31m         raise ValueError(\n\u001b[0m\u001b[1;32m    398\u001b[0m             \u001b[0;34m\"Found input variables with inconsistent numbers of samples: %r\"\u001b[0m\u001b[0;34m\u001b[0m\u001b[0;34m\u001b[0m\u001b[0m\n\u001b[1;32m    399\u001b[0m             \u001b[0;34m%\u001b[0m \u001b[0;34m[\u001b[0m\u001b[0mint\u001b[0m\u001b[0;34m(\u001b[0m\u001b[0ml\u001b[0m\u001b[0;34m)\u001b[0m \u001b[0;32mfor\u001b[0m \u001b[0ml\u001b[0m \u001b[0;32min\u001b[0m \u001b[0mlengths\u001b[0m\u001b[0;34m]\u001b[0m\u001b[0;34m\u001b[0m\u001b[0;34m\u001b[0m\u001b[0m\n",
      "\u001b[0;31mValueError\u001b[0m: Found input variables with inconsistent numbers of samples: [3871, 9030]"
     ]
    }
   ],
   "source": [
    "mse_test1 = mean_squared_error(y_test,predictions)\n",
    "rmse_test1 = math.sqrt(mse_test1)\n",
    "print(rmse_test1)"
   ]
  },
  {
   "cell_type": "code",
   "execution_count": null,
   "metadata": {
    "id": "pVM37zb9li7c"
   },
   "outputs": [],
   "source": [
    "lgbm =LGBMRegressor()"
   ]
  },
  {
   "cell_type": "code",
   "execution_count": null,
   "metadata": {
    "id": "MdmFAzqhlkhF"
   },
   "outputs": [],
   "source": [
    "lgbm =LGBMRegressor(random_state=4)\n",
    "lgbm.fit(X_train,y_train)\n",
    "bpred_train=lgbm.predict(X_train)\n",
    "bpred=lgbm.predict(X_test)"
   ]
  },
  {
   "cell_type": "code",
   "execution_count": null,
   "metadata": {
    "colab": {
     "base_uri": "https://localhost:8080/"
    },
    "id": "H0wI0tIZlmMc",
    "outputId": "0a926699-8705-45c8-b9ff-5f6b83c7cee8"
   },
   "outputs": [
    {
     "name": "stdout",
     "output_type": "stream",
     "text": [
      "114.65801828043752\n"
     ]
    }
   ],
   "source": [
    "bmse_train=mean_squared_error(y_train,bpred_train)\n",
    "brmse_train=math.sqrt(bmse_train)\n",
    "print(brmse_train)"
   ]
  },
  {
   "cell_type": "code",
   "execution_count": null,
   "metadata": {
    "colab": {
     "base_uri": "https://localhost:8080/"
    },
    "id": "crn6NufFloWS",
    "outputId": "5e214e3a-cdb8-4c87-c693-19365e736701"
   },
   "outputs": [
    {
     "name": "stdout",
     "output_type": "stream",
     "text": [
      "220.28635168900416\n"
     ]
    }
   ],
   "source": [
    "bmse_test=mean_squared_error(y_test,bpred)\n",
    "brmse_test=math.sqrt(bmse_test)\n",
    "print(brmse_test)"
   ]
  },
  {
   "cell_type": "code",
   "execution_count": null,
   "metadata": {
    "colab": {
     "base_uri": "https://localhost:8080/"
    },
    "id": "foNPHq3vlqMc",
    "outputId": "4687d716-b328-4890-8fbc-6d0ee0bb2086"
   },
   "outputs": [
    {
     "name": "stdout",
     "output_type": "stream",
     "text": [
      "Collecting lazypredict\n",
      "  Downloading lazypredict-0.2.12-py2.py3-none-any.whl (12 kB)\n",
      "Requirement already satisfied: click in /usr/local/lib/python3.10/dist-packages (from lazypredict) (8.1.6)\n",
      "Requirement already satisfied: scikit-learn in /usr/local/lib/python3.10/dist-packages (from lazypredict) (1.2.2)\n",
      "Requirement already satisfied: pandas in /usr/local/lib/python3.10/dist-packages (from lazypredict) (1.5.3)\n",
      "Requirement already satisfied: tqdm in /usr/local/lib/python3.10/dist-packages (from lazypredict) (4.65.0)\n",
      "Requirement already satisfied: joblib in /usr/local/lib/python3.10/dist-packages (from lazypredict) (1.3.1)\n",
      "Requirement already satisfied: lightgbm in /usr/local/lib/python3.10/dist-packages (from lazypredict) (3.3.5)\n",
      "Requirement already satisfied: xgboost in /usr/local/lib/python3.10/dist-packages (from lazypredict) (0.90)\n",
      "Requirement already satisfied: wheel in /usr/local/lib/python3.10/dist-packages (from lightgbm->lazypredict) (0.41.0)\n",
      "Requirement already satisfied: numpy in /usr/local/lib/python3.10/dist-packages (from lightgbm->lazypredict) (1.22.4)\n",
      "Requirement already satisfied: scipy in /usr/local/lib/python3.10/dist-packages (from lightgbm->lazypredict) (1.10.1)\n",
      "Requirement already satisfied: threadpoolctl>=2.0.0 in /usr/local/lib/python3.10/dist-packages (from scikit-learn->lazypredict) (3.2.0)\n",
      "Requirement already satisfied: python-dateutil>=2.8.1 in /usr/local/lib/python3.10/dist-packages (from pandas->lazypredict) (2.8.2)\n",
      "Requirement already satisfied: pytz>=2020.1 in /usr/local/lib/python3.10/dist-packages (from pandas->lazypredict) (2022.7.1)\n",
      "Requirement already satisfied: six>=1.5 in /usr/local/lib/python3.10/dist-packages (from python-dateutil>=2.8.1->pandas->lazypredict) (1.16.0)\n",
      "Installing collected packages: lazypredict\n",
      "Successfully installed lazypredict-0.2.12\n"
     ]
    }
   ],
   "source": [
    "pip install lazypredict"
   ]
  },
  {
   "cell_type": "code",
   "execution_count": null,
   "metadata": {
    "colab": {
     "background_save": true,
     "base_uri": "https://localhost:8080/"
    },
    "id": "BvFTG0T5lsKZ",
    "outputId": "73e34c6f-9762-4a82-8f3a-5124358133c4"
   },
   "outputs": [
    {
     "metadata": {
      "tags": null
     },
     "name": "stderr",
     "output_type": "stream",
     "text": [
      " 71%|███████▏  | 30/42 [01:33<00:23,  1.94s/it]"
     ]
    }
   ],
   "source": [
    "import lazypredict\n",
    "from lazypredict.Supervised import LazyRegressor\n",
    "from sklearn import datasets\n",
    "from sklearn.utils import shuffle\n",
    "reg = LazyRegressor(verbose=0,ignore_warnings=False, custom_metric=None )\n",
    "models,predictions = reg.fit(X_train, X_test, y_train, y_test)"
   ]
  },
  {
   "cell_type": "code",
   "execution_count": null,
   "metadata": {
    "id": "xIbhR3dGluDn"
   },
   "outputs": [],
   "source": [
    "models,predictions"
   ]
  },
  {
   "cell_type": "code",
   "execution_count": null,
   "metadata": {
    "id": "ZS9cCFwblveh"
   },
   "outputs": [],
   "source": [
    "from sklearn import ensemble\n",
    "#model_LP = ensemble.ExtraTreesRegressor(n_estimators=5, max_depth=10, max_features=0.3, n_jobs=-1, random_state=0)\n",
    "#model_LP = ensemble.ExtraTreesRegressor(n_estimators=100,max_depth=15,max_features=0.8,n_jobs=-2,random_state=0)--217.6253937376234\n",
    "model_LP = ensemble.ExtraTreesRegressor(n_estimators=100,max_depth=15, n_jobs=-2, min_samples_split=2,min_samples_leaf=2, max_features=0.8,random_state=0)"
   ]
  },
  {
   "cell_type": "code",
   "execution_count": null,
   "metadata": {
    "id": "DMSxX77zl1GE"
   },
   "outputs": [],
   "source": [
    "model_LP.fit(X_train,y_train)"
   ]
  },
  {
   "cell_type": "code",
   "execution_count": null,
   "metadata": {
    "id": "vh4hO0WSl3AX"
   },
   "outputs": [],
   "source": [
    "LP_pred_train=model_LP.predict(X_train)\n",
    "LP_pred_test=model_LP.predict(X_test)"
   ]
  },
  {
   "cell_type": "code",
   "execution_count": null,
   "metadata": {
    "id": "b1FuBbqal4lu"
   },
   "outputs": [],
   "source": [
    "LP_train=mean_squared_error(y_train,LP_pred_train)\n",
    "MLP_train=math.sqrt(LP_train)\n",
    "print(MLP_train)"
   ]
  },
  {
   "cell_type": "code",
   "execution_count": null,
   "metadata": {
    "id": "mAgfJ7H9l6KQ"
   },
   "outputs": [],
   "source": [
    "LP_test=mean_squared_error(y_test,LP_pred_test)\n",
    "MLP_test=math.sqrt(LP_test)\n",
    "print(MLP_test)"
   ]
  },
  {
   "cell_type": "code",
   "execution_count": null,
   "metadata": {
    "id": "ozHfCBwAl8Cy"
   },
   "outputs": [],
   "source": [
    "scaler =StandardScaler()"
   ]
  },
  {
   "cell_type": "code",
   "execution_count": null,
   "metadata": {
    "id": "Vbq0pQqyl9Te"
   },
   "outputs": [],
   "source": [
    "aboutdf(X)"
   ]
  },
  {
   "cell_type": "code",
   "execution_count": null,
   "metadata": {
    "id": "3s5DJ_A-l-wG"
   },
   "outputs": [],
   "source": [
    "df_train['availability_365'].describe()"
   ]
  },
  {
   "cell_type": "code",
   "execution_count": null,
   "metadata": {
    "id": "gels2E_AmAwX"
   },
   "outputs": [],
   "source": [
    "X_scaler=scaler.fit_transform(X)"
   ]
  },
  {
   "cell_type": "code",
   "execution_count": null,
   "metadata": {
    "id": "gP0bNTJkmCDD"
   },
   "outputs": [],
   "source": [
    "X_scaler"
   ]
  },
  {
   "cell_type": "code",
   "execution_count": null,
   "metadata": {
    "id": "U_PLfiFUmD8h"
   },
   "outputs": [],
   "source": [
    "X_train,X_test,y_train,y_test=train_test_split(X,y,test_size=0.3,random_state=2)"
   ]
  },
  {
   "cell_type": "code",
   "execution_count": null,
   "metadata": {
    "id": "OLQhoN6HmG_m"
   },
   "outputs": [],
   "source": [
    "reg = linear_model.Ridge(alpha=.5)"
   ]
  },
  {
   "cell_type": "code",
   "execution_count": null,
   "metadata": {
    "id": "wu9WkVfMmIft"
   },
   "outputs": [],
   "source": [
    "model=reg.fit(X_train,y_train)"
   ]
  },
  {
   "cell_type": "code",
   "execution_count": null,
   "metadata": {
    "id": "IydDYW7rmJ4m"
   },
   "outputs": [],
   "source": [
    "pred=model.predict(X_test)"
   ]
  },
  {
   "cell_type": "code",
   "execution_count": null,
   "metadata": {
    "id": "7_wbsOP_mLVC"
   },
   "outputs": [],
   "source": [
    "pred_train=model.predict(X_train)"
   ]
  },
  {
   "cell_type": "code",
   "execution_count": null,
   "metadata": {
    "id": "-pxkzFajmNBw"
   },
   "outputs": [],
   "source": [
    "mse_train=mean_squared_error(y_train,pred_train)\n",
    "rmse_train=math.sqrt(mse_train)\n",
    "print(rmse_train)"
   ]
  },
  {
   "cell_type": "code",
   "execution_count": null,
   "metadata": {
    "id": "0Foy8jGMmO9g"
   },
   "outputs": [],
   "source": [
    "mse = mean_squared_error(y_test, pred)\n",
    "\n",
    "rmse = math.sqrt(mse)\n",
    "print(rmse)"
   ]
  },
  {
   "cell_type": "markdown",
   "metadata": {
    "id": "_ldLRPCsmQn_"
   },
   "source": [
    "Hyper parameter tunning"
   ]
  },
  {
   "cell_type": "code",
   "execution_count": null,
   "metadata": {
    "id": "D_XOZQelmSYI"
   },
   "outputs": [],
   "source": [
    "from tqdm import tqdm\n",
    "import math\n",
    "from math import sqrt"
   ]
  },
  {
   "cell_type": "code",
   "execution_count": null,
   "metadata": {
    "id": "uVrorP0umWBj"
   },
   "outputs": [],
   "source": [
    "alpha = [1, 2, 3, 3.5, 4, 4.5, 5, 6, 7]\n",
    "cv_rmsle_array=[]\n",
    "for i in tqdm(alpha):\n",
    "    model =linear_model.Ridge(solver=\"sag\", random_state=42, alpha=i)\n",
    "    model.fit(X_train, y_train)\n",
    "    preds_cv = model.predict(X_test)\n",
    "    mse=mean_squared_error(y_test, preds_cv)\n",
    "    a=sqrt(mse)\n",
    "    cv_rmsle_array.append(a)\n",
    "\n",
    "\n",
    "\n",
    "for i in range(len(cv_rmsle_array)):\n",
    "     print ('RMSLE for alpha = ',alpha[i],'is',cv_rmsle_array[i])\n",
    "\n",
    "best_alpha = np.argmin(cv_rmsle_array)\n",
    "fig, ax = plt.subplots()\n",
    "ax.plot(alpha, cv_rmsle_array)\n",
    "ax.scatter(alpha, cv_rmsle_array)\n",
    "for i, txt in enumerate(np.round(cv_rmsle_array,3)):\n",
    "    ax.annotate((alpha[i],np.round(txt,3)), (alpha[i],cv_rmsle_array[i]))\n",
    "plt.title(\"Cross Validation Error for each alpha\")\n",
    "plt.xlabel(\"Alpha\")\n",
    "plt.ylabel(\"Error\")\n",
    "plt.show()"
   ]
  },
  {
   "cell_type": "code",
   "execution_count": null,
   "metadata": {
    "id": "l6lJDtP5mZwC"
   },
   "outputs": [],
   "source": [
    "print(\"Best alpha: \",  alpha[best_alpha])\n",
    "model = linear_model.Ridge(solver=\"sag\", random_state=42, alpha=alpha[best_alpha])\n",
    "model.fit(X_train, y_train)\n",
    "ridge_preds_tr = model.predict(X_train)\n",
    "ridge_preds_cv = model.predict(X_test)\n",
    "#ridge_preds_te = model.predict(X_test)\n",
    "mse=mean_squared_error(y_train, ridge_preds_tr)\n",
    "print('Train RMSLE:', sqrt(mse))\n",
    "mse_test=mean_squared_error(y_test, ridge_preds_cv)\n",
    "ridge_rmsle = sqrt((mse_test))\n",
    "print(\"Cross validation RMSLE: \", ridge_rmsle)"
   ]
  },
  {
   "cell_type": "code",
   "execution_count": null,
   "metadata": {
    "id": "6uQlJ4elmcoV"
   },
   "outputs": [],
   "source": [
    "from scipy.stats import uniform\n",
    "from scipy.stats import randint as sp_randint"
   ]
  },
  {
   "cell_type": "code",
   "execution_count": null,
   "metadata": {
    "id": "Xp9JXc5BmgDf"
   },
   "outputs": [],
   "source": [
    "lgb_model = LGBMRegressor(subsample=0.9)\n",
    "\n",
    "params = {'learning_rate': uniform(0, 1),\n",
    "          'n_estimators': sp_randint(200, 1500),\n",
    "          'num_leaves': sp_randint(20, 200),\n",
    "          'max_depth': sp_randint(2, 15),\n",
    "          'min_child_weight': uniform(0, 2),\n",
    "          'colsample_bytree': uniform(0, 1),\n",
    "         }\n",
    "lgb_random = RandomizedSearchCV(lgb_model, param_distributions=params, n_iter=10, cv=3, random_state=42,\n",
    "                                scoring='neg_root_mean_squared_error', verbose=10, return_train_score=True)\n",
    "lgb_random = lgb_random.fit(X_train, y_train)\n",
    "\n",
    "best_params = lgb_random.best_params_\n",
    "print(best_params)"
   ]
  },
  {
   "cell_type": "code",
   "execution_count": null,
   "metadata": {
    "id": "fjHeaEgomgZd"
   },
   "outputs": [],
   "source": [
    "model_lgbm = LGBMRegressor(**best_params, subsample=0.9, random_state=42, n_jobs=-1)\n",
    "model_lgbm.fit(X_train, y_train)\n",
    "\n",
    "lgb_preds_tr = model_lgbm.predict(X_train)\n",
    "#lgb_preds_cv = model.predict(X_test)\n",
    "lgb_preds_te = model_lgbm.predict(X_test)\n",
    "mse_tr=mean_squared_error(y_train,lgb_preds_tr)\n",
    "print(\"mse_tr:\",mse_tr)\n",
    "print('Train RMSLE:', sqrt(mse_tr))\n",
    "mse_te=mean_squared_error(y_test,lgb_preds_te)\n",
    "print(mse_te)\n",
    "lgb_rmsle = sqrt(mse_te)\n",
    "print(\"Test RMSLE: \", lgb_rmsle)"
   ]
  },
  {
   "cell_type": "markdown",
   "metadata": {
    "id": "8EUHvdcvmija"
   },
   "source": [
    "Lets compare the RMSE of the model used"
   ]
  },
  {
   "cell_type": "code",
   "execution_count": null,
   "metadata": {
    "id": "KwJCiXcYmkZC"
   },
   "outputs": [],
   "source": [
    "from prettytable import PrettyTable\n",
    "x=PrettyTable()\n",
    "x.field_names=[\"Model\",\"methods\",\"Train_RMSLE\", \"Test_RMSLE\", \"Kaggle_RMSLE(Public)\"]\n",
    "x.add_row([\"Ridge\",\"-id,host_id,+standardscalar\",\"222.7798385525557\",\"246.32535554500578\",\"235.30133\"])\n",
    "x.add_row([\"LightGBM\",\"-id,host_id,+standardscalar\",\"6.491644344317403\",\"227.68104533754683\",\"223.08112\"])\n",
    "x.add_row([\"Ridge\",\"+id,host_id,-standardscalar\",\"222.24334838932626\",\"245.89118907576744\",\"-\"])\n",
    "x.add_row([\"LightGBM\",\"+id,host_id,-standardscalar\",\"3.6579076181175987\",\"224.6785629027711\",\"217.04551\"])\n",
    "x.add_row([\"XGB\",\"+id,host_id,-standardscalar +fs\",\"78.35747725276444\",\"224.9775499003927\",\"-\"])\n",
    "x.add_row([\"LightGBM\",\"+id,host_id,-standardscalar -fs\",\"114.65801828043752\",\"220.28635168900416\",\"211.71734\"])\n",
    "x.add_row([\"ExtraTreesRegressor\",\"+id,host_id,-standardscalar -fs\",\"0.010229915092057028\",\"218.65119082233184\",\"211.66401\"])\n",
    "x.add_row([\"ExtraTreesRegressor\",\"+id,host_id,-standardscalar-fs+tune\",\"82.37541294218074\",\"217.095978804005\",\"211.24184\"])\n",
    "print(x)"
   ]
  },
  {
   "cell_type": "markdown",
   "metadata": {
    "id": "vgliue8ZmmQU"
   },
   "source": [
    "lets check how our model perform with the test file . first we deal with data cleaning and data preprocessing"
   ]
  },
  {
   "cell_type": "code",
   "execution_count": null,
   "metadata": {
    "id": "vy_4LIDqmoFc"
   },
   "outputs": [],
   "source": [
    "aboutdf(df_validate)"
   ]
  },
  {
   "cell_type": "markdown",
   "metadata": {
    "id": "2gxw1Q-tmpp6"
   },
   "source": [
    "First we will drop the neighourhood_group column as it has 100 percent null column"
   ]
  },
  {
   "cell_type": "code",
   "execution_count": null,
   "metadata": {
    "id": "5l3GMtWKmvB0"
   },
   "outputs": [],
   "source": [
    "df_validate=df_validate.drop(columns=['neighbourhood_group'],axis=1)"
   ]
  },
  {
   "cell_type": "code",
   "execution_count": null,
   "metadata": {
    "id": "qJ4fEXG4mye-"
   },
   "outputs": [],
   "source": [
    "df_validate['last_review']=pd.to_datetime(df_validate['last_review'])"
   ]
  },
  {
   "cell_type": "code",
   "execution_count": null,
   "metadata": {
    "id": "fqJjmRsYm1Xu"
   },
   "outputs": [],
   "source": [
    "df_validate['name'].fillna(df_validate['name'].mode()[0], inplace=True)\n",
    "df_validate['host_name'].fillna(df_validate['host_name'].mode()[0],inplace=True)\n",
    "df_validate['last_review'].fillna(df_validate['last_review'].mean(),inplace=True)\n",
    "df_validate['reviews_per_month'].fillna(df_validate['reviews_per_month'].mean(),inplace=True)"
   ]
  },
  {
   "cell_type": "code",
   "execution_count": null,
   "metadata": {
    "id": "nEqkMUuum8lI"
   },
   "outputs": [],
   "source": [
    "df_validate[\"day\"] = df_validate['last_review'].map(lambda x: x.day)\n",
    "df_validate[\"month\"] = df_validate['last_review'].map(lambda x: x.month)\n",
    "df_validate[\"year\"] = df_validate['last_review'].map(lambda x: x.year)"
   ]
  },
  {
   "cell_type": "code",
   "execution_count": null,
   "metadata": {
    "id": "y9HE0roNnAfy"
   },
   "outputs": [],
   "source": [
    "df_validate=df_validate.drop(columns=['last_review'],axis=1)"
   ]
  },
  {
   "cell_type": "markdown",
   "metadata": {
    "id": "KJEM66xOpBeW"
   },
   "source": [
    "Now cleaning is done ..next step is to preprocess it."
   ]
  },
  {
   "cell_type": "code",
   "execution_count": null,
   "metadata": {
    "id": "LpxvUinUpCLc"
   },
   "outputs": [],
   "source": [
    "df_validate['name']=LabelEncoder().fit_transform(df_validate['name'])\n",
    "df_validate['host_name']=LabelEncoder().fit_transform(df_validate['host_name'])\n",
    "df_validate['neighbourhood']=LabelEncoder().fit_transform(df_validate['neighbourhood'])\n",
    "df_validate['room_type']=LabelEncoder().fit_transform(df_validate['room_type'])"
   ]
  },
  {
   "cell_type": "markdown",
   "metadata": {
    "id": "huivb-NapF-t"
   },
   "source": [
    "standarization and then applying to the model"
   ]
  },
  {
   "cell_type": "code",
   "execution_count": null,
   "metadata": {
    "id": "55Kw4icxpHk6"
   },
   "outputs": [],
   "source": [
    "X_val=df_validate"
   ]
  },
  {
   "cell_type": "code",
   "execution_count": null,
   "metadata": {
    "id": "FUOAPMhPpVha"
   },
   "outputs": [],
   "source": [
    "X_valscaler=scaler.fit_transform(X_val)\n",
    "pred_val=model.predict(X_valscaler)"
   ]
  },
  {
   "cell_type": "markdown",
   "metadata": {
    "id": "P6aoxGkBpXTV"
   },
   "source": [
    "implementing the lgbm for the test data set"
   ]
  },
  {
   "cell_type": "code",
   "execution_count": null,
   "metadata": {
    "id": "eVjwoZH1pZnY"
   },
   "outputs": [],
   "source": [
    "pred_lgbm=model_lgbm.predict(X_val)"
   ]
  },
  {
   "cell_type": "code",
   "execution_count": null,
   "metadata": {
    "id": "vLejyorBpbL0"
   },
   "outputs": [],
   "source": [
    "select_X_val = selection.transform(X_val)"
   ]
  },
  {
   "cell_type": "code",
   "execution_count": null,
   "metadata": {
    "id": "SoGcL9B8pc2C"
   },
   "outputs": [],
   "source": [
    "pred_xgb=selection_model.predict(select_X_val)"
   ]
  },
  {
   "cell_type": "code",
   "execution_count": null,
   "metadata": {
    "id": "SVvsHoPspebK"
   },
   "outputs": [],
   "source": [
    "bpred_lgbm=lgbm.predict(X_val)"
   ]
  },
  {
   "cell_type": "code",
   "execution_count": null,
   "metadata": {
    "id": "1pVADaXXpf0S"
   },
   "outputs": [],
   "source": [
    "pred_lp=model_LP.predict(X_val)"
   ]
  },
  {
   "cell_type": "code",
   "execution_count": null,
   "metadata": {
    "id": "HH6UVkWZphWl"
   },
   "outputs": [],
   "source": [
    "output = pd.DataFrame({'Id': df_validate.id,\n",
    "                      'Price': pred_lp})\n",
    "output.to_csv('submission.csv', index=False)\n",
    "output"
   ]
  }
 ],
 "metadata": {
  "colab": {
   "provenance": []
  },
  "kernelspec": {
   "display_name": "Python 3",
   "name": "python3"
  },
  "language_info": {
   "name": "python"
  }
 },
 "nbformat": 4,
 "nbformat_minor": 0
}
